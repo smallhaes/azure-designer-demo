{
 "cells": [
  {
   "cell_type": "markdown",
   "metadata": {
    "pycharm": {
     "name": "#%% md\n"
    }
   },
   "source": [
    "Copyright (c) Microsoft Corporation. All rights reserved.  \n",
    "Licensed under the MIT License."
   ]
  },
  {
   "cell_type": "markdown",
   "metadata": {},
   "source": [
    "# Using Customized Modules to Create a FastText Pipeline\n",
    "\n",
    "In this notebook, we will demonstrate how to use customized modules to create an Azure Machine Learning Pipeline which is associated with the [fastText](https://fasttext.cc/) algorithm. Customized modules are created with the extension azure-cli-ml of Azure CLI. \n",
    "\n",
    "If you don't have the input dataset, you could prepare your it with the instructions in ```prepare_data.ipynb```. \n",
    "\n",
    "The outline of this notebook is as follows:\n",
    "\n",
    "- Upload the dataset onto a blob container and register it to the workspace.\n",
    "- Register an anonymous module from yaml file to the workspace.\n",
    "- Construct the pipeline.\n",
    "- Visualize and run the pipeline.\n",
    "\n",
    "## Prerequisites\n",
    "If you are using an Azure Machine Learning Notebook VM, you are all set. Otherwise, make sure you go through the configuration Notebook located at https://github.com/Azure/MachineLearningNotebooks first. This sets you up with a working config file that has information on your workspace, subscription id, etc."
   ]
  },
  {
   "cell_type": "code",
   "execution_count": 1,
   "metadata": {},
   "outputs": [],
   "source": [
    "from azureml.core import Dataset, Datastore, Workspace\n",
    "from azureml.core.compute import AmlCompute, ComputeTarget\n",
    "from azureml.data.datapath import DataPath\n",
    "from azureml.pipeline.wrapper import Module, dsl"
   ]
  },
  {
   "cell_type": "markdown",
   "metadata": {},
   "source": [
    "### Connect to workspace\n",
    "Create a workspace object from the existing workspace. Workspace.from_config() reads the file config.json and loads the details into an object named workspace."
   ]
  },
  {
   "cell_type": "code",
   "execution_count": 2,
   "metadata": {
    "tags": []
   },
   "outputs": [
    {
     "name": "stdout",
     "output_type": "stream",
     "text": [
      "DesignerDRI_EASTUS\n",
      "DesignerDRI\n",
      "eastus\n",
      "74eccef0-4b8d-4f83-b5f9-fa100d155b22\n",
      "dict_keys(['attached-aks', 'default', 'compute', 'aml-compute', 'aml-compute-gpu'])\n"
     ]
    }
   ],
   "source": [
    "workspace = Workspace.from_config('config.json')\n",
    "print(workspace.name, workspace.resource_group, workspace.location, workspace.subscription_id,\n",
    "      workspace.compute_targets.keys(), sep='\\n')"
   ]
  },
  {
   "cell_type": "markdown",
   "metadata": {},
   "source": [
    "### Create or Attach existing compute resource\n",
    "By using Azure Machine Learning Compute, a managed service, data scientists can train machine learning models on clusters of Azure virtual machines. Examples include VMs with GPU support. In this tutorial, you create Azure Machine Learning Compute as your training environment. The code below creates the compute clusters for you if they don't already exist in your workspace.\n",
    "\n",
    "**Creation of compute takes approximately 5 minutes. If the AmlCompute with that name is already in your workspace the code will skip the creation process.**\n"
   ]
  },
  {
   "cell_type": "code",
   "execution_count": 3,
   "metadata": {
    "tags": []
   },
   "outputs": [
    {
     "name": "stdout",
     "output_type": "stream",
     "text": [
      "Found existing compute target: aml-compute-gpu\n"
     ]
    }
   ],
   "source": [
    "aml_compute_name = 'aml-compute-gpu'\n",
    "if aml_compute_name in workspace.compute_targets:\n",
    "    aml_compute = AmlCompute(workspace, aml_compute_name)\n",
    "    print(\"Found existing compute target: {}\".format(aml_compute_name))\n",
    "else:\n",
    "    print(\"Creating new compute target: {}\".format(aml_compute_name))\n",
    "    provisioning_config = AmlCompute.provisioning_configuration(vm_size=\"Standard_NC6\", min_nodes=0, max_nodes=2)\n",
    "    aml_compute = ComputeTarget.create(workspace, aml_compute_name, provisioning_config)\n",
    "    aml_compute.wait_for_completion(show_output=True)"
   ]
  },
  {
   "cell_type": "markdown",
   "metadata": {},
   "source": [
    "### You need to install an extra dependence to register the dataset"
   ]
  },
  {
   "cell_type": "code",
   "execution_count": null,
   "metadata": {
    "scrolled": true
   },
   "outputs": [],
   "source": [
    "# Install dataset runtime to enable dataset registration\n",
    "!pip install azureml-dataset-runtime[fuse] --extra-index-url https://azuremlsdktestpypi.azureedge.net/modulesdkpreview --user --upgrade"
   ]
  },
  {
   "cell_type": "markdown",
   "metadata": {},
   "source": [
    "### Load or Register the dataset\n",
    "give the dataset a name by ```dataset_name```\n",
    "The dataset will be uploaded onto a blob container and registered to this workspace."
   ]
  },
  {
   "cell_type": "code",
   "execution_count": 5,
   "metadata": {
    "scrolled": true,
    "tags": []
   },
   "outputs": [],
   "source": [
    "dataset_name = \"THUCNews\"\n",
    "# if the workspace don't contain the dataset, it will be registered automatically\n",
    "if not dataset_name in workspace.datasets:\n",
    "    # your files will be uploaded to the directory of 'path_on_datastore' in the blob container\n",
    "    path_on_datastore = 'my_dataset'\n",
    "    datastore = Datastore.get(workspace=workspace, datastore_name='workspaceblobstore')\n",
    "    # upload files in 'data/data_for_pipeline'\n",
    "    datastore.upload(src_dir='data/data_for_pipeline', target_path=path_on_datastore, overwrite=True, show_progress=True)\n",
    "    # dataset description\n",
    "    description = 'THUCNews dataset is generated by filtering and filtering historical data \\\n",
    "    of Sina News RSS subscription channel from 2005 to 2011'\n",
    "    # get the DataPath object associated with the uploaded dataset.\n",
    "    datastore_path = [DataPath(datastore=datastore, path_on_datastore=path_on_datastore)]\n",
    "    # Dataset.File.from_files() needs the dependence named 'azureml-dataset-runtime[fuse]'\n",
    "    data = Dataset.File.from_files(path=datastore_path)\n",
    "    # register the dataset to this workspace.\n",
    "    data.register(workspace=workspace, name=dataset_name, description=description, create_new_version=True)\n",
    "dataset = workspace.datasets[dataset_name]"
   ]
  },
  {
   "cell_type": "markdown",
   "metadata": {},
   "source": [
    "### Register an anonymous module from yaml file to this workspace\n",
    "If you decorate your module function with ```@dsl.module```, azure-cli-ml could help to generate the ```*.spec.yaml``` file.\n",
    "Please refer to the customized modules for more details."
   ]
  },
  {
   "cell_type": "code",
   "execution_count": 6,
   "metadata": {
    "scrolled": true,
    "tags": []
   },
   "outputs": [],
   "source": [
    "split_data_txt_module_func = Module.from_yaml(workspace, 'split_data_txt/split_data_txt.spec.yaml')\n",
    "fasttext_train_module_func = Module.from_yaml(workspace, 'fasttext_train/fasttext_train.spec.yaml')\n",
    "fasttext_evaluation_module_func = Module.from_yaml(workspace, 'fasttext_evaluation/fasttext_evaluation.spec.yaml')\n",
    "compare_two_models_module_func = Module.from_yaml(workspace, 'compare_two_models/compare_two_models.spec.yaml')"
   ]
  },
  {
   "cell_type": "markdown",
   "metadata": {
    "pycharm": {
     "name": "#%% md\n"
    }
   },
   "source": [
    "### Construct the pipeline\n",
    "The pipeline contains two sub pipelines. Each of them represents a training process of the fastText model with specific parameters. "
   ]
  },
  {
   "cell_type": "code",
   "execution_count": 7,
   "metadata": {
    "pycharm": {
     "name": "#%%\n"
    }
   },
   "outputs": [],
   "source": [
    "# sub pipeline\n",
    "@dsl.pipeline(name='sub_pipeline', description='A sub pipeline including processes of data processing/training/evaluation',\n",
    "              default_compute_target=aml_compute_name)\n",
    "def training_pipeline(epochs, batch_size, max_len):\n",
    "    split_data_txt = split_data_txt_module_func(\n",
    "        input_dir=dataset,\n",
    "        training_data_ratio=0.7,\n",
    "        validation_data_ratio=0.1\n",
    "    )\n",
    "    fasttext_train = fasttext_train_module_func(\n",
    "        training_data_dir=split_data_txt.outputs.training_data_output,\n",
    "        validation_data_dir=split_data_txt.outputs.validation_data_output,\n",
    "        epochs=epochs,\n",
    "        batch_size=batch_size,\n",
    "        max_len=max_len,\n",
    "        embed_dim=300,\n",
    "        hidden_size=256,\n",
    "        ngram_size=200000,\n",
    "        learning_rate=0.001\n",
    "    )\n",
    "\n",
    "    fasttext_evaluation = fasttext_evaluation_module_func(\n",
    "        trained_model_dir=fasttext_train.outputs.trained_model_dir,\n",
    "        test_data_dir=split_data_txt.outputs.test_data_output\n",
    "    )\n",
    "\n",
    "    return {**fasttext_evaluation.outputs, **fasttext_train.outputs}"
   ]
  },
  {
   "cell_type": "code",
   "execution_count": 8,
   "metadata": {
    "pycharm": {
     "name": "#%%\n"
    }
   },
   "outputs": [],
   "source": [
    "@dsl.pipeline(name='fasttext_pipeline',\n",
    "              description='The pipeline that trains two fasttext models and output the better one',\n",
    "              default_compute_target=aml_compute_name)\n",
    "def fasttext_pipeline():\n",
    "    train_and_evalute_model1 = training_pipeline(epochs=3, batch_size=64, max_len=32)\n",
    "    train_and_evalute_model2 = training_pipeline(epochs=6, batch_size=64, max_len=32)\n",
    "    compare = compare_two_models_module_func(\n",
    "        first_trained_model=train_and_evalute_model1.outputs.trained_model_dir,\n",
    "        first_trained_result=train_and_evalute_model1.outputs.model_testing_result,\n",
    "        second_trained_model=train_and_evalute_model2.outputs.trained_model_dir,\n",
    "        second_trained_result=train_and_evalute_model2.outputs.model_testing_result\n",
    "    )"
   ]
  },
  {
   "cell_type": "markdown",
   "metadata": {
    "pycharm": {
     "name": "#%% md\n"
    }
   },
   "source": [
    "### Visualize and Run the pipeline"
   ]
  },
  {
   "cell_type": "code",
   "execution_count": 9,
   "metadata": {},
   "outputs": [
    {
     "data": {
      "text/plain": [
       "<azureml.pipeline.wrapper._pipeline.Pipeline at 0x7feb7b69af28>"
      ]
     },
     "execution_count": 9,
     "metadata": {},
     "output_type": "execute_result"
    }
   ],
   "source": [
    "# get the pipeline\n",
    "pipeline = fasttext_pipeline()\n",
    "# save the pipeline if necessary\n",
    "# pipeline.save(experiment_name=experiment_name)\n",
    "pipeline"
   ]
  },
  {
   "cell_type": "code",
   "execution_count": 10,
   "metadata": {
    "pycharm": {
     "name": "#%%\n"
    }
   },
   "outputs": [
    {
     "data": {
      "application/javascript": [
       "try {\n",
       "    require.undef(\"validate_widget\")\n",
       "\n",
       "    define('validate_widget', [\"@jupyter-widgets/base\"], function(widgets) {\n",
       "        var ValidateView = widgets.DOMWidgetView.extend({\n",
       "            render () {\n",
       "                window.widget_self = this\n",
       "                var visualize_id = this.model.get('visualize_id')\n",
       "\n",
       "                if (!window._renderLock) {\n",
       "                    window._renderLock = {}\n",
       "                }\n",
       "                if (window._renderLock[visualize_id]) {\n",
       "                    return\n",
       "                }\n",
       "                window._renderLock[visualize_id] = \"widget\"\n",
       "                console.log(\"load as widget\", Date.now())\n",
       "\n",
       "                var lib_url = this.model.get('lib_url')\n",
       "                var graph_json = JSON.parse(this.model.get('graph_json'))\n",
       "                var env_json = JSON.parse(this.model.get('env_json'))\n",
       "                var container_id = this.model.get('container_id')\n",
       "\n",
       "                window.render_container_id = container_id\n",
       "                window.graph_json = graph_json\n",
       "                window.graph_json_to_compare = undefined\n",
       "                window.env_json = env_json\n",
       "                window.before_script = performance.now()\n",
       "\n",
       "                var container = document.createElement('div')\n",
       "                container.id = container_id\n",
       "                this.el.appendChild(container)\n",
       "\n",
       "                var style = document.createElement('style')\n",
       "                style.innerHTML = [\n",
       "                    \"#\", container_id, \" svg.react-dag-editor-svg-container { height: 800px; }\",\n",
       "                    \".cell-output-ipywidget-background { background: transparent !important }\"\n",
       "                ].join('')\n",
       "                this.el.appendChild(style)\n",
       "\n",
       "                this.model.on('msg:custom', dispatchMessage, this);\n",
       "\n",
       "                if (!window.__event_hub) {\n",
       "                    window.__event_hub = {}\n",
       "                }\n",
       "                if (!window.__event_hub[container_id]) {\n",
       "                    window.__event_hub[container_id] = {}\n",
       "                }\n",
       "\n",
       "                if (!window.__send_event) {\n",
       "                    window.__send_event = {}\n",
       "                }\n",
       "                window.__send_event[container_id] = sendMessage.bind(this)\n",
       "\n",
       "                function sendMessage(message, uid, content) {\n",
       "                    return new Promise((resolve) => {\n",
       "                        this.model.send({\n",
       "                            message: `${message}:request`,\n",
       "                            body: {\n",
       "                                uid,\n",
       "                                content\n",
       "                            }\n",
       "                        })\n",
       "    \n",
       "                        var respMessageKey = `${message}:response`\n",
       "                        if (!window.__event_hub[container_id][respMessageKey]) {\n",
       "                            window.__event_hub[container_id][respMessageKey] = []\n",
       "                        }\n",
       "                        window.__event_hub[container_id][respMessageKey].push(callback)\n",
       "    \n",
       "                        function callback (response) {\n",
       "                            if (response.uid !== uid) {\n",
       "                                return\n",
       "                            }\n",
       "\n",
       "                            var idx = window.__event_hub[container_id][respMessageKey].indexOf(callback) \n",
       "                            window.__event_hub[container_id][respMessageKey].splice(idx, 1)\n",
       "                            \n",
       "                            resolve(response)\n",
       "                        }\n",
       "                    })\n",
       "                }\n",
       "\n",
       "                function dispatchMessage (rawMessage) {\n",
       "                    var message = rawMessage.message\n",
       "                    var body = rawMessage.body\n",
       "\n",
       "                    if (!window.__event_hub[container_id][message]) {\n",
       "                        window.__event_hub[container_id][message] = []\n",
       "                    }\n",
       "                    var listeners = window.__event_hub[container_id][message]\n",
       "\n",
       "                    listeners.forEach(cb => {\n",
       "                        try {\n",
       "                            cb(body)\n",
       "                        } catch (e) {\n",
       "                            console.error(\"Unexpected error in listener\", e)\n",
       "                        }\n",
       "                    })\n",
       "\n",
       "                    console.log(body)\n",
       "                }\n",
       "\n",
       "                var script = document.createElement('script')\n",
       "                script.src = lib_url\n",
       "                this.el.appendChild(script)\n",
       "            }\n",
       "        });\n",
       "\n",
       "        return {\n",
       "            ValidateView\n",
       "        }\n",
       "    })\n",
       "} catch (e) {\n",
       "    console.log(\"create validation widget failed\", e)\n",
       "}"
      ],
      "text/plain": [
       "<IPython.core.display.Javascript object>"
      ]
     },
     "metadata": {},
     "output_type": "display_data"
    },
    {
     "data": {
      "application/vnd.jupyter.widget-view+json": {
       "model_id": "63d0973f62c948efa202a47447899b8d",
       "version_major": 2,
       "version_minor": 0
      },
      "text/plain": [
       "ValidateView(container_id='container_id_66b5cfc7-329b-4261-a3b4-a5fe40193268_widget', env_json='{\"subscription…"
      ]
     },
     "metadata": {},
     "output_type": "display_data"
    },
    {
     "data": {
      "text/html": [
       "\n",
       "        <style>\n",
       "        #container_id_66b5cfc7-329b-4261-a3b4-a5fe40193268_script svg.react-dag-editor-svg-container {\n",
       "            height: 800px;\n",
       "        }\n",
       "        </style>\n",
       "        <div id=\"container_id_66b5cfc7-329b-4261-a3b4-a5fe40193268_script\"></div>\n",
       "        <script>\n",
       "            (function () {\n",
       "                if (!window._renderLock) {\n",
       "                    window._renderLock = {}\n",
       "                }\n",
       "                if (window._renderLock[\"66b5cfc7-329b-4261-a3b4-a5fe40193268\"]) {\n",
       "                    return\n",
       "                }\n",
       "                window._renderLock[\"66b5cfc7-329b-4261-a3b4-a5fe40193268\"] = \"script\"\n",
       "                console.log(\"load as script\", Date.now())\n",
       "                window.render_container_id=\"container_id_66b5cfc7-329b-4261-a3b4-a5fe40193268_script\";\n",
       "                window.graph_json={\"pipeline\": {\"name\": \"fasttext_pipeline\", \"data_references\": {\"THUCNews\": {\"dataset_id\": \"efa8f18c-9b9b-47f3-9630-de9002dc61aa\"}}, \"steps\": {\"2e0c354b\": {\"inputs\": {\"Input_dir\": {\"source\": \"THUCNews\"}}, \"outputs\": {\"Training_data_output\": {\"destination\": \"449a8e3f-1343-44a2-8d62-0e3a51f6ac57_Training_data_output\"}, \"Validation_data_output\": {\"destination\": \"449a8e3f-1343-44a2-8d62-0e3a51f6ac57_Validation_data_output\"}, \"Test_data_output\": {\"destination\": \"449a8e3f-1343-44a2-8d62-0e3a51f6ac57_Test_data_output\"}}, \"module\": {\"id\": \"ce6b396e-3a04-43ce-94ad-fcd832d2b73f\", \"version\": \"0.0.43\"}, \"parameters\": {\"training_data_ratio\": 0.7, \"validation_data_ratio\": 0.1, \"random_split\": false, \"seed\": 0}, \"validate\": {\"error\": [], \"module_id\": \"ce6b396e-3a04-43ce-94ad-fcd832d2b73f\", \"namespace\": \"DesignerDRI_EASTUS\", \"module_name\": \"Split Data Txt\", \"module_version\": \"0.0.43\"}}, \"d00320ba\": {\"inputs\": {\"Training_data_dir\": {\"source\": \"449a8e3f-1343-44a2-8d62-0e3a51f6ac57_Training_data_output\"}, \"Validation_data_dir\": {\"source\": \"449a8e3f-1343-44a2-8d62-0e3a51f6ac57_Validation_data_output\"}}, \"outputs\": {\"Trained_model_dir\": {\"destination\": \"fbdf195e-c243-4090-a4ac-97617c4f7f8d_Trained_model_dir\"}}, \"module\": {\"id\": \"4e9ca820-1bc3-4723-8d57-ff87439c3870\", \"version\": \"0.0.41\"}, \"parameters\": {\"epochs\": 3, \"batch_size\": 64, \"max_len\": 32, \"embed_dim\": 300, \"hidden_size\": 256, \"ngram_size\": 200000, \"learning_rate\": 0.001, \"dropout\": 0.5}, \"validate\": {\"error\": [], \"module_id\": \"4e9ca820-1bc3-4723-8d57-ff87439c3870\", \"namespace\": \"DesignerDRI_EASTUS\", \"module_name\": \"FastText Train\", \"module_version\": \"0.0.41\"}}, \"3ace5e10\": {\"inputs\": {\"Trained_model_dir\": {\"source\": \"fbdf195e-c243-4090-a4ac-97617c4f7f8d_Trained_model_dir\"}, \"Test_data_dir\": {\"source\": \"449a8e3f-1343-44a2-8d62-0e3a51f6ac57_Test_data_output\"}}, \"outputs\": {\"Model_testing_result\": {\"destination\": \"e03da0fc-47a7-4fae-9a83-775939279cad_Model_testing_result\"}}, \"module\": {\"id\": \"469befc1-4332-4296-9701-561291fd910e\", \"version\": \"0.0.8\"}, \"parameters\": {}, \"validate\": {\"error\": [], \"module_id\": \"469befc1-4332-4296-9701-561291fd910e\", \"namespace\": \"DesignerDRI_EASTUS\", \"module_name\": \"FastText Evaluation\", \"module_version\": \"0.0.8\"}}, \"fb9d01b1\": {\"inputs\": {\"Input_dir\": {\"source\": \"THUCNews\"}}, \"outputs\": {\"Training_data_output\": {\"destination\": \"3103be27-86a5-4181-996e-3431bf19ad07_Training_data_output\"}, \"Validation_data_output\": {\"destination\": \"3103be27-86a5-4181-996e-3431bf19ad07_Validation_data_output\"}, \"Test_data_output\": {\"destination\": \"3103be27-86a5-4181-996e-3431bf19ad07_Test_data_output\"}}, \"module\": {\"id\": \"ce6b396e-3a04-43ce-94ad-fcd832d2b73f\", \"version\": \"0.0.43\"}, \"parameters\": {\"training_data_ratio\": 0.7, \"validation_data_ratio\": 0.1, \"random_split\": false, \"seed\": 0}, \"validate\": {\"error\": [], \"module_id\": \"ce6b396e-3a04-43ce-94ad-fcd832d2b73f\", \"namespace\": \"DesignerDRI_EASTUS\", \"module_name\": \"Split Data Txt\", \"module_version\": \"0.0.43\"}}, \"542653b4\": {\"inputs\": {\"Training_data_dir\": {\"source\": \"3103be27-86a5-4181-996e-3431bf19ad07_Training_data_output\"}, \"Validation_data_dir\": {\"source\": \"3103be27-86a5-4181-996e-3431bf19ad07_Validation_data_output\"}}, \"outputs\": {\"Trained_model_dir\": {\"destination\": \"0e5618d9-07aa-4532-9f74-e34971dfdff9_Trained_model_dir\"}}, \"module\": {\"id\": \"4e9ca820-1bc3-4723-8d57-ff87439c3870\", \"version\": \"0.0.41\"}, \"parameters\": {\"epochs\": 6, \"batch_size\": 64, \"max_len\": 32, \"embed_dim\": 300, \"hidden_size\": 256, \"ngram_size\": 200000, \"learning_rate\": 0.001, \"dropout\": 0.5}, \"validate\": {\"error\": [], \"module_id\": \"4e9ca820-1bc3-4723-8d57-ff87439c3870\", \"namespace\": \"DesignerDRI_EASTUS\", \"module_name\": \"FastText Train\", \"module_version\": \"0.0.41\"}}, \"93fd5587\": {\"inputs\": {\"Trained_model_dir\": {\"source\": \"0e5618d9-07aa-4532-9f74-e34971dfdff9_Trained_model_dir\"}, \"Test_data_dir\": {\"source\": \"3103be27-86a5-4181-996e-3431bf19ad07_Test_data_output\"}}, \"outputs\": {\"Model_testing_result\": {\"destination\": \"55bd44bb-7ee0-4bdf-80f2-c42342dd9f98_Model_testing_result\"}}, \"module\": {\"id\": \"469befc1-4332-4296-9701-561291fd910e\", \"version\": \"0.0.8\"}, \"parameters\": {}, \"validate\": {\"error\": [], \"module_id\": \"469befc1-4332-4296-9701-561291fd910e\", \"namespace\": \"DesignerDRI_EASTUS\", \"module_name\": \"FastText Evaluation\", \"module_version\": \"0.0.8\"}}, \"13280a4a\": {\"inputs\": {\"First_trained_model\": {\"source\": \"fbdf195e-c243-4090-a4ac-97617c4f7f8d_Trained_model_dir\"}, \"First_trained_result\": {\"source\": \"e03da0fc-47a7-4fae-9a83-775939279cad_Model_testing_result\"}, \"Second_trained_model\": {\"source\": \"0e5618d9-07aa-4532-9f74-e34971dfdff9_Trained_model_dir\"}, \"Second_trained_result\": {\"source\": \"55bd44bb-7ee0-4bdf-80f2-c42342dd9f98_Model_testing_result\"}}, \"outputs\": {\"The_better_model\": {\"destination\": \"86a07b69-adc2-4556-af06-ce80795b37c7_The_better_model\"}}, \"module\": {\"id\": \"af42bfd4-47ff-45e8-b560-d5812d9b3c28\", \"version\": \"0.0.18\"}, \"parameters\": {}, \"validate\": {\"error\": [], \"module_id\": \"af42bfd4-47ff-45e8-b560-d5812d9b3c28\", \"namespace\": \"DesignerDRI_EASTUS\", \"module_name\": \"Compare Two Models\", \"module_version\": \"0.0.18\"}}}}, \"modules\": [{\"module_id\": \"ce6b396e-3a04-43ce-94ad-fcd832d2b73f\", \"version\": \"0.0.43\", \"name\": \"Split Data Txt\", \"namespace\": \"DesignerDRI_EASTUS\", \"structured_interface\": {\"inputs\": [{\"name\": \"Input_dir\", \"label\": \"Input dir\", \"description\": null, \"data_type_ids_list\": [\"AnyDirectory\"]}], \"outputs\": [{\"name\": \"Training_data_output\", \"label\": \"Training data output\", \"description\": null, \"data_type_id\": \"AnyDirectory\"}, {\"name\": \"Validation_data_output\", \"label\": \"Validation data output\", \"description\": null, \"data_type_id\": \"AnyDirectory\"}, {\"name\": \"Test_data_output\", \"label\": \"Test data output\", \"description\": null, \"data_type_id\": \"AnyDirectory\"}]}}, {\"module_id\": \"4e9ca820-1bc3-4723-8d57-ff87439c3870\", \"version\": \"0.0.41\", \"name\": \"FastText Train\", \"namespace\": \"DesignerDRI_EASTUS\", \"structured_interface\": {\"inputs\": [{\"name\": \"Training_data_dir\", \"label\": \"Training data dir\", \"description\": null, \"data_type_ids_list\": [\"AnyDirectory\"]}, {\"name\": \"Validation_data_dir\", \"label\": \"Validation data dir\", \"description\": null, \"data_type_ids_list\": [\"AnyDirectory\"]}], \"outputs\": [{\"name\": \"Trained_model_dir\", \"label\": \"Trained model dir\", \"description\": null, \"data_type_id\": \"ModelDirectory\"}]}}, {\"module_id\": \"469befc1-4332-4296-9701-561291fd910e\", \"version\": \"0.0.8\", \"name\": \"FastText Evaluation\", \"namespace\": \"DesignerDRI_EASTUS\", \"structured_interface\": {\"inputs\": [{\"name\": \"Trained_model_dir\", \"label\": \"Trained model dir\", \"description\": null, \"data_type_ids_list\": [\"AnyDirectory\"]}, {\"name\": \"Test_data_dir\", \"label\": \"Test data dir\", \"description\": null, \"data_type_ids_list\": [\"AnyDirectory\"]}], \"outputs\": [{\"name\": \"Model_testing_result\", \"label\": \"Model testing result\", \"description\": null, \"data_type_id\": \"AnyDirectory\"}]}}, {\"module_id\": \"af42bfd4-47ff-45e8-b560-d5812d9b3c28\", \"version\": \"0.0.18\", \"name\": \"Compare Two Models\", \"namespace\": \"DesignerDRI_EASTUS\", \"structured_interface\": {\"inputs\": [{\"name\": \"First_trained_model\", \"label\": \"First trained model\", \"description\": null, \"data_type_ids_list\": [\"AnyDirectory\"]}, {\"name\": \"First_trained_result\", \"label\": \"First trained result\", \"description\": null, \"data_type_ids_list\": [\"AnyDirectory\"]}, {\"name\": \"Second_trained_model\", \"label\": \"Second trained model\", \"description\": null, \"data_type_ids_list\": [\"AnyDirectory\"]}, {\"name\": \"Second_trained_result\", \"label\": \"Second trained result\", \"description\": null, \"data_type_ids_list\": [\"AnyDirectory\"]}], \"outputs\": [{\"name\": \"The_better_model\", \"label\": \"The better model\", \"description\": null, \"data_type_id\": \"AnyDirectory\"}]}}], \"datasources\": [{\"name\": \"THUCNews\", \"description\": \"THUCNews dataset is generated by filtering and filtering historical data     of Sina News RSS subscription channel from 2005 to 2011\", \"version\": 1, \"tags\": {}, \"registered_id\": \"efa8f18c-9b9b-47f3-9630-de9002dc61aa\", \"saved_id\": \"8ece8ea8-1318-4d4d-8cac-2acb631feb85\", \"nodeId\": \"70286d9a-c269-31a9-bbba-13fbf3d37b70\"}], \"subGraphInfo\": [{\"name\": \"fasttext_pipeline\", \"description\": \"The pipeline that trains two fasttext models and output the better one\", \"default_compute_target\": {\"name\": \"aml-compute-gpu\"}, \"default_data_store\": {\"data_store_name\": \"workspaceblobstore\"}, \"id\": \"0b1e2110-f07f-410e-a593-b509bba40318\", \"pipeline_definition_id\": \"0ab395d2-7376-4110-81da-e0e60c948d2e\", \"sub_graph_parameter_assignment\": [], \"sub_graph_data_path_parameter_assignment\": [], \"sub_graph_default_compute_target_nodes\": [\"13280a4a\"], \"sub_graph_default_data_store_nodes\": [\"13280a4a\"], \"inputs\": [], \"outputs\": []}, {\"name\": \"sub_pipeline\", \"description\": \"A sub pipeline including processes of data processing/training/evaluation\", \"default_compute_target\": {\"name\": \"aml-compute-gpu\"}, \"default_data_store\": {\"data_store_name\": \"workspaceblobstore\"}, \"id\": \"9d766e36-812d-4332-8aed-6443119ba0d9\", \"parent_graph_id\": \"0b1e2110-f07f-410e-a593-b509bba40318\", \"pipeline_definition_id\": \"528631a6-b6c4-460d-a739-97c48aa9f418\", \"sub_graph_parameter_assignment\": [{\"parameter\": {\"name\": \"epochs\"}, \"parameter_assignments\": [{\"node_id\": \"d00320ba\", \"parameter_name\": \"Epochs\"}]}, {\"parameter\": {\"name\": \"batch_size\"}, \"parameter_assignments\": [{\"node_id\": \"d00320ba\", \"parameter_name\": \"Batch size\"}]}, {\"parameter\": {\"name\": \"max_len\"}, \"parameter_assignments\": [{\"node_id\": \"d00320ba\", \"parameter_name\": \"Max len\"}]}], \"sub_graph_data_path_parameter_assignment\": [], \"sub_graph_default_compute_target_nodes\": [\"2e0c354b\", \"d00320ba\", \"3ace5e10\"], \"sub_graph_default_data_store_nodes\": [], \"inputs\": [], \"outputs\": [{\"name\": \"model_testing_result\", \"internal\": [{\"node_id\": \"3ace5e10\", \"port_name\": \"Model_testing_result\"}], \"external\": [{\"node_id\": \"13280a4a\", \"port_name\": \"First_trained_result\"}]}, {\"name\": \"trained_model_dir\", \"internal\": [{\"node_id\": \"d00320ba\", \"port_name\": \"Trained_model_dir\"}], \"external\": [{\"node_id\": \"3ace5e10\", \"port_name\": \"Trained_model_dir\"}, {\"node_id\": \"13280a4a\", \"port_name\": \"First_trained_model\"}]}]}, {\"name\": \"sub_pipeline\", \"description\": \"A sub pipeline including processes of data processing/training/evaluation\", \"default_compute_target\": {\"name\": \"aml-compute-gpu\"}, \"default_data_store\": {\"data_store_name\": \"workspaceblobstore\"}, \"id\": \"53ee3afd-ded3-4776-8fe3-abbe123829d3\", \"parent_graph_id\": \"0b1e2110-f07f-410e-a593-b509bba40318\", \"pipeline_definition_id\": \"528631a6-b6c4-460d-a739-97c48aa9f418\", \"sub_graph_parameter_assignment\": [{\"parameter\": {\"name\": \"epochs\"}, \"parameter_assignments\": [{\"node_id\": \"542653b4\", \"parameter_name\": \"Epochs\"}]}, {\"parameter\": {\"name\": \"batch_size\"}, \"parameter_assignments\": [{\"node_id\": \"542653b4\", \"parameter_name\": \"Batch size\"}]}, {\"parameter\": {\"name\": \"max_len\"}, \"parameter_assignments\": [{\"node_id\": \"542653b4\", \"parameter_name\": \"Max len\"}]}], \"sub_graph_data_path_parameter_assignment\": [], \"sub_graph_default_compute_target_nodes\": [\"fb9d01b1\", \"542653b4\", \"93fd5587\"], \"sub_graph_default_data_store_nodes\": [], \"inputs\": [], \"outputs\": [{\"name\": \"model_testing_result\", \"internal\": [{\"node_id\": \"93fd5587\", \"port_name\": \"Model_testing_result\"}], \"external\": [{\"node_id\": \"13280a4a\", \"port_name\": \"Second_trained_result\"}]}, {\"name\": \"trained_model_dir\", \"internal\": [{\"node_id\": \"542653b4\", \"port_name\": \"Trained_model_dir\"}], \"external\": [{\"node_id\": \"93fd5587\", \"port_name\": \"Trained_model_dir\"}, {\"node_id\": \"13280a4a\", \"port_name\": \"Second_trained_model\"}]}]}], \"nodeIdToSubGraphIdMapping\": {\"2e0c354b\": \"9d766e36-812d-4332-8aed-6443119ba0d9\", \"d00320ba\": \"9d766e36-812d-4332-8aed-6443119ba0d9\", \"3ace5e10\": \"9d766e36-812d-4332-8aed-6443119ba0d9\", \"fb9d01b1\": \"53ee3afd-ded3-4776-8fe3-abbe123829d3\", \"542653b4\": \"53ee3afd-ded3-4776-8fe3-abbe123829d3\", \"93fd5587\": \"53ee3afd-ded3-4776-8fe3-abbe123829d3\", \"13280a4a\": \"0b1e2110-f07f-410e-a593-b509bba40318\"}, \"subPipelineDefinition\": [{\"name\": \"fasttext_pipeline\", \"description\": \"The pipeline that trains two fasttext models and output the better one\", \"default_compute_target\": {\"name\": \"aml-compute-gpu\"}, \"default_data_store\": {\"data_store_name\": \"workspaceblobstore\"}, \"pipeline_function_name\": \"fasttext_pipeline\", \"id\": \"0ab395d2-7376-4110-81da-e0e60c948d2e\", \"from_module_name\": \"__main__\", \"parameter_list\": []}, {\"name\": \"sub_pipeline\", \"description\": \"A sub pipeline including processes of data processing/training/evaluation\", \"default_compute_target\": {\"name\": \"aml-compute-gpu\"}, \"default_data_store\": {\"data_store_name\": \"workspaceblobstore\"}, \"pipeline_function_name\": \"training_pipeline\", \"id\": \"528631a6-b6c4-460d-a739-97c48aa9f418\", \"from_module_name\": \"__main__\", \"parameter_list\": [{\"key\": \"epochs\"}, {\"key\": \"batch_size\"}, {\"key\": \"max_len\"}]}]};\n",
       "                window.graph_json_to_compare=undefined;\n",
       "                window.env_json={\"subscription_id\": \"74eccef0-4b8d-4f83-b5f9-fa100d155b22\"};\n",
       "                window.before_script = performance.now();\n",
       "                var script = document.createElement('script')\n",
       "                script.src = \"https://yucongj.azureedge.net/libs/prod/0.0.9/index.js\"\n",
       "                document.getElementById(\"container_id_66b5cfc7-329b-4261-a3b4-a5fe40193268_script\").appendChild(script)\n",
       "            })()\n",
       "        </script>\n",
       "        "
      ],
      "text/plain": [
       "<IPython.core.display.HTML object>"
      ]
     },
     "metadata": {},
     "output_type": "display_data"
    },
    {
     "data": {
      "text/plain": [
       "{'result': 'validation passed', 'errors': []}"
      ]
     },
     "execution_count": 10,
     "metadata": {},
     "output_type": "execute_result"
    }
   ],
   "source": [
    "# visualize the pipeline\n",
    "pipeline.validate()"
   ]
  },
  {
   "cell_type": "code",
   "execution_count": 11,
   "metadata": {
    "pycharm": {
     "name": "#%%\n"
    }
   },
   "outputs": [
    {
     "name": "stdout",
     "output_type": "stream",
     "text": [
      "Submitted PipelineRun adc2ae6c-f6ed-4f68-a4df-20aab1812a90\n",
      "Link to Azure Machine Learning Portal: https://ml.azure.com/experiments/fasttext_pipeline/runs/adc2ae6c-f6ed-4f68-a4df-20aab1812a90?wsid=/subscriptions/74eccef0-4b8d-4f83-b5f9-fa100d155b22/resourcegroups/DesignerDRI/workspaces/DesignerDRI_EASTUS\n",
      "PipelineRunId: adc2ae6c-f6ed-4f68-a4df-20aab1812a90\n",
      "Link to Azure Machine Learning Portal: https://ml.azure.com/experiments/fasttext_pipeline/runs/adc2ae6c-f6ed-4f68-a4df-20aab1812a90?wsid=/subscriptions/74eccef0-4b8d-4f83-b5f9-fa100d155b22/resourcegroups/DesignerDRI/workspaces/DesignerDRI_EASTUS\n"
     ]
    },
    {
     "data": {
      "application/javascript": [
       "try {\n",
       "    require.undef(\"validate_widget\")\n",
       "\n",
       "    define('validate_widget', [\"@jupyter-widgets/base\"], function(widgets) {\n",
       "        var ValidateView = widgets.DOMWidgetView.extend({\n",
       "            render () {\n",
       "                window.widget_self = this\n",
       "                var visualize_id = this.model.get('visualize_id')\n",
       "\n",
       "                if (!window._renderLock) {\n",
       "                    window._renderLock = {}\n",
       "                }\n",
       "                if (window._renderLock[visualize_id]) {\n",
       "                    return\n",
       "                }\n",
       "                window._renderLock[visualize_id] = \"widget\"\n",
       "                console.log(\"load as widget\", Date.now())\n",
       "\n",
       "                var lib_url = this.model.get('lib_url')\n",
       "                var graph_json = JSON.parse(this.model.get('graph_json'))\n",
       "                var env_json = JSON.parse(this.model.get('env_json'))\n",
       "                var container_id = this.model.get('container_id')\n",
       "\n",
       "                window.render_container_id = container_id\n",
       "                window.graph_json = graph_json\n",
       "                window.graph_json_to_compare = undefined\n",
       "                window.env_json = env_json\n",
       "                window.before_script = performance.now()\n",
       "\n",
       "                var container = document.createElement('div')\n",
       "                container.id = container_id\n",
       "                this.el.appendChild(container)\n",
       "\n",
       "                var style = document.createElement('style')\n",
       "                style.innerHTML = [\n",
       "                    \"#\", container_id, \" svg.react-dag-editor-svg-container { height: 800px; }\",\n",
       "                    \".cell-output-ipywidget-background { background: transparent !important }\"\n",
       "                ].join('')\n",
       "                this.el.appendChild(style)\n",
       "\n",
       "                this.model.on('msg:custom', dispatchMessage, this);\n",
       "\n",
       "                if (!window.__event_hub) {\n",
       "                    window.__event_hub = {}\n",
       "                }\n",
       "                if (!window.__event_hub[container_id]) {\n",
       "                    window.__event_hub[container_id] = {}\n",
       "                }\n",
       "\n",
       "                if (!window.__send_event) {\n",
       "                    window.__send_event = {}\n",
       "                }\n",
       "                window.__send_event[container_id] = sendMessage.bind(this)\n",
       "\n",
       "                function sendMessage(message, uid, content) {\n",
       "                    return new Promise((resolve) => {\n",
       "                        this.model.send({\n",
       "                            message: `${message}:request`,\n",
       "                            body: {\n",
       "                                uid,\n",
       "                                content\n",
       "                            }\n",
       "                        })\n",
       "    \n",
       "                        var respMessageKey = `${message}:response`\n",
       "                        if (!window.__event_hub[container_id][respMessageKey]) {\n",
       "                            window.__event_hub[container_id][respMessageKey] = []\n",
       "                        }\n",
       "                        window.__event_hub[container_id][respMessageKey].push(callback)\n",
       "    \n",
       "                        function callback (response) {\n",
       "                            if (response.uid !== uid) {\n",
       "                                return\n",
       "                            }\n",
       "\n",
       "                            var idx = window.__event_hub[container_id][respMessageKey].indexOf(callback) \n",
       "                            window.__event_hub[container_id][respMessageKey].splice(idx, 1)\n",
       "                            \n",
       "                            resolve(response)\n",
       "                        }\n",
       "                    })\n",
       "                }\n",
       "\n",
       "                function dispatchMessage (rawMessage) {\n",
       "                    var message = rawMessage.message\n",
       "                    var body = rawMessage.body\n",
       "\n",
       "                    if (!window.__event_hub[container_id][message]) {\n",
       "                        window.__event_hub[container_id][message] = []\n",
       "                    }\n",
       "                    var listeners = window.__event_hub[container_id][message]\n",
       "\n",
       "                    listeners.forEach(cb => {\n",
       "                        try {\n",
       "                            cb(body)\n",
       "                        } catch (e) {\n",
       "                            console.error(\"Unexpected error in listener\", e)\n",
       "                        }\n",
       "                    })\n",
       "\n",
       "                    console.log(body)\n",
       "                }\n",
       "\n",
       "                var script = document.createElement('script')\n",
       "                script.src = lib_url\n",
       "                this.el.appendChild(script)\n",
       "            }\n",
       "        });\n",
       "\n",
       "        return {\n",
       "            ValidateView\n",
       "        }\n",
       "    })\n",
       "} catch (e) {\n",
       "    console.log(\"create validation widget failed\", e)\n",
       "}"
      ],
      "text/plain": [
       "<IPython.core.display.Javascript object>"
      ]
     },
     "metadata": {},
     "output_type": "display_data"
    },
    {
     "data": {
      "application/vnd.jupyter.widget-view+json": {
       "model_id": "0b2ee5577e7246bbbfb4138e3aafe425",
       "version_major": 2,
       "version_minor": 0
      },
      "text/plain": [
       "ValidateView(container_id='container_id_ce5dbbfc-9fbc-4d26-a0a9-4124d68672f7_widget', env_json='{}', graph_jso…"
      ]
     },
     "metadata": {},
     "output_type": "display_data"
    },
    {
     "data": {
      "text/html": [
       "\n",
       "        <style>\n",
       "        #container_id_ce5dbbfc-9fbc-4d26-a0a9-4124d68672f7_script svg.react-dag-editor-svg-container {\n",
       "            height: 800px;\n",
       "        }\n",
       "        </style>\n",
       "        <div id=\"container_id_ce5dbbfc-9fbc-4d26-a0a9-4124d68672f7_script\"></div>\n",
       "        <script>\n",
       "            (function () {\n",
       "                if (!window._renderLock) {\n",
       "                    window._renderLock = {}\n",
       "                }\n",
       "                if (window._renderLock[\"ce5dbbfc-9fbc-4d26-a0a9-4124d68672f7\"]) {\n",
       "                    return\n",
       "                }\n",
       "                window._renderLock[\"ce5dbbfc-9fbc-4d26-a0a9-4124d68672f7\"] = \"script\"\n",
       "                console.log(\"load as script\", Date.now())\n",
       "                window.render_container_id=\"container_id_ce5dbbfc-9fbc-4d26-a0a9-4124d68672f7_script\";\n",
       "                window.graph_json={\"pipeline\": {\"name\": \"fasttext_pipeline\", \"data_references\": {\"THUCNews\": {\"dataset_id\": \"efa8f18c-9b9b-47f3-9630-de9002dc61aa\"}}, \"steps\": {\"0ccb5ea8\": {\"inputs\": {\"Input_dir\": {\"source\": \"THUCNews\"}}, \"outputs\": {\"Training_data_output\": {\"destination\": \"0ccb5ea8_Training_data_output\"}, \"Validation_data_output\": {\"destination\": \"0ccb5ea8_Validation_data_output\"}, \"Test_data_output\": {\"destination\": \"0ccb5ea8_Test_data_output\"}}, \"module\": {\"id\": \"ce6b396e-3a04-43ce-94ad-fcd832d2b73f\", \"version\": \"0.0.43\"}, \"validate\": {\"error\": [], \"module_id\": \"ce6b396e-3a04-43ce-94ad-fcd832d2b73f\", \"namespace\": \"DesignerDRI_EASTUS\", \"module_name\": \"Split Data Txt\", \"module_version\": \"0.0.43\"}}, \"d287ad29\": {\"inputs\": {\"Training_data_dir\": {\"source\": \"0ccb5ea8_Training_data_output\"}, \"Validation_data_dir\": {\"source\": \"0ccb5ea8_Validation_data_output\"}}, \"outputs\": {\"Trained_model_dir\": {\"destination\": \"d287ad29_Trained_model_dir\"}}, \"module\": {\"id\": \"4e9ca820-1bc3-4723-8d57-ff87439c3870\", \"version\": \"0.0.41\"}, \"validate\": {\"error\": [], \"module_id\": \"4e9ca820-1bc3-4723-8d57-ff87439c3870\", \"namespace\": \"DesignerDRI_EASTUS\", \"module_name\": \"FastText Train\", \"module_version\": \"0.0.41\"}}, \"1c32e07b\": {\"inputs\": {\"Trained_model_dir\": {\"source\": \"d287ad29_Trained_model_dir\"}, \"Test_data_dir\": {\"source\": \"0ccb5ea8_Test_data_output\"}}, \"outputs\": {\"Model_testing_result\": {\"destination\": \"1c32e07b_Model_testing_result\"}}, \"module\": {\"id\": \"469befc1-4332-4296-9701-561291fd910e\", \"version\": \"0.0.8\"}, \"validate\": {\"error\": [], \"module_id\": \"469befc1-4332-4296-9701-561291fd910e\", \"namespace\": \"DesignerDRI_EASTUS\", \"module_name\": \"FastText Evaluation\", \"module_version\": \"0.0.8\"}}, \"e53d14eb\": {\"inputs\": {\"Input_dir\": {\"source\": \"THUCNews\"}}, \"outputs\": {\"Training_data_output\": {\"destination\": \"e53d14eb_Training_data_output\"}, \"Validation_data_output\": {\"destination\": \"e53d14eb_Validation_data_output\"}, \"Test_data_output\": {\"destination\": \"e53d14eb_Test_data_output\"}}, \"module\": {\"id\": \"ce6b396e-3a04-43ce-94ad-fcd832d2b73f\", \"version\": \"0.0.43\"}, \"validate\": {\"error\": [], \"module_id\": \"ce6b396e-3a04-43ce-94ad-fcd832d2b73f\", \"namespace\": \"DesignerDRI_EASTUS\", \"module_name\": \"Split Data Txt\", \"module_version\": \"0.0.43\"}}, \"8454e4db\": {\"inputs\": {\"Training_data_dir\": {\"source\": \"e53d14eb_Training_data_output\"}, \"Validation_data_dir\": {\"source\": \"e53d14eb_Validation_data_output\"}}, \"outputs\": {\"Trained_model_dir\": {\"destination\": \"8454e4db_Trained_model_dir\"}}, \"module\": {\"id\": \"4e9ca820-1bc3-4723-8d57-ff87439c3870\", \"version\": \"0.0.41\"}, \"validate\": {\"error\": [], \"module_id\": \"4e9ca820-1bc3-4723-8d57-ff87439c3870\", \"namespace\": \"DesignerDRI_EASTUS\", \"module_name\": \"FastText Train\", \"module_version\": \"0.0.41\"}}, \"e9da7466\": {\"inputs\": {\"Trained_model_dir\": {\"source\": \"8454e4db_Trained_model_dir\"}, \"Test_data_dir\": {\"source\": \"e53d14eb_Test_data_output\"}}, \"outputs\": {\"Model_testing_result\": {\"destination\": \"e9da7466_Model_testing_result\"}}, \"module\": {\"id\": \"469befc1-4332-4296-9701-561291fd910e\", \"version\": \"0.0.8\"}, \"validate\": {\"error\": [], \"module_id\": \"469befc1-4332-4296-9701-561291fd910e\", \"namespace\": \"DesignerDRI_EASTUS\", \"module_name\": \"FastText Evaluation\", \"module_version\": \"0.0.8\"}}, \"2da910ae\": {\"inputs\": {\"First_trained_model\": {\"source\": \"d287ad29_Trained_model_dir\"}, \"First_trained_result\": {\"source\": \"1c32e07b_Model_testing_result\"}, \"Second_trained_model\": {\"source\": \"8454e4db_Trained_model_dir\"}, \"Second_trained_result\": {\"source\": \"e9da7466_Model_testing_result\"}}, \"outputs\": {}, \"module\": {\"id\": \"af42bfd4-47ff-45e8-b560-d5812d9b3c28\", \"version\": \"0.0.18\"}, \"validate\": {\"error\": [], \"module_id\": \"af42bfd4-47ff-45e8-b560-d5812d9b3c28\", \"namespace\": \"DesignerDRI_EASTUS\", \"module_name\": \"Compare Two Models\", \"module_version\": \"0.0.18\"}}}}, \"modules\": [{\"module_id\": \"ce6b396e-3a04-43ce-94ad-fcd832d2b73f\", \"version\": \"0.0.43\", \"name\": \"Split Data Txt\", \"namespace\": \"DesignerDRI_EASTUS\", \"structured_interface\": {\"inputs\": [{\"name\": \"Input_dir\", \"label\": \"Input dir\", \"description\": null, \"data_type_ids_list\": [\"AnyDirectory\"]}], \"outputs\": [{\"name\": \"Training_data_output\", \"label\": \"Training data output\", \"description\": null, \"data_type_id\": \"AnyDirectory\"}, {\"name\": \"Validation_data_output\", \"label\": \"Validation data output\", \"description\": null, \"data_type_id\": \"AnyDirectory\"}, {\"name\": \"Test_data_output\", \"label\": \"Test data output\", \"description\": null, \"data_type_id\": \"AnyDirectory\"}]}}, {\"module_id\": \"4e9ca820-1bc3-4723-8d57-ff87439c3870\", \"version\": \"0.0.41\", \"name\": \"FastText Train\", \"namespace\": \"DesignerDRI_EASTUS\", \"structured_interface\": {\"inputs\": [{\"name\": \"Training_data_dir\", \"label\": \"Training data dir\", \"description\": null, \"data_type_ids_list\": [\"AnyDirectory\"]}, {\"name\": \"Validation_data_dir\", \"label\": \"Validation data dir\", \"description\": null, \"data_type_ids_list\": [\"AnyDirectory\"]}], \"outputs\": [{\"name\": \"Trained_model_dir\", \"label\": \"Trained model dir\", \"description\": null, \"data_type_id\": \"ModelDirectory\"}]}}, {\"module_id\": \"469befc1-4332-4296-9701-561291fd910e\", \"version\": \"0.0.8\", \"name\": \"FastText Evaluation\", \"namespace\": \"DesignerDRI_EASTUS\", \"structured_interface\": {\"inputs\": [{\"name\": \"Trained_model_dir\", \"label\": \"Trained model dir\", \"description\": null, \"data_type_ids_list\": [\"AnyDirectory\"]}, {\"name\": \"Test_data_dir\", \"label\": \"Test data dir\", \"description\": null, \"data_type_ids_list\": [\"AnyDirectory\"]}], \"outputs\": [{\"name\": \"Model_testing_result\", \"label\": \"Model testing result\", \"description\": null, \"data_type_id\": \"AnyDirectory\"}]}}, {\"module_id\": \"af42bfd4-47ff-45e8-b560-d5812d9b3c28\", \"version\": \"0.0.18\", \"name\": \"Compare Two Models\", \"namespace\": \"DesignerDRI_EASTUS\", \"structured_interface\": {\"inputs\": [{\"name\": \"First_trained_model\", \"label\": \"First trained model\", \"description\": null, \"data_type_ids_list\": [\"AnyDirectory\"]}, {\"name\": \"First_trained_result\", \"label\": \"First trained result\", \"description\": null, \"data_type_ids_list\": [\"AnyDirectory\"]}, {\"name\": \"Second_trained_model\", \"label\": \"Second trained model\", \"description\": null, \"data_type_ids_list\": [\"AnyDirectory\"]}, {\"name\": \"Second_trained_result\", \"label\": \"Second trained result\", \"description\": null, \"data_type_ids_list\": [\"AnyDirectory\"]}], \"outputs\": [{\"name\": \"The_better_model\", \"label\": \"The better model\", \"description\": null, \"data_type_id\": \"AnyDirectory\"}]}}], \"datasources\": [{\"name\": \"THUCNews\", \"description\": \"THUCNews dataset is generated by filtering and filtering historical data     of Sina News RSS subscription channel from 2005 to 2011\", \"version\": \"1\", \"registered_id\": \"efa8f18c-9b9b-47f3-9630-de9002dc61aa\", \"saved_id\": \"8ece8ea8-1318-4d4d-8cac-2acb631feb85\", \"nodeId\": \"70286d9a-c269-31a9-bbba-13fbf3d37b70\"}], \"subGraphInfo\": [{\"name\": \"fasttext_pipeline\", \"description\": \"The pipeline that trains two fasttext models and output the better one\", \"default_compute_target\": {\"name\": \"aml-compute-gpu\", \"compute_type\": \"0\"}, \"default_data_store\": {\"data_store_name\": \"workspaceblobstore\"}, \"id\": \"0b1e2110-f07f-410e-a593-b509bba40318\", \"pipeline_definition_id\": \"0ab395d2-7376-4110-81da-e0e60c948d2e\", \"sub_graph_parameter_assignment\": [], \"sub_graph_data_path_parameter_assignment\": [], \"sub_graph_default_compute_target_nodes\": [\"2da910ae\"], \"sub_graph_default_data_store_nodes\": [\"2da910ae\"], \"inputs\": [], \"outputs\": []}, {\"name\": \"sub_pipeline\", \"description\": \"A sub pipeline including processes of data processing/training/evaluation\", \"default_compute_target\": {\"name\": \"aml-compute-gpu\", \"compute_type\": \"0\"}, \"default_data_store\": {\"data_store_name\": \"workspaceblobstore\"}, \"id\": \"9d766e36-812d-4332-8aed-6443119ba0d9\", \"parent_graph_id\": \"0b1e2110-f07f-410e-a593-b509bba40318\", \"pipeline_definition_id\": \"528631a6-b6c4-460d-a739-97c48aa9f418\", \"sub_graph_parameter_assignment\": [{\"parameter\": {\"name\": \"epochs\", \"is_optional\": false, \"type\": \"0\"}, \"parameter_assignments\": [{\"node_id\": \"d287ad29\", \"parameter_name\": \"Epochs\"}]}, {\"parameter\": {\"name\": \"batch_size\", \"is_optional\": false, \"type\": \"0\"}, \"parameter_assignments\": [{\"node_id\": \"d287ad29\", \"parameter_name\": \"Batch size\"}]}, {\"parameter\": {\"name\": \"max_len\", \"is_optional\": false, \"type\": \"0\"}, \"parameter_assignments\": [{\"node_id\": \"d287ad29\", \"parameter_name\": \"Max len\"}]}], \"sub_graph_data_path_parameter_assignment\": [], \"sub_graph_default_compute_target_nodes\": [\"0ccb5ea8\", \"d287ad29\", \"1c32e07b\"], \"sub_graph_default_data_store_nodes\": [], \"inputs\": [], \"outputs\": [{\"name\": \"model_testing_result\", \"internal\": [{\"node_id\": \"1c32e07b\", \"port_name\": \"Model_testing_result\"}], \"external\": [{\"node_id\": \"2da910ae\", \"port_name\": \"First_trained_result\"}]}, {\"name\": \"trained_model_dir\", \"internal\": [{\"node_id\": \"d287ad29\", \"port_name\": \"Trained_model_dir\"}], \"external\": [{\"node_id\": \"1c32e07b\", \"port_name\": \"Trained_model_dir\"}, {\"node_id\": \"2da910ae\", \"port_name\": \"First_trained_model\"}]}]}, {\"name\": \"sub_pipeline\", \"description\": \"A sub pipeline including processes of data processing/training/evaluation\", \"default_compute_target\": {\"name\": \"aml-compute-gpu\", \"compute_type\": \"0\"}, \"default_data_store\": {\"data_store_name\": \"workspaceblobstore\"}, \"id\": \"53ee3afd-ded3-4776-8fe3-abbe123829d3\", \"parent_graph_id\": \"0b1e2110-f07f-410e-a593-b509bba40318\", \"pipeline_definition_id\": \"528631a6-b6c4-460d-a739-97c48aa9f418\", \"sub_graph_parameter_assignment\": [{\"parameter\": {\"name\": \"epochs\", \"is_optional\": false, \"type\": \"0\"}, \"parameter_assignments\": [{\"node_id\": \"8454e4db\", \"parameter_name\": \"Epochs\"}]}, {\"parameter\": {\"name\": \"batch_size\", \"is_optional\": false, \"type\": \"0\"}, \"parameter_assignments\": [{\"node_id\": \"8454e4db\", \"parameter_name\": \"Batch size\"}]}, {\"parameter\": {\"name\": \"max_len\", \"is_optional\": false, \"type\": \"0\"}, \"parameter_assignments\": [{\"node_id\": \"8454e4db\", \"parameter_name\": \"Max len\"}]}], \"sub_graph_data_path_parameter_assignment\": [], \"sub_graph_default_compute_target_nodes\": [\"e53d14eb\", \"8454e4db\", \"e9da7466\"], \"sub_graph_default_data_store_nodes\": [], \"inputs\": [], \"outputs\": [{\"name\": \"model_testing_result\", \"internal\": [{\"node_id\": \"e9da7466\", \"port_name\": \"Model_testing_result\"}], \"external\": [{\"node_id\": \"2da910ae\", \"port_name\": \"Second_trained_result\"}]}, {\"name\": \"trained_model_dir\", \"internal\": [{\"node_id\": \"8454e4db\", \"port_name\": \"Trained_model_dir\"}], \"external\": [{\"node_id\": \"e9da7466\", \"port_name\": \"Trained_model_dir\"}, {\"node_id\": \"2da910ae\", \"port_name\": \"Second_trained_model\"}]}]}], \"nodeIdToSubGraphIdMapping\": {\"0ccb5ea8\": \"9d766e36-812d-4332-8aed-6443119ba0d9\", \"d287ad29\": \"9d766e36-812d-4332-8aed-6443119ba0d9\", \"1c32e07b\": \"9d766e36-812d-4332-8aed-6443119ba0d9\", \"e53d14eb\": \"53ee3afd-ded3-4776-8fe3-abbe123829d3\", \"8454e4db\": \"53ee3afd-ded3-4776-8fe3-abbe123829d3\", \"e9da7466\": \"53ee3afd-ded3-4776-8fe3-abbe123829d3\", \"2da910ae\": \"0b1e2110-f07f-410e-a593-b509bba40318\"}, \"subPipelineDefinition\": [{\"name\": \"fasttext_pipeline\", \"description\": \"The pipeline that trains two fasttext models and output the better one\", \"default_compute_target\": {\"name\": \"aml-compute-gpu\", \"compute_type\": \"0\"}, \"default_data_store\": {\"data_store_name\": \"workspaceblobstore\"}, \"pipeline_function_name\": \"fasttext_pipeline\", \"id\": \"0ab395d2-7376-4110-81da-e0e60c948d2e\", \"from_module_name\": \"__main__\", \"parameter_list\": []}, {\"name\": \"sub_pipeline\", \"description\": \"A sub pipeline including processes of data processing/training/evaluation\", \"default_compute_target\": {\"name\": \"aml-compute-gpu\", \"compute_type\": \"0\"}, \"default_data_store\": {\"data_store_name\": \"workspaceblobstore\"}, \"pipeline_function_name\": \"training_pipeline\", \"id\": \"528631a6-b6c4-460d-a739-97c48aa9f418\", \"from_module_name\": \"__main__\", \"parameter_list\": [{\"key\": \"epochs\"}, {\"key\": \"batch_size\"}, {\"key\": \"max_len\"}]}]};\n",
       "                window.graph_json_to_compare=undefined;\n",
       "                window.env_json={};\n",
       "                window.before_script = performance.now();\n",
       "                var script = document.createElement('script')\n",
       "                script.src = \"https://yucongj.azureedge.net/libs/prod/0.0.9/index.js\"\n",
       "                document.getElementById(\"container_id_ce5dbbfc-9fbc-4d26-a0a9-4124d68672f7_script\").appendChild(script)\n",
       "            })()\n",
       "        </script>\n",
       "        "
      ],
      "text/plain": [
       "<IPython.core.display.HTML object>"
      ]
     },
     "metadata": {},
     "output_type": "display_data"
    },
    {
     "data": {
      "text/plain": [
       "<RunStatus.completed: 'Completed'>"
      ]
     },
     "execution_count": 11,
     "metadata": {},
     "output_type": "execute_result"
    }
   ],
   "source": [
    "# run the pipeline\n",
    "experiment_name = 'fasttext_pipeline'\n",
    "# regenerate_outputs indicates whether to force regeneration of all step outputs and disallow data reuse for this run\n",
    "# if regenerate_outputs is False, this run may reuse results from previous runs and subsequent runs may reuse the results of this run\n",
    "pipeline_run = pipeline.submit(experiment_name=experiment_name, regenerate_outputs=False)\n",
    "# wait_for_completion() visualize the execution process of the pipeline\n",
    "# you could also view this process on Azure Machine Learning Portal\n",
    "pipeline_run.wait_for_completion()"
   ]
  },
  {
   "cell_type": "code",
   "execution_count": null,
   "metadata": {
    "pycharm": {
     "name": "#%%\n"
    }
   },
   "outputs": [],
   "source": []
  }
 ],
 "metadata": {
  "kernelspec": {
   "display_name": "fasttext",
   "language": "python",
   "name": "fasttext"
  },
  "language_info": {
   "codemirror_mode": {
    "name": "ipython",
    "version": 3
   },
   "file_extension": ".py",
   "mimetype": "text/x-python",
   "name": "python",
   "nbconvert_exporter": "python",
   "pygments_lexer": "ipython3",
   "version": "3.6.6"
  },
  "widgets": {
   "application/vnd.jupyter.widget-state+json": {
    "state": {},
    "version_major": 2,
    "version_minor": 0
   }
  }
 },
 "nbformat": 4,
 "nbformat_minor": 4
}
