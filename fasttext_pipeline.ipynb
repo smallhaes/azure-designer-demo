{
 "cells": [
  {
   "cell_type": "markdown",
   "metadata": {
    "pycharm": {
     "name": "#%% md\n"
    }
   },
   "source": [
    "Copyright (c) Microsoft Corporation. All rights reserved.  \n",
    "Licensed under the MIT License."
   ]
  },
  {
   "cell_type": "markdown",
   "metadata": {},
   "source": [
    "# Using Customized Modules to Create an Azure Machine Learning Pipeline\n",
    "\n",
    "In this notebook, we will demonstrate how to use customized modules to create an Azure Machine Learning Pipeline which is associated with the [fastText](https://fasttext.cc/) algorithm. Customized modules are created with the extension azure-cli-ml of Azure CLI. \n",
    "\n",
    "If you don't have the input dataset, you could prepare your it with the instructions in ```prepare_data.ipynb```. \n",
    "\n",
    "The outline of this notebook is as follows:\n",
    "\n",
    "- Upload the dataset onto a blob container and register it to the workspace.\n",
    "- Register an anonymous module from yaml file to workspace.\n",
    "- Construct the pipeline.\n",
    "- Visualize and run the pipeline.\n",
    "\n",
    "## Prerequisites\n",
    "If you are using an Azure Machine Learning Notebook VM, you are all set. Otherwise, make sure you go through the configuration Notebook located at https://github.com/Azure/MachineLearningNotebooks first. This sets you up with a working config file that has information on your workspace, subscription id, etc."
   ]
  },
  {
   "cell_type": "code",
   "execution_count": 1,
   "metadata": {},
   "outputs": [],
   "source": [
    "from azureml.core import Dataset, Datastore, Workspace\n",
    "from azureml.core.compute import AmlCompute, ComputeTarget\n",
    "from azureml.data.datapath import DataPath\n",
    "from azureml.pipeline.wrapper import Module, dsl"
   ]
  },
  {
   "cell_type": "markdown",
   "metadata": {},
   "source": [
    "### Connect to workspace\n",
    "Create a workspace object from the existing workspace. Workspace.from_config() reads the file config.json and loads the details into an object named workspace."
   ]
  },
  {
   "cell_type": "code",
   "execution_count": 2,
   "metadata": {
    "tags": []
   },
   "outputs": [
    {
     "name": "stderr",
     "output_type": "stream",
     "text": [
      "Warning: Falling back to use azure cli login credentials.\n",
      "If you run your code in unattended mode, i.e., where you can't give a user input, then we recommend to use ServicePrincipalAuthentication or MsiAuthentication.\n",
      "Please refer to aka.ms/aml-notebook-auth for different authentication mechanisms in azureml-sdk.\n"
     ]
    },
    {
     "name": "stdout",
     "output_type": "stream",
     "text": [
      "fundamental3\n",
      "fundamental\n",
      "eastasia\n",
      "4f455bd0-f95a-4b7d-8d08-078611508e0b\n",
      "dict_keys(['myaks2', 'aml-compute-gpu', 'aml-compute', 'my-compute'])\n"
     ]
    }
   ],
   "source": [
    "workspace = Workspace.from_config('config.json')\n",
    "print(workspace.name, workspace.resource_group, workspace.location, workspace.subscription_id,\n",
    "      workspace.compute_targets.keys(), sep='\\n')"
   ]
  },
  {
   "cell_type": "markdown",
   "metadata": {},
   "source": [
    "### Create or Attach existing compute resource\n",
    "By using Azure Machine Learning Compute, a managed service, data scientists can train machine learning models on clusters of Azure virtual machines. Examples include VMs with GPU support. In this tutorial, you create Azure Machine Learning Compute as your training environment. The code below creates the compute clusters for you if they don't already exist in your workspace.\n",
    "\n",
    "**Creation of compute takes approximately 5 minutes. If the AmlCompute with that name is already in your workspace the code will skip the creation process.**\n"
   ]
  },
  {
   "cell_type": "code",
   "execution_count": 3,
   "metadata": {
    "tags": []
   },
   "outputs": [
    {
     "name": "stdout",
     "output_type": "stream",
     "text": [
      "Found existing compute target: aml-compute\n"
     ]
    }
   ],
   "source": [
    "# aml_compute_name = 'aml-compute'\n",
    "aml_compute_name = 'aml-compute-gpu' #GPU does not work\n",
    "if aml_compute_name in workspace.compute_targets:\n",
    "    aml_compute = AmlCompute(workspace, aml_compute_name)\n",
    "    print(\"Found existing compute target: {}\".format(aml_compute_name))\n",
    "else:\n",
    "    print(\"Creating new compute target: {}\".format(aml_compute_name))\n",
    "    provisioning_config = AmlCompute.provisioning_configuration(vm_size=\"STANDARD_D2_V2\", min_nodes=1, max_nodes=4)\n",
    "    aml_compute = ComputeTarget.create(workspace, aml_compute_name, provisioning_config)\n",
    "    aml_compute.wait_for_completion(show_output=True)"
   ]
  },
  {
   "cell_type": "markdown",
   "metadata": {},
   "source": [
    "### Upload the dataset onto a blob container and register it to the workspace."
   ]
  },
  {
   "cell_type": "code",
   "execution_count": 4,
   "metadata": {
    "scrolled": true,
    "tags": []
   },
   "outputs": [
    {
     "name": "stdout",
     "output_type": "stream",
     "text": [
      "Uploading an estimated of 3 files\n",
      "Uploading data/data_for_pipeline\\data.txt\n",
      "Uploading data/data_for_pipeline\\label.txt\n",
      "Uploading data/data_for_pipeline\\word_to_index.json\n",
      "Uploaded data/data_for_pipeline\\label.txt, 1 files out of an estimated total of 3\n",
      "Uploaded data/data_for_pipeline\\word_to_index.json, 2 files out of an estimated total of 3\n",
      "Uploaded data/data_for_pipeline\\data.txt, 3 files out of an estimated total of 3\n",
      "Uploaded 3 files\n"
     ]
    }
   ],
   "source": [
    "dataset_name = \"THUCNews\"\n",
    "# if the workspace don't contain the dataset, then register it\n",
    "if not dataset_name in workspace.datasets:\n",
    "    # upload files in 'data' to a blob container.\n",
    "    # our files are in the directory of 'path_on_datastore' in the blob container.\n",
    "    path_on_datastore = 'my_dataset'\n",
    "    datastore = Datastore.get(workspace=workspace, datastore_name='workspaceblobstore')\n",
    "    datastore.upload(src_dir='data/data_for_pipeline', target_path=path_on_datastore, overwrite=True, show_progress=True)\n",
    "    description = 'THUCNews dataset is generated by filtering and filtering historical data \\\n",
    "    of Sina News RSS subscription channel from 2005 to 2011'\n",
    "    # get the DataPath object associated with the uploaded dataset.\n",
    "    datastore_path = [DataPath(datastore=datastore, path_on_datastore=path_on_datastore)]\n",
    "    data = Dataset.File.from_files(path=datastore_path)\n",
    "    # register the dataset to your workspace.\n",
    "    data.register(workspace=workspace, name=dataset_name, description=description, create_new_version=True)\n",
    "dataset = workspace.datasets[dataset_name]"
   ]
  },
  {
   "cell_type": "markdown",
   "metadata": {},
   "source": [
    "### Register an anonymous module from yaml file to the workspace.\n",
    "If you decorate your module function with ```@dsl.module```, azure-cli-ml could help to generate the ```*.spec.yaml``` file."
   ]
  },
  {
   "cell_type": "code",
   "execution_count": 5,
   "metadata": {
    "tags": []
   },
   "outputs": [],
   "source": [
    "split_data_txt_module_func = Module.from_yaml(workspace, 'split_data_txt/split_data_txt.spec.yaml')\n",
    "fasttext_train_module_func = Module.from_yaml(workspace, 'fasttext_train/fasttext_train.spec.yaml')\n",
    "fasttext_evaluation_module_func = Module.from_yaml(workspace, 'fasttext_evaluation/fasttext_evaluation.spec.yaml')\n",
    "compare_two_models_module_func = Module.from_yaml(workspace, 'compare_two_models/compare_two_models.spec.yaml')"
   ]
  },
  {
   "cell_type": "markdown",
   "metadata": {
    "pycharm": {
     "name": "#%% md\n"
    }
   },
   "source": [
    "### Construct the pipeline\n",
    "our pipeline contains two sub pipelines. They represent two training processes of the fastText model with different parameters. "
   ]
  },
  {
   "cell_type": "code",
   "execution_count": 6,
   "metadata": {
    "pycharm": {
     "name": "#%%\n"
    }
   },
   "outputs": [],
   "source": [
    "# sub pipeline\n",
    "@dsl.pipeline(name='sub_pipeline', description='A sub pipeline including processes of data processing/train/evaluation',\n",
    "              default_compute_target=aml_compute_name)\n",
    "def training_pipeline(epochs, batch_size, max_len):\n",
    "    split_data_txt = split_data_txt_module_func(\n",
    "        input_dir=dataset,\n",
    "        training_data_ratio=0.7,\n",
    "        validation_data_ratio=0.1\n",
    "    )\n",
    "    fasttext_train = fasttext_train_module_func(\n",
    "        training_data_dir=split_data_txt.outputs.training_data_output,\n",
    "        validation_data_dir=split_data_txt.outputs.validation_data_output,\n",
    "        epochs=epochs,\n",
    "        batch_size=batch_size,\n",
    "        max_len=max_len,\n",
    "        embed_dim=300,\n",
    "        hidden_size=256,\n",
    "        ngram_size=200000,\n",
    "        learning_rate=0.001\n",
    "    )\n",
    "\n",
    "    fasttext_evaluation = fasttext_evaluation_module_func(\n",
    "        trained_model_dir=fasttext_train.outputs.trained_model_dir,\n",
    "        test_data_dir=split_data_txt.outputs.test_data_output\n",
    "    )\n",
    "\n",
    "    return {**fasttext_evaluation.outputs, **fasttext_train.outputs}"
   ]
  },
  {
   "cell_type": "code",
   "execution_count": 7,
   "metadata": {
    "pycharm": {
     "name": "#%%\n"
    }
   },
   "outputs": [],
   "source": [
    "@dsl.pipeline(name='fasttext_pipeline',\n",
    "              description='The pipeline that trains two fasttext models and output the better one',\n",
    "              default_compute_target=aml_compute_name)\n",
    "def fasttext_pipeline():\n",
    "    train_and_evalute_model1 = training_pipeline(epochs=3, batch_size=64, max_len=32)\n",
    "    train_and_evalute_model2 = training_pipeline(epochs=6, batch_size=64, max_len=32)\n",
    "    compare = compare_two_models_module_func(\n",
    "        first_trained_model=train_and_evalute_model1.outputs.trained_model_dir,\n",
    "        first_trained_result=train_and_evalute_model1.outputs.model_testing_result,\n",
    "        second_trained_model=train_and_evalute_model2.outputs.trained_model_dir,\n",
    "        second_trained_result=train_and_evalute_model2.outputs.model_testing_result\n",
    "    )\n",
    "    return {**compare.outputs}\n"
   ]
  },
  {
   "cell_type": "markdown",
   "metadata": {
    "pycharm": {
     "name": "#%% md\n"
    }
   },
   "source": [
    "### Visualize and run the pipeline."
   ]
  },
  {
   "cell_type": "code",
   "execution_count": 8,
   "metadata": {},
   "outputs": [],
   "source": [
    "# get the pipeline\n",
    "pipeline = fasttext_pipeline()\n",
    "# save the pipeline if necessary\n",
    "# pipeline.save(experiment_name=experiment_name)"
   ]
  },
  {
   "cell_type": "code",
   "execution_count": 9,
   "metadata": {
    "pycharm": {
     "name": "#%%\n"
    }
   },
   "outputs": [
    {
     "data": {
      "text/plain": "<IPython.core.display.Javascript object>",
      "application/javascript": "try {\n    require.undef(\"validate_widget\")\n\n    define('validate_widget', [\"@jupyter-widgets/base\"], function(widgets) {\n        var ValidateView = widgets.DOMWidgetView.extend({\n            render () {\n                window.widget_self = this\n                var visualize_id = this.model.get('visualize_id')\n\n                if (!window._renderLock) {\n                    window._renderLock = {}\n                }\n                if (window._renderLock[visualize_id]) {\n                    return\n                }\n                window._renderLock[visualize_id] = \"widget\"\n                console.log(\"load as widget\", Date.now())\n\n                var lib_url = this.model.get('lib_url')\n                var graph_json = JSON.parse(this.model.get('graph_json'))\n                var env_json = JSON.parse(this.model.get('env_json'))\n                var container_id = this.model.get('container_id')\n\n                window.render_container_id = container_id\n                window.graph_json = graph_json\n                window.graph_json_to_compare = undefined\n                window.env_json = env_json\n                window.before_script = performance.now()\n\n                var container = document.createElement('div')\n                container.id = container_id\n                this.el.appendChild(container)\n\n                var style = document.createElement('style')\n                style.innerHTML = [\n                    \"#\", container_id, \" svg.react-dag-editor-svg-container { height: 800px; }\",\n                    \".cell-output-ipywidget-background { background: transparent !important }\"\n                ].join('')\n                this.el.appendChild(style)\n\n                this.model.on('msg:custom', dispatchMessage, this);\n\n                if (!window.__event_hub) {\n                    window.__event_hub = {}\n                }\n                if (!window.__event_hub[container_id]) {\n                    window.__event_hub[container_id] = {}\n                }\n\n                if (!window.__send_event) {\n                    window.__send_event = {}\n                }\n                window.__send_event[container_id] = sendMessage.bind(this)\n\n                function sendMessage(message, uid, content) {\n                    return new Promise((resolve) => {\n                        this.model.send({\n                            message: `${message}:request`,\n                            body: {\n                                uid,\n                                content\n                            }\n                        })\n    \n                        var respMessageKey = `${message}:response`\n                        if (!window.__event_hub[container_id][respMessageKey]) {\n                            window.__event_hub[container_id][respMessageKey] = []\n                        }\n                        window.__event_hub[container_id][respMessageKey].push(callback)\n    \n                        function callback (response) {\n                            if (response.uid !== uid) {\n                                return\n                            }\n\n                            var idx = window.__event_hub[container_id][respMessageKey].indexOf(callback) \n                            window.__event_hub[container_id][respMessageKey].splice(idx, 1)\n                            \n                            resolve(response)\n                        }\n                    })\n                }\n\n                function dispatchMessage (rawMessage) {\n                    var message = rawMessage.message\n                    var body = rawMessage.body\n\n                    if (!window.__event_hub[container_id][message]) {\n                        window.__event_hub[container_id][message] = []\n                    }\n                    var listeners = window.__event_hub[container_id][message]\n\n                    listeners.forEach(cb => {\n                        try {\n                            cb(body)\n                        } catch (e) {\n                            console.error(\"Unexpected error in listener\", e)\n                        }\n                    })\n\n                    console.log(body)\n                }\n\n                var script = document.createElement('script')\n                script.src = lib_url\n                this.el.appendChild(script)\n            }\n        });\n\n        return {\n            ValidateView\n        }\n    })\n} catch (e) {\n    console.log(\"create validation widget failed\", e)\n}"
     },
     "metadata": {},
     "output_type": "display_data"
    },
    {
     "data": {
      "text/plain": "ValidateView(container_id='container_id_eb359422-0603-4b28-976a-306deb9550ca_widget', env_json='{\"subscription…",
      "application/vnd.jupyter.widget-view+json": {
       "version_major": 2,
       "version_minor": 0,
       "model_id": "06760a684cde4956b52c291ade569831"
      }
     },
     "metadata": {},
     "output_type": "display_data"
    },
    {
     "data": {
      "text/plain": "<IPython.core.display.HTML object>",
      "text/html": "\n        <style>\n        #container_id_eb359422-0603-4b28-976a-306deb9550ca_script svg.react-dag-editor-svg-container {\n            height: 800px;\n        }\n        </style>\n        <div id=\"container_id_eb359422-0603-4b28-976a-306deb9550ca_script\"></div>\n        <script>\n            (function () {\n                if (!window._renderLock) {\n                    window._renderLock = {}\n                }\n                if (window._renderLock[\"eb359422-0603-4b28-976a-306deb9550ca\"]) {\n                    return\n                }\n                window._renderLock[\"eb359422-0603-4b28-976a-306deb9550ca\"] = \"script\"\n                console.log(\"load as script\", Date.now())\n                window.render_container_id=\"container_id_eb359422-0603-4b28-976a-306deb9550ca_script\";\n                window.graph_json={\"pipeline\": {\"name\": [\"fasttext_pipeline\"], \"data_references\": {\"THUCNews\": {\"dataset_id\": \"89a5a8e3-9df3-4a1a-a3ee-d82ec112c4fb\"}}, \"steps\": {\"b8162168\": {\"inputs\": {\"Input_dir\": {\"source\": \"THUCNews\"}}, \"outputs\": {\"Training_data_output\": {\"destination\": \"a2e4aaf3-b5ac-43cd-b67b-2cce83c5a177_Training_data_output\"}, \"Validation_data_output\": {\"destination\": \"a2e4aaf3-b5ac-43cd-b67b-2cce83c5a177_Validation_data_output\"}, \"Test_data_output\": {\"destination\": \"a2e4aaf3-b5ac-43cd-b67b-2cce83c5a177_Test_data_output\"}}, \"module\": {\"id\": \"bbaeec54-12ee-4b66-be83-143f009aeb83\", \"version\": \"0.0.43\"}, \"parameters\": {\"training_data_ratio\": 0.7, \"validation_data_ratio\": 0.1, \"random_split\": \"False\", \"seed\": \"0\"}, \"validate\": {\"error\": [], \"module_id\": \"bbaeec54-12ee-4b66-be83-143f009aeb83\", \"namespace\": \"fundamental3\", \"module_name\": \"Split Data Txt\", \"module_version\": \"0.0.43\"}}, \"ace14547\": {\"inputs\": {\"Training_data_dir\": {\"source\": \"a2e4aaf3-b5ac-43cd-b67b-2cce83c5a177_Training_data_output\"}, \"Validation_data_dir\": {\"source\": \"a2e4aaf3-b5ac-43cd-b67b-2cce83c5a177_Validation_data_output\"}}, \"outputs\": {\"Trained_model_dir\": {\"destination\": \"36ff6b25-2720-4dd5-9aed-ec45b3eed953_Trained_model_dir\"}}, \"module\": {\"id\": \"3d2893e3-b4a1-49f3-bf91-8c3dc001a8d4\", \"version\": \"0.0.41\"}, \"parameters\": {\"epochs\": 3, \"batch_size\": 64, \"max_len\": 32, \"embed_dim\": 300, \"hidden_size\": 256, \"ngram_size\": 200000, \"learning_rate\": 0.001}, \"validate\": {\"error\": [], \"module_id\": \"3d2893e3-b4a1-49f3-bf91-8c3dc001a8d4\", \"namespace\": \"fundamental3\", \"module_name\": \"FastText Train\", \"module_version\": \"0.0.41\"}}, \"0eaf7ef0\": {\"inputs\": {\"Trained_model_dir\": {\"source\": \"36ff6b25-2720-4dd5-9aed-ec45b3eed953_Trained_model_dir\"}, \"Test_data_dir\": {\"source\": \"a2e4aaf3-b5ac-43cd-b67b-2cce83c5a177_Test_data_output\"}}, \"outputs\": {\"Model_testing_result\": {\"destination\": \"5d14bd16-8523-4f7b-96aa-95efb4b2963b_Model_testing_result\"}}, \"module\": {\"id\": \"ed876e8a-73f5-4d7a-9ea3-b65d3752bd6d\", \"version\": \"0.0.8\"}, \"parameters\": {\"max_len\": \"32\", \"ngram_size\": \"200000\"}, \"validate\": {\"error\": [], \"module_id\": \"ed876e8a-73f5-4d7a-9ea3-b65d3752bd6d\", \"namespace\": \"fundamental3\", \"module_name\": \"FastText Evaluation\", \"module_version\": \"0.0.8\"}}, \"b407ed03\": {\"inputs\": {\"Input_dir\": {\"source\": \"THUCNews\"}}, \"outputs\": {\"Training_data_output\": {\"destination\": \"4253c6e4-9164-4b38-a577-6d388c387641_Training_data_output\"}, \"Validation_data_output\": {\"destination\": \"4253c6e4-9164-4b38-a577-6d388c387641_Validation_data_output\"}, \"Test_data_output\": {\"destination\": \"4253c6e4-9164-4b38-a577-6d388c387641_Test_data_output\"}}, \"module\": {\"id\": \"bbaeec54-12ee-4b66-be83-143f009aeb83\", \"version\": \"0.0.43\"}, \"parameters\": {\"training_data_ratio\": 0.7, \"validation_data_ratio\": 0.1, \"random_split\": \"False\", \"seed\": \"0\"}, \"validate\": {\"error\": [], \"module_id\": \"bbaeec54-12ee-4b66-be83-143f009aeb83\", \"namespace\": \"fundamental3\", \"module_name\": \"Split Data Txt\", \"module_version\": \"0.0.43\"}}, \"07fe3a9c\": {\"inputs\": {\"Training_data_dir\": {\"source\": \"4253c6e4-9164-4b38-a577-6d388c387641_Training_data_output\"}, \"Validation_data_dir\": {\"source\": \"4253c6e4-9164-4b38-a577-6d388c387641_Validation_data_output\"}}, \"outputs\": {\"Trained_model_dir\": {\"destination\": \"0f8ea24d-8f3f-44e8-80bd-fe1ccb97395f_Trained_model_dir\"}}, \"module\": {\"id\": \"3d2893e3-b4a1-49f3-bf91-8c3dc001a8d4\", \"version\": \"0.0.41\"}, \"parameters\": {\"epochs\": 6, \"batch_size\": 64, \"max_len\": 32, \"embed_dim\": 300, \"hidden_size\": 256, \"ngram_size\": 200000, \"learning_rate\": 0.001}, \"validate\": {\"error\": [], \"module_id\": \"3d2893e3-b4a1-49f3-bf91-8c3dc001a8d4\", \"namespace\": \"fundamental3\", \"module_name\": \"FastText Train\", \"module_version\": \"0.0.41\"}}, \"ec9e13ce\": {\"inputs\": {\"Trained_model_dir\": {\"source\": \"0f8ea24d-8f3f-44e8-80bd-fe1ccb97395f_Trained_model_dir\"}, \"Test_data_dir\": {\"source\": \"4253c6e4-9164-4b38-a577-6d388c387641_Test_data_output\"}}, \"outputs\": {\"Model_testing_result\": {\"destination\": \"b41404fb-2981-472f-9709-90790c203b75_Model_testing_result\"}}, \"module\": {\"id\": \"ed876e8a-73f5-4d7a-9ea3-b65d3752bd6d\", \"version\": \"0.0.8\"}, \"parameters\": {\"max_len\": \"32\", \"ngram_size\": \"200000\"}, \"validate\": {\"error\": [], \"module_id\": \"ed876e8a-73f5-4d7a-9ea3-b65d3752bd6d\", \"namespace\": \"fundamental3\", \"module_name\": \"FastText Evaluation\", \"module_version\": \"0.0.8\"}}, \"f774f418\": {\"inputs\": {\"First_trained_model\": {\"source\": \"36ff6b25-2720-4dd5-9aed-ec45b3eed953_Trained_model_dir\"}, \"First_trained_result\": {\"source\": \"5d14bd16-8523-4f7b-96aa-95efb4b2963b_Model_testing_result\"}, \"Second_trained_model\": {\"source\": \"0f8ea24d-8f3f-44e8-80bd-fe1ccb97395f_Trained_model_dir\"}, \"Second_trained_result\": {\"source\": \"b41404fb-2981-472f-9709-90790c203b75_Model_testing_result\"}}, \"outputs\": {\"The_better_model\": {\"destination\": \"cd4b9e78-6f09-4b3a-8995-8ee4fa027aed_The_better_model\"}}, \"module\": {\"id\": \"c607f3bc-6651-42ba-9fe9-9efb687de3d1\", \"version\": \"0.0.18\"}, \"parameters\": {}, \"validate\": {\"error\": [], \"module_id\": \"c607f3bc-6651-42ba-9fe9-9efb687de3d1\", \"namespace\": \"fundamental3\", \"module_name\": \"Compare Two Models\", \"module_version\": \"0.0.18\"}}}}, \"modules\": [{\"module_id\": \"bbaeec54-12ee-4b66-be83-143f009aeb83\", \"version\": \"0.0.43\", \"name\": \"Split Data Txt\", \"namespace\": \"fundamental3\", \"structured_interface\": {\"inputs\": [{\"name\": \"Input_dir\", \"label\": \"Input dir\", \"description\": null, \"data_type_ids_list\": [\"AnyDirectory\"]}], \"outputs\": [{\"name\": \"Training_data_output\", \"label\": \"Training data output\", \"description\": null, \"data_type_id\": \"AnyDirectory\"}, {\"name\": \"Validation_data_output\", \"label\": \"Validation data output\", \"description\": null, \"data_type_id\": \"AnyDirectory\"}, {\"name\": \"Test_data_output\", \"label\": \"Test data output\", \"description\": null, \"data_type_id\": \"AnyDirectory\"}]}}, {\"module_id\": \"3d2893e3-b4a1-49f3-bf91-8c3dc001a8d4\", \"version\": \"0.0.41\", \"name\": \"FastText Train\", \"namespace\": \"fundamental3\", \"structured_interface\": {\"inputs\": [{\"name\": \"Training_data_dir\", \"label\": \"Training data dir\", \"description\": null, \"data_type_ids_list\": [\"AnyDirectory\"]}, {\"name\": \"Validation_data_dir\", \"label\": \"Validation data dir\", \"description\": null, \"data_type_ids_list\": [\"AnyDirectory\"]}], \"outputs\": [{\"name\": \"Trained_model_dir\", \"label\": \"Trained model dir\", \"description\": null, \"data_type_id\": \"ModelDirectory\"}]}}, {\"module_id\": \"ed876e8a-73f5-4d7a-9ea3-b65d3752bd6d\", \"version\": \"0.0.8\", \"name\": \"FastText Evaluation\", \"namespace\": \"fundamental3\", \"structured_interface\": {\"inputs\": [{\"name\": \"Trained_model_dir\", \"label\": \"Trained model dir\", \"description\": null, \"data_type_ids_list\": [\"AnyDirectory\"]}, {\"name\": \"Test_data_dir\", \"label\": \"Test data dir\", \"description\": null, \"data_type_ids_list\": [\"AnyDirectory\"]}], \"outputs\": [{\"name\": \"Model_testing_result\", \"label\": \"Model testing result\", \"description\": null, \"data_type_id\": \"AnyDirectory\"}]}}, {\"module_id\": \"c607f3bc-6651-42ba-9fe9-9efb687de3d1\", \"version\": \"0.0.18\", \"name\": \"Compare Two Models\", \"namespace\": \"fundamental3\", \"structured_interface\": {\"inputs\": [{\"name\": \"First_trained_model\", \"label\": \"First trained model\", \"description\": null, \"data_type_ids_list\": [\"AnyDirectory\"]}, {\"name\": \"First_trained_result\", \"label\": \"First trained result\", \"description\": null, \"data_type_ids_list\": [\"AnyDirectory\"]}, {\"name\": \"Second_trained_model\", \"label\": \"Second trained model\", \"description\": null, \"data_type_ids_list\": [\"AnyDirectory\"]}, {\"name\": \"Second_trained_result\", \"label\": \"Second trained result\", \"description\": null, \"data_type_ids_list\": [\"AnyDirectory\"]}], \"outputs\": [{\"name\": \"The_better_model\", \"label\": \"The better model\", \"description\": null, \"data_type_id\": \"AnyDirectory\"}]}}], \"datasources\": [{\"name\": \"THUCNews\", \"description\": \"THUCNews dataset is generated by filtering and filtering historical data     of Sina News RSS subscription channel from 2005 to 2011\", \"version\": 1, \"tags\": {}, \"registered_id\": \"89a5a8e3-9df3-4a1a-a3ee-d82ec112c4fb\", \"saved_id\": \"91c342a3-19c5-4de6-a237-7132d420ae18\", \"nodeId\": \"0b25adc0-e816-3e80-853c-4414fb851997\"}], \"subGraphInfo\": [{\"name\": \"fasttext_pipeline\", \"description\": \"The pipeline that trains two fasttext models and output the better one\", \"default_compute_target\": {\"name\": \"aml-compute\"}, \"default_data_store\": {\"data_store_name\": \"workspaceblobstore\"}, \"id\": \"f0ec7173-c523-49e3-bcb5-fba698892261\", \"pipeline_definition_id\": \"a46d2265-b8b5-4aeb-90b4-13dcb9b5ede1\", \"sub_graph_parameter_assignment\": [], \"sub_graph_data_path_parameter_assignment\": [], \"sub_graph_default_compute_target_nodes\": [\"f774f418\"], \"sub_graph_default_data_store_nodes\": [\"f774f418\"], \"inputs\": [], \"outputs\": [{\"name\": \"the_better_model\", \"internal\": [{\"node_id\": \"f774f418\", \"port_name\": \"The_better_model\"}], \"external\": []}]}, {\"name\": \"sub_pipeline\", \"description\": \"A sub pipeline including processes of data processing/train/evaluation\", \"default_compute_target\": {\"name\": \"aml-compute\"}, \"default_data_store\": {\"data_store_name\": \"workspaceblobstore\"}, \"id\": \"882bf186-7531-4725-8ddf-71633ab2988c\", \"parent_graph_id\": \"f0ec7173-c523-49e3-bcb5-fba698892261\", \"pipeline_definition_id\": \"c904aac5-ab7e-464a-9b53-e173a14fad61\", \"sub_graph_parameter_assignment\": [{\"parameter\": {\"name\": \"epochs\"}, \"parameter_assignments\": [{\"node_id\": \"ace14547\", \"parameter_name\": \"Epochs\"}]}, {\"parameter\": {\"name\": \"batch_size\"}, \"parameter_assignments\": [{\"node_id\": \"ace14547\", \"parameter_name\": \"Batch size\"}]}, {\"parameter\": {\"name\": \"max_len\"}, \"parameter_assignments\": [{\"node_id\": \"ace14547\", \"parameter_name\": \"Max len\"}]}], \"sub_graph_data_path_parameter_assignment\": [], \"sub_graph_default_compute_target_nodes\": [\"b8162168\", \"ace14547\", \"0eaf7ef0\"], \"sub_graph_default_data_store_nodes\": [], \"inputs\": [], \"outputs\": [{\"name\": \"model_testing_result\", \"internal\": [{\"node_id\": \"0eaf7ef0\", \"port_name\": \"Model_testing_result\"}], \"external\": [{\"node_id\": \"f774f418\", \"port_name\": \"First_trained_result\"}]}, {\"name\": \"trained_model_dir\", \"internal\": [{\"node_id\": \"ace14547\", \"port_name\": \"Trained_model_dir\"}], \"external\": [{\"node_id\": \"0eaf7ef0\", \"port_name\": \"Trained_model_dir\"}, {\"node_id\": \"f774f418\", \"port_name\": \"First_trained_model\"}]}]}, {\"name\": \"sub_pipeline\", \"description\": \"A sub pipeline including processes of data processing/train/evaluation\", \"default_compute_target\": {\"name\": \"aml-compute\"}, \"default_data_store\": {\"data_store_name\": \"workspaceblobstore\"}, \"id\": \"481e7997-ae7f-4e21-9575-5d5ddc94c28d\", \"parent_graph_id\": \"f0ec7173-c523-49e3-bcb5-fba698892261\", \"pipeline_definition_id\": \"c904aac5-ab7e-464a-9b53-e173a14fad61\", \"sub_graph_parameter_assignment\": [{\"parameter\": {\"name\": \"epochs\"}, \"parameter_assignments\": [{\"node_id\": \"07fe3a9c\", \"parameter_name\": \"Epochs\"}]}, {\"parameter\": {\"name\": \"batch_size\"}, \"parameter_assignments\": [{\"node_id\": \"07fe3a9c\", \"parameter_name\": \"Batch size\"}]}, {\"parameter\": {\"name\": \"max_len\"}, \"parameter_assignments\": [{\"node_id\": \"07fe3a9c\", \"parameter_name\": \"Max len\"}]}], \"sub_graph_data_path_parameter_assignment\": [], \"sub_graph_default_compute_target_nodes\": [\"b407ed03\", \"07fe3a9c\", \"ec9e13ce\"], \"sub_graph_default_data_store_nodes\": [], \"inputs\": [], \"outputs\": [{\"name\": \"model_testing_result\", \"internal\": [{\"node_id\": \"ec9e13ce\", \"port_name\": \"Model_testing_result\"}], \"external\": [{\"node_id\": \"f774f418\", \"port_name\": \"Second_trained_result\"}]}, {\"name\": \"trained_model_dir\", \"internal\": [{\"node_id\": \"07fe3a9c\", \"port_name\": \"Trained_model_dir\"}], \"external\": [{\"node_id\": \"ec9e13ce\", \"port_name\": \"Trained_model_dir\"}, {\"node_id\": \"f774f418\", \"port_name\": \"Second_trained_model\"}]}]}], \"nodeIdToSubGraphIdMapping\": {\"b8162168\": \"882bf186-7531-4725-8ddf-71633ab2988c\", \"ace14547\": \"882bf186-7531-4725-8ddf-71633ab2988c\", \"0eaf7ef0\": \"882bf186-7531-4725-8ddf-71633ab2988c\", \"b407ed03\": \"481e7997-ae7f-4e21-9575-5d5ddc94c28d\", \"07fe3a9c\": \"481e7997-ae7f-4e21-9575-5d5ddc94c28d\", \"ec9e13ce\": \"481e7997-ae7f-4e21-9575-5d5ddc94c28d\", \"f774f418\": \"f0ec7173-c523-49e3-bcb5-fba698892261\"}, \"subPipelineDefinition\": [{\"name\": \"fasttext_pipeline\", \"description\": \"The pipeline that trains two fasttext models and output the better one\", \"default_compute_target\": {\"name\": \"aml-compute\"}, \"default_data_store\": {\"data_store_name\": \"workspaceblobstore\"}, \"pipeline_function_name\": \"fasttext_pipeline\", \"id\": \"a46d2265-b8b5-4aeb-90b4-13dcb9b5ede1\", \"from_module_name\": \"__main__\", \"parameter_list\": []}, {\"name\": \"sub_pipeline\", \"description\": \"A sub pipeline including processes of data processing/train/evaluation\", \"default_compute_target\": {\"name\": \"aml-compute\"}, \"default_data_store\": {\"data_store_name\": \"workspaceblobstore\"}, \"pipeline_function_name\": \"training_pipeline\", \"id\": \"c904aac5-ab7e-464a-9b53-e173a14fad61\", \"from_module_name\": \"__main__\", \"parameter_list\": [{\"key\": \"epochs\"}, {\"key\": \"batch_size\"}, {\"key\": \"max_len\"}]}]};\n                window.graph_json_to_compare=None;\n                window.env_json={\"subscription_id\": \"4f455bd0-f95a-4b7d-8d08-078611508e0b\"};\n                window.before_script = performance.now();\n                var script = document.createElement('script')\n                script.src = \"https://yucongj.azureedge.net/libs/prod/0.0.9/index.js\"\n                document.getElementById(\"container_id_eb359422-0603-4b28-976a-306deb9550ca_script\").appendChild(script)\n            })()\n        </script>\n        "
     },
     "metadata": {},
     "output_type": "display_data"
    },
    {
     "data": {
      "text/plain": "{'result': 'validation passed', 'errors': []}"
     },
     "execution_count": 9,
     "metadata": {},
     "output_type": "execute_result"
    }
   ],
   "source": [
    "# visualize the pipeline\n",
    "pipeline.validate()"
   ]
  },
  {
   "cell_type": "code",
   "execution_count": 10,
   "metadata": {
    "pycharm": {
     "name": "#%%\n"
    }
   },
   "outputs": [
    {
     "name": "stdout",
     "output_type": "stream",
     "text": [
      "Submitted PipelineRun 42946bf0-b870-4af9-b230-7c257e9523d8\n",
      "Link to Azure Machine Learning Portal: https://ml.azure.com/experiments/fasttext_pipeline/runs/42946bf0-b870-4af9-b230-7c257e9523d8?wsid=/subscriptions/4f455bd0-f95a-4b7d-8d08-078611508e0b/resourcegroups/fundamental/workspaces/fundamental3\n"
     ]
    }
   ],
   "source": [
    "# run the pipeline\n",
    "experiment_name = 'fasttext_pipeline'\n",
    "# regenerate_outputs indicates whether to force regeneration of all step outputs and disallow data reuse for this run\n",
    "# if regenerate_outputs is False, this run may reuse results from previous runs and subsequent runs may reuse the results of this run\n",
    "pipeline_run = pipeline.submit(experiment_name=experiment_name, regenerate_outputs=True)\n",
    "# wait_for_completion() visualize the execution process of the pipeline\n",
    "# you could also view this process on Azure Machine Learning Portal\n",
    "# pipeline_run.wait_for_completion()"
   ]
  },
  {
   "cell_type": "code",
   "execution_count": 10,
   "outputs": [],
   "source": [],
   "metadata": {
    "collapsed": false,
    "pycharm": {
     "name": "#%%\n"
    }
   }
  }
 ],
 "metadata": {
  "kernelspec": {
   "name": "tmp2",
   "language": "python",
   "display_name": "tmp2"
  },
  "language_info": {
   "codemirror_mode": {
    "name": "ipython",
    "version": 3
   },
   "file_extension": ".py",
   "mimetype": "text/x-python",
   "name": "python",
   "nbconvert_exporter": "python",
   "pygments_lexer": "ipython3",
   "version": "3.6.9"
  },
  "widgets": {
   "application/vnd.jupyter.widget-state+json": {
    "state": {},
    "version_major": 2,
    "version_minor": 0
   }
  }
 },
 "nbformat": 4,
 "nbformat_minor": 4
}