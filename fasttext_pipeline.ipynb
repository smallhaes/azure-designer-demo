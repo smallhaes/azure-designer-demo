{
 "cells": [
  {
   "cell_type": "code",
   "execution_count": 1,
   "metadata": {},
   "outputs": [],
   "source": [
    "from azureml.core import Workspace\n",
    "from azureml.core.authentication import InteractiveLoginAuthentication\n",
    "from azureml.core.compute import AmlCompute, ComputeTarget\n",
    "from azureml.pipeline.wrapper import Module, dsl"
   ]
  },
  {
   "cell_type": "markdown",
   "metadata": {},
   "source": [
    "### Prepare your workspace"
   ]
  },
  {
   "cell_type": "code",
   "execution_count": 2,
   "metadata": {
    "tags": []
   },
   "outputs": [
    {
     "name": "stdout",
     "output_type": "stream",
     "text": [
      "fundamental3\n",
      "fundamental\n",
      "eastasia\n",
      "4f455bd0-f95a-4b7d-8d08-078611508e0b\n",
      "dict_keys(['myaks2', 'aml-compute', 'my-compute', 'compute-deploy'])\n"
     ]
    }
   ],
   "source": [
    "tenant_id = \"72f988bf-86f1-41af-91ab-2d7cd011db47\"\n",
    "InteractiveLoginAuthentication(tenant_id=tenant_id)\n",
    "workspace = Workspace.from_config('config.json')\n",
    "print(workspace.name, workspace.resource_group, workspace.location, workspace.subscription_id,\n",
    "      workspace.compute_targets.keys(), sep='\\n')"
   ]
  },
  {
   "cell_type": "markdown",
   "metadata": {},
   "source": [
    "### Choose a compute target"
   ]
  },
  {
   "cell_type": "code",
   "execution_count": 3,
   "metadata": {
    "tags": []
   },
   "outputs": [
    {
     "name": "stdout",
     "output_type": "stream",
     "text": [
      "Found existing compute target: aml-compute\n"
     ]
    }
   ],
   "source": [
    "aml_compute_name = 'aml-compute'\n",
    "try:\n",
    "    aml_compute = AmlCompute(workspace, aml_compute_name)\n",
    "    print(\"Found existing compute target: {}\".format(aml_compute_name))\n",
    "except:\n",
    "    print(\"Creating new compute target: {}\".format(aml_compute_name))\n",
    "\n",
    "    provisioning_config = AmlCompute.provisioning_configuration(vm_size=\"STANDARD_D2_V2\", min_nodes=1, max_nodes=4)\n",
    "    aml_compute = ComputeTarget.create(workspace, aml_compute_name, provisioning_config)\n",
    "    aml_compute.wait_for_completion(show_output=True, min_node_count=None, timeout_in_minutes=20)"
   ]
  },
  {
   "cell_type": "markdown",
   "metadata": {},
   "source": [
    "### Load data"
   ]
  },
  {
   "cell_type": "code",
   "execution_count": 4,
   "metadata": {
    "scrolled": true,
    "tags": []
   },
   "outputs": [],
   "source": [
    "dataset_name = \"THUCNews\"\n",
    "dataset = workspace.datasets[dataset_name]"
   ]
  },
  {
   "cell_type": "markdown",
   "metadata": {},
   "source": [
    "### Load module"
   ]
  },
  {
   "cell_type": "code",
   "execution_count": 5,
   "metadata": {
    "tags": []
   },
   "outputs": [],
   "source": [
    "split_data_txt_module_func = Module.from_yaml(workspace, 'split_data_txt/split_data_txt.spec.yaml')\n",
    "fasttext_train_module_func = Module.from_yaml(workspace, 'fasttext_train/fasttext_train.spec.yaml')\n",
    "fasttext_evaluation_module_func = Module.from_yaml(workspace, 'fasttext_evaluation/fasttext_evaluation.spec.yaml')\n",
    "compare_two_models_module_func = Module.from_yaml(workspace, 'compare_two_models/compare_two_models.spec.yaml')"
   ]
  },
  {
   "cell_type": "markdown",
   "metadata": {},
   "source": [
    "### Construct the pipeline"
   ]
  },
  {
   "cell_type": "code",
   "execution_count": 6,
   "metadata": {
    "pycharm": {
     "name": "#%%\n"
    }
   },
   "outputs": [],
   "source": [
    "@dsl.pipeline(name='training_pipeline', description='A sub pipeline including data processing/train/evaluation',\n",
    "              default_compute_target=aml_compute_name)\n",
    "def training_pipeline(epochs):\n",
    "    split_data_txt = split_data_txt_module_func(\n",
    "        input_dir=dataset,\n",
    "        training_data_ratio=0.1,\n",
    "        validation_data_ratio=0.2\n",
    "    )\n",
    "    fasttext_train = fasttext_train_module_func(\n",
    "        training_data_dir=split_data_txt.outputs.training_data_output,\n",
    "        validation_data_dir=split_data_txt.outputs.validation_data_output,\n",
    "        epochs=epochs\n",
    "    )\n",
    "\n",
    "    fasttext_evaluation = fasttext_evaluation_module_func(\n",
    "        trained_model_dir=fasttext_train.outputs.trained_model_dir,\n",
    "        test_data_dir=split_data_txt.outputs.test_data_output\n",
    "    )\n",
    "\n",
    "    return {**fasttext_evaluation.outputs, **fasttext_train.outputs}"
   ]
  },
  {
   "cell_type": "code",
   "execution_count": 7,
   "metadata": {
    "pycharm": {
     "name": "#%%\n"
    }
   },
   "outputs": [],
   "source": [
    "@dsl.pipeline(name='dummy_automl_pipeline',\n",
    "              description='A dummy pipeline that trains two models and output the better one',\n",
    "              default_compute_target=aml_compute_name)\n",
    "def dummy_automl_pipeline():\n",
    "    train_and_evalute_model1 = training_pipeline(epochs=5)\n",
    "    train_and_evalute_model2 = training_pipeline(epochs=10)\n",
    "    compare = compare_two_models_module_func(\n",
    "        first_trained_model=train_and_evalute_model1.outputs.trained_model_dir,\n",
    "        first_trained_result=train_and_evalute_model1.outputs.model_testing_result,\n",
    "        second_trained_model=train_and_evalute_model2.outputs.trained_model_dir,\n",
    "        second_trained_result=train_and_evalute_model2.outputs.model_testing_result\n",
    "    )\n",
    "    return {**compare.outputs}\n"
   ]
  },
  {
   "cell_type": "code",
   "execution_count": 8,
   "metadata": {},
   "outputs": [],
   "source": [
    "# pipeline\n",
    "pipeline = dummy_automl_pipeline()\n",
    "# pipeline.save(experiment_name=experiment_name)"
   ]
  },
  {
   "cell_type": "code",
   "execution_count": 9,
   "metadata": {},
   "outputs": [
    {
     "data": {
      "application/javascript": [
       "try {\n",
       "    require.undef(\"validate_widget\")\n",
       "\n",
       "    define('validate_widget', [\"@jupyter-widgets/base\"], function(widgets) {\n",
       "        var ValidateView = widgets.DOMWidgetView.extend({\n",
       "            render () {\n",
       "                window.widget_self = this\n",
       "                var visualize_id = this.model.get('visualize_id')\n",
       "\n",
       "                if (!window._renderLock) {\n",
       "                    window._renderLock = {}\n",
       "                }\n",
       "                if (window._renderLock[visualize_id]) {\n",
       "                    return\n",
       "                }\n",
       "                window._renderLock[visualize_id] = \"widget\"\n",
       "                console.log(\"load as widget\", Date.now())\n",
       "\n",
       "                var lib_url = this.model.get('lib_url')\n",
       "                var graph_json = JSON.parse(this.model.get('graph_json'))\n",
       "                var env_json = JSON.parse(this.model.get('env_json'))\n",
       "                var container_id = this.model.get('container_id')\n",
       "\n",
       "                window.render_container_id = container_id\n",
       "                window.graph_json = graph_json\n",
       "                window.graph_json_to_compare = undefined\n",
       "                window.env_json = env_json\n",
       "                window.before_script = performance.now()\n",
       "\n",
       "                var container = document.createElement('div')\n",
       "                container.id = container_id\n",
       "                this.el.appendChild(container)\n",
       "\n",
       "                var style = document.createElement('style')\n",
       "                style.innerHTML = [\n",
       "                    \"#\", container_id, \" svg.react-dag-editor-svg-container { height: 800px; }\",\n",
       "                    \".cell-output-ipywidget-background { background: transparent !important }\"\n",
       "                ].join('')\n",
       "                this.el.appendChild(style)\n",
       "\n",
       "                this.model.on('msg:custom', dispatchMessage, this);\n",
       "\n",
       "                if (!window.__event_hub) {\n",
       "                    window.__event_hub = {}\n",
       "                }\n",
       "                if (!window.__event_hub[container_id]) {\n",
       "                    window.__event_hub[container_id] = {}\n",
       "                }\n",
       "\n",
       "                if (!window.__send_event) {\n",
       "                    window.__send_event = {}\n",
       "                }\n",
       "                window.__send_event[container_id] = sendMessage.bind(this)\n",
       "\n",
       "                function sendMessage(message, uid, content) {\n",
       "                    return new Promise((resolve) => {\n",
       "                        this.model.send({\n",
       "                            message: `${message}:request`,\n",
       "                            body: {\n",
       "                                uid,\n",
       "                                content\n",
       "                            }\n",
       "                        })\n",
       "    \n",
       "                        var respMessageKey = `${message}:response`\n",
       "                        if (!window.__event_hub[container_id][respMessageKey]) {\n",
       "                            window.__event_hub[container_id][respMessageKey] = []\n",
       "                        }\n",
       "                        window.__event_hub[container_id][respMessageKey].push(callback)\n",
       "    \n",
       "                        function callback (response) {\n",
       "                            if (response.uid !== uid) {\n",
       "                                return\n",
       "                            }\n",
       "\n",
       "                            var idx = window.__event_hub[container_id][respMessageKey].indexOf(callback) \n",
       "                            window.__event_hub[container_id][respMessageKey].splice(idx, 1)\n",
       "                            \n",
       "                            resolve(response)\n",
       "                        }\n",
       "                    })\n",
       "                }\n",
       "\n",
       "                function dispatchMessage (rawMessage) {\n",
       "                    var message = rawMessage.message\n",
       "                    var body = rawMessage.body\n",
       "\n",
       "                    if (!window.__event_hub[container_id][message]) {\n",
       "                        window.__event_hub[container_id][message] = []\n",
       "                    }\n",
       "                    var listeners = window.__event_hub[container_id][message]\n",
       "\n",
       "                    listeners.forEach(cb => {\n",
       "                        try {\n",
       "                            cb(body)\n",
       "                        } catch (e) {\n",
       "                            console.error(\"Unexpected error in listener\", e)\n",
       "                        }\n",
       "                    })\n",
       "\n",
       "                    console.log(body)\n",
       "                }\n",
       "\n",
       "                var script = document.createElement('script')\n",
       "                script.src = lib_url\n",
       "                this.el.appendChild(script)\n",
       "            }\n",
       "        });\n",
       "\n",
       "        return {\n",
       "            ValidateView\n",
       "        }\n",
       "    })\n",
       "} catch (e) {\n",
       "    console.log(\"create validation widget failed\", e)\n",
       "}"
      ],
      "text/plain": [
       "<IPython.core.display.Javascript object>"
      ]
     },
     "metadata": {},
     "output_type": "display_data"
    },
    {
     "data": {
      "application/vnd.jupyter.widget-view+json": {
       "model_id": "341e4e063fe54e798f45b039ba48feba",
       "version_major": 2,
       "version_minor": 0
      },
      "text/plain": [
       "ValidateView(container_id='container_id_a34c9fbd-a145-4a28-8b70-57a613bfc0de_widget', env_json='{\"subscription…"
      ]
     },
     "metadata": {},
     "output_type": "display_data"
    },
    {
     "data": {
      "text/html": [
       "\n",
       "        <style>\n",
       "        #container_id_a34c9fbd-a145-4a28-8b70-57a613bfc0de_script svg.react-dag-editor-svg-container {\n",
       "            height: 800px;\n",
       "        }\n",
       "        </style>\n",
       "        <div id=\"container_id_a34c9fbd-a145-4a28-8b70-57a613bfc0de_script\"></div>\n",
       "        <script>\n",
       "            (function () {\n",
       "                if (!window._renderLock) {\n",
       "                    window._renderLock = {}\n",
       "                }\n",
       "                if (window._renderLock[\"a34c9fbd-a145-4a28-8b70-57a613bfc0de\"]) {\n",
       "                    return\n",
       "                }\n",
       "                window._renderLock[\"a34c9fbd-a145-4a28-8b70-57a613bfc0de\"] = \"script\"\n",
       "                console.log(\"load as script\", Date.now())\n",
       "                window.render_container_id=\"container_id_a34c9fbd-a145-4a28-8b70-57a613bfc0de_script\";\n",
       "                window.graph_json={\"pipeline\": {\"name\": [\"dummy_automl_pipeline\"], \"data_references\": {\"THUCNews\": {\"dataset_id\": \"4c20a384-09f9-4cb7-a9a5-e7fb3bf75e75\"}}, \"steps\": {\"1e2224f4\": {\"inputs\": {\"Input_dir\": {\"source\": \"THUCNews\"}}, \"outputs\": {\"Training_data_output\": {\"destination\": \"a4a45a4e-331f-434b-bee1-4c1d587c2388_Training_data_output\"}, \"Validation_data_output\": {\"destination\": \"a4a45a4e-331f-434b-bee1-4c1d587c2388_Validation_data_output\"}, \"Test_data_output\": {\"destination\": \"a4a45a4e-331f-434b-bee1-4c1d587c2388_Test_data_output\"}}, \"module\": {\"id\": \"676efaa1-1dfe-4a7d-b38c-b8284f2df751\", \"version\": \"0.0.42\"}, \"parameters\": {\"training_data_ratio\": 0.1, \"validation_data_ratio\": 0.2, \"random_split\": \"False\", \"seed\": \"0\"}, \"validate\": {\"error\": [], \"module_id\": \"676efaa1-1dfe-4a7d-b38c-b8284f2df751\", \"namespace\": \"fundamental3\", \"module_name\": \"Split Data Txt\", \"module_version\": \"0.0.42\"}}, \"da887a47\": {\"inputs\": {\"Training_data_dir\": {\"source\": \"a4a45a4e-331f-434b-bee1-4c1d587c2388_Training_data_output\"}, \"Validation_data_dir\": {\"source\": \"a4a45a4e-331f-434b-bee1-4c1d587c2388_Validation_data_output\"}}, \"outputs\": {\"Trained_model_dir\": {\"destination\": \"61627b7f-f24d-4e02-859b-4d803b057e29_Trained_model_dir\"}}, \"module\": {\"id\": \"cf723630-3fe9-4ca4-8460-221edcb00441\", \"version\": \"0.0.40\"}, \"parameters\": {\"epochs\": 5, \"batch_size\": \"64\", \"learning_rate\": \"0.0005\", \"embedding_dim\": \"128\"}, \"validate\": {\"error\": [], \"module_id\": \"cf723630-3fe9-4ca4-8460-221edcb00441\", \"namespace\": \"fundamental3\", \"module_name\": \"FastText Train\", \"module_version\": \"0.0.40\"}}, \"ae785e32\": {\"inputs\": {\"Trained_model_dir\": {\"source\": \"61627b7f-f24d-4e02-859b-4d803b057e29_Trained_model_dir\"}, \"Test_data_dir\": {\"source\": \"a4a45a4e-331f-434b-bee1-4c1d587c2388_Test_data_output\"}}, \"outputs\": {\"Model_testing_result\": {\"destination\": \"f575a5b6-2b27-4e7f-bc0c-07b7a12c83d8_Model_testing_result\"}}, \"module\": {\"id\": \"f1f3744f-e27d-4dac-b8a3-9bbadfff3529\", \"version\": \"0.0.7\"}, \"parameters\": {}, \"validate\": {\"error\": [], \"module_id\": \"f1f3744f-e27d-4dac-b8a3-9bbadfff3529\", \"namespace\": \"fundamental3\", \"module_name\": \"FastText Evaluation\", \"module_version\": \"0.0.7\"}}, \"3210f8f3\": {\"inputs\": {\"Input_dir\": {\"source\": \"THUCNews\"}}, \"outputs\": {\"Training_data_output\": {\"destination\": \"c5037daf-bb67-43e4-82fc-2a4b34898fbd_Training_data_output\"}, \"Validation_data_output\": {\"destination\": \"c5037daf-bb67-43e4-82fc-2a4b34898fbd_Validation_data_output\"}, \"Test_data_output\": {\"destination\": \"c5037daf-bb67-43e4-82fc-2a4b34898fbd_Test_data_output\"}}, \"module\": {\"id\": \"676efaa1-1dfe-4a7d-b38c-b8284f2df751\", \"version\": \"0.0.42\"}, \"parameters\": {\"training_data_ratio\": 0.1, \"validation_data_ratio\": 0.2, \"random_split\": \"False\", \"seed\": \"0\"}, \"validate\": {\"error\": [], \"module_id\": \"676efaa1-1dfe-4a7d-b38c-b8284f2df751\", \"namespace\": \"fundamental3\", \"module_name\": \"Split Data Txt\", \"module_version\": \"0.0.42\"}}, \"4939615e\": {\"inputs\": {\"Training_data_dir\": {\"source\": \"c5037daf-bb67-43e4-82fc-2a4b34898fbd_Training_data_output\"}, \"Validation_data_dir\": {\"source\": \"c5037daf-bb67-43e4-82fc-2a4b34898fbd_Validation_data_output\"}}, \"outputs\": {\"Trained_model_dir\": {\"destination\": \"58c494d5-6a37-4d45-a698-715eb51c5f87_Trained_model_dir\"}}, \"module\": {\"id\": \"cf723630-3fe9-4ca4-8460-221edcb00441\", \"version\": \"0.0.40\"}, \"parameters\": {\"epochs\": 10, \"batch_size\": \"64\", \"learning_rate\": \"0.0005\", \"embedding_dim\": \"128\"}, \"validate\": {\"error\": [], \"module_id\": \"cf723630-3fe9-4ca4-8460-221edcb00441\", \"namespace\": \"fundamental3\", \"module_name\": \"FastText Train\", \"module_version\": \"0.0.40\"}}, \"12c8c5b7\": {\"inputs\": {\"Trained_model_dir\": {\"source\": \"58c494d5-6a37-4d45-a698-715eb51c5f87_Trained_model_dir\"}, \"Test_data_dir\": {\"source\": \"c5037daf-bb67-43e4-82fc-2a4b34898fbd_Test_data_output\"}}, \"outputs\": {\"Model_testing_result\": {\"destination\": \"f0f61e0a-5b9c-4a29-a58c-4bfabc32a1ef_Model_testing_result\"}}, \"module\": {\"id\": \"f1f3744f-e27d-4dac-b8a3-9bbadfff3529\", \"version\": \"0.0.7\"}, \"parameters\": {}, \"validate\": {\"error\": [], \"module_id\": \"f1f3744f-e27d-4dac-b8a3-9bbadfff3529\", \"namespace\": \"fundamental3\", \"module_name\": \"FastText Evaluation\", \"module_version\": \"0.0.7\"}}, \"1578670f\": {\"inputs\": {\"First_trained_model\": {\"source\": \"61627b7f-f24d-4e02-859b-4d803b057e29_Trained_model_dir\"}, \"First_trained_result\": {\"source\": \"f575a5b6-2b27-4e7f-bc0c-07b7a12c83d8_Model_testing_result\"}, \"Second_trained_model\": {\"source\": \"58c494d5-6a37-4d45-a698-715eb51c5f87_Trained_model_dir\"}, \"Second_trained_result\": {\"source\": \"f0f61e0a-5b9c-4a29-a58c-4bfabc32a1ef_Model_testing_result\"}}, \"outputs\": {\"The_better_model\": {\"destination\": \"98977909-156f-4dc2-aabf-4e9da8f232c3_The_better_model\"}}, \"module\": {\"id\": \"cec147b2-bf4d-4bc4-9ef9-04e54f28562c\", \"version\": \"0.0.18\"}, \"parameters\": {}, \"validate\": {\"error\": [], \"module_id\": \"cec147b2-bf4d-4bc4-9ef9-04e54f28562c\", \"namespace\": \"fundamental3\", \"module_name\": \"Compare Two Models\", \"module_version\": \"0.0.18\"}}}}, \"modules\": [{\"module_id\": \"676efaa1-1dfe-4a7d-b38c-b8284f2df751\", \"version\": \"0.0.42\", \"name\": \"Split Data Txt\", \"namespace\": \"fundamental3\", \"structured_interface\": {\"inputs\": [{\"name\": \"Input_dir\", \"label\": \"Input dir\", \"description\": null, \"data_type_ids_list\": [\"AnyDirectory\"]}], \"outputs\": [{\"name\": \"Training_data_output\", \"label\": \"Training data output\", \"description\": null, \"data_type_id\": \"AnyDirectory\"}, {\"name\": \"Validation_data_output\", \"label\": \"Validation data output\", \"description\": null, \"data_type_id\": \"AnyDirectory\"}, {\"name\": \"Test_data_output\", \"label\": \"Test data output\", \"description\": null, \"data_type_id\": \"AnyDirectory\"}]}}, {\"module_id\": \"cf723630-3fe9-4ca4-8460-221edcb00441\", \"version\": \"0.0.40\", \"name\": \"FastText Train\", \"namespace\": \"fundamental3\", \"structured_interface\": {\"inputs\": [{\"name\": \"Training_data_dir\", \"label\": \"Training data dir\", \"description\": null, \"data_type_ids_list\": [\"AnyDirectory\"]}, {\"name\": \"Validation_data_dir\", \"label\": \"Validation data dir\", \"description\": null, \"data_type_ids_list\": [\"AnyDirectory\"]}], \"outputs\": [{\"name\": \"Trained_model_dir\", \"label\": \"Trained model dir\", \"description\": null, \"data_type_id\": \"ModelDirectory\"}]}}, {\"module_id\": \"f1f3744f-e27d-4dac-b8a3-9bbadfff3529\", \"version\": \"0.0.7\", \"name\": \"FastText Evaluation\", \"namespace\": \"fundamental3\", \"structured_interface\": {\"inputs\": [{\"name\": \"Trained_model_dir\", \"label\": \"Trained model dir\", \"description\": null, \"data_type_ids_list\": [\"AnyDirectory\"]}, {\"name\": \"Test_data_dir\", \"label\": \"Test data dir\", \"description\": null, \"data_type_ids_list\": [\"AnyDirectory\"]}], \"outputs\": [{\"name\": \"Model_testing_result\", \"label\": \"Model testing result\", \"description\": null, \"data_type_id\": \"AnyDirectory\"}]}}, {\"module_id\": \"cec147b2-bf4d-4bc4-9ef9-04e54f28562c\", \"version\": \"0.0.18\", \"name\": \"Compare Two Models\", \"namespace\": \"fundamental3\", \"structured_interface\": {\"inputs\": [{\"name\": \"First_trained_model\", \"label\": \"First trained model\", \"description\": null, \"data_type_ids_list\": [\"AnyDirectory\"]}, {\"name\": \"First_trained_result\", \"label\": \"First trained result\", \"description\": null, \"data_type_ids_list\": [\"AnyDirectory\"]}, {\"name\": \"Second_trained_model\", \"label\": \"Second trained model\", \"description\": null, \"data_type_ids_list\": [\"AnyDirectory\"]}, {\"name\": \"Second_trained_result\", \"label\": \"Second trained result\", \"description\": null, \"data_type_ids_list\": [\"AnyDirectory\"]}], \"outputs\": [{\"name\": \"The_better_model\", \"label\": \"The better model\", \"description\": null, \"data_type_id\": \"AnyDirectory\"}]}}], \"datasources\": [{\"name\": \"THUCNews\", \"description\": \"THUCNews dataset is generated by filtering and filtering historical data of Sina News RSS subscription channel from 2005 to 2011\", \"version\": 1, \"tags\": {}, \"registered_id\": \"4c20a384-09f9-4cb7-a9a5-e7fb3bf75e75\", \"saved_id\": \"f2d71ae3-678a-4673-9485-56c56e2e1389\", \"nodeId\": \"6ae95b53-2538-3722-8726-703e8be3c50d\"}], \"subGraphInfo\": [{\"name\": \"dummy_automl_pipeline\", \"description\": \"A dummy pipeline that trains two models and output the better one\", \"default_compute_target\": {\"name\": \"aml-compute\"}, \"default_data_store\": {\"data_store_name\": \"workspaceblobstore\"}, \"id\": \"bd404775-74ba-49be-96cc-85cdb0cea77e\", \"pipeline_definition_id\": \"96054de9-c753-4fca-b17e-1683acae0655\", \"sub_graph_parameter_assignment\": [], \"sub_graph_data_path_parameter_assignment\": [], \"sub_graph_default_compute_target_nodes\": [\"1578670f\"], \"sub_graph_default_data_store_nodes\": [\"1578670f\"], \"inputs\": [], \"outputs\": [{\"name\": \"the_better_model\", \"internal\": [{\"node_id\": \"1578670f\", \"port_name\": \"The_better_model\"}], \"external\": []}]}, {\"name\": \"training_pipeline\", \"description\": \"A sub pipeline including data processing/train/evaluation\", \"default_compute_target\": {\"name\": \"aml-compute\"}, \"default_data_store\": {\"data_store_name\": \"workspaceblobstore\"}, \"id\": \"77c90a4c-aa39-4d97-897c-6d202c19b2ac\", \"parent_graph_id\": \"bd404775-74ba-49be-96cc-85cdb0cea77e\", \"pipeline_definition_id\": \"fbc943e6-6d4b-4f90-a048-2aeab2f14225\", \"sub_graph_parameter_assignment\": [{\"parameter\": {\"name\": \"epochs\"}, \"parameter_assignments\": [{\"node_id\": \"da887a47\", \"parameter_name\": \"Epochs\"}]}], \"sub_graph_data_path_parameter_assignment\": [], \"sub_graph_default_compute_target_nodes\": [\"1e2224f4\", \"da887a47\", \"ae785e32\"], \"sub_graph_default_data_store_nodes\": [], \"inputs\": [], \"outputs\": [{\"name\": \"model_testing_result\", \"internal\": [{\"node_id\": \"ae785e32\", \"port_name\": \"Model_testing_result\"}], \"external\": [{\"node_id\": \"1578670f\", \"port_name\": \"First_trained_result\"}]}, {\"name\": \"trained_model_dir\", \"internal\": [{\"node_id\": \"da887a47\", \"port_name\": \"Trained_model_dir\"}], \"external\": [{\"node_id\": \"ae785e32\", \"port_name\": \"Trained_model_dir\"}, {\"node_id\": \"1578670f\", \"port_name\": \"First_trained_model\"}]}]}, {\"name\": \"training_pipeline\", \"description\": \"A sub pipeline including data processing/train/evaluation\", \"default_compute_target\": {\"name\": \"aml-compute\"}, \"default_data_store\": {\"data_store_name\": \"workspaceblobstore\"}, \"id\": \"aca6cc1a-2ae3-41ea-a598-ec03a1184567\", \"parent_graph_id\": \"bd404775-74ba-49be-96cc-85cdb0cea77e\", \"pipeline_definition_id\": \"fbc943e6-6d4b-4f90-a048-2aeab2f14225\", \"sub_graph_parameter_assignment\": [{\"parameter\": {\"name\": \"epochs\"}, \"parameter_assignments\": [{\"node_id\": \"4939615e\", \"parameter_name\": \"Epochs\"}]}], \"sub_graph_data_path_parameter_assignment\": [], \"sub_graph_default_compute_target_nodes\": [\"3210f8f3\", \"4939615e\", \"12c8c5b7\"], \"sub_graph_default_data_store_nodes\": [], \"inputs\": [], \"outputs\": [{\"name\": \"model_testing_result\", \"internal\": [{\"node_id\": \"12c8c5b7\", \"port_name\": \"Model_testing_result\"}], \"external\": [{\"node_id\": \"1578670f\", \"port_name\": \"Second_trained_result\"}]}, {\"name\": \"trained_model_dir\", \"internal\": [{\"node_id\": \"4939615e\", \"port_name\": \"Trained_model_dir\"}], \"external\": [{\"node_id\": \"12c8c5b7\", \"port_name\": \"Trained_model_dir\"}, {\"node_id\": \"1578670f\", \"port_name\": \"Second_trained_model\"}]}]}], \"nodeIdToSubGraphIdMapping\": {\"1e2224f4\": \"77c90a4c-aa39-4d97-897c-6d202c19b2ac\", \"da887a47\": \"77c90a4c-aa39-4d97-897c-6d202c19b2ac\", \"ae785e32\": \"77c90a4c-aa39-4d97-897c-6d202c19b2ac\", \"3210f8f3\": \"aca6cc1a-2ae3-41ea-a598-ec03a1184567\", \"4939615e\": \"aca6cc1a-2ae3-41ea-a598-ec03a1184567\", \"12c8c5b7\": \"aca6cc1a-2ae3-41ea-a598-ec03a1184567\", \"1578670f\": \"bd404775-74ba-49be-96cc-85cdb0cea77e\"}, \"subPipelineDefinition\": [{\"name\": \"dummy_automl_pipeline\", \"description\": \"A dummy pipeline that trains two models and output the better one\", \"default_compute_target\": {\"name\": \"aml-compute\"}, \"default_data_store\": {\"data_store_name\": \"workspaceblobstore\"}, \"pipeline_function_name\": \"dummy_automl_pipeline\", \"id\": \"96054de9-c753-4fca-b17e-1683acae0655\", \"from_module_name\": \"__main__\", \"parameter_list\": []}, {\"name\": \"training_pipeline\", \"description\": \"A sub pipeline including data processing/train/evaluation\", \"default_compute_target\": {\"name\": \"aml-compute\"}, \"default_data_store\": {\"data_store_name\": \"workspaceblobstore\"}, \"pipeline_function_name\": \"training_pipeline\", \"id\": \"fbc943e6-6d4b-4f90-a048-2aeab2f14225\", \"from_module_name\": \"__main__\", \"parameter_list\": [{\"key\": \"epochs\"}]}]};\n",
       "                window.graph_json_to_compare=None;\n",
       "                window.env_json={\"subscription_id\": \"4f455bd0-f95a-4b7d-8d08-078611508e0b\"};\n",
       "                window.before_script = performance.now();\n",
       "                var script = document.createElement('script')\n",
       "                script.src = \"https://yucongj.azureedge.net/libs/prod/0.0.7/index.js\"\n",
       "                document.getElementById(\"container_id_a34c9fbd-a145-4a28-8b70-57a613bfc0de_script\").appendChild(script)\n",
       "            })()\n",
       "        </script>\n",
       "        "
      ],
      "text/plain": [
       "<IPython.core.display.HTML object>"
      ]
     },
     "metadata": {},
     "output_type": "display_data"
    },
    {
     "data": {
      "text/plain": [
       "{'result': 'validation passed', 'errors': []}"
      ]
     },
     "execution_count": 9,
     "metadata": {},
     "output_type": "execute_result"
    }
   ],
   "source": [
    "# validate\n",
    "pipeline.validate()"
   ]
  },
  {
   "cell_type": "code",
   "execution_count": 10,
   "metadata": {
    "pycharm": {
     "name": "#%%\n"
    },
    "scrolled": false,
    "tags": [
     "outputPrepend"
    ]
   },
   "outputs": [
    {
     "name": "stdout",
     "output_type": "stream",
     "text": [
      "Submitted PipelineRun ee7d355b-48e2-46a1-a803-f878ff7a549f\n",
      "Link to Azure Machine Learning Portal: https://ml.azure.com/experiments/fasttext_training_process/runs/ee7d355b-48e2-46a1-a803-f878ff7a549f?wsid=/subscriptions/4f455bd0-f95a-4b7d-8d08-078611508e0b/resourcegroups/fundamental/workspaces/fundamental3\n"
     ]
    }
   ],
   "source": [
    "# pipeline_run\n",
    "experiment_name = 'fasttext_training_process'\n",
    "pipeline_run = pipeline.submit(experiment_name=experiment_name, regenerate_outputs=False)\n",
    "# pipeline_run.wait_for_completion()"
   ]
  },
  {
   "cell_type": "code",
   "execution_count": null,
   "metadata": {
    "pycharm": {
     "name": "#%%\n"
    }
   },
   "outputs": [],
   "source": []
  }
 ],
 "metadata": {
  "kernelspec": {
   "display_name": "Python 3.6 - AzureML",
   "language": "python",
   "name": "python3-azureml"
  },
  "language_info": {
   "codemirror_mode": {
    "name": "ipython",
    "version": 3
   },
   "file_extension": ".py",
   "mimetype": "text/x-python",
   "name": "python",
   "nbconvert_exporter": "python",
   "pygments_lexer": "ipython3",
   "version": "3.6.9"
  },
  "widgets": {
   "application/vnd.jupyter.widget-state+json": {
    "state": {},
    "version_major": 2,
    "version_minor": 0
   }
  }
 },
 "nbformat": 4,
 "nbformat_minor": 4
}
