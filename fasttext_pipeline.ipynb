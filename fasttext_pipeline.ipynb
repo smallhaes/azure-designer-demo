{
 "cells": [
  {
   "cell_type": "markdown",
   "metadata": {
    "pycharm": {
     "name": "#%% md\n"
    }
   },
   "source": [
    "Copyright (c) Microsoft Corporation. All rights reserved.  \n",
    "Licensed under the MIT License."
   ]
  },
  {
   "cell_type": "markdown",
   "metadata": {},
   "source": [
    "# Using Customized Modules to Create an Azure Machine Learning Pipeline\n",
    "\n",
    "In this notebook, we will demonstrate how to use customized modules to create an Azure Machine Learning Pipeline which is associated with the [fastText](https://fasttext.cc/) algorithm. Customized modules are created with the extension azure-cli-ml of Azure CLI. \n",
    "\n",
    "If you don't have the input dataset, you could prepare your it with the instructions in ```prepare_data.ipynb```. \n",
    "\n",
    "The outline of this notebook is as follows:\n",
    "\n",
    "- Upload the dataset onto a blob container and register it to the workspace.\n",
    "- Register an anonymous module from yaml file to workspace.\n",
    "- Construct the pipeline.\n",
    "- Visualize and run the pipeline.\n",
    "\n",
    "## Prerequisites\n",
    "If you are using an Azure Machine Learning Notebook VM, you are all set. Otherwise, make sure you go through the configuration Notebook located at https://github.com/Azure/MachineLearningNotebooks first. This sets you up with a working config file that has information on your workspace, subscription id, etc."
   ]
  },
  {
   "cell_type": "code",
   "execution_count": 1,
   "metadata": {},
   "outputs": [],
   "source": [
    "from azureml.core import Dataset, Datastore, Workspace\n",
    "from azureml.core.authentication import InteractiveLoginAuthentication\n",
    "from azureml.core.compute import AmlCompute, ComputeTarget\n",
    "from azureml.data.datapath import DataPath\n",
    "from azureml.pipeline.wrapper import Module, dsl"
   ]
  },
  {
   "cell_type": "markdown",
   "metadata": {},
   "source": [
    "### Connect to workspace\n",
    "Create a workspace object from the existing workspace. Workspace.from_config() reads the file config.json and loads the details into an object named workspace."
   ]
  },
  {
   "cell_type": "code",
   "execution_count": 2,
   "metadata": {
    "tags": []
   },
   "outputs": [
    {
     "name": "stdout",
     "output_type": "stream",
     "text": [
      "DesignerDRI_EASTUS\n",
      "DesignerDRI\n",
      "eastus\n",
      "74eccef0-4b8d-4f83-b5f9-fa100d155b22\n",
      "dict_keys(['aks-dev', 'aks-dev2', 'attached-aks', 'default', 'compute', 'cpu-cluster', 'aml-compute'])\n"
     ]
    }
   ],
   "source": [
    "workspace = Workspace.from_config('config.json')\n",
    "print(workspace.name, workspace.resource_group, workspace.location, workspace.subscription_id,\n",
    "      workspace.compute_targets.keys(), sep='\\n')"
   ]
  },
  {
   "cell_type": "markdown",
   "metadata": {},
   "source": [
    "### Create or Attach existing compute resource\n",
    "By using Azure Machine Learning Compute, a managed service, data scientists can train machine learning models on clusters of Azure virtual machines. Examples include VMs with GPU support. In this tutorial, you create Azure Machine Learning Compute as your training environment. The code below creates the compute clusters for you if they don't already exist in your workspace.\n",
    "\n",
    "**Creation of compute takes approximately 5 minutes. If the AmlCompute with that name is already in your workspace the code will skip the creation process.**\n"
   ]
  },
  {
   "cell_type": "code",
   "execution_count": 3,
   "metadata": {
    "tags": []
   },
   "outputs": [
    {
     "name": "stdout",
     "output_type": "stream",
     "text": [
      "Found existing compute target: aml-compute\n"
     ]
    }
   ],
   "source": [
    "aml_compute_name = 'aml-compute'\n",
    "if aml_compute_name in workspace.compute_targets:\n",
    "    aml_compute = AmlCompute(workspace, aml_compute_name)\n",
    "    print(\"Found existing compute target: {}\".format(aml_compute_name))\n",
    "else:\n",
    "    print(\"Creating new compute target: {}\".format(aml_compute_name))\n",
    "    provisioning_config = AmlCompute.provisioning_configuration(vm_size=\"STANDARD_D2_V2\", min_nodes=1, max_nodes=4)\n",
    "    aml_compute = ComputeTarget.create(workspace, aml_compute_name, provisioning_config)\n",
    "    aml_compute.wait_for_completion(show_output=True, min_node_count=None, timeout_in_minutes=20)"
   ]
  },
  {
   "cell_type": "markdown",
   "metadata": {},
   "source": [
    "### Upload the dataset onto a blob container and register it to the workspace."
   ]
  },
  {
   "cell_type": "code",
   "execution_count": 4,
   "metadata": {
    "scrolled": true,
    "tags": []
   },
   "outputs": [],
   "source": [
    "dataset_name = \"THUCNews\"\n",
    "# if the workspace don't contain the dataset, then register it\n",
    "if not dataset_name in workspace.datasets:\n",
    "    # upload files in 'data' to a blob container.\n",
    "    # our files are in the directory of 'path_on_datastore' in the blob container.\n",
    "    path_on_datastore = 'my_dataset'\n",
    "    datastore = Datastore.get(workspace=workspace, datastore_name='workspaceblobstore')\n",
    "    datastore.upload(src_dir='data', target_path=path_on_datastore, overwrite=True, show_progress=True)\n",
    "    description = 'THUCNews dataset is generated by filtering and filtering historical data \\\n",
    "    of Sina News RSS subscription channel from 2005 to 2011'\n",
    "    # get the DataPath object associated with the uploaded dataset.\n",
    "    datastore_path = [DataPath(datastore=datastore, path_on_datastore=path_on_datastore)]\n",
    "    data = Dataset.File.from_files(path=datastore_path)\n",
    "    # register the dataset to your workspace.\n",
    "    data.register(workspace=workspace, name=dataset_name, description=description, create_new_version=True)\n",
    "dataset = workspace.datasets[dataset_name]"
   ]
  },
  {
   "cell_type": "markdown",
   "metadata": {},
   "source": [
    "### Register an anonymous module from yaml file to the workspace.\n",
    "If you decorate your module function with ```@dsl.module```, azure-cli-ml could help to generate the ```*.spec.yaml``` file."
   ]
  },
  {
   "cell_type": "code",
   "execution_count": 5,
   "metadata": {
    "tags": []
   },
   "outputs": [],
   "source": [
    "split_data_txt_module_func = Module.from_yaml(workspace, 'split_data_txt/split_data_txt.spec.yaml')\n",
    "fasttext_train_module_func = Module.from_yaml(workspace, 'fasttext_train/fasttext_train.spec.yaml')\n",
    "fasttext_evaluation_module_func = Module.from_yaml(workspace, 'fasttext_evaluation/fasttext_evaluation.spec.yaml')\n",
    "compare_two_models_module_func = Module.from_yaml(workspace, 'compare_two_models/compare_two_models.spec.yaml')"
   ]
  },
  {
   "cell_type": "markdown",
   "metadata": {
    "pycharm": {
     "name": "#%% md\n"
    }
   },
   "source": [
    "### Construct the pipeline\n",
    "our pipeline contains two sub pipelines. They represent two training processes of the fastText model with different parameters. "
   ]
  },
  {
   "cell_type": "code",
   "execution_count": 6,
   "metadata": {
    "pycharm": {
     "name": "#%%\n"
    }
   },
   "outputs": [],
   "source": [
    "# sub pipeline\n",
    "@dsl.pipeline(name='sub_pipeline', description='A sub pipeline including processes of data processing/train/evaluation',\n",
    "              default_compute_target=aml_compute_name)\n",
    "def training_pipeline(epochs):\n",
    "    split_data_txt = split_data_txt_module_func(\n",
    "        input_dir=dataset,\n",
    "        training_data_ratio=0.1,\n",
    "        validation_data_ratio=0.2\n",
    "    )\n",
    "    fasttext_train = fasttext_train_module_func(\n",
    "        training_data_dir=split_data_txt.outputs.training_data_output,\n",
    "        validation_data_dir=split_data_txt.outputs.validation_data_output,\n",
    "        epochs=epochs\n",
    "    )\n",
    "\n",
    "    fasttext_evaluation = fasttext_evaluation_module_func(\n",
    "        trained_model_dir=fasttext_train.outputs.trained_model_dir,\n",
    "        test_data_dir=split_data_txt.outputs.test_data_output\n",
    "    )\n",
    "\n",
    "    return {**fasttext_evaluation.outputs, **fasttext_train.outputs}"
   ]
  },
  {
   "cell_type": "code",
   "execution_count": 7,
   "metadata": {
    "pycharm": {
     "name": "#%%\n"
    }
   },
   "outputs": [],
   "source": [
    "@dsl.pipeline(name='fasttext_pipeline',\n",
    "              description='The pipeline that trains two fasttext models and output the better one',\n",
    "              default_compute_target=aml_compute_name)\n",
    "def fasttext_pipeline():\n",
    "    train_and_evalute_model1 = training_pipeline(epochs=3)\n",
    "    train_and_evalute_model2 = training_pipeline(epochs=6)\n",
    "    compare = compare_two_models_module_func(\n",
    "        first_trained_model=train_and_evalute_model1.outputs.trained_model_dir,\n",
    "        first_trained_result=train_and_evalute_model1.outputs.model_testing_result,\n",
    "        second_trained_model=train_and_evalute_model2.outputs.trained_model_dir,\n",
    "        second_trained_result=train_and_evalute_model2.outputs.model_testing_result\n",
    "    )\n",
    "    return {**compare.outputs}\n"
   ]
  },
  {
   "cell_type": "markdown",
   "metadata": {
    "pycharm": {
     "name": "#%% md\n"
    }
   },
   "source": [
    "### Visualize and run the pipeline."
   ]
  },
  {
   "cell_type": "code",
   "execution_count": 8,
   "metadata": {},
   "outputs": [],
   "source": [
    "# get the pipeline\n",
    "pipeline = fasttext_pipeline()\n",
    "# save the pipeline if necessary\n",
    "# pipeline.save(experiment_name=experiment_name)"
   ]
  },
  {
   "cell_type": "code",
   "execution_count": null,
   "metadata": {
    "pycharm": {
     "name": "#%%\n"
    }
   },
   "outputs": [],
   "source": [
    "# visualize the pipeline\n",
    "pipeline.validate()"
   ]
  },
  {
   "cell_type": "code",
   "execution_count": null,
   "metadata": {
    "pycharm": {
     "name": "#%%\n"
    }
   },
   "outputs": [],
   "source": [
    "# run the pipeline\n",
    "experiment_name = 'fasttext_pipeline'\n",
    "# regenerate_outputs indicates whether to force regeneration of all step outputs and disallow data reuse for this run\n",
    "# if regenerate_outputs is False, this run may reuse results from previous runs and subsequent runs may reuse the results of this run\n",
    "pipeline_run = pipeline.submit(experiment_name=experiment_name, regenerate_outputs=False)\n",
    "# wait_for_completion() visualize the execution process of the pipeline\n",
    "# you could also view this process on Azure Machine Learning Portal\n",
    "pipeline_run.wait_for_completion()"
   ]
  },
  {
   "cell_type": "code",
   "execution_count": 9,
   "metadata": {},
   "outputs": [
    {
     "data": {
      "application/javascript": [
       "try {\n",
       "    require.undef(\"validate_widget\")\n",
       "\n",
       "    define('validate_widget', [\"@jupyter-widgets/base\"], function(widgets) {\n",
       "        var ValidateView = widgets.DOMWidgetView.extend({\n",
       "            render () {\n",
       "                window.widget_self = this\n",
       "                var visualize_id = this.model.get('visualize_id')\n",
       "\n",
       "                if (!window._renderLock) {\n",
       "                    window._renderLock = {}\n",
       "                }\n",
       "                if (window._renderLock[visualize_id]) {\n",
       "                    return\n",
       "                }\n",
       "                window._renderLock[visualize_id] = \"widget\"\n",
       "                console.log(\"load as widget\", Date.now())\n",
       "\n",
       "                var lib_url = this.model.get('lib_url')\n",
       "                var graph_json = JSON.parse(this.model.get('graph_json'))\n",
       "                var env_json = JSON.parse(this.model.get('env_json'))\n",
       "                var container_id = this.model.get('container_id')\n",
       "\n",
       "                window.render_container_id = container_id\n",
       "                window.graph_json = graph_json\n",
       "                window.graph_json_to_compare = undefined\n",
       "                window.env_json = env_json\n",
       "                window.before_script = performance.now()\n",
       "\n",
       "                var container = document.createElement('div')\n",
       "                container.id = container_id\n",
       "                this.el.appendChild(container)\n",
       "\n",
       "                var style = document.createElement('style')\n",
       "                style.innerHTML = [\n",
       "                    \"#\", container_id, \" svg.react-dag-editor-svg-container { height: 800px; }\",\n",
       "                    \".cell-output-ipywidget-background { background: transparent !important }\"\n",
       "                ].join('')\n",
       "                this.el.appendChild(style)\n",
       "\n",
       "                this.model.on('msg:custom', dispatchMessage, this);\n",
       "\n",
       "                if (!window.__event_hub) {\n",
       "                    window.__event_hub = {}\n",
       "                }\n",
       "                if (!window.__event_hub[container_id]) {\n",
       "                    window.__event_hub[container_id] = {}\n",
       "                }\n",
       "\n",
       "                if (!window.__send_event) {\n",
       "                    window.__send_event = {}\n",
       "                }\n",
       "                window.__send_event[container_id] = sendMessage.bind(this)\n",
       "\n",
       "                function sendMessage(message, uid, content) {\n",
       "                    return new Promise((resolve) => {\n",
       "                        this.model.send({\n",
       "                            message: `${message}:request`,\n",
       "                            body: {\n",
       "                                uid,\n",
       "                                content\n",
       "                            }\n",
       "                        })\n",
       "    \n",
       "                        var respMessageKey = `${message}:response`\n",
       "                        if (!window.__event_hub[container_id][respMessageKey]) {\n",
       "                            window.__event_hub[container_id][respMessageKey] = []\n",
       "                        }\n",
       "                        window.__event_hub[container_id][respMessageKey].push(callback)\n",
       "    \n",
       "                        function callback (response) {\n",
       "                            if (response.uid !== uid) {\n",
       "                                return\n",
       "                            }\n",
       "\n",
       "                            var idx = window.__event_hub[container_id][respMessageKey].indexOf(callback) \n",
       "                            window.__event_hub[container_id][respMessageKey].splice(idx, 1)\n",
       "                            \n",
       "                            resolve(response)\n",
       "                        }\n",
       "                    })\n",
       "                }\n",
       "\n",
       "                function dispatchMessage (rawMessage) {\n",
       "                    var message = rawMessage.message\n",
       "                    var body = rawMessage.body\n",
       "\n",
       "                    if (!window.__event_hub[container_id][message]) {\n",
       "                        window.__event_hub[container_id][message] = []\n",
       "                    }\n",
       "                    var listeners = window.__event_hub[container_id][message]\n",
       "\n",
       "                    listeners.forEach(cb => {\n",
       "                        try {\n",
       "                            cb(body)\n",
       "                        } catch (e) {\n",
       "                            console.error(\"Unexpected error in listener\", e)\n",
       "                        }\n",
       "                    })\n",
       "\n",
       "                    console.log(body)\n",
       "                }\n",
       "\n",
       "                var script = document.createElement('script')\n",
       "                script.src = lib_url\n",
       "                this.el.appendChild(script)\n",
       "            }\n",
       "        });\n",
       "\n",
       "        return {\n",
       "            ValidateView\n",
       "        }\n",
       "    })\n",
       "} catch (e) {\n",
       "    console.log(\"create validation widget failed\", e)\n",
       "}"
      ],
      "text/plain": [
       "<IPython.core.display.Javascript object>"
      ]
     },
     "metadata": {},
     "output_type": "display_data"
    },
    {
     "data": {
      "application/vnd.jupyter.widget-view+json": {
       "model_id": "5f5e7555ec954e509a2d72c4179cf4f0",
       "version_major": 2,
       "version_minor": 0
      },
      "text/plain": [
       "ValidateView(container_id='container_id_afc85d58-80c6-477c-9f19-9cdb9de854e8_widget', env_json='{\"subscription…"
      ]
     },
     "metadata": {},
     "output_type": "display_data"
    },
    {
     "data": {
      "text/html": [
       "\n",
       "        <style>\n",
       "        #container_id_afc85d58-80c6-477c-9f19-9cdb9de854e8_script svg.react-dag-editor-svg-container {\n",
       "            height: 800px;\n",
       "        }\n",
       "        </style>\n",
       "        <div id=\"container_id_afc85d58-80c6-477c-9f19-9cdb9de854e8_script\"></div>\n",
       "        <script>\n",
       "            (function () {\n",
       "                if (!window._renderLock) {\n",
       "                    window._renderLock = {}\n",
       "                }\n",
       "                if (window._renderLock[\"afc85d58-80c6-477c-9f19-9cdb9de854e8\"]) {\n",
       "                    return\n",
       "                }\n",
       "                window._renderLock[\"afc85d58-80c6-477c-9f19-9cdb9de854e8\"] = \"script\"\n",
       "                console.log(\"load as script\", Date.now())\n",
       "                window.render_container_id=\"container_id_afc85d58-80c6-477c-9f19-9cdb9de854e8_script\";\n",
       "                window.graph_json={\"pipeline\": {\"name\": [\"fasttext_pipeline\"], \"data_references\": {\"THUCNews\": {\"dataset_id\": \"54ff5610-84d0-4f01-8435-a8e520080fb7\"}}, \"steps\": {\"719dca98\": {\"inputs\": {\"Input_dir\": {\"source\": \"THUCNews\"}}, \"outputs\": {\"Training_data_output\": {\"destination\": \"e224bf6b-0348-42e8-9c37-7ba08737fb8d_Training_data_output\"}, \"Validation_data_output\": {\"destination\": \"e224bf6b-0348-42e8-9c37-7ba08737fb8d_Validation_data_output\"}, \"Test_data_output\": {\"destination\": \"e224bf6b-0348-42e8-9c37-7ba08737fb8d_Test_data_output\"}}, \"module\": {\"id\": \"4b39548f-12f8-4615-887f-d3a5efdfa5a9\", \"version\": \"0.0.42\"}, \"parameters\": {\"training_data_ratio\": 0.1, \"validation_data_ratio\": 0.2, \"random_split\": \"False\", \"seed\": \"0\"}, \"validate\": {\"error\": [], \"module_id\": \"4b39548f-12f8-4615-887f-d3a5efdfa5a9\", \"namespace\": \"DesignerDRI_EASTUS\", \"module_name\": \"Split Data Txt\", \"module_version\": \"0.0.42\"}}, \"6820f3b7\": {\"inputs\": {\"Training_data_dir\": {\"source\": \"e224bf6b-0348-42e8-9c37-7ba08737fb8d_Training_data_output\"}, \"Validation_data_dir\": {\"source\": \"e224bf6b-0348-42e8-9c37-7ba08737fb8d_Validation_data_output\"}}, \"outputs\": {\"Trained_model_dir\": {\"destination\": \"34b66f83-ef11-4b4c-8754-02fcbd99b2c1_Trained_model_dir\"}}, \"module\": {\"id\": \"53b07791-d780-4140-91a2-4e2f9e71f771\", \"version\": \"0.0.40\"}, \"parameters\": {\"epochs\": 3, \"batch_size\": \"64\", \"learning_rate\": \"0.0005\", \"embedding_dim\": \"128\"}, \"validate\": {\"error\": [], \"module_id\": \"53b07791-d780-4140-91a2-4e2f9e71f771\", \"namespace\": \"DesignerDRI_EASTUS\", \"module_name\": \"FastText Train\", \"module_version\": \"0.0.40\"}}, \"8ee55580\": {\"inputs\": {\"Trained_model_dir\": {\"source\": \"34b66f83-ef11-4b4c-8754-02fcbd99b2c1_Trained_model_dir\"}, \"Test_data_dir\": {\"source\": \"e224bf6b-0348-42e8-9c37-7ba08737fb8d_Test_data_output\"}}, \"outputs\": {\"Model_testing_result\": {\"destination\": \"e3654151-0859-4f32-949a-75f873f8af7c_Model_testing_result\"}}, \"module\": {\"id\": \"52db781a-d0d3-44e0-8af2-0c3ecd9f8a4e\", \"version\": \"0.0.7\"}, \"parameters\": {}, \"validate\": {\"error\": [], \"module_id\": \"52db781a-d0d3-44e0-8af2-0c3ecd9f8a4e\", \"namespace\": \"DesignerDRI_EASTUS\", \"module_name\": \"FastText Evaluation\", \"module_version\": \"0.0.7\"}}, \"6126be85\": {\"inputs\": {\"Input_dir\": {\"source\": \"THUCNews\"}}, \"outputs\": {\"Training_data_output\": {\"destination\": \"20b24903-c506-4f71-b02c-a59b73c8c9bc_Training_data_output\"}, \"Validation_data_output\": {\"destination\": \"20b24903-c506-4f71-b02c-a59b73c8c9bc_Validation_data_output\"}, \"Test_data_output\": {\"destination\": \"20b24903-c506-4f71-b02c-a59b73c8c9bc_Test_data_output\"}}, \"module\": {\"id\": \"4b39548f-12f8-4615-887f-d3a5efdfa5a9\", \"version\": \"0.0.42\"}, \"parameters\": {\"training_data_ratio\": 0.1, \"validation_data_ratio\": 0.2, \"random_split\": \"False\", \"seed\": \"0\"}, \"validate\": {\"error\": [], \"module_id\": \"4b39548f-12f8-4615-887f-d3a5efdfa5a9\", \"namespace\": \"DesignerDRI_EASTUS\", \"module_name\": \"Split Data Txt\", \"module_version\": \"0.0.42\"}}, \"112cf29e\": {\"inputs\": {\"Training_data_dir\": {\"source\": \"20b24903-c506-4f71-b02c-a59b73c8c9bc_Training_data_output\"}, \"Validation_data_dir\": {\"source\": \"20b24903-c506-4f71-b02c-a59b73c8c9bc_Validation_data_output\"}}, \"outputs\": {\"Trained_model_dir\": {\"destination\": \"33f1c7f2-695f-4977-b76f-822c7f433955_Trained_model_dir\"}}, \"module\": {\"id\": \"53b07791-d780-4140-91a2-4e2f9e71f771\", \"version\": \"0.0.40\"}, \"parameters\": {\"epochs\": 6, \"batch_size\": \"64\", \"learning_rate\": \"0.0005\", \"embedding_dim\": \"128\"}, \"validate\": {\"error\": [], \"module_id\": \"53b07791-d780-4140-91a2-4e2f9e71f771\", \"namespace\": \"DesignerDRI_EASTUS\", \"module_name\": \"FastText Train\", \"module_version\": \"0.0.40\"}}, \"50faa017\": {\"inputs\": {\"Trained_model_dir\": {\"source\": \"33f1c7f2-695f-4977-b76f-822c7f433955_Trained_model_dir\"}, \"Test_data_dir\": {\"source\": \"20b24903-c506-4f71-b02c-a59b73c8c9bc_Test_data_output\"}}, \"outputs\": {\"Model_testing_result\": {\"destination\": \"ba0db33c-331f-49c8-85ad-491a8cfc12b9_Model_testing_result\"}}, \"module\": {\"id\": \"52db781a-d0d3-44e0-8af2-0c3ecd9f8a4e\", \"version\": \"0.0.7\"}, \"parameters\": {}, \"validate\": {\"error\": [], \"module_id\": \"52db781a-d0d3-44e0-8af2-0c3ecd9f8a4e\", \"namespace\": \"DesignerDRI_EASTUS\", \"module_name\": \"FastText Evaluation\", \"module_version\": \"0.0.7\"}}, \"233d62db\": {\"inputs\": {\"First_trained_model\": {\"source\": \"34b66f83-ef11-4b4c-8754-02fcbd99b2c1_Trained_model_dir\"}, \"First_trained_result\": {\"source\": \"e3654151-0859-4f32-949a-75f873f8af7c_Model_testing_result\"}, \"Second_trained_model\": {\"source\": \"33f1c7f2-695f-4977-b76f-822c7f433955_Trained_model_dir\"}, \"Second_trained_result\": {\"source\": \"ba0db33c-331f-49c8-85ad-491a8cfc12b9_Model_testing_result\"}}, \"outputs\": {\"The_better_model\": {\"destination\": \"e39cb76d-da27-489b-aadb-7bf3eb5d749b_The_better_model\"}}, \"module\": {\"id\": \"813dc976-a4ad-4a4c-b812-659fe76eb67a\", \"version\": \"0.0.18\"}, \"parameters\": {}, \"validate\": {\"error\": [], \"module_id\": \"813dc976-a4ad-4a4c-b812-659fe76eb67a\", \"namespace\": \"DesignerDRI_EASTUS\", \"module_name\": \"Compare Two Models\", \"module_version\": \"0.0.18\"}}}}, \"modules\": [{\"module_id\": \"4b39548f-12f8-4615-887f-d3a5efdfa5a9\", \"version\": \"0.0.42\", \"name\": \"Split Data Txt\", \"namespace\": \"DesignerDRI_EASTUS\", \"structured_interface\": {\"inputs\": [{\"name\": \"Input_dir\", \"label\": \"Input dir\", \"description\": null, \"data_type_ids_list\": [\"AnyDirectory\"]}], \"outputs\": [{\"name\": \"Training_data_output\", \"label\": \"Training data output\", \"description\": null, \"data_type_id\": \"AnyDirectory\"}, {\"name\": \"Validation_data_output\", \"label\": \"Validation data output\", \"description\": null, \"data_type_id\": \"AnyDirectory\"}, {\"name\": \"Test_data_output\", \"label\": \"Test data output\", \"description\": null, \"data_type_id\": \"AnyDirectory\"}]}}, {\"module_id\": \"53b07791-d780-4140-91a2-4e2f9e71f771\", \"version\": \"0.0.40\", \"name\": \"FastText Train\", \"namespace\": \"DesignerDRI_EASTUS\", \"structured_interface\": {\"inputs\": [{\"name\": \"Training_data_dir\", \"label\": \"Training data dir\", \"description\": null, \"data_type_ids_list\": [\"AnyDirectory\"]}, {\"name\": \"Validation_data_dir\", \"label\": \"Validation data dir\", \"description\": null, \"data_type_ids_list\": [\"AnyDirectory\"]}], \"outputs\": [{\"name\": \"Trained_model_dir\", \"label\": \"Trained model dir\", \"description\": null, \"data_type_id\": \"ModelDirectory\"}]}}, {\"module_id\": \"52db781a-d0d3-44e0-8af2-0c3ecd9f8a4e\", \"version\": \"0.0.7\", \"name\": \"FastText Evaluation\", \"namespace\": \"DesignerDRI_EASTUS\", \"structured_interface\": {\"inputs\": [{\"name\": \"Trained_model_dir\", \"label\": \"Trained model dir\", \"description\": null, \"data_type_ids_list\": [\"AnyDirectory\"]}, {\"name\": \"Test_data_dir\", \"label\": \"Test data dir\", \"description\": null, \"data_type_ids_list\": [\"AnyDirectory\"]}], \"outputs\": [{\"name\": \"Model_testing_result\", \"label\": \"Model testing result\", \"description\": null, \"data_type_id\": \"AnyDirectory\"}]}}, {\"module_id\": \"813dc976-a4ad-4a4c-b812-659fe76eb67a\", \"version\": \"0.0.18\", \"name\": \"Compare Two Models\", \"namespace\": \"DesignerDRI_EASTUS\", \"structured_interface\": {\"inputs\": [{\"name\": \"First_trained_model\", \"label\": \"First trained model\", \"description\": null, \"data_type_ids_list\": [\"AnyDirectory\"]}, {\"name\": \"First_trained_result\", \"label\": \"First trained result\", \"description\": null, \"data_type_ids_list\": [\"AnyDirectory\"]}, {\"name\": \"Second_trained_model\", \"label\": \"Second trained model\", \"description\": null, \"data_type_ids_list\": [\"AnyDirectory\"]}, {\"name\": \"Second_trained_result\", \"label\": \"Second trained result\", \"description\": null, \"data_type_ids_list\": [\"AnyDirectory\"]}], \"outputs\": [{\"name\": \"The_better_model\", \"label\": \"The better model\", \"description\": null, \"data_type_id\": \"AnyDirectory\"}]}}], \"datasources\": [{\"name\": \"THUCNews\", \"description\": \"THUCNews dataset is generated by filtering and filtering historical data     of Sina News RSS subscription channel from 2005 to 2011\", \"version\": 1, \"tags\": {}, \"registered_id\": \"54ff5610-84d0-4f01-8435-a8e520080fb7\", \"saved_id\": \"d7245771-f12a-4186-be10-8f948c8df7f1\", \"nodeId\": \"1a56ce14-fa72-3f04-bd0c-01183dd19363\"}], \"subGraphInfo\": [{\"name\": \"fasttext_pipeline\", \"description\": \"The pipeline that trains two fasttext models and output the better one\", \"default_compute_target\": {\"name\": \"aml-compute\"}, \"default_data_store\": {\"data_store_name\": \"workspaceblobstore\"}, \"id\": \"5ba21713-7b93-4a38-9f24-78c67886d19a\", \"pipeline_definition_id\": \"27be9691-eabb-4756-a232-47ecd2f76112\", \"sub_graph_parameter_assignment\": [], \"sub_graph_data_path_parameter_assignment\": [], \"sub_graph_default_compute_target_nodes\": [\"233d62db\"], \"sub_graph_default_data_store_nodes\": [\"233d62db\"], \"inputs\": [], \"outputs\": [{\"name\": \"the_better_model\", \"internal\": [{\"node_id\": \"233d62db\", \"port_name\": \"The_better_model\"}], \"external\": []}]}, {\"name\": \"sub_pipeline\", \"description\": \"A sub pipeline including processes of data processing/train/evaluation\", \"default_compute_target\": {\"name\": \"aml-compute\"}, \"default_data_store\": {\"data_store_name\": \"workspaceblobstore\"}, \"id\": \"00806bac-56ca-4cb8-9725-1f6f62e41e73\", \"parent_graph_id\": \"5ba21713-7b93-4a38-9f24-78c67886d19a\", \"pipeline_definition_id\": \"2710de10-5c0c-468d-b6a7-c04375d04d0b\", \"sub_graph_parameter_assignment\": [{\"parameter\": {\"name\": \"epochs\"}, \"parameter_assignments\": [{\"node_id\": \"6820f3b7\", \"parameter_name\": \"Epochs\"}]}], \"sub_graph_data_path_parameter_assignment\": [], \"sub_graph_default_compute_target_nodes\": [\"719dca98\", \"6820f3b7\", \"8ee55580\"], \"sub_graph_default_data_store_nodes\": [], \"inputs\": [], \"outputs\": [{\"name\": \"model_testing_result\", \"internal\": [{\"node_id\": \"8ee55580\", \"port_name\": \"Model_testing_result\"}], \"external\": [{\"node_id\": \"233d62db\", \"port_name\": \"First_trained_result\"}]}, {\"name\": \"trained_model_dir\", \"internal\": [{\"node_id\": \"6820f3b7\", \"port_name\": \"Trained_model_dir\"}], \"external\": [{\"node_id\": \"8ee55580\", \"port_name\": \"Trained_model_dir\"}, {\"node_id\": \"233d62db\", \"port_name\": \"First_trained_model\"}]}]}, {\"name\": \"sub_pipeline\", \"description\": \"A sub pipeline including processes of data processing/train/evaluation\", \"default_compute_target\": {\"name\": \"aml-compute\"}, \"default_data_store\": {\"data_store_name\": \"workspaceblobstore\"}, \"id\": \"63408e47-38f6-4a7a-a1fd-29b295acec62\", \"parent_graph_id\": \"5ba21713-7b93-4a38-9f24-78c67886d19a\", \"pipeline_definition_id\": \"2710de10-5c0c-468d-b6a7-c04375d04d0b\", \"sub_graph_parameter_assignment\": [{\"parameter\": {\"name\": \"epochs\"}, \"parameter_assignments\": [{\"node_id\": \"112cf29e\", \"parameter_name\": \"Epochs\"}]}], \"sub_graph_data_path_parameter_assignment\": [], \"sub_graph_default_compute_target_nodes\": [\"6126be85\", \"112cf29e\", \"50faa017\"], \"sub_graph_default_data_store_nodes\": [], \"inputs\": [], \"outputs\": [{\"name\": \"model_testing_result\", \"internal\": [{\"node_id\": \"50faa017\", \"port_name\": \"Model_testing_result\"}], \"external\": [{\"node_id\": \"233d62db\", \"port_name\": \"Second_trained_result\"}]}, {\"name\": \"trained_model_dir\", \"internal\": [{\"node_id\": \"112cf29e\", \"port_name\": \"Trained_model_dir\"}], \"external\": [{\"node_id\": \"50faa017\", \"port_name\": \"Trained_model_dir\"}, {\"node_id\": \"233d62db\", \"port_name\": \"Second_trained_model\"}]}]}], \"nodeIdToSubGraphIdMapping\": {\"719dca98\": \"00806bac-56ca-4cb8-9725-1f6f62e41e73\", \"6820f3b7\": \"00806bac-56ca-4cb8-9725-1f6f62e41e73\", \"8ee55580\": \"00806bac-56ca-4cb8-9725-1f6f62e41e73\", \"6126be85\": \"63408e47-38f6-4a7a-a1fd-29b295acec62\", \"112cf29e\": \"63408e47-38f6-4a7a-a1fd-29b295acec62\", \"50faa017\": \"63408e47-38f6-4a7a-a1fd-29b295acec62\", \"233d62db\": \"5ba21713-7b93-4a38-9f24-78c67886d19a\"}, \"subPipelineDefinition\": [{\"name\": \"fasttext_pipeline\", \"description\": \"The pipeline that trains two fasttext models and output the better one\", \"default_compute_target\": {\"name\": \"aml-compute\"}, \"default_data_store\": {\"data_store_name\": \"workspaceblobstore\"}, \"pipeline_function_name\": \"fasttext_pipeline\", \"id\": \"27be9691-eabb-4756-a232-47ecd2f76112\", \"from_module_name\": \"__main__\", \"parameter_list\": []}, {\"name\": \"sub_pipeline\", \"description\": \"A sub pipeline including processes of data processing/train/evaluation\", \"default_compute_target\": {\"name\": \"aml-compute\"}, \"default_data_store\": {\"data_store_name\": \"workspaceblobstore\"}, \"pipeline_function_name\": \"training_pipeline\", \"id\": \"2710de10-5c0c-468d-b6a7-c04375d04d0b\", \"from_module_name\": \"__main__\", \"parameter_list\": [{\"key\": \"epochs\"}]}]};\n",
       "                window.graph_json_to_compare=undefined;\n",
       "                window.env_json={\"subscription_id\": \"74eccef0-4b8d-4f83-b5f9-fa100d155b22\"};\n",
       "                window.before_script = performance.now();\n",
       "                var script = document.createElement('script')\n",
       "                script.src = \"https://yucongj.azureedge.net/libs/prod/0.0.8/index.js\"\n",
       "                document.getElementById(\"container_id_afc85d58-80c6-477c-9f19-9cdb9de854e8_script\").appendChild(script)\n",
       "            })()\n",
       "        </script>\n",
       "        "
      ],
      "text/plain": [
       "<IPython.core.display.HTML object>"
      ]
     },
     "metadata": {},
     "output_type": "display_data"
    },
    {
     "data": {
      "text/plain": [
       "{'result': 'validation passed', 'errors': []}"
      ]
     },
     "execution_count": 9,
     "metadata": {},
     "output_type": "execute_result"
    }
   ],
   "source": [
    "# run the pipeline\n",
    "experiment_name = 'fasttext_pipeline'\n",
    "# regenerate_outputs indicates whether to force regeneration of all step outputs and disallow data reuse for this run\n",
    "# if regenerate_outputs is False, this run may reuse results from previous runs and subsequent runs may reuse the results of this run\n",
    "pipeline_run = pipeline.submit(experiment_name=experiment_name, regenerate_outputs=False)\n",
    "# wait_for_completion() visualize the execution process of the pipeline\n",
    "# you could also view this process on Azure Machine Learning Portal\n",
    "pipeline_run.wait_for_completion()"
   ]
  },
  {
   "cell_type": "code",
   "execution_count": 10,
   "metadata": {
    "pycharm": {
     "name": "#%%\n"
    },
    "scrolled": false,
    "tags": [
     "outputPrepend"
    ]
   },
   "outputs": [
    {
     "name": "stdout",
     "output_type": "stream",
     "text": [
      "Submitted PipelineRun 571c4192-a358-471d-b2a9-0f3ec644c801\n",
      "Link to Azure Machine Learning Portal: https://ml.azure.com/experiments/fasttext_pipeline/runs/571c4192-a358-471d-b2a9-0f3ec644c801?wsid=/subscriptions/74eccef0-4b8d-4f83-b5f9-fa100d155b22/resourcegroups/DesignerDRI/workspaces/DesignerDRI_EASTUS\n",
      "PipelineRunId: 571c4192-a358-471d-b2a9-0f3ec644c801\n",
      "Link to Azure Machine Learning Portal: https://ml.azure.com/experiments/fasttext_pipeline/runs/571c4192-a358-471d-b2a9-0f3ec644c801?wsid=/subscriptions/74eccef0-4b8d-4f83-b5f9-fa100d155b22/resourcegroups/DesignerDRI/workspaces/DesignerDRI_EASTUS\n"
     ]
    },
    {
     "data": {
      "application/javascript": [
       "try {\n",
       "    require.undef(\"validate_widget\")\n",
       "\n",
       "    define('validate_widget', [\"@jupyter-widgets/base\"], function(widgets) {\n",
       "        var ValidateView = widgets.DOMWidgetView.extend({\n",
       "            render () {\n",
       "                window.widget_self = this\n",
       "                var visualize_id = this.model.get('visualize_id')\n",
       "\n",
       "                if (!window._renderLock) {\n",
       "                    window._renderLock = {}\n",
       "                }\n",
       "                if (window._renderLock[visualize_id]) {\n",
       "                    return\n",
       "                }\n",
       "                window._renderLock[visualize_id] = \"widget\"\n",
       "                console.log(\"load as widget\", Date.now())\n",
       "\n",
       "                var lib_url = this.model.get('lib_url')\n",
       "                var graph_json = JSON.parse(this.model.get('graph_json'))\n",
       "                var env_json = JSON.parse(this.model.get('env_json'))\n",
       "                var container_id = this.model.get('container_id')\n",
       "\n",
       "                window.render_container_id = container_id\n",
       "                window.graph_json = graph_json\n",
       "                window.graph_json_to_compare = undefined\n",
       "                window.env_json = env_json\n",
       "                window.before_script = performance.now()\n",
       "\n",
       "                var container = document.createElement('div')\n",
       "                container.id = container_id\n",
       "                this.el.appendChild(container)\n",
       "\n",
       "                var style = document.createElement('style')\n",
       "                style.innerHTML = [\n",
       "                    \"#\", container_id, \" svg.react-dag-editor-svg-container { height: 800px; }\",\n",
       "                    \".cell-output-ipywidget-background { background: transparent !important }\"\n",
       "                ].join('')\n",
       "                this.el.appendChild(style)\n",
       "\n",
       "                this.model.on('msg:custom', dispatchMessage, this);\n",
       "\n",
       "                if (!window.__event_hub) {\n",
       "                    window.__event_hub = {}\n",
       "                }\n",
       "                if (!window.__event_hub[container_id]) {\n",
       "                    window.__event_hub[container_id] = {}\n",
       "                }\n",
       "\n",
       "                if (!window.__send_event) {\n",
       "                    window.__send_event = {}\n",
       "                }\n",
       "                window.__send_event[container_id] = sendMessage.bind(this)\n",
       "\n",
       "                function sendMessage(message, uid, content) {\n",
       "                    return new Promise((resolve) => {\n",
       "                        this.model.send({\n",
       "                            message: `${message}:request`,\n",
       "                            body: {\n",
       "                                uid,\n",
       "                                content\n",
       "                            }\n",
       "                        })\n",
       "    \n",
       "                        var respMessageKey = `${message}:response`\n",
       "                        if (!window.__event_hub[container_id][respMessageKey]) {\n",
       "                            window.__event_hub[container_id][respMessageKey] = []\n",
       "                        }\n",
       "                        window.__event_hub[container_id][respMessageKey].push(callback)\n",
       "    \n",
       "                        function callback (response) {\n",
       "                            if (response.uid !== uid) {\n",
       "                                return\n",
       "                            }\n",
       "\n",
       "                            var idx = window.__event_hub[container_id][respMessageKey].indexOf(callback) \n",
       "                            window.__event_hub[container_id][respMessageKey].splice(idx, 1)\n",
       "                            \n",
       "                            resolve(response)\n",
       "                        }\n",
       "                    })\n",
       "                }\n",
       "\n",
       "                function dispatchMessage (rawMessage) {\n",
       "                    var message = rawMessage.message\n",
       "                    var body = rawMessage.body\n",
       "\n",
       "                    if (!window.__event_hub[container_id][message]) {\n",
       "                        window.__event_hub[container_id][message] = []\n",
       "                    }\n",
       "                    var listeners = window.__event_hub[container_id][message]\n",
       "\n",
       "                    listeners.forEach(cb => {\n",
       "                        try {\n",
       "                            cb(body)\n",
       "                        } catch (e) {\n",
       "                            console.error(\"Unexpected error in listener\", e)\n",
       "                        }\n",
       "                    })\n",
       "\n",
       "                    console.log(body)\n",
       "                }\n",
       "\n",
       "                var script = document.createElement('script')\n",
       "                script.src = lib_url\n",
       "                this.el.appendChild(script)\n",
       "            }\n",
       "        });\n",
       "\n",
       "        return {\n",
       "            ValidateView\n",
       "        }\n",
       "    })\n",
       "} catch (e) {\n",
       "    console.log(\"create validation widget failed\", e)\n",
       "}"
      ],
      "text/plain": [
       "<IPython.core.display.Javascript object>"
      ]
     },
     "metadata": {},
     "output_type": "display_data"
    },
    {
     "data": {
      "application/vnd.jupyter.widget-view+json": {
       "model_id": "6ddb66e594024cda8c50d0b98ee17a0b",
       "version_major": 2,
       "version_minor": 0
      },
      "text/plain": [
       "ValidateView(container_id='container_id_f2c4ac38-dc20-4143-a4a2-9afdbce69415_widget', env_json='{}', graph_jso…"
      ]
     },
     "metadata": {},
     "output_type": "display_data"
    },
    {
     "data": {
      "text/html": [
       "\n",
       "        <style>\n",
       "        #container_id_f2c4ac38-dc20-4143-a4a2-9afdbce69415_script svg.react-dag-editor-svg-container {\n",
       "            height: 800px;\n",
       "        }\n",
       "        </style>\n",
       "        <div id=\"container_id_f2c4ac38-dc20-4143-a4a2-9afdbce69415_script\"></div>\n",
       "        <script>\n",
       "            (function () {\n",
       "                if (!window._renderLock) {\n",
       "                    window._renderLock = {}\n",
       "                }\n",
       "                if (window._renderLock[\"f2c4ac38-dc20-4143-a4a2-9afdbce69415\"]) {\n",
       "                    return\n",
       "                }\n",
       "                window._renderLock[\"f2c4ac38-dc20-4143-a4a2-9afdbce69415\"] = \"script\"\n",
       "                console.log(\"load as script\", Date.now())\n",
       "                window.render_container_id=\"container_id_f2c4ac38-dc20-4143-a4a2-9afdbce69415_script\";\n",
       "                window.graph_json={\"pipeline\": {\"name\": [\"fasttext_pipeline\"], \"data_references\": {\"THUCNews\": {\"dataset_id\": \"54ff5610-84d0-4f01-8435-a8e520080fb7\"}}, \"steps\": {\"9aa5a18a\": {\"inputs\": {\"Input_dir\": {\"source\": \"THUCNews\"}}, \"outputs\": {\"Training_data_output\": {\"destination\": \"e224bf6b-0348-42e8-9c37-7ba08737fb8d_Training_data_output\"}, \"Validation_data_output\": {\"destination\": \"e224bf6b-0348-42e8-9c37-7ba08737fb8d_Validation_data_output\"}, \"Test_data_output\": {\"destination\": \"e224bf6b-0348-42e8-9c37-7ba08737fb8d_Test_data_output\"}}, \"module\": {\"id\": \"4b39548f-12f8-4615-887f-d3a5efdfa5a9\", \"version\": \"0.0.42\"}, \"parameters\": {\"training_data_ratio\": 0.1, \"validation_data_ratio\": 0.2, \"random_split\": \"False\", \"seed\": \"0\"}, \"validate\": {\"error\": [], \"module_id\": \"4b39548f-12f8-4615-887f-d3a5efdfa5a9\", \"namespace\": \"DesignerDRI_EASTUS\", \"module_name\": \"Split Data Txt\", \"module_version\": \"0.0.42\"}}, \"eb7583e8\": {\"inputs\": {\"Training_data_dir\": {\"source\": \"e224bf6b-0348-42e8-9c37-7ba08737fb8d_Training_data_output\"}, \"Validation_data_dir\": {\"source\": \"e224bf6b-0348-42e8-9c37-7ba08737fb8d_Validation_data_output\"}}, \"outputs\": {\"Trained_model_dir\": {\"destination\": \"34b66f83-ef11-4b4c-8754-02fcbd99b2c1_Trained_model_dir\"}}, \"module\": {\"id\": \"53b07791-d780-4140-91a2-4e2f9e71f771\", \"version\": \"0.0.40\"}, \"parameters\": {\"epochs\": 3, \"batch_size\": \"64\", \"learning_rate\": \"0.0005\", \"embedding_dim\": \"128\"}, \"validate\": {\"error\": [], \"module_id\": \"53b07791-d780-4140-91a2-4e2f9e71f771\", \"namespace\": \"DesignerDRI_EASTUS\", \"module_name\": \"FastText Train\", \"module_version\": \"0.0.40\"}}, \"a8ac1d0b\": {\"inputs\": {\"Trained_model_dir\": {\"source\": \"34b66f83-ef11-4b4c-8754-02fcbd99b2c1_Trained_model_dir\"}, \"Test_data_dir\": {\"source\": \"e224bf6b-0348-42e8-9c37-7ba08737fb8d_Test_data_output\"}}, \"outputs\": {\"Model_testing_result\": {\"destination\": \"e3654151-0859-4f32-949a-75f873f8af7c_Model_testing_result\"}}, \"module\": {\"id\": \"52db781a-d0d3-44e0-8af2-0c3ecd9f8a4e\", \"version\": \"0.0.7\"}, \"parameters\": {}, \"validate\": {\"error\": [], \"module_id\": \"52db781a-d0d3-44e0-8af2-0c3ecd9f8a4e\", \"namespace\": \"DesignerDRI_EASTUS\", \"module_name\": \"FastText Evaluation\", \"module_version\": \"0.0.7\"}}, \"883842f1\": {\"inputs\": {\"Input_dir\": {\"source\": \"THUCNews\"}}, \"outputs\": {\"Training_data_output\": {\"destination\": \"20b24903-c506-4f71-b02c-a59b73c8c9bc_Training_data_output\"}, \"Validation_data_output\": {\"destination\": \"20b24903-c506-4f71-b02c-a59b73c8c9bc_Validation_data_output\"}, \"Test_data_output\": {\"destination\": \"20b24903-c506-4f71-b02c-a59b73c8c9bc_Test_data_output\"}}, \"module\": {\"id\": \"4b39548f-12f8-4615-887f-d3a5efdfa5a9\", \"version\": \"0.0.42\"}, \"parameters\": {\"training_data_ratio\": 0.1, \"validation_data_ratio\": 0.2, \"random_split\": \"False\", \"seed\": \"0\"}, \"validate\": {\"error\": [], \"module_id\": \"4b39548f-12f8-4615-887f-d3a5efdfa5a9\", \"namespace\": \"DesignerDRI_EASTUS\", \"module_name\": \"Split Data Txt\", \"module_version\": \"0.0.42\"}}, \"0ee59f8a\": {\"inputs\": {\"Training_data_dir\": {\"source\": \"20b24903-c506-4f71-b02c-a59b73c8c9bc_Training_data_output\"}, \"Validation_data_dir\": {\"source\": \"20b24903-c506-4f71-b02c-a59b73c8c9bc_Validation_data_output\"}}, \"outputs\": {\"Trained_model_dir\": {\"destination\": \"33f1c7f2-695f-4977-b76f-822c7f433955_Trained_model_dir\"}}, \"module\": {\"id\": \"53b07791-d780-4140-91a2-4e2f9e71f771\", \"version\": \"0.0.40\"}, \"parameters\": {\"epochs\": 6, \"batch_size\": \"64\", \"learning_rate\": \"0.0005\", \"embedding_dim\": \"128\"}, \"validate\": {\"error\": [], \"module_id\": \"53b07791-d780-4140-91a2-4e2f9e71f771\", \"namespace\": \"DesignerDRI_EASTUS\", \"module_name\": \"FastText Train\", \"module_version\": \"0.0.40\"}}, \"3dddc490\": {\"inputs\": {\"Trained_model_dir\": {\"source\": \"33f1c7f2-695f-4977-b76f-822c7f433955_Trained_model_dir\"}, \"Test_data_dir\": {\"source\": \"20b24903-c506-4f71-b02c-a59b73c8c9bc_Test_data_output\"}}, \"outputs\": {\"Model_testing_result\": {\"destination\": \"ba0db33c-331f-49c8-85ad-491a8cfc12b9_Model_testing_result\"}}, \"module\": {\"id\": \"52db781a-d0d3-44e0-8af2-0c3ecd9f8a4e\", \"version\": \"0.0.7\"}, \"parameters\": {}, \"validate\": {\"error\": [], \"module_id\": \"52db781a-d0d3-44e0-8af2-0c3ecd9f8a4e\", \"namespace\": \"DesignerDRI_EASTUS\", \"module_name\": \"FastText Evaluation\", \"module_version\": \"0.0.7\"}}, \"e64eb867\": {\"inputs\": {\"First_trained_model\": {\"source\": \"34b66f83-ef11-4b4c-8754-02fcbd99b2c1_Trained_model_dir\"}, \"First_trained_result\": {\"source\": \"e3654151-0859-4f32-949a-75f873f8af7c_Model_testing_result\"}, \"Second_trained_model\": {\"source\": \"33f1c7f2-695f-4977-b76f-822c7f433955_Trained_model_dir\"}, \"Second_trained_result\": {\"source\": \"ba0db33c-331f-49c8-85ad-491a8cfc12b9_Model_testing_result\"}}, \"outputs\": {\"The_better_model\": {\"destination\": \"e39cb76d-da27-489b-aadb-7bf3eb5d749b_The_better_model\"}}, \"module\": {\"id\": \"813dc976-a4ad-4a4c-b812-659fe76eb67a\", \"version\": \"0.0.18\"}, \"parameters\": {}, \"validate\": {\"error\": [], \"module_id\": \"813dc976-a4ad-4a4c-b812-659fe76eb67a\", \"namespace\": \"DesignerDRI_EASTUS\", \"module_name\": \"Compare Two Models\", \"module_version\": \"0.0.18\"}}}}, \"modules\": [{\"module_id\": \"4b39548f-12f8-4615-887f-d3a5efdfa5a9\", \"version\": \"0.0.42\", \"name\": \"Split Data Txt\", \"namespace\": \"DesignerDRI_EASTUS\", \"structured_interface\": {\"inputs\": [{\"name\": \"Input_dir\", \"label\": \"Input dir\", \"description\": null, \"data_type_ids_list\": [\"AnyDirectory\"]}], \"outputs\": [{\"name\": \"Training_data_output\", \"label\": \"Training data output\", \"description\": null, \"data_type_id\": \"AnyDirectory\"}, {\"name\": \"Validation_data_output\", \"label\": \"Validation data output\", \"description\": null, \"data_type_id\": \"AnyDirectory\"}, {\"name\": \"Test_data_output\", \"label\": \"Test data output\", \"description\": null, \"data_type_id\": \"AnyDirectory\"}]}}, {\"module_id\": \"53b07791-d780-4140-91a2-4e2f9e71f771\", \"version\": \"0.0.40\", \"name\": \"FastText Train\", \"namespace\": \"DesignerDRI_EASTUS\", \"structured_interface\": {\"inputs\": [{\"name\": \"Training_data_dir\", \"label\": \"Training data dir\", \"description\": null, \"data_type_ids_list\": [\"AnyDirectory\"]}, {\"name\": \"Validation_data_dir\", \"label\": \"Validation data dir\", \"description\": null, \"data_type_ids_list\": [\"AnyDirectory\"]}], \"outputs\": [{\"name\": \"Trained_model_dir\", \"label\": \"Trained model dir\", \"description\": null, \"data_type_id\": \"ModelDirectory\"}]}}, {\"module_id\": \"52db781a-d0d3-44e0-8af2-0c3ecd9f8a4e\", \"version\": \"0.0.7\", \"name\": \"FastText Evaluation\", \"namespace\": \"DesignerDRI_EASTUS\", \"structured_interface\": {\"inputs\": [{\"name\": \"Trained_model_dir\", \"label\": \"Trained model dir\", \"description\": null, \"data_type_ids_list\": [\"AnyDirectory\"]}, {\"name\": \"Test_data_dir\", \"label\": \"Test data dir\", \"description\": null, \"data_type_ids_list\": [\"AnyDirectory\"]}], \"outputs\": [{\"name\": \"Model_testing_result\", \"label\": \"Model testing result\", \"description\": null, \"data_type_id\": \"AnyDirectory\"}]}}, {\"module_id\": \"813dc976-a4ad-4a4c-b812-659fe76eb67a\", \"version\": \"0.0.18\", \"name\": \"Compare Two Models\", \"namespace\": \"DesignerDRI_EASTUS\", \"structured_interface\": {\"inputs\": [{\"name\": \"First_trained_model\", \"label\": \"First trained model\", \"description\": null, \"data_type_ids_list\": [\"AnyDirectory\"]}, {\"name\": \"First_trained_result\", \"label\": \"First trained result\", \"description\": null, \"data_type_ids_list\": [\"AnyDirectory\"]}, {\"name\": \"Second_trained_model\", \"label\": \"Second trained model\", \"description\": null, \"data_type_ids_list\": [\"AnyDirectory\"]}, {\"name\": \"Second_trained_result\", \"label\": \"Second trained result\", \"description\": null, \"data_type_ids_list\": [\"AnyDirectory\"]}], \"outputs\": [{\"name\": \"The_better_model\", \"label\": \"The better model\", \"description\": null, \"data_type_id\": \"AnyDirectory\"}]}}], \"datasources\": [{\"name\": \"THUCNews\", \"description\": \"THUCNews dataset is generated by filtering and filtering historical data     of Sina News RSS subscription channel from 2005 to 2011\", \"version\": 1, \"tags\": {}, \"registered_id\": \"54ff5610-84d0-4f01-8435-a8e520080fb7\", \"saved_id\": \"d7245771-f12a-4186-be10-8f948c8df7f1\", \"nodeId\": \"1a56ce14-fa72-3f04-bd0c-01183dd19363\"}], \"subGraphInfo\": [{\"name\": \"fasttext_pipeline\", \"description\": \"The pipeline that trains two fasttext models and output the better one\", \"default_compute_target\": {\"name\": \"aml-compute\"}, \"default_data_store\": {\"data_store_name\": \"workspaceblobstore\"}, \"id\": \"5ba21713-7b93-4a38-9f24-78c67886d19a\", \"pipeline_definition_id\": \"27be9691-eabb-4756-a232-47ecd2f76112\", \"sub_graph_parameter_assignment\": [], \"sub_graph_data_path_parameter_assignment\": [], \"sub_graph_default_compute_target_nodes\": [\"e64eb867\"], \"sub_graph_default_data_store_nodes\": [\"e64eb867\"], \"inputs\": [], \"outputs\": [{\"name\": \"the_better_model\", \"internal\": [{\"node_id\": \"e64eb867\", \"port_name\": \"The_better_model\"}], \"external\": []}]}, {\"name\": \"sub_pipeline\", \"description\": \"A sub pipeline including processes of data processing/train/evaluation\", \"default_compute_target\": {\"name\": \"aml-compute\"}, \"default_data_store\": {\"data_store_name\": \"workspaceblobstore\"}, \"id\": \"00806bac-56ca-4cb8-9725-1f6f62e41e73\", \"parent_graph_id\": \"5ba21713-7b93-4a38-9f24-78c67886d19a\", \"pipeline_definition_id\": \"2710de10-5c0c-468d-b6a7-c04375d04d0b\", \"sub_graph_parameter_assignment\": [{\"parameter\": {\"name\": \"epochs\"}, \"parameter_assignments\": [{\"node_id\": \"eb7583e8\", \"parameter_name\": \"Epochs\"}]}], \"sub_graph_data_path_parameter_assignment\": [], \"sub_graph_default_compute_target_nodes\": [\"9aa5a18a\", \"eb7583e8\", \"a8ac1d0b\"], \"sub_graph_default_data_store_nodes\": [], \"inputs\": [], \"outputs\": [{\"name\": \"model_testing_result\", \"internal\": [{\"node_id\": \"a8ac1d0b\", \"port_name\": \"Model_testing_result\"}], \"external\": [{\"node_id\": \"e64eb867\", \"port_name\": \"First_trained_result\"}]}, {\"name\": \"trained_model_dir\", \"internal\": [{\"node_id\": \"eb7583e8\", \"port_name\": \"Trained_model_dir\"}], \"external\": [{\"node_id\": \"a8ac1d0b\", \"port_name\": \"Trained_model_dir\"}, {\"node_id\": \"e64eb867\", \"port_name\": \"First_trained_model\"}]}]}, {\"name\": \"sub_pipeline\", \"description\": \"A sub pipeline including processes of data processing/train/evaluation\", \"default_compute_target\": {\"name\": \"aml-compute\"}, \"default_data_store\": {\"data_store_name\": \"workspaceblobstore\"}, \"id\": \"63408e47-38f6-4a7a-a1fd-29b295acec62\", \"parent_graph_id\": \"5ba21713-7b93-4a38-9f24-78c67886d19a\", \"pipeline_definition_id\": \"2710de10-5c0c-468d-b6a7-c04375d04d0b\", \"sub_graph_parameter_assignment\": [{\"parameter\": {\"name\": \"epochs\"}, \"parameter_assignments\": [{\"node_id\": \"0ee59f8a\", \"parameter_name\": \"Epochs\"}]}], \"sub_graph_data_path_parameter_assignment\": [], \"sub_graph_default_compute_target_nodes\": [\"883842f1\", \"0ee59f8a\", \"3dddc490\"], \"sub_graph_default_data_store_nodes\": [], \"inputs\": [], \"outputs\": [{\"name\": \"model_testing_result\", \"internal\": [{\"node_id\": \"3dddc490\", \"port_name\": \"Model_testing_result\"}], \"external\": [{\"node_id\": \"e64eb867\", \"port_name\": \"Second_trained_result\"}]}, {\"name\": \"trained_model_dir\", \"internal\": [{\"node_id\": \"0ee59f8a\", \"port_name\": \"Trained_model_dir\"}], \"external\": [{\"node_id\": \"3dddc490\", \"port_name\": \"Trained_model_dir\"}, {\"node_id\": \"e64eb867\", \"port_name\": \"Second_trained_model\"}]}]}], \"nodeIdToSubGraphIdMapping\": {\"9aa5a18a\": \"00806bac-56ca-4cb8-9725-1f6f62e41e73\", \"eb7583e8\": \"00806bac-56ca-4cb8-9725-1f6f62e41e73\", \"a8ac1d0b\": \"00806bac-56ca-4cb8-9725-1f6f62e41e73\", \"883842f1\": \"63408e47-38f6-4a7a-a1fd-29b295acec62\", \"0ee59f8a\": \"63408e47-38f6-4a7a-a1fd-29b295acec62\", \"3dddc490\": \"63408e47-38f6-4a7a-a1fd-29b295acec62\", \"e64eb867\": \"5ba21713-7b93-4a38-9f24-78c67886d19a\"}, \"subPipelineDefinition\": [{\"name\": \"fasttext_pipeline\", \"description\": \"The pipeline that trains two fasttext models and output the better one\", \"default_compute_target\": {\"name\": \"aml-compute\"}, \"default_data_store\": {\"data_store_name\": \"workspaceblobstore\"}, \"pipeline_function_name\": \"fasttext_pipeline\", \"id\": \"27be9691-eabb-4756-a232-47ecd2f76112\", \"from_module_name\": \"__main__\", \"parameter_list\": []}, {\"name\": \"sub_pipeline\", \"description\": \"A sub pipeline including processes of data processing/train/evaluation\", \"default_compute_target\": {\"name\": \"aml-compute\"}, \"default_data_store\": {\"data_store_name\": \"workspaceblobstore\"}, \"pipeline_function_name\": \"training_pipeline\", \"id\": \"2710de10-5c0c-468d-b6a7-c04375d04d0b\", \"from_module_name\": \"__main__\", \"parameter_list\": [{\"key\": \"epochs\"}]}]};\n",
       "                window.graph_json_to_compare=undefined;\n",
       "                window.env_json={};\n",
       "                window.before_script = performance.now();\n",
       "                var script = document.createElement('script')\n",
       "                script.src = \"https://yucongj.azureedge.net/libs/prod/0.0.8/index.js\"\n",
       "                document.getElementById(\"container_id_f2c4ac38-dc20-4143-a4a2-9afdbce69415_script\").appendChild(script)\n",
       "            })()\n",
       "        </script>\n",
       "        "
      ],
      "text/plain": [
       "<IPython.core.display.HTML object>"
      ]
     },
     "metadata": {},
     "output_type": "display_data"
    },
    {
     "data": {
      "text/plain": [
       "<RunStatus.completed: 'Completed'>"
      ]
     },
     "execution_count": 10,
     "metadata": {},
     "output_type": "execute_result"
    }
   ],
   "source": [
    "# run the pipeline\n",
    "experiment_name = 'fasttext_pipeline'\n",
    "# regenerate_outputs indicates whether to force regeneration of all step outputs and disallow data reuse for this run\n",
    "# if regenerate_outputs is False, this run may reuse results from previous runs and subsequent runs may reuse the results of this run\n",
    "pipeline_run = pipeline.submit(experiment_name=experiment_name, regenerate_outputs=False)\n",
    "# wait_for_completion() visualize the execution process of the pipeline\n",
    "# you could also view this process on Azure Machine Learning Portal\n",
    "pipeline_run.wait_for_completion()"
   ]
  }
 ],
 "metadata": {
  "kernelspec": {
   "display_name": "Python 3.6 - AzureML",
   "language": "python",
   "name": "python3-azureml"
  },
  "language_info": {
   "codemirror_mode": {
    "name": "ipython",
    "version": 3
   },
   "file_extension": ".py",
   "mimetype": "text/x-python",
   "name": "python",
   "nbconvert_exporter": "python",
   "pygments_lexer": "ipython3",
   "version": "3.6.9"
  },
  "widgets": {
   "application/vnd.jupyter.widget-state+json": {
    "state": {},
    "version_major": 2,
    "version_minor": 0
   }
  }
 },
 "nbformat": 4,
 "nbformat_minor": 4
}
