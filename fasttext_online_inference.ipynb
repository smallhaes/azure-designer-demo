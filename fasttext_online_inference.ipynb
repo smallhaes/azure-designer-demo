{
 "cells": [
  {
   "cell_type": "markdown",
   "source": [
    "Copyright (c) Microsoft Corporation. All rights reserved.  \n",
    "Licensed under the MIT License."
   ],
   "metadata": {
    "collapsed": false,
    "pycharm": {
     "name": "#%% md\n"
    }
   }
  },
  {
   "cell_type": "markdown",
   "source": [
    "# Using Azure Machine Learning Pipelines for Batch Inference\n",
    "\n",
    "In this notebook, we will demonstrate how to make predictions on large quantities of data asynchronously using the ML pipelines with Azure Machine Learning. Batch inference (or batch scoring) provides cost-effective inference, with unparalleled throughput for asynchronous applications. Batch prediction pipelines can scale to perform inference on terabytes of production data. Batch prediction is optimized for high throughput, fire-and-forget predictions for a large collection of data.\n",
    "\n",
    "> **Tip**\n",
    "The dadaset we use is not that huge. We aim to make you know the whole process of batch inference. If your system requires low-latency processing (to process a single document or small set of documents quickly), use [real-time scoring](https://docs.microsoft.com/en-us/azure/machine-learning/service/how-to-consume-web-service) instead of batch prediction.\n",
    "\n",
    "The outline of this notebook is as follows:\n",
    "\n",
    "- Create a DataStore referencing documents stored in a blob container.\n",
    "- Reference a trained fastText model from a complete experiment.\n",
    "- Use the fastText model to do batch inference on the documents in the data blob container.\n",
    "\n",
    "## Prerequisites\n",
    "If you are using an Azure Machine Learning Notebook VM, you are all set. Otherwise, make sure you go through the configuration Notebook located at https://github.com/Azure/MachineLearningNotebooks first. This sets you up with a working config file that has information on your workspace, subscription id, etc.\n"
   ],
   "metadata": {
    "collapsed": false,
    "pycharm": {
     "name": "#%% md\n"
    }
   }
  },
  {
   "cell_type": "code",
   "execution_count": 1,
   "metadata": {
    "pycharm": {
     "name": "#%%\n"
    }
   },
   "outputs": [],
   "source": [
    "import os\n",
    "from azureml.core import Model, Workspace\n",
    "from azureml.core.authentication import InteractiveLoginAuthentication\n",
    "from azureml.core.compute import AksCompute, ComputeTarget\n",
    "from azureml.core.environment import Environment\n",
    "from azureml.core.experiment import Experiment\n",
    "from azureml.core.model import InferenceConfig\n",
    "from azureml.core.webservice import LocalWebservice, AciWebservice, AksWebservice\n",
    "from azureml.pipeline.wrapper import PipelineRun"
   ]
  },
  {
   "cell_type": "markdown",
   "metadata": {},
   "source": [
    "### Connect to workspace\n",
    "Create a workspace object from the existing workspace. Workspace.from_config() reads the file config.json and loads the details into an object named workspace.\n"
   ]
  },
  {
   "cell_type": "code",
   "execution_count": 2,
   "metadata": {
    "pycharm": {
     "name": "#%%\n"
    }
   },
   "outputs": [
    {
     "name": "stdout",
     "output_type": "stream",
     "text": [
      "fundamental3\n",
      "fundamental\n",
      "eastasia\n",
      "4f455bd0-f95a-4b7d-8d08-078611508e0b\n",
      "dict_keys(['myaks2', 'aml-compute', 'my-compute', 'compute-deploy'])\n"
     ]
    }
   ],
   "source": [
    "tenant_id = \"72f988bf-86f1-41af-91ab-2d7cd011db47\"\n",
    "InteractiveLoginAuthentication(tenant_id=tenant_id)\n",
    "workspace = Workspace.from_config('config.json')\n",
    "print(workspace.name, workspace.resource_group, workspace.location, workspace.subscription_id,\n",
    "      workspace.compute_targets.keys(), sep='\\n')"
   ]
  },
  {
   "cell_type": "markdown",
   "metadata": {},
   "source": [
    "### Get a list of experiment names from the workspace"
   ]
  },
  {
   "cell_type": "code",
   "execution_count": 3,
   "metadata": {
    "scrolled": true
   },
   "outputs": [
    {
     "data": {
      "text/plain": [
       "['fasttext_test',\n",
       " 'sample-pipelines',\n",
       " 'automobile',\n",
       " 'fasttext_predict',\n",
       " 'sample-pipelines2',\n",
       " 'fasttext_with_two_training_process',\n",
       " 'train-within-notebook',\n",
       " 'train-on-local',\n",
       " 'logging-api-test',\n",
       " 'fasttext_with_one_training_process',\n",
       " 'fasttext_train',\n",
       " 'my_test',\n",
       " 'split_data_txt',\n",
       " 'compare_two_models',\n",
       " 'yucongj-test',\n",
       " 'fasttext_parallel_score',\n",
       " 'parallel',\n",
       " 'dir',\n",
       " 'test0717',\n",
       " 'test_0727',\n",
       " 'test_0727_experiment',\n",
       " 'localtest',\n",
       " 'mpi_0729',\n",
       " 'mpi_0729_experiment',\n",
       " 'test',\n",
       " 'para_0729',\n",
       " 'para_0729_experiment',\n",
       " 'basic_0721',\n",
       " 'basic_0721_experiment',\n",
       " 'deploy',\n",
       " 'fasttext_training_process',\n",
       " 'fasttext_batch_inference']"
      ]
     },
     "execution_count": 3,
     "metadata": {},
     "output_type": "execute_result"
    }
   ],
   "source": [
    "exp_name_list = [exp.name for exp in Experiment.list(workspace)]\n",
    "exp_name_list"
   ]
  },
  {
   "cell_type": "markdown",
   "metadata": {},
   "source": [
    "### Choose the experiment you want with its name"
   ]
  },
  {
   "cell_type": "code",
   "execution_count": 4,
   "metadata": {},
   "outputs": [
    {
     "data": {
      "text/html": [
       "<table style=\"width:100%\"><tr><th>Name</th><th>Workspace</th><th>Report Page</th><th>Docs Page</th></tr><tr><td>fasttext_training_process</td><td>fundamental3</td><td><a href=\"https://ml.azure.com/experiments/fasttext_training_process?wsid=/subscriptions/4f455bd0-f95a-4b7d-8d08-078611508e0b/resourcegroups/fundamental/workspaces/fundamental3\" target=\"_blank\" rel=\"noopener\">Link to Azure Machine Learning studio</a></td><td><a href=\"https://docs.microsoft.com/en-us/python/api/azureml-core/azureml.core.experiment.Experiment?view=azure-ml-py\" target=\"_blank\" rel=\"noopener\">Link to Documentation</a></td></tr></table>"
      ],
      "text/plain": [
       "Experiment(Name: fasttext_training_process,\n",
       "Workspace: fundamental3)"
      ]
     },
     "execution_count": 4,
     "metadata": {},
     "output_type": "execute_result"
    }
   ],
   "source": [
    "experiment_name = \"fasttext_training_process\"\n",
    "experiment = Experiment(workspace, experiment_name)\n",
    "experiment"
   ]
  },
  {
   "cell_type": "code",
   "execution_count": 5,
   "metadata": {},
   "outputs": [
    {
     "data": {
      "text/html": [
       "<table style=\"width:100%\"><tr><th>Experiment</th><th>Id</th><th>Type</th><th>Status</th><th>Details Page</th><th>Docs Page</th></tr><tr><td>fasttext_training_process</td><td>ee7d355b-48e2-46a1-a803-f878ff7a549f</td><td>azureml.PipelineRun</td><td>Completed</td><td><a href=\"https://ml.azure.com/experiments/fasttext_training_process/runs/ee7d355b-48e2-46a1-a803-f878ff7a549f?wsid=/subscriptions/4f455bd0-f95a-4b7d-8d08-078611508e0b/resourcegroups/fundamental/workspaces/fundamental3\" target=\"_blank\" rel=\"noopener\">Link to Azure Machine Learning studio</a></td><td><a href=\"https://docs.microsoft.com/en-us/python/api/overview/azure/ml/intro?view=azure-ml-py\" target=\"_blank\" rel=\"noopener\">Link to Documentation</a></td></tr></table>"
      ],
      "text/plain": [
       "Run(Experiment: fasttext_training_process,\n",
       "Id: ee7d355b-48e2-46a1-a803-f878ff7a549f,\n",
       "Type: azureml.PipelineRun,\n",
       "Status: Completed)"
      ]
     },
     "execution_count": 5,
     "metadata": {},
     "output_type": "execute_result"
    }
   ],
   "source": [
    "# azureml.pipeline.core.run.PipelineRun\n",
    "run = experiment.get_runs().__next__()\n",
    "run"
   ]
  },
  {
   "cell_type": "markdown",
   "metadata": {},
   "source": [
    "### Get a PipelineRun object"
   ]
  },
  {
   "cell_type": "code",
   "execution_count": 6,
   "metadata": {},
   "outputs": [
    {
     "data": {
      "text/html": [
       "<table style=\"width:100%\"><tr><th>Experiment</th><th>Id</th><th>Type</th><th>Status</th><th>Details Page</th><th>Docs Page</th></tr><tr><td>fasttext_training_process</td><td>ee7d355b-48e2-46a1-a803-f878ff7a549f</td><td>azureml.PipelineRun</td><td>Completed</td><td><a href=\"https://ml.azure.com/experiments/fasttext_training_process/runs/ee7d355b-48e2-46a1-a803-f878ff7a549f?wsid=/subscriptions/4f455bd0-f95a-4b7d-8d08-078611508e0b/resourcegroups/fundamental/workspaces/fundamental3\" target=\"_blank\" rel=\"noopener\">Link to Azure Machine Learning studio</a></td><td><a href=\"https://docs.microsoft.com/en-us/python/api/overview/azure/ml/intro?view=azure-ml-py\" target=\"_blank\" rel=\"noopener\">Link to Documentation</a></td></tr></table>"
      ],
      "text/plain": [
       "Run(Experiment: fasttext_training_process,\n",
       "Id: ee7d355b-48e2-46a1-a803-f878ff7a549f,\n",
       "Type: azureml.PipelineRun,\n",
       "Status: Completed)"
      ]
     },
     "execution_count": 6,
     "metadata": {},
     "output_type": "execute_result"
    }
   ],
   "source": [
    "run_id = run.id\n",
    "# azureml.pipeline.wrapper._pipeline_run.PipelineRun\n",
    "pipeline_run = PipelineRun(experiment, run_id)\n",
    "pipeline_run"
   ]
  },
  {
   "cell_type": "markdown",
   "metadata": {},
   "source": [
    "### Visualize the pipeline"
   ]
  },
  {
   "cell_type": "code",
   "execution_count": 7,
   "metadata": {},
   "outputs": [],
   "source": [
    "# To do"
   ]
  },
  {
   "cell_type": "code",
   "execution_count": 8,
   "metadata": {},
   "outputs": [
    {
     "name": "stdout",
     "output_type": "stream",
     "text": [
      "StepRun(Experiment: fasttext_training_process,\n",
      "Id: a0ffbff0-8961-4281-87b2-83459dcacc62,\n",
      "Type: azureml.StepRun,\n",
      "Status: Completed) \n",
      "\n",
      "\n",
      "StepRun(Experiment: fasttext_training_process,\n",
      "Id: df736570-dd90-4eda-a6d6-048f7e30ccdb,\n",
      "Type: azureml.StepRun,\n",
      "Status: Completed) \n",
      "\n",
      "\n"
     ]
    }
   ],
   "source": [
    "# name will be from the visualization result.\n",
    "step_run_list = pipeline_run.PipelineRun_find_step_run(name='FastText Train')\n",
    "for s in step_run_list:\n",
    "    print(s,'\\n\\n')"
   ]
  },
  {
   "cell_type": "markdown",
   "metadata": {},
   "source": [
    "### Get a StepRun object"
   ]
  },
  {
   "cell_type": "code",
   "execution_count": 9,
   "metadata": {},
   "outputs": [
    {
     "data": {
      "text/html": [
       "<table style=\"width:100%\"><tr><th>Experiment</th><th>Id</th><th>Type</th><th>Status</th><th>Details Page</th><th>Docs Page</th></tr><tr><td>fasttext_training_process</td><td>530c79d5-3304-4cbe-92af-c45ce31fe98b</td><td>azureml.StepRun</td><td>Completed</td><td><a href=\"https://ml.azure.com/experiments/fasttext_training_process/runs/530c79d5-3304-4cbe-92af-c45ce31fe98b?wsid=/subscriptions/4f455bd0-f95a-4b7d-8d08-078611508e0b/resourcegroups/fundamental/workspaces/fundamental3\" target=\"_blank\" rel=\"noopener\">Link to Azure Machine Learning studio</a></td><td><a href=\"https://docs.microsoft.com/en-us/python/api/overview/azure/ml/intro?view=azure-ml-py\" target=\"_blank\" rel=\"noopener\">Link to Documentation</a></td></tr></table>"
      ],
      "text/plain": [
       "StepRun(Experiment: fasttext_training_process,\n",
       "Id: 530c79d5-3304-4cbe-92af-c45ce31fe98b,\n",
       "Type: azureml.StepRun,\n",
       "Status: Completed)"
      ]
     },
     "execution_count": 9,
     "metadata": {},
     "output_type": "execute_result"
    }
   ],
   "source": [
    "# step_run_id will be from the visualization result.\n",
    "step_run_id = '530c79d5-3304-4cbe-92af-c45ce31fe98b'\n",
    "step_run = pipeline_run.get_step_run(step_run_id)\n",
    "step_run"
   ]
  },
  {
   "cell_type": "markdown",
   "metadata": {},
   "source": [
    "### Download the trained model from azure storage"
   ]
  },
  {
   "cell_type": "code",
   "execution_count": 10,
   "metadata": {},
   "outputs": [
    {
     "name": "stdout",
     "output_type": "stream",
     "text": [
      "Downloading azureml/530c79d5-3304-4cbe-92af-c45ce31fe98b/The_better_model/BestModel\n",
      "Downloading azureml/530c79d5-3304-4cbe-92af-c45ce31fe98b/The_better_model/label.txt\n",
      "Downloading azureml/530c79d5-3304-4cbe-92af-c45ce31fe98b/The_better_model/word_to_index.json\n",
      "Downloaded azureml/530c79d5-3304-4cbe-92af-c45ce31fe98b/The_better_model/label.txt, 1 files out of an estimated total of 3\n",
      "Downloaded azureml/530c79d5-3304-4cbe-92af-c45ce31fe98b/The_better_model/word_to_index.json, 2 files out of an estimated total of 3\n",
      "Downloaded azureml/530c79d5-3304-4cbe-92af-c45ce31fe98b/The_better_model/BestModel, 3 files out of an estimated total of 3\n",
      "model save at: /tmp/azureml/530c79d5-3304-4cbe-92af-c45ce31fe98b/The_better_model\n"
     ]
    }
   ],
   "source": [
    "# name will be from the visualization result.\n",
    "# get_port() should supports three kinds of names: (1)the_better_model (2)The better model (3)The_better_model\n",
    "port = step_run.get_port(name='The_better_model')\n",
    "saved_path = port.download(overwrite=True)\n",
    "print('model save at: {}'.format(saved_path))"
   ]
  },
  {
   "cell_type": "markdown",
   "metadata": {},
   "source": [
    "### Register the trained model for deployment"
   ]
  },
  {
   "cell_type": "code",
   "execution_count": 11,
   "metadata": {
    "tags": []
   },
   "outputs": [
    {
     "name": "stdout",
     "output_type": "stream",
     "text": [
      "Registering model model_for_deployment\n"
     ]
    },
    {
     "data": {
      "text/plain": [
       "Model(workspace=Workspace.create(name='fundamental3', subscription_id='4f455bd0-f95a-4b7d-8d08-078611508e0b', resource_group='fundamental'), name=model_for_deployment, id=model_for_deployment:7, version=7, tags={}, properties={})"
      ]
     },
     "execution_count": 11,
     "metadata": {},
     "output_type": "execute_result"
    }
   ],
   "source": [
    "model_path = saved_path\n",
    "model = Model.register(workspace, model_path=saved_path, model_name='model_for_deployment')\n",
    "model"
   ]
  },
  {
   "cell_type": "markdown",
   "metadata": {},
   "source": [
    "### Get an Environment object"
   ]
  },
  {
   "cell_type": "code",
   "execution_count": 12,
   "metadata": {
    "pycharm": {
     "name": "#%%\n"
    }
   },
   "outputs": [],
   "source": [
    "env_list = Environment.list(workspace)\n",
    "name = 'env_for_deployment'\n",
    "if name not in env_list:\n",
    "    file_path = 'deployment/env_for_deployment.yaml'\n",
    "    env = Environment.from_conda_specification(name=name, file_path=file_path)\n",
    "    env = env.register(workspace=workspace)\n",
    "else:\n",
    "    env = Environment.get(workspace=workspace, name=name)"
   ]
  },
  {
   "cell_type": "markdown",
   "metadata": {},
   "source": [
    "### Define inference configuration"
   ]
  },
  {
   "cell_type": "code",
   "execution_count": 13,
   "metadata": {
    "tags": []
   },
   "outputs": [],
   "source": [
    "entry_script = 'scoring_for_deployment.py'\n",
    "source_directory = 'deployment'\n",
    "inference_config = InferenceConfig(entry_script=entry_script, source_directory=source_directory,\n",
    "                                   environment=env)"
   ]
  },
  {
   "cell_type": "markdown",
   "metadata": {},
   "source": [
    "### Deploy locally"
   ]
  },
  {
   "cell_type": "code",
   "execution_count": 14,
   "metadata": {
    "scrolled": true,
    "tags": []
   },
   "outputs": [
    {
     "name": "stdout",
     "output_type": "stream",
     "text": [
      "Downloading model model_for_deployment:7 to /tmp/azureml_s53owlv_/model_for_deployment/7\n",
      "Generating Docker build context.\n",
      "Package creation Succeeded\n",
      "Logging into Docker registry fundamental33c005c1f.azurecr.io\n",
      "Logging into Docker registry fundamental33c005c1f.azurecr.io\n",
      "Building Docker image from Dockerfile...\n",
      "Step 1/5 : FROM fundamental33c005c1f.azurecr.io/azureml/azureml_ac0df2cc6dbad51226a8d176555b98dc\n",
      " ---> 0b06c2e718e3\n",
      "Step 2/5 : COPY azureml-app /var/azureml-app\n",
      " ---> 159ee9cd6605\n",
      "Step 3/5 : RUN mkdir -p '/var/azureml-app' && echo eyJhY2NvdW50Q29udGV4dCI6eyJzdWJzY3JpcHRpb25JZCI6IjRmNDU1YmQwLWY5NWEtNGI3ZC04ZDA4LTA3ODYxMTUwOGUwYiIsInJlc291cmNlR3JvdXBOYW1lIjoiZnVuZGFtZW50YWwiLCJhY2NvdW50TmFtZSI6ImZ1bmRhbWVudGFsMyIsIndvcmtzcGFjZUlkIjoiYTdjMmFjYWEtYzhmMS00NDhiLWI4OTQtYzJlN2E3MWIzYTMyIn0sIm1vZGVscyI6e30sIm1vZGVsc0luZm8iOnt9fQ== | base64 --decode > /var/azureml-app/model_config_map.json\n",
      " ---> Running in 00362b855bd4\n",
      " ---> 5bc0ad4c3d8b\n",
      "Step 4/5 : RUN mv '/var/azureml-app/tmpx0e1o1qo.py' /var/azureml-app/main.py\n",
      " ---> Running in 24b7484cef51\n",
      " ---> 046d566d874d\n",
      "Step 5/5 : CMD [\"runsvdir\",\"/var/runit\"]\n",
      " ---> Running in d7817a23d7af\n",
      " ---> 531e9b664d7a\n",
      "Successfully built 531e9b664d7a\n",
      "Successfully tagged local-deploy-test:latest\n",
      "Container has been successfully cleaned up.\n",
      "Image sha256:0362e50f382c336f0dd8a53b2a7078bee746be596cae99b5252035a86959196f successfully removed.\n",
      "Starting Docker container...\n",
      "Docker container running.\n",
      "Checking container health...\n",
      "Local webservice is running at http://localhost:8892\n",
      "running\n",
      "2020-08-12T13:14:36,871481218+00:00 - gunicorn/run \n",
      "2020-08-12T13:14:36,871533818+00:00 - iot-server/run \n",
      "2020-08-12T13:14:36,875513741+00:00 - rsyslog/run \n",
      "2020-08-12T13:14:36,882389781+00:00 - nginx/run \n",
      "/usr/sbin/nginx: /azureml-envs/azureml_8b5696d46225932816e569ad3032e43e/lib/libcrypto.so.1.0.0: no version information available (required by /usr/sbin/nginx)\n",
      "/usr/sbin/nginx: /azureml-envs/azureml_8b5696d46225932816e569ad3032e43e/lib/libcrypto.so.1.0.0: no version information available (required by /usr/sbin/nginx)\n",
      "/usr/sbin/nginx: /azureml-envs/azureml_8b5696d46225932816e569ad3032e43e/lib/libssl.so.1.0.0: no version information available (required by /usr/sbin/nginx)\n",
      "/usr/sbin/nginx: /azureml-envs/azureml_8b5696d46225932816e569ad3032e43e/lib/libssl.so.1.0.0: no version information available (required by /usr/sbin/nginx)\n",
      "/usr/sbin/nginx: /azureml-envs/azureml_8b5696d46225932816e569ad3032e43e/lib/libssl.so.1.0.0: no version information available (required by /usr/sbin/nginx)\n",
      "EdgeHubConnectionString and IOTEDGE_IOTHUBHOSTNAME are not set. Exiting...\n",
      "2020-08-12T13:14:36,956852712+00:00 - iot-server/finish 1 0\n",
      "2020-08-12T13:14:36,958071719+00:00 - Exit code 1 is normal. Not restarting iot-server.\n",
      "Starting gunicorn 19.9.0\n",
      "Listening at: http://127.0.0.1:31311 (11)\n",
      "Using worker: sync\n",
      "worker timeout is set to 300\n",
      "Booting worker with pid: 42\n",
      "Initialized PySpark session.\n",
      "Initializing logger\n",
      "Starting up app insights client\n",
      "Starting up request id generator\n",
      "Starting up app insight hooks\n",
      "Invoking user's init function\n",
      "Users's init has completed successfully\n",
      "Skipping middleware: dbg_model_info as it's not enabled.\n",
      "Scoring timeout setting is not found. Use default timeout: 3600000 ms\n",
      "\n"
     ]
    }
   ],
   "source": [
    "service_name = 'local-deploy-test'\n",
    "models = [model]\n",
    "port = 8892\n",
    "deployment_config = LocalWebservice.deploy_configuration(port=port)\n",
    "service_locally = Model.deploy(workspace=workspace, name=service_name, models=models, inference_config=inference_config,\n",
    "                               deployment_config=deployment_config)\n",
    "service_locally.wait_for_deployment(show_output=True)\n",
    "print(service_locally.state)\n",
    "print(service_locally.get_logs())"
   ]
  },
  {
   "cell_type": "markdown",
   "metadata": {},
   "source": [
    "### Deploy to ACI (Azure Container Instances)\n",
    "- Every time we deploy to ACI, we need to change the service_name or we delete the existing service beforehand.\n",
    "- To delete the existing service, let overwrite be True."
   ]
  },
  {
   "cell_type": "code",
   "execution_count": 39,
   "metadata": {
    "pycharm": {
     "name": "#%%\n"
    },
    "tags": []
   },
   "outputs": [
    {
     "name": "stdout",
     "output_type": "stream",
     "text": [
      "Running.......\n",
      "Succeeded\n",
      "ACI service creation operation finished, operation \"Succeeded\"\n",
      "Healthy\n"
     ]
    }
   ],
   "source": [
    "service_name = 'aci-deploy-test'\n",
    "models = [model]\n",
    "deployment_config = AciWebservice.deploy_configuration(cpu_cores=1, memory_gb=1)\n",
    "service_aci = Model.deploy(workspace, service_name, models=models, inference_config=inference_config,\n",
    "                           deployment_config=deployment_config, overwrite=True)\n",
    "service_aci.wait_for_deployment(show_output=True)\n",
    "print(service_aci.state)"
   ]
  },
  {
   "cell_type": "markdown",
   "metadata": {},
   "source": [
    "### Deploy to AKS (Azure Kubernetes Service)"
   ]
  },
  {
   "cell_type": "code",
   "execution_count": 40,
   "metadata": {
    "pycharm": {
     "name": "#%%\n"
    },
    "scrolled": true
   },
   "outputs": [],
   "source": [
    "aks_subscription_id = '74eccef0-4b8d-4f83-b5f9-fa100d155b22'\n",
    "aks_resource_group = 'DesignerDRI'\n",
    "aks_workspace_name = 'DesignerDRI_EASTUS'\n",
    "aks_workspace = Workspace(aks_subscription_id, aks_resource_group, aks_workspace_name)"
   ]
  },
  {
   "cell_type": "code",
   "execution_count": 41,
   "metadata": {
    "pycharm": {
     "name": "#%%\n"
    },
    "scrolled": true
   },
   "outputs": [
    {
     "name": "stdout",
     "output_type": "stream",
     "text": [
      "Registering model model_for_deploy\n"
     ]
    }
   ],
   "source": [
    "# register model in this workspace\n",
    "model = Model.register(aks_workspace, model_path=model_path, model_name='model_for_deploy', tags={'deploy': 1})"
   ]
  },
  {
   "cell_type": "code",
   "execution_count": 42,
   "metadata": {
    "scrolled": false
   },
   "outputs": [
    {
     "data": {
      "text/plain": [
       "AksCompute(workspace=Workspace.create(name='DesignerDRI_EASTUS', subscription_id='74eccef0-4b8d-4f83-b5f9-fa100d155b22', resource_group='DesignerDRI'), name=attached-aks, id=/subscriptions/74eccef0-4b8d-4f83-b5f9-fa100d155b22/resourceGroups/DesignerDRI/providers/Microsoft.MachineLearningServices/workspaces/DesignerDRI_EASTUS/computes/attached-aks, type=AKS, provisioning_state=Succeeded, location=eastus, tags=None)"
      ]
     },
     "execution_count": 42,
     "metadata": {},
     "output_type": "execute_result"
    }
   ],
   "source": [
    "# load aks_target\n",
    "name = 'attached-aks'\n",
    "compute_target_name_list = [target.name for target in AksCompute.list(aks_workspace)]\n",
    "if not name in compute_target_name_list:\n",
    "    aks_resource_group = 'AmlStudioV2DRI'\n",
    "    cluster_name = 'aks-dev-6node33512023a'\n",
    "    attach_config = AksCompute.attach_configuration(resource_group=aks_resource_group, cluster_name=cluster_name)\n",
    "    aks_target = ComputeTarget.attach(aks_workspace, name, attach_config)\n",
    "    aks_target.wait_for_completion(show_output=True)\n",
    "else:\n",
    "    aks_target = AksCompute(aks_workspace, name)\n",
    "aks_target = AksCompute(aks_workspace, name)\n",
    "aks_target"
   ]
  },
  {
   "cell_type": "markdown",
   "metadata": {},
   "source": [
    "### deploy to AKS (Azure Kubernetes Service)\n",
    "- every time we deploy to AKS, we need to change the service_name or we delete the existing service beforehand"
   ]
  },
  {
   "cell_type": "code",
   "execution_count": 43,
   "metadata": {},
   "outputs": [
    {
     "name": "stdout",
     "output_type": "stream",
     "text": [
      "Running...\n",
      "Succeeded\n",
      "AKS service creation operation finished, operation \"Succeeded\"\n",
      "Healthy\n"
     ]
    }
   ],
   "source": [
    "# deploy to AKS (Azure Kubernetes Service)\n",
    "# every time we deploy to AKS, we need to change the service_name or we delete the existing service beforehand\n",
    "service_name = 'aks-deploy-test'\n",
    "services = aks_workspace.webservices\n",
    "if service_name in services:\n",
    "    services[service_name].delete()\n",
    "models = [model]\n",
    "token_auth_enabled = True\n",
    "# Only one type of Auth may be enabled\n",
    "if token_auth_enabled:\n",
    "    # key auth\n",
    "    auth_enabled = False\n",
    "else:\n",
    "    auth_enabled = True\n",
    "\n",
    "deployment_config = AksWebservice.deploy_configuration(cpu_cores=1, memory_gb=1,\n",
    "                                                       token_auth_enabled=token_auth_enabled,\n",
    "                                                       auth_enabled=auth_enabled)\n",
    "service_aks = Model.deploy(aks_workspace, service_name, models, inference_config, deployment_config, aks_target)\n",
    "service_aks.wait_for_deployment(show_output=True)\n",
    "print(service_aks.state)"
   ]
  },
  {
   "cell_type": "markdown",
   "metadata": {},
   "source": [
    "### Consume the service"
   ]
  },
  {
   "cell_type": "code",
   "execution_count": 17,
   "metadata": {},
   "outputs": [
    {
     "name": "stdout",
     "output_type": "stream",
     "text": [
      "http://localhost:8892/score\n",
      "<Response [200]>\n",
      "b'\"stocks\"'\n",
      "stocks\n"
     ]
    }
   ],
   "source": [
    "### Get a StepRun object# consume\n",
    "import requests\n",
    "import json\n",
    "from azureml.core.authentication import InteractiveLoginAuthentication\n",
    "\n",
    "# Get a token to authenticate to the compute instance from remote\n",
    "interactive_auth = InteractiveLoginAuthentication()\n",
    "auth_header = interactive_auth.get_authentication_header()\n",
    "\n",
    "# Create and submit a request using the auth header\n",
    "headers = auth_header\n",
    "# Add content type header\n",
    "headers.update({'Content-Type': 'application/json'})\n",
    "# print(headers)\n",
    "\n",
    "\n",
    "standard_sample_input = {'param': {'input_sentence': '受疫情影响, 今年很多学生不得不在家上课'}}\n",
    "standard_sample_input = json.dumps(standard_sample_input)\n",
    "\n",
    "service = service_locally\n",
    "# service = service_aci\n",
    "\n",
    "# service = service_aks\n",
    "# token, refresh_by = service.get_token()\n",
    "# headers['Authorization']=f'Bearer {token}'\n",
    "\n",
    "\n",
    "response = requests.post(service.scoring_uri, data=standard_sample_input, headers=headers)\n",
    "print(service.scoring_uri)\n",
    "print(response)\n",
    "# print(response.status_code)\n",
    "# print(response.elapsed)\n",
    "print(response.content)\n",
    "print(response.json())"
   ]
  },
  {
   "cell_type": "code",
   "execution_count": null,
   "metadata": {},
   "outputs": [],
   "source": []
  }
 ],
 "metadata": {
  "kernelspec": {
   "display_name": "Python 3.6 - AzureML",
   "language": "python",
   "name": "python3-azureml"
  },
  "language_info": {
   "codemirror_mode": {
    "name": "ipython",
    "version": 3
   },
   "file_extension": ".py",
   "mimetype": "text/x-python",
   "name": "python",
   "nbconvert_exporter": "python",
   "pygments_lexer": "ipython3",
   "version": "3.6.9"
  },
  "widgets": {
   "application/vnd.jupyter.widget-state+json": {
    "state": {},
    "version_major": 2,
    "version_minor": 0
   }
  }
 },
 "nbformat": 4,
 "nbformat_minor": 4
}