{
 "cells": [
  {
   "cell_type": "code",
   "execution_count": 20,
   "metadata": {},
   "outputs": [],
   "source": [
    "from azureml.core import Model\n",
    "from azureml.core.model import InferenceConfig\n",
    "from azureml.core.environment import Environment\n",
    "from azureml.core.experiment import Experiment\n",
    "from azureml.pipeline.wrapper import PipelineRun\n",
    "from fasttext_pipeline_utils import choose_workspace, deploy_locally, deploy_to_ACI, deploy_to_AKS"
   ]
  },
  {
   "cell_type": "code",
   "execution_count": 2,
   "outputs": [
    {
     "name": "stderr",
     "output_type": "stream",
     "text": [
      "Warning: Falling back to use azure cli login credentials.\n",
      "If you run your code in unattended mode, i.e., where you can't give a user input, then we recommend to use ServicePrincipalAuthentication or MsiAuthentication.\n",
      "Please refer to aka.ms/aml-notebook-auth for different authentication mechanisms in azureml-sdk.\n"
     ]
    },
    {
     "name": "stdout",
     "output_type": "stream",
     "text": [
      "name: fundamental3\n",
      "resource_group fundamental\n",
      "location eastasia\n",
      "subscription_id 4f455bd0-f95a-4b7d-8d08-078611508e0b\n",
      "compute_targets dict_keys(['myaks2', 'aml-compute', 'my-compute', 'compute-deploy'])\n"
     ]
    }
   ],
   "source": [
    "# chose a workspace\n",
    "subscription_id = '4f455bd0-f95a-4b7d-8d08-078611508e0b'\n",
    "resource_group = 'fundamental'\n",
    "workspace_name = 'fundamental3'\n",
    "# set this if you have multiple tenant\n",
    "tenant_id=\"72f988bf-86f1-41af-91ab-2d7cd011db47\"\n",
    "workspace=choose_workspace(subscription_id, resource_group, workspace_name, tenant_id)"
   ],
   "metadata": {
    "collapsed": false,
    "pycharm": {
     "name": "#%%\n"
    }
   }
  },
  {
   "cell_type": "code",
   "execution_count": 3,
   "metadata": {},
   "outputs": [],
   "source": [
    "# get a PipelineRun object\n",
    "experiment_name = \"deploy\"\n",
    "experiment = Experiment(workspace, experiment_name)\n",
    "run_id = '6acca15a-fcd4-446c-ab41-bd64494c67e3'\n",
    "pipeline_run = PipelineRun(experiment, run_id)"
   ]
  },
  {
   "cell_type": "code",
   "execution_count": 7,
   "metadata": {},
   "outputs": [],
   "source": [
    "# get a StepRun object\n",
    "step_run = pipeline_run.find_step_run(name = 'FastText Train')[0]"
   ]
  },
  {
   "cell_type": "code",
   "execution_count": 12,
   "metadata": {},
   "outputs": [
    {
     "name": "stdout",
     "output_type": "stream",
     "text": [
      "input ports:\n",
      "Port(Name:Training data dir,\n",
      "Type:['AnyDirectory'],\n",
      "StepRun:Run(Experiment: deploy,\n",
      "Id: a07747b4-cfd9-4103-acb0-02f9fcaf4b83,\n",
      "Type: azureml.StepRun,\n",
      "Status: Completed)) \n",
      "\n",
      "Port(Name:Validation data dir,\n",
      "Type:['AnyDirectory'],\n",
      "StepRun:Run(Experiment: deploy,\n",
      "Id: a07747b4-cfd9-4103-acb0-02f9fcaf4b83,\n",
      "Type: azureml.StepRun,\n",
      "Status: Completed)) \n",
      "\n",
      "Port(Name:Char2index dir,\n",
      "Type:['AnyDirectory'],\n",
      "StepRun:Run(Experiment: deploy,\n",
      "Id: a07747b4-cfd9-4103-acb0-02f9fcaf4b83,\n",
      "Type: azureml.StepRun,\n",
      "Status: Completed)) \n",
      "\n",
      "\n",
      "\n",
      "output ports:\n",
      "Port(Name:Trained model dir,\n",
      "Type:['ModelDirectory'],\n",
      "StepRun:Run(Experiment: deploy,\n",
      "Id: a07747b4-cfd9-4103-acb0-02f9fcaf4b83,\n",
      "Type: azureml.StepRun,\n",
      "Status: Completed)) \n",
      "\n"
     ]
    }
   ],
   "source": [
    "# check ports\n",
    "print('input ports:')\n",
    "input_ports = step_run.input_ports\n",
    "for port in input_ports:\n",
    "    print(port,'\\n')\n",
    "output_ports = step_run.output_ports\n",
    "print('\\n\\noutput ports:')\n",
    "for port in output_ports:\n",
    "    print(port,'\\n')"
   ]
  },
  {
   "cell_type": "code",
   "execution_count": 15,
   "metadata": {},
   "outputs": [
    {
     "name": "stdout",
     "output_type": "stream",
     "text": [
      "Downloading azureml/a07747b4-cfd9-4103-acb0-02f9fcaf4b83/Trained_model_dir/BestModel\n",
      "Downloaded azureml/a07747b4-cfd9-4103-acb0-02f9fcaf4b83/Trained_model_dir/BestModel, 1 files out of an estimated total of 1\n",
      "model save at: data\\azureml/a07747b4-cfd9-4103-acb0-02f9fcaf4b83/Trained_model_dir\n"
     ]
    }
   ],
   "source": [
    "# download model from the output port of the Train module\n",
    "port = step_run.get_port(name='Trained model dir')\n",
    "saved_path = port.download(local_path='data', overwrite=True)\n",
    "print('model save at: {}'.format(saved_path))"
   ]
  },
  {
   "cell_type": "code",
   "execution_count": 18,
   "metadata": {
    "tags": []
   },
   "outputs": [
    {
     "name": "stdout",
     "output_type": "stream",
     "text": [
      "Registering model model_for_deploy\n"
     ]
    }
   ],
   "source": [
    "# register model for deployment\n",
    "model = Model.register(workspace, model_path=saved_path, model_name='model_for_deploy', tags={'deploy':1})"
   ]
  },
  {
   "cell_type": "code",
   "execution_count": 23,
   "metadata": {
    "tags": []
   },
   "outputs": [],
   "source": [
    "# register env if not registered before\n",
    "name='env_for_deployment'\n",
    "file_path='deployment/env_for_deployment.yaml'\n",
    "env = Environment.from_conda_specification(name=name, file_path=file_path)\n",
    "env = env.register(workspace=workspace)"
   ]
  },
  {
   "cell_type": "code",
   "execution_count": 24,
   "metadata": {
    "tags": []
   },
   "outputs": [],
   "source": [
    "# define inference configuration\n",
    "entry_script='scoring_for_deployment.py'\n",
    "version='1'\n",
    "source_directory='deployment'\n",
    "env = Environment.get(workspace=workspace, name=name, version=version)\n",
    "inference_config = InferenceConfig(entry_script=entry_script, source_directory=source_directory,\n",
    "                                       environment=env)"
   ]
  },
  {
   "cell_type": "code",
   "execution_count": 5,
   "metadata": {
    "scrolled": true,
    "tags": []
   },
   "outputs": [
    {
     "output_type": "stream",
     "name": "stdout",
     "text": "found the module of Split Data Txt\nfound the module of FastText Train\nfound the module of FastText Evaluation\nfound the module of FastText Score\n"
    }
   ],
   "source": [
    "# deploy locally\n",
    "service_name='local-deploy-test'\n",
    "models=[model]\n",
    "port=8892\n",
    "service_locally = deploy_locally(workspace, service_name, models, inference_config, port=port)\n",
    "print(service_locally.get_logs())"
   ]
  },
  {
   "cell_type": "code",
   "execution_count": null,
   "metadata": {
    "pycharm": {
     "name": "#%%\n",
     "is_executing": true
    },
    "tags": []
   },
   "outputs": [
    {
     "name": "stdout",
     "output_type": "stream",
     "text": [
      "Running........................................................................................................................................................."
     ]
    }
   ],
   "source": [
    "# deploy to ACI (Azure Container Instances)\n",
    "# every time we deploy to ACI, we need to change the service_name or we delete the existing service beforehand\n",
    "service_name='aci-deploy-test6'\n",
    "models=[model]\n",
    "service_aci=deploy_to_ACI(workspace, service_name, models, inference_config, cpu_cores=1, memory_gb=1, overwrite=True)"
   ]
  },
  {
   "cell_type": "code",
   "execution_count": null,
   "outputs": [],
   "source": [
    "# deploy to AKS (Azure Kubernetes Service)\n",
    "# workspace with AKS\n",
    "subscription_id = '74eccef0-4b8d-4f83-b5f9-fa100d155b22'\n",
    "resource_group = 'DesignerDRI'\n",
    "workspace_name = 'DesignerDRI_EASTUS'\n",
    "# set this if you have multiple tenant\n",
    "tenant_id=\"72f988bf-86f1-41af-91ab-2d7cd011db47\"\n",
    "\n",
    "workspace_aks=choose_workspace(subscription_id, resource_group, workspace_name, tenant_id)\n",
    "attachment_name='myaks1'\n",
    "# every time we deploy to ACI, we need to change the service_name or we delete the existing service beforehand\n",
    "service_name='aks-deploy-test6'\n",
    "models=[model]\n",
    "token_auth_enabled=True\n",
    "service_aks=deploy_to_AKS(workspace_aks, attachment_name, service_name, models, inference_config, token_auth_enabled=token_auth_enabled,\n",
    "                  cpu_cores=1, memory_gb=1)"
   ],
   "metadata": {
    "collapsed": false,
    "pycharm": {
     "name": "#%%\n",
     "is_executing": true
    }
   }
  },
  {
   "cell_type": "code",
   "execution_count": null,
   "outputs": [],
   "source": [],
   "metadata": {
    "collapsed": false,
    "pycharm": {
     "name": "#%%\n"
    }
   }
  }
 ],
 "metadata": {
  "kernelspec": {
   "name": "tmp2",
   "language": "python",
   "display_name": "tmp2"
  },
  "language_info": {
   "codemirror_mode": {
    "name": "ipython",
    "version": 3
   },
   "file_extension": ".py",
   "mimetype": "text/x-python",
   "name": "python",
   "nbconvert_exporter": "python",
   "pygments_lexer": "ipython3",
   "version": "3.7.3-final"
  },
  "widgets": {
   "application/vnd.jupyter.widget-state+json": {
    "state": {},
    "version_major": 2,
    "version_minor": 0
   }
  }
 },
 "nbformat": 4,
 "nbformat_minor": 4
}