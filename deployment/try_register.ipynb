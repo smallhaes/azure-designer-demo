{
 "cells": [
  {
   "cell_type": "code",
   "execution_count": 13,
   "metadata": {},
   "outputs": [],
   "source": [
    "import inspect\n",
    "from azureml.core import Workspace, Dataset\n",
    "from azureml.core.compute import AmlCompute, ComputeTarget\n",
    "from azureml.pipeline.core.graph import DataType\n",
    "from azureml.pipeline.wrapper import Module, dsl, Pipeline\n",
    "from azureml.core.authentication import InteractiveLoginAuthentication\n",
    "\n",
    "from azureml.core.datastore import Datastore"
   ]
  },
  {
   "cell_type": "code",
   "execution_count": 14,
   "metadata": {},
   "outputs": [
    {
     "name": "stdout",
     "output_type": "stream",
     "text": [
      "fundamental3\n",
      "fundamental\n",
      "eastasia\n",
      "4f455bd0-f95a-4b7d-8d08-078611508e0b\n",
      "dict_keys(['myaks2', 'aml-compute', 'my-compute'])\n"
     ]
    }
   ],
   "source": [
    "subscription_id = '4f455bd0-f95a-4b7d-8d08-078611508e0b'\n",
    "resource_group = 'fundamental'\n",
    "workspace_name = 'fundamental3'\n",
    "namespace=workspace_name # for loading module\n",
    "\n",
    "workspace = Workspace(subscription_id, resource_group, workspace_name)\n",
    "print(workspace.name, workspace.resource_group, workspace.location, workspace.subscription_id, workspace.compute_targets.keys(),sep = '\\n')"
   ]
  },
  {
   "cell_type": "code",
   "execution_count": null,
   "metadata": {},
   "outputs": [],
   "source": []
  },
  {
   "cell_type": "code",
   "execution_count": 15,
   "metadata": {},
   "outputs": [
    {
     "data": {
      "text/plain": [
       "{\n",
       "  \"name\": \"workspaceblobstore\",\n",
       "  \"container_name\": \"azureml-blobstore-a7c2acaa-c8f1-448b-b894-c2e7a71b3a32\",\n",
       "  \"account_name\": \"fundamental35269596308\",\n",
       "  \"protocol\": \"https\",\n",
       "  \"endpoint\": \"core.windows.net\"\n",
       "}"
      ]
     },
     "execution_count": 15,
     "metadata": {},
     "output_type": "execute_result"
    }
   ],
   "source": [
    "# blob_data_store = Datastore.get(workspace, data_store_name)\n",
    "blob_data_store = Datastore.get_default(workspace)\n",
    "blob_data_store"
   ]
  },
  {
   "cell_type": "code",
   "execution_count": 8,
   "metadata": {},
   "outputs": [
    {
     "data": {
      "text/plain": [
       "{\n",
       "  \"name\": \"workspaceblobstore\",\n",
       "  \"container_name\": \"azureml-blobstore-a7c2acaa-c8f1-448b-b894-c2e7a71b3a32\",\n",
       "  \"account_name\": \"fundamental35269596308\",\n",
       "  \"protocol\": \"https\",\n",
       "  \"endpoint\": \"core.windows.net\"\n",
       "}"
      ]
     },
     "execution_count": 8,
     "metadata": {},
     "output_type": "execute_result"
    }
   ],
   "source": [
    "data_store_name='workspaceblobstore'\n",
    "blob_data_store = Datastore.get(workspace, data_store_name)\n",
    "blob_data_store"
   ]
  },
  {
   "cell_type": "code",
   "execution_count": 16,
   "metadata": {},
   "outputs": [
    {
     "name": "stdout",
     "output_type": "stream",
     "text": [
      "Downloading azureml/043723ca-fa83-4b58-8422-6563a6830b75/Trained_model_dir/BestModel\n",
      "Downloaded azureml/043723ca-fa83-4b58-8422-6563a6830b75/Trained_model_dir/BestModel, 1 files out of an estimated total of 1\n"
     ]
    },
    {
     "data": {
      "text/plain": [
       "1"
      ]
     },
     "execution_count": 16,
     "metadata": {},
     "output_type": "execute_result"
    }
   ],
   "source": [
    "path_on_data_store='azureml/043723ca-fa83-4b58-8422-6563a6830b75/Trained_model_dir'\n",
    "blob_data_store.download(target_path='.', prefix=path_on_data_store, overwrite=True)"
   ]
  },
  {
   "cell_type": "code",
   "execution_count": 17,
   "metadata": {},
   "outputs": [
    {
     "name": "stdout",
     "output_type": "stream",
     "text": [
      "Downloading azureml/043723ca-fa83-4b58-8422-6563a6830b75/Trained_model_dir/BestModel\n",
      "Downloaded azureml/043723ca-fa83-4b58-8422-6563a6830b75/Trained_model_dir/BestModel, 1 files out of an estimated total of 1\n"
     ]
    },
    {
     "data": {
      "text/plain": [
       "1"
      ]
     },
     "execution_count": 17,
     "metadata": {},
     "output_type": "execute_result"
    }
   ],
   "source": [
    "path_on_data_store='azureml/043723ca-fa83-4b58-8422-6563a6830b75/Trained_model_dir/BestModel'\n",
    "blob_data_store.download(target_path='.', prefix=path_on_data_store, overwrite=True)"
   ]
  },
  {
   "cell_type": "code",
   "execution_count": null,
   "metadata": {},
   "outputs": [],
   "source": []
  },
  {
   "cell_type": "code",
   "execution_count": null,
   "metadata": {},
   "outputs": [],
   "source": []
  },
  {
   "cell_type": "code",
   "execution_count": null,
   "metadata": {},
   "outputs": [],
   "source": []
  },
  {
   "cell_type": "code",
   "execution_count": 18,
   "metadata": {},
   "outputs": [
    {
     "name": "stdout",
     "output_type": "stream",
     "text": [
      "DesignerDRI_EASTUS\n",
      "DesignerDRI\n",
      "eastus\n",
      "74eccef0-4b8d-4f83-b5f9-fa100d155b22\n",
      "dict_keys(['attachedcompute', 'myaks1', 'default', 'compute', 'cpu-cluster', 'aml-compute'])\n"
     ]
    }
   ],
   "source": [
    "subscription_id = '74eccef0-4b8d-4f83-b5f9-fa100d155b22'\n",
    "resource_group = 'DesignerDRI'\n",
    "workspace_name = 'DesignerDRI_EASTUS'\n",
    "namespace=workspace_name # for loading module\n",
    "\n",
    "workspace = Workspace(subscription_id, resource_group, workspace_name)\n",
    "print(workspace.name, workspace.resource_group, workspace.location, workspace.subscription_id, workspace.compute_targets.keys(),sep = '\\n')"
   ]
  },
  {
   "cell_type": "code",
   "execution_count": 12,
   "metadata": {},
   "outputs": [
    {
     "data": {
      "text/plain": [
       "{\n",
       "  \"name\": \"workspaceblobstore\",\n",
       "  \"container_name\": \"azureml-blobstore-f6c75dff-2c31-4486-84cb-1ded3388e337\",\n",
       "  \"account_name\": \"designerdrieas2462841183\",\n",
       "  \"protocol\": \"https\",\n",
       "  \"endpoint\": \"core.windows.net\"\n",
       "}"
      ]
     },
     "execution_count": 12,
     "metadata": {},
     "output_type": "execute_result"
    }
   ],
   "source": [
    "# blob_data_store = Datastore.get(workspace, data_store_name)\n",
    "blob_data_store = Datastore.get_default(workspace)\n",
    "blob_data_store"
   ]
  },
  {
   "cell_type": "code",
   "execution_count": null,
   "metadata": {},
   "outputs": [],
   "source": []
  },
  {
   "cell_type": "code",
   "execution_count": 21,
   "metadata": {},
   "outputs": [
    {
     "name": "stdout",
     "output_type": "stream",
     "text": [
      "Registering model BestModel_tmp\n"
     ]
    },
    {
     "data": {
      "text/plain": [
       "Model(workspace=Workspace.create(name='DesignerDRI_EASTUS', subscription_id='74eccef0-4b8d-4f83-b5f9-fa100d155b22', resource_group='DesignerDRI'), name=BestModel_tmp, id=BestModel_tmp:1, version=1, tags={'algorithm': 'fasttext'}, properties={})"
      ]
     },
     "execution_count": 21,
     "metadata": {},
     "output_type": "execute_result"
    }
   ],
   "source": [
    "from azureml.core.model import Model\n",
    "# Register model\n",
    "model = Model.register(workspace = workspace,\n",
    "                        model_path =\"azureml/043723ca-fa83-4b58-8422-6563a6830b75/Trained_model_dir/BestModel\",\n",
    "                        model_name = \"BestModel_tmp\",\n",
    "                        tags = {\"algorithm\": \"fasttext\"})\n",
    "model\n"
   ]
  },
  {
   "cell_type": "code",
   "execution_count": null,
   "metadata": {},
   "outputs": [],
   "source": []
  },
  {
   "cell_type": "code",
   "execution_count": null,
   "metadata": {},
   "outputs": [],
   "source": []
  },
  {
   "cell_type": "code",
   "execution_count": null,
   "metadata": {},
   "outputs": [],
   "source": []
  }
 ],
 "metadata": {
  "kernelspec": {
   "display_name": "tmp2",
   "language": "python",
   "name": "tmp2"
  },
  "language_info": {
   "codemirror_mode": {
    "name": "ipython",
    "version": 3
   },
   "file_extension": ".py",
   "mimetype": "text/x-python",
   "name": "python",
   "nbconvert_exporter": "python",
   "pygments_lexer": "ipython3",
   "version": "3.6.6"
  }
 },
 "nbformat": 4,
 "nbformat_minor": 4
}
