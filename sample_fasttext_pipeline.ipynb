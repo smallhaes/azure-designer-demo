{
 "cells": [
  {
   "cell_type": "code",
   "execution_count": 1,
   "metadata": {},
   "outputs": [],
   "source": [
    "import inspect\n",
    "from azureml.core import Workspace, Dataset\n",
    "from azureml.core.compute import AmlCompute, ComputeTarget\n",
    "from azureml.pipeline.wrapper import Module, dsl, Pipeline"
   ]
  },
  {
   "cell_type": "code",
   "execution_count": 2,
   "metadata": {},
   "outputs": [
    {
     "name": "stderr",
     "output_type": "stream",
     "text": [
      "Warning: Falling back to use azure cli login credentials.\n",
      "If you run your code in unattended mode, i.e., where you can't give a user input, then we recommend to use ServicePrincipalAuthentication or MsiAuthentication.\n",
      "Please refer to aka.ms/aml-notebook-auth for different authentication mechanisms in azureml-sdk.\n"
     ]
    },
    {
     "name": "stdout",
     "output_type": "stream",
     "text": [
      "fundamental\n",
      "fundamental\n",
      "eastus\n",
      "4f455bd0-f95a-4b7d-8d08-078611508e0b\n",
      "dict_keys(['fundamental-d3v2', 'default', 'cpu-cluster', 'aml-compute'])\n"
     ]
    }
   ],
   "source": [
    "subscription_id = '4f455bd0-f95a-4b7d-8d08-078611508e0b'\n",
    "resource_group = 'fundamental'\n",
    "workspace_name = 'fundamental' # use another workspace\n",
    "\n",
    "namespace='fundamental' # for loading module\n",
    "\n",
    "workspace = Workspace(subscription_id, resource_group, workspace_name)\n",
    "print(workspace.name, workspace.resource_group, workspace.location, workspace.subscription_id, workspace.compute_targets.keys(),sep = '\\n')"
   ]
  },
  {
   "cell_type": "code",
   "execution_count": 3,
   "metadata": {},
   "outputs": [
    {
     "name": "stdout",
     "output_type": "stream",
     "text": [
      "{'fundamental-d3v2': id: /subscriptions/4f455bd0-f95a-4b7d-8d08-078611508e0b/resourceGroups/fundamental/providers/Microsoft.MachineLearningServices/workspaces/fundamental/computes/fundamental-d3v2,\n",
      "name: fundamental-d3v2,\n",
      "location: eastus,\n",
      "tags: None,\n",
      "properties: {'description': None, 'computeType': 'ComputeInstance', 'computeLocation': 'eastus', 'provisioningErrors': None, 'properties': {'vmSize': 'STANDARD_D3_V2', 'applications': [{'displayName': 'Jupyter', 'endpointUri': 'https://fundamental-d3v2.eastus.instances.azureml.net'}, {'displayName': 'Jupyter Lab', 'endpointUri': 'https://fundamental-d3v2.eastus.instances.azureml.net/lab'}, {'displayName': 'RStudio', 'endpointUri': 'https://fundamental-d3v2-8787.eastus.instances.azureml.net'}], 'connectivityEndpoints': {'publicIpAddress': '20.185.101.4', 'privateIpAddress': '10.0.0.4'}, 'sshSettings': {'sshPublicAccess': 'Disabled', 'adminUserName': 'azureuser', 'adminPublicKey': None, 'sshPort': 4000}, 'subnet': {'id': None}, 'errors': None}, 'status': {'errors': None, 'creationTime': '2020-04-02T01:18:38.540676+00:00', 'createdBy': {'userId': 'f7e94047-e084-4061-82ce-af31037a9d38', 'userOrgId': '72f988bf-86f1-41af-91ab-2d7cd011db47'}, 'modifiedTime': '2020-04-02T01:20:57.787506+00:00', 'state': 'Running', 'vmSize': 'STANDARD_D3_V2'}}, 'default': AmlCompute(workspace=Workspace.create(name='fundamental', subscription_id='4f455bd0-f95a-4b7d-8d08-078611508e0b', resource_group='fundamental'), name=default, id=/subscriptions/4f455bd0-f95a-4b7d-8d08-078611508e0b/resourceGroups/fundamental/providers/Microsoft.MachineLearningServices/workspaces/fundamental/computes/default, type=AmlCompute, provisioning_state=Succeeded, location=eastus, tags={'azureml.Designer': 'true'}), 'cpu-cluster': AmlCompute(workspace=Workspace.create(name='fundamental', subscription_id='4f455bd0-f95a-4b7d-8d08-078611508e0b', resource_group='fundamental'), name=cpu-cluster, id=/subscriptions/4f455bd0-f95a-4b7d-8d08-078611508e0b/resourceGroups/fundamental/providers/Microsoft.MachineLearningServices/workspaces/fundamental/computes/cpu-cluster, type=AmlCompute, provisioning_state=Succeeded, location=eastus, tags=None), 'aml-compute': AmlCompute(workspace=Workspace.create(name='fundamental', subscription_id='4f455bd0-f95a-4b7d-8d08-078611508e0b', resource_group='fundamental'), name=aml-compute, id=/subscriptions/4f455bd0-f95a-4b7d-8d08-078611508e0b/resourceGroups/fundamental/providers/Microsoft.MachineLearningServices/workspaces/fundamental/computes/aml-compute, type=AmlCompute, provisioning_state=Succeeded, location=eastus, tags=None)}\n",
      "Found existing compute target: aml-compute\n",
      "AmlCompute(workspace=Workspace.create(name='fundamental', subscription_id='4f455bd0-f95a-4b7d-8d08-078611508e0b', resource_group='fundamental'), name=aml-compute, id=/subscriptions/4f455bd0-f95a-4b7d-8d08-078611508e0b/resourceGroups/fundamental/providers/Microsoft.MachineLearningServices/workspaces/fundamental/computes/aml-compute, type=AmlCompute, provisioning_state=Succeeded, location=eastus, tags=None)\n"
     ]
    }
   ],
   "source": [
    "print(workspace.compute_targets)\n",
    "aml_compute_name = 'aml-compute'\n",
    "try:\n",
    "    aml_compute = AmlCompute(workspace, aml_compute_name)\n",
    "    print(\"Found existing compute target: {}\".format(aml_compute_name))\n",
    "except:\n",
    "    print(\"Creating new compute target: {}\".format(aml_compute_name))\n",
    "\n",
    "    provisioning_config = AmlCompute.provisioning_configuration(vm_size=\"STANDARD_D2_V2\",\n",
    "                                                                min_nodes=1,\n",
    "                                                                max_nodes=4)\n",
    "    aml_compute = ComputeTarget.create(workspace, aml_compute_name, provisioning_config)\n",
    "    aml_compute.wait_for_completion(show_output=True, min_node_count=None, timeout_in_minutes=20)\n",
    "print(aml_compute)"
   ]
  },
  {
   "cell_type": "code",
   "execution_count": 4,
   "metadata": {
    "scrolled": true
   },
   "outputs": [
    {
     "name": "stdout",
     "output_type": "stream",
     "text": [
      "FileDataset\n",
      "{\n",
      "  \"source\": [\n",
      "    \"('workspaceblobstore', 'UI/06-13-2020_021050_UTC/THUCNews.txt')\"\n",
      "  ],\n",
      "  \"definition\": [\n",
      "    \"GetDatastoreFiles\"\n",
      "  ],\n",
      "  \"registration\": {\n",
      "    \"id\": \"d138049a-c5bb-40ef-b9ae-d2af9c3528de\",\n",
      "    \"name\": \"THUCNews_TXT\",\n",
      "    \"version\": 1,\n",
      "    \"workspace\": \"Workspace.create(name='fundamental', subscription_id='4f455bd0-f95a-4b7d-8d08-078611508e0b', resource_group='fundamental')\"\n",
      "  }\n",
      "}\n",
      "FileDataset\n",
      "{\n",
      "  \"source\": [\n",
      "    \"('workspaceblobstore', 'UI/06-13-2020_020957_UTC/character2index.json')\"\n",
      "  ],\n",
      "  \"definition\": [\n",
      "    \"GetDatastoreFiles\"\n",
      "  ],\n",
      "  \"registration\": {\n",
      "    \"id\": \"c5e6e1ce-967b-4422-96ff-bb7dbe973381\",\n",
      "    \"name\": \"Char2Index_JSON\",\n",
      "    \"version\": 1,\n",
      "    \"workspace\": \"Workspace.create(name='fundamental', subscription_id='4f455bd0-f95a-4b7d-8d08-078611508e0b', resource_group='fundamental')\"\n",
      "  }\n",
      "}\n"
     ]
    }
   ],
   "source": [
    "# load data\n",
    "dataset_name = 'THUCNews_TXT'\n",
    "char2index_name = 'Char2Index_JSON'\n",
    "\n",
    "if dataset_name not in workspace.datasets:\n",
    "    print('Registering a THUCNews dataset for fasttext pipeline ...')\n",
    "    path = ['https://datastore4fasttext.file.core.windows.net/data4fasttext/THUCNews.txt']\n",
    "    data = Dataset.File.from_files(path=path)\n",
    "    data.register(workspace=workspace, name=dataset_name, description='THUCNews dataset is generated by filtering and filtering historical data of Sina News RSS subscription channel from 2005 to 2011')\n",
    "    print('Registerd')\n",
    "data = workspace.datasets[dataset_name]\n",
    "\n",
    "if char2index_name not in workspace.datasets:\n",
    "    print('Registering a Char2Index_JSON for fasttext pipeline ...')\n",
    "    path = ['https://datastore4fasttext.file.core.windows.net/data4fasttext/character2index.json']\n",
    "    data = Dataset.File.from_files(path=path)\n",
    "    data.register(workspace=workspace, name=char2index_name, description='The mapping relationship between character and index ')\n",
    "    print('Registerd')\n",
    "char2index = workspace.datasets[char2index_name]\n",
    "\n",
    "print(data)\n",
    "print(char2index)"
   ]
  },
  {
   "cell_type": "code",
   "execution_count": null,
   "metadata": {
    "pycharm": {
     "is_executing": true
    }
   },
   "outputs": [
    {
     "name": "stdout",
     "output_type": "stream",
     "text": [
      "found split_data_txt_module\n"
     ]
    }
   ],
   "source": [
    "# load module\n",
    "try:\n",
    "    split_data_txt_module_func = Module.load(workspace=workspace, namespace=namespace, name='Split Data Txt')\n",
    "    print('found split_data_txt_module')\n",
    "except:\n",
    "    print('not found split_data_txt_module, register it now...')\n",
    "    yaml_file='split_data_txt.spec.yaml'\n",
    "    split_data_txt_module_func = Module.register(workspace=workspace, yaml_file=yaml_file)\n",
    "\n",
    "try:\n",
    "    fasttext_train_module_func = Module.load(workspace=workspace, namespace=namespace, name='FastText Train')\n",
    "    print('found fasttext_train_module')\n",
    "except:\n",
    "    print('not found fasttext_train_module, register it now...')\n",
    "    yaml_file='fasttext_train.spec.yaml'\n",
    "    fasttext_train_module_func = Module.register(workspace=workspace, yaml_file=yaml_file)\n",
    "\n",
    "try:\n",
    "    fasttext_test_module_func = Module.load(workspace=workspace, namespace=namespace, name='FastText Test')\n",
    "    print('found fasttext_test_module')\n",
    "except:\n",
    "    print('not found fasttext_test_module, register it now...')\n",
    "    yaml_file='fasttext_test.spec.yaml'\n",
    "    fasttext_test_module_func = Module.register(workspace=workspace, yaml_file=yaml_file)\n",
    "# inspect signature\n",
    "print(inspect.signature(split_data_txt_module_func))\n",
    "print(inspect.signature(fasttext_train_module_func))\n",
    "print(inspect.signature(fasttext_test_module_func))"
   ]
  },
  {
   "cell_type": "code",
   "execution_count": null,
   "metadata": {
    "pycharm": {
     "name": "#%%\n",
     "is_executing": true
    }
   },
   "outputs": [],
   "source": [
    "# connect module\n",
    "split_data_txt = split_data_txt_module_func(\n",
    "    input_dir = data,\n",
    "    training_data_ratio = 0.7,\n",
    "    validation_data_ratio = 0.1,\n",
    "    random_split = False,\n",
    "    seed = 1\n",
    ")\n",
    "print(split_data_txt.outputs)\n",
    "\n",
    "fasttext_train = fasttext_train_module_func(\n",
    "    training_data_dir = split_data_txt.outputs.training_data_output,\n",
    "    validation_data_dir = split_data_txt.outputs.validation_data_output,\n",
    "    char2_index_dir = char2index,\n",
    "    epochs = 1,\n",
    "    batch_size = 64,\n",
    "    learning_rate = 0.0005,\n",
    "    embedding_dim = 128\n",
    ")\n",
    "print(fasttext_train.outputs)\n",
    "\n",
    "fasttext_test = fasttext_test_module_func(\n",
    "    trained_model_dir = fasttext_train.outputs.trained_model_dir,\n",
    "    test_data_dir = split_data_txt.outputs.test_data_output,\n",
    "    char2_index_dir = char2index\n",
    ")"
   ]
  },
  {
   "cell_type": "code",
   "execution_count": null,
   "metadata": {
    "pycharm": {
     "is_executing": true
    }
   },
   "outputs": [],
   "source": [
    "# pipeline\n",
    "pipeline = Pipeline(nodes=[split_data_txt, fasttext_train, fasttext_test], workspace=workspace, default_compute_target=aml_compute_name)"
   ]
  },
  {
   "cell_type": "code",
   "execution_count": null,
   "metadata": {
    "pycharm": {
     "is_executing": true
    }
   },
   "outputs": [],
   "source": [
    "# validate\n",
    "pipeline.validate()"
   ]
  },
  {
   "cell_type": "code",
   "execution_count": null,
   "metadata": {
    "scrolled": true,
    "pycharm": {
     "is_executing": true
    }
   },
   "outputs": [],
   "source": [
    "# run\n",
    "run = pipeline.submit(experiment_name='fasttext_test')\n",
    "run.wait_for_completion()\n",
    "pipeline.save(experiment_name='fasttext_test')"
   ]
  },
  {
   "cell_type": "code",
   "execution_count": null,
   "metadata": {
    "pycharm": {
     "is_executing": true
    }
   },
   "outputs": [],
   "source": []
  }
 ],
 "metadata": {
  "kernelspec": {
   "display_name": "tmp2",
   "language": "python",
   "name": "tmp2"
  },
  "language_info": {
   "codemirror_mode": {
    "name": "ipython",
    "version": 3
   },
   "file_extension": ".py",
   "mimetype": "text/x-python",
   "name": "python",
   "nbconvert_exporter": "python",
   "pygments_lexer": "ipython3",
   "version": "3.6.8"
  },
  "widgets": {
   "application/vnd.jupyter.widget-state+json": {
    "state": {},
    "version_major": 2,
    "version_minor": 0
   }
  }
 },
 "nbformat": 4,
 "nbformat_minor": 4
}