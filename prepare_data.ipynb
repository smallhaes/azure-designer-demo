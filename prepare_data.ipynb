{
 "cells": [
  {
   "cell_type": "markdown",
   "metadata": {},
   "source": [
    "Copyright (c) Microsoft Corporation. All rights reserved.  \n",
    "Licensed under the MIT License."
   ]
  },
  {
   "cell_type": "markdown",
   "metadata": {
    "pycharm": {
     "name": "#%% md\n"
    }
   },
   "source": [
    "# Prepare the Dataset for FastText\n",
    "\n",
    "In this notebook, we will demonstrate how to prepare the dataset used for FastText. \n",
    "The structure of data files look like:\n",
    "```\n",
    "repository\n",
    "    data\n",
    "        data_for_pipeline\n",
    "            data.txt\n",
    "            label.txt\n",
    "            word_to_index.json\n",
    "        data_for_batch_inference\n",
    "            file1\n",
    "            file2\n",
    "            ...\n",
    "            fileN\n",
    "```\n",
    "\n",
    "## Step 1\n",
    "Follow the above structure and create three directories: ```data```, ```data_for_pipeline```, and ```data_for_batch_inference```\n",
    "\n",
    "## Step 2\n",
    "### Prepare the files for fasttext_pipeline.ipynb\n",
    "1. ```data.txt```. Each line of ```data.txt``` contains the text and label which are separated by ```\\t```. \n",
    "For example    \n",
    "\n",
    "```sentence1``` **\\t** ```label1```    \n",
    "\n",
    "```sentence2``` **\\t** ```label2```    \n",
    "\n",
    "2. ```label.txt```. Each line of ```label.txt``` contains a unique label used in ```data.txt```. For example, if there are four kinds of labels in your dataset, then the ```label.txt``` looks like\n",
    "```\n",
    "label1\n",
    "label2\n",
    "label3\n",
    "label4\n",
    "```\n",
    "\n",
    "3. ```word_to_index.json```. This file contains the key-value pairs. The key is a word and the value is the word index. Not all words occured in ```data.txt```. Actually, we should take the most representative ones into account. You could prepare this file yourself. In this notebook, we also support a simple method to select these words according to the frequency of occurrence.\n",
    "\n",
    "### Prepare the files for fasttext_batch_inference.ipynb\n",
    "You could determine the file names yourself, such as file1, file2, and so on.\n",
    "\n",
    "Each file contains the text you want to make a prediction. Please remove the line breaks beforehand so as to keep the text only in one line.\n",
    "\n",
    "> **Tip**\n",
    "If you don't want to prepare your data, you could use the dataset we have prepared in advance. and just refer to fasttext_pipeline.ipynb, fasttext_realtime_inference.ipynb, and fasttext_batch_inference.ipynb for a further experience.\n",
    "\n",
    "The outline of this notebook is as follows:\n",
    "\n",
    "- Create word_to_index.json according to the word frequency.\n",
    "- Calculate the average length of the text.\n",
    "- Prepare the data for batch inference.\n",
    "- Copy files for unittest."
   ]
  },
  {
   "cell_type": "markdown",
   "metadata": {
    "pycharm": {
     "name": "#%% md\n"
    }
   },
   "source": [
    "### Create word_to_index.json according to the word frequency"
   ]
  },
  {
   "cell_type": "code",
   "execution_count": 1,
   "metadata": {
    "pycharm": {
     "name": "#%%\n"
    }
   },
   "outputs": [],
   "source": [
    "import json\n",
    "# Count the word frequency\n",
    "word_count = {}\n",
    "with open('data/data_for_pipeline/data.txt', 'r', encoding='utf-8') as f:\n",
    "    for line in f.readlines():\n",
    "        text = line.split('\\t')[0]\n",
    "        for word in text.split(' '):\n",
    "            word_count[word] = word_count.get(word,0)+1\n",
    "word_count_list = sorted(word_count.items(), key=lambda x : x[1], reverse=True)\n",
    "\n",
    "# Take out the vocab_size most frequent words to form word_to_index.json\n",
    "vocab_size = 10000\n",
    "word_to_index = {\"[PAD]\": 0, \"[UNK]\": 1}\n",
    "index = 2\n",
    "for w_c in word_count_list:\n",
    "    if index == vocab_size:\n",
    "        break\n",
    "    word = w_c[0]\n",
    "    word_to_index[word] = index\n",
    "    index +=1\n",
    "with open('data/data_for_pipeline/word_to_index.json', 'w', encoding='utf-8') as f:\n",
    "    json.dump(word_to_index, f)"
   ]
  },
  {
   "cell_type": "markdown",
   "metadata": {},
   "source": [
    "### Calculate the average length of the text\n",
    "Our model needs to set a parameter named ```max_length``` to control the length of each text. Suppose the average length of the text is ```avg_length```. In order to prevent the difference between ```max_length``` and ```avg_length``` becoming too much, we suggest make ```max_length``` equal to ```avg_length```.\n",
    "\n",
    "> **Tip**\n",
    "If the variance of the text length is too large, then you should use the median of the text length rather than ```avg_length```"
   ]
  },
  {
   "cell_type": "code",
   "execution_count": 3,
   "metadata": {},
   "outputs": [
    {
     "data": {
      "text/plain": [
       "10"
      ]
     },
     "execution_count": 3,
     "metadata": {},
     "output_type": "execute_result"
    }
   ],
   "source": [
    "total_length = 0\n",
    "line_num = 0\n",
    "with open('data/data_for_pipeline/data.txt', 'r', encoding='utf-8') as f:\n",
    "    for line in f.readlines():\n",
    "        line_num += 1\n",
    "        text = line.split('\\t')[0]\n",
    "        total_length += len(text.split(' '))\n",
    "avg_length = int(total_length/line_num)\n",
    "avg_length"
   ]
  },
  {
   "cell_type": "markdown",
   "metadata": {},
   "source": [
    "### Prepare the data for batch inference\n",
    "We just select a few files as the inputs for batch inference"
   ]
  },
  {
   "cell_type": "code",
   "execution_count": 4,
   "metadata": {},
   "outputs": [],
   "source": [
    "import os\n",
    "# We select 200 files for demo\n",
    "num = 100\n",
    "with open('data/data_for_pipeline/data.txt', 'r', encoding='utf-8') as f:\n",
    "    lines = []\n",
    "    for i, line in enumerate(f.readlines()):\n",
    "        if i==num:\n",
    "            break\n",
    "        lines.append(line.split('\\t')[0])\n",
    "       \n",
    "# Save these texts to files\n",
    "dir_ = 'data/data_for_batch_inference'\n",
    "os.makedirs(dir_, exist_ok=True)\n",
    "for index, line in enumerate(lines):\n",
    "    # We use the index as the name of each file\n",
    "    path = os.path.join(dir_, str(index))\n",
    "    with open(path, 'w', encoding='utf-8') as f:\n",
    "        f.write(line)"
   ]
  },
  {
   "cell_type": "markdown",
   "metadata": {},
   "source": [
    "### Copy files for unittest\n",
    "If you want to execute unit tests locally, then you need to copy some files to the relevant directory."
   ]
  },
  {
   "cell_type": "code",
   "execution_count": 5,
   "metadata": {},
   "outputs": [],
   "source": [
    "# Copy files for train/evaluation\n",
    "import shutil\n",
    "src_dir = 'data/data_for_pipeline'\n",
    "dst_dir = 'split_data_txt/data/split_data_txt/inputs/input_dir'\n",
    "for file in os.listdir(src_dir):\n",
    "    src = os.path.join(src_dir, file)\n",
    "    shutil.copy(src, dst_dir)\n",
    "\n",
    "# Copy files for score\n",
    "src_dir = 'data/data_for_batch_inference'\n",
    "dst_dir = 'fasttext_score/data/fasttext_score/inputs/input_files'\n",
    "for file in os.listdir(src_dir):\n",
    "    src = os.path.join(src_dir, file)\n",
    "    shutil.copy(src, dst_dir)"
   ]
  },
  {
   "cell_type": "code",
   "execution_count": null,
   "outputs": [],
   "source": [],
   "metadata": {
    "collapsed": false,
    "pycharm": {
     "name": "#%%\n"
    }
   }
  }
 ],
 "metadata": {
  "kernelspec": {
   "display_name": "Python 3",
   "language": "python",
   "name": "python3"
  },
  "language_info": {
   "codemirror_mode": {
    "name": "ipython",
    "version": 3
   },
   "file_extension": ".py",
   "mimetype": "text/x-python",
   "name": "python",
   "nbconvert_exporter": "python",
   "pygments_lexer": "ipython3",
   "version": "3.6.9"
  }
 },
 "nbformat": 4,
 "nbformat_minor": 1
}