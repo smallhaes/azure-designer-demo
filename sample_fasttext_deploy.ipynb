{
 "cells": [
  {
   "cell_type": "code",
   "execution_count": 16,
   "outputs": [],
   "source": [
    "import os\n",
    "from azureml.core import Model, Workspace\n",
    "from azureml.core.model import InferenceConfig\n",
    "from azureml.core.environment import Environment\n",
    "from azureml.core.experiment import Experiment\n",
    "from azureml.core.authentication import InteractiveLoginAuthentication\n",
    "from azureml.pipeline.wrapper import PipelineRun\n",
    "from azureml.core.compute import AmlCompute, AksCompute, ComputeTarget\n",
    "from azureml.core.webservice import LocalWebservice, AciWebservice, Webservice, AksWebservice"
   ],
   "metadata": {
    "collapsed": false,
    "pycharm": {
     "name": "#%%\n"
    }
   }
  },
  {
   "cell_type": "code",
   "execution_count": 2,
   "metadata": {
    "pycharm": {
     "name": "#%%\n"
    }
   },
   "outputs": [
    {
     "name": "stderr",
     "output_type": "stream",
     "text": [
      "Warning: Falling back to use azure cli login credentials.\n",
      "If you run your code in unattended mode, i.e., where you can't give a user input, then we recommend to use ServicePrincipalAuthentication or MsiAuthentication.\n",
      "Please refer to aka.ms/aml-notebook-auth for different authentication mechanisms in azureml-sdk.\n"
     ]
    },
    {
     "name": "stdout",
     "output_type": "stream",
     "text": [
      "fundamental3\n",
      "fundamental\n",
      "eastasia\n",
      "4f455bd0-f95a-4b7d-8d08-078611508e0b\n",
      "dict_keys(['myaks2', 'aml-compute', 'my-compute', 'compute-deploy'])\n"
     ]
    }
   ],
   "source": [
    "subscription_id = '4f455bd0-f95a-4b7d-8d08-078611508e0b'\n",
    "resource_group = 'fundamental'\n",
    "workspace_name = 'fundamental3'\n",
    "tenant_id=\"72f988bf-86f1-41af-91ab-2d7cd011db47\"\n",
    "# for loading module\n",
    "namespace=workspace_name\n",
    "InteractiveLoginAuthentication(tenant_id=tenant_id)\n",
    "workspace = Workspace(subscription_id, resource_group, workspace_name)\n",
    "print(workspace.name, workspace.resource_group, workspace.location, workspace.subscription_id, workspace.compute_targets.keys(),sep = '\\n')"
   ]
  },
  {
   "cell_type": "code",
   "execution_count": 3,
   "metadata": {},
   "outputs": [],
   "source": [
    "# get a PipelineRun object\n",
    "experiment_name = \"deploy\"\n",
    "experiment = Experiment(workspace, experiment_name)\n",
    "run_id = '24f0ba77-1ef8-4a9a-b9a8-9ed14d98190e'\n",
    "pipeline_run = PipelineRun(experiment, run_id)"
   ]
  },
  {
   "cell_type": "code",
   "execution_count": 4,
   "metadata": {},
   "outputs": [],
   "source": [
    "# get a StepRun object\n",
    "step_run = pipeline_run.find_step_run(name = 'FastText Train')[0]"
   ]
  },
  {
   "cell_type": "code",
   "execution_count": 10,
   "metadata": {},
   "outputs": [
    {
     "name": "stdout",
     "output_type": "stream",
     "text": [
      "Downloading azureml/358a3e99-f299-4089-b2cf-cecc32ac34f8/Trained_model_dir/BestModel\n",
      "Downloaded azureml/358a3e99-f299-4089-b2cf-cecc32ac34f8/Trained_model_dir/BestModel, 1 files out of an estimated total of 1\n",
      "model save at: data\\azureml/358a3e99-f299-4089-b2cf-cecc32ac34f8/Trained_model_dir\n"
     ]
    }
   ],
   "source": [
    "# download model from the output port of the Train module\n",
    "port = step_run.get_port(name='Trained model dir')\n",
    "saved_path = port.download(local_path='data', overwrite=True)\n",
    "print('model save at: {}'.format(saved_path))"
   ]
  },
  {
   "cell_type": "code",
   "execution_count": 11,
   "metadata": {
    "tags": []
   },
   "outputs": [
    {
     "name": "stdout",
     "output_type": "stream",
     "text": [
      "Registering model model_for_deploy\n"
     ]
    }
   ],
   "source": [
    "# register model for deployment\n",
    "model_name = os.listdir(saved_path)[0]\n",
    "model_path = os.path.join(saved_path, model_name)\n",
    "model = Model.register(workspace, model_path=model_path, model_name='model_for_deploy', tags={'deploy':1})"
   ]
  },
  {
   "cell_type": "code",
   "execution_count": 12,
   "outputs": [],
   "source": [
    "env_list = Environment.list(workspace)\n",
    "name='env_for_deployment'\n",
    "if name not in env_list:\n",
    "    file_path='deployment/env_for_deployment.yaml'\n",
    "    env = Environment.from_conda_specification(name=name, file_path=file_path)\n",
    "    env = env.register(workspace=workspace)\n",
    "else:\n",
    "    env = Environment.get(workspace=workspace, name=name)"
   ],
   "metadata": {
    "collapsed": false,
    "pycharm": {
     "name": "#%%\n"
    }
   }
  },
  {
   "cell_type": "code",
   "execution_count": 13,
   "metadata": {
    "tags": []
   },
   "outputs": [],
   "source": [
    "# define inference configuration\n",
    "entry_script='scoring_for_deployment.py'\n",
    "source_directory='deployment'\n",
    "inference_config = InferenceConfig(entry_script=entry_script, source_directory=source_directory,\n",
    "                                       environment=env)"
   ]
  },
  {
   "cell_type": "code",
   "execution_count": 18,
   "metadata": {
    "scrolled": true,
    "tags": []
   },
   "outputs": [],
   "source": [
    "# deploy locally\n",
    "service_name='local-deploy-test'\n",
    "models=[model]\n",
    "port=8892\n",
    "deployment_config = LocalWebservice.deploy_configuration(port=port)\n",
    "service_locally = Model.deploy(workspace=workspace, name=service_name, models=models, inference_config=inference_config,\n",
    "                       deployment_config=deployment_config)\n",
    "service_locally.wait_for_deployment(show_output=True)\n",
    "print(service_locally.state)\n",
    "print(service_locally.get_logs())"
   ]
  },
  {
   "cell_type": "code",
   "execution_count": null,
   "metadata": {},
   "outputs": [],
   "source": []
  },
  {
   "cell_type": "code",
   "execution_count": null,
   "metadata": {
    "pycharm": {
     "name": "#%%\n"
    },
    "tags": []
   },
   "outputs": [
    {
     "name": "stdout",
     "output_type": "stream",
     "text": [
      "found existing service named aci-deploy-test7, delete it right now...\n",
      "Running....................................................................................................................................................................................................."
     ]
    }
   ],
   "source": [
    "# deploy to ACI (Azure Container Instances)\n",
    "# every time we deploy to ACI, we need to change the service_name or we delete the existing service beforehand\n",
    "service_name='aci-deploy-test7'\n",
    "models=[model]\n",
    "overwrite=True\n",
    "cpu_cores=1\n",
    "memory_gb=1\n",
    "services = workspace.webservices\n",
    "if service_name in services and overwrite:\n",
    "    print('found existing service named {}, delete it right now...'.format(service_name))\n",
    "    services[service_name].delete()\n",
    "deployment_config = AciWebservice.deploy_configuration(cpu_cores=cpu_cores, memory_gb=memory_gb)\n",
    "service_aci = Model.deploy(workspace, service_name, models=models, inference_config=inference_config,\n",
    "                       deployment_config=deployment_config)\n",
    "service_aci.wait_for_deployment(show_output=True)\n",
    "print(service_aci.state)"
   ]
  },
  {
   "cell_type": "code",
   "execution_count": 13,
   "metadata": {
    "pycharm": {
     "name": "#%%\n"
    },
    "scrolled": true
   },
   "outputs": [
    {
     "name": "stdout",
     "output_type": "stream",
     "text": [
      "name: DesignerDRI_EASTUS\n",
      "resource_group DesignerDRI\n",
      "location eastus\n",
      "subscription_id 74eccef0-4b8d-4f83-b5f9-fa100d155b22\n",
      "compute_targets dict_keys(['attachedcompute', 'myaks1', 'default', 'compute', 'cpu-cluster', 'aml-compute'])\n",
      "Registering model model_for_deploy\n"
     ]
    }
   ],
   "source": [
    "# deploy to AKS (Azure Kubernetes Service)\n",
    "# workspace with AKS\n",
    "aks_subscription_id = '74eccef0-4b8d-4f83-b5f9-fa100d155b22'\n",
    "aks_resource_group = 'DesignerDRI'\n",
    "aks_workspace_name = 'DesignerDRI_EASTUS'\n",
    "aks_workspace = Workspace(aks_subscription_id, aks_resource_group, aks_workspace_name)"
   ]
  },
  {
   "cell_type": "code",
   "execution_count": null,
   "outputs": [],
   "source": [
    "# register model in this workspace\n",
    "model = Model.register(aks_workspace, model_path=model_path, model_name='model_for_deploy', tags={'deploy':1})"
   ],
   "metadata": {
    "collapsed": false,
    "pycharm": {
     "name": "#%%\n"
    }
   }
  },
  {
   "cell_type": "code",
   "execution_count": 14,
   "metadata": {
    "collapsed": true
   },
   "outputs": [
    {
     "name": "stdout",
     "output_type": "stream",
     "text": [
      "found existing service named aks-deploy-test7, delete it right now...\n",
      "auth type: token\n",
      "Running............................................................\n",
      "Failed\n"
     ]
    },
    {
     "name": "stderr",
     "output_type": "stream",
     "text": [
      "Service deployment polling reached non-successful terminal state, current service state: Failed\n",
      "Operation ID: 79909e99-c1db-4574-95bc-edb3d83ce7d8\n",
      "More information can be found using '.get_logs()'\n",
      "Error:\n",
      "{\n",
      "  \"code\": \"KubernetesError\",\n",
      "  \"statusCode\": 400,\n",
      "  \"message\": \"Kubernetes Deployment Error\",\n",
      "  \"details\": [\n",
      "    {\n",
      "      \"code\": \"Unschedulable\",\n",
      "      \"message\": \"0/3 nodes are available: 3 Insufficient cpu.\"\n",
      "    },\n",
      "    {\n",
      "      \"code\": \"DeploymentFailed\",\n",
      "      \"message\": \"Couldn't schedule because the kubernetes cluster didn't have available resources after trying for 00:05:00.\\nYou can address this error by either adding more nodes, changing the SKU of your nodes or changing the resource requirements of your service.\\nPlease refer to https://aka.ms/debugimage#container-cannot-be-scheduled for more information.\"\n",
      "    }\n",
      "  ]\n",
      "}\n",
      "\n",
      "Service deployment polling reached non-successful terminal state, current service state: Failed\n",
      "Operation ID: 79909e99-c1db-4574-95bc-edb3d83ce7d8\n",
      "More information can be found using '.get_logs()'\n",
      "Error:\n",
      "{\n",
      "  \"code\": \"KubernetesError\",\n",
      "  \"statusCode\": 400,\n",
      "  \"message\": \"Kubernetes Deployment Error\",\n",
      "  \"details\": [\n",
      "    {\n",
      "      \"code\": \"Unschedulable\",\n",
      "      \"message\": \"0/3 nodes are available: 3 Insufficient cpu.\"\n",
      "    },\n",
      "    {\n",
      "      \"code\": \"DeploymentFailed\",\n",
      "      \"message\": \"Couldn't schedule because the kubernetes cluster didn't have available resources after trying for 00:05:00.\\nYou can address this error by either adding more nodes, changing the SKU of your nodes or changing the resource requirements of your service.\\nPlease refer to https://aka.ms/debugimage#container-cannot-be-scheduled for more information.\"\n",
      "    }\n",
      "  ]\n",
      "}\n",
      "\n"
     ]
    },
    {
     "ename": "WebserviceException",
     "evalue": "WebserviceException:\n\tMessage: Service deployment polling reached non-successful terminal state, current service state: Failed\nOperation ID: 79909e99-c1db-4574-95bc-edb3d83ce7d8\nMore information can be found using '.get_logs()'\nError:\n{\n  \"code\": \"KubernetesError\",\n  \"statusCode\": 400,\n  \"message\": \"Kubernetes Deployment Error\",\n  \"details\": [\n    {\n      \"code\": \"Unschedulable\",\n      \"message\": \"0/3 nodes are available: 3 Insufficient cpu.\"\n    },\n    {\n      \"code\": \"DeploymentFailed\",\n      \"message\": \"Couldn't schedule because the kubernetes cluster didn't have available resources after trying for 00:05:00.\\nYou can address this error by either adding more nodes, changing the SKU of your nodes or changing the resource requirements of your service.\\nPlease refer to https://aka.ms/debugimage#container-cannot-be-scheduled for more information.\"\n    }\n  ]\n}\n\tInnerException None\n\tErrorResponse \n{\n    \"error\": {\n        \"message\": \"Service deployment polling reached non-successful terminal state, current service state: Failed\\nOperation ID: 79909e99-c1db-4574-95bc-edb3d83ce7d8\\nMore information can be found using '.get_logs()'\\nError:\\n{\\n  \\\"code\\\": \\\"KubernetesError\\\",\\n  \\\"statusCode\\\": 400,\\n  \\\"message\\\": \\\"Kubernetes Deployment Error\\\",\\n  \\\"details\\\": [\\n    {\\n      \\\"code\\\": \\\"Unschedulable\\\",\\n      \\\"message\\\": \\\"0/3 nodes are available: 3 Insufficient cpu.\\\"\\n    },\\n    {\\n      \\\"code\\\": \\\"DeploymentFailed\\\",\\n      \\\"message\\\": \\\"Couldn't schedule because the kubernetes cluster didn't have available resources after trying for 00:05:00.\\\\nYou can address this error by either adding more nodes, changing the SKU of your nodes or changing the resource requirements of your service.\\\\nPlease refer to https://aka.ms/debugimage#container-cannot-be-scheduled for more information.\\\"\\n    }\\n  ]\\n}\"\n    }\n}",
     "output_type": "error",
     "traceback": [
      "\u001B[0;31m---------------------------------------------------------------------------\u001B[0m",
      "\u001B[0;31mWebserviceException\u001B[0m                       Traceback (most recent call last)",
      "\u001B[0;32m/anaconda/envs/tmp2/lib/python3.6/site-packages/azureml/core/webservice/webservice.py\u001B[0m in \u001B[0;36mwait_for_deployment\u001B[0;34m(self, show_output)\u001B[0m\n\u001B[1;32m    673\u001B[0m                                           '{}'.format(self.state, self._operation_endpoint.split('/')[-1],\n\u001B[0;32m--> 674\u001B[0;31m                                                       logs_response, error_response), logger=module_logger)\n\u001B[0m\u001B[1;32m    675\u001B[0m             print('{} service creation operation finished, operation \"{}\"'.format(self._webservice_type,\n",
      "\u001B[0;31mWebserviceException\u001B[0m: WebserviceException:\n\tMessage: Service deployment polling reached non-successful terminal state, current service state: Failed\nOperation ID: 79909e99-c1db-4574-95bc-edb3d83ce7d8\nMore information can be found using '.get_logs()'\nError:\n{\n  \"code\": \"KubernetesError\",\n  \"statusCode\": 400,\n  \"message\": \"Kubernetes Deployment Error\",\n  \"details\": [\n    {\n      \"code\": \"Unschedulable\",\n      \"message\": \"0/3 nodes are available: 3 Insufficient cpu.\"\n    },\n    {\n      \"code\": \"DeploymentFailed\",\n      \"message\": \"Couldn't schedule because the kubernetes cluster didn't have available resources after trying for 00:05:00.\\nYou can address this error by either adding more nodes, changing the SKU of your nodes or changing the resource requirements of your service.\\nPlease refer to https://aka.ms/debugimage#container-cannot-be-scheduled for more information.\"\n    }\n  ]\n}\n\tInnerException None\n\tErrorResponse \n{\n    \"error\": {\n        \"message\": \"Service deployment polling reached non-successful terminal state, current service state: Failed\\nOperation ID: 79909e99-c1db-4574-95bc-edb3d83ce7d8\\nMore information can be found using '.get_logs()'\\nError:\\n{\\n  \\\"code\\\": \\\"KubernetesError\\\",\\n  \\\"statusCode\\\": 400,\\n  \\\"message\\\": \\\"Kubernetes Deployment Error\\\",\\n  \\\"details\\\": [\\n    {\\n      \\\"code\\\": \\\"Unschedulable\\\",\\n      \\\"message\\\": \\\"0/3 nodes are available: 3 Insufficient cpu.\\\"\\n    },\\n    {\\n      \\\"code\\\": \\\"DeploymentFailed\\\",\\n      \\\"message\\\": \\\"Couldn't schedule because the kubernetes cluster didn't have available resources after trying for 00:05:00.\\\\nYou can address this error by either adding more nodes, changing the SKU of your nodes or changing the resource requirements of your service.\\\\nPlease refer to https://aka.ms/debugimage#container-cannot-be-scheduled for more information.\\\"\\n    }\\n  ]\\n}\"\n    }\n}",
      "\nDuring handling of the above exception, another exception occurred:\n",
      "\u001B[0;31mWebserviceException\u001B[0m                       Traceback (most recent call last)",
      "\u001B[0;32m<ipython-input-14-5e3e8e7dac36>\u001B[0m in \u001B[0;36m<module>\u001B[0;34m\u001B[0m\n\u001B[1;32m      6\u001B[0m \u001B[0mtoken_auth_enabled\u001B[0m\u001B[0;34m=\u001B[0m\u001B[0;32mTrue\u001B[0m\u001B[0;34m\u001B[0m\u001B[0m\n\u001B[1;32m      7\u001B[0m service_aks=deploy_to_AKS(workspace_aks, attachment_name, service_name, models, inference_config, token_auth_enabled=token_auth_enabled,\n\u001B[0;32m----> 8\u001B[0;31m                   cpu_cores=1, memory_gb=1)\n\u001B[0m",
      "\u001B[0;32m/mnt/batch/tasks/shared/LS_root/mounts/clusters/my-compute/code/users/t-yangx/demo/azureml-designer-demo/fasttext_pipeline_utils.py\u001B[0m in \u001B[0;36mdeploy_to_AKS\u001B[0;34m(workspace, attachment_name, service_name, models, inference_config, token_auth_enabled, cpu_cores, memory_gb, overwrite)\u001B[0m\n\u001B[1;32m    194\u001B[0m                                                            auth_enabled=auth_enabled)\n\u001B[1;32m    195\u001B[0m     \u001B[0mservice\u001B[0m \u001B[0;34m=\u001B[0m \u001B[0mModel\u001B[0m\u001B[0;34m.\u001B[0m\u001B[0mdeploy\u001B[0m\u001B[0;34m(\u001B[0m\u001B[0mworkspace\u001B[0m\u001B[0;34m,\u001B[0m \u001B[0mservice_name\u001B[0m\u001B[0;34m,\u001B[0m \u001B[0mmodels\u001B[0m\u001B[0;34m,\u001B[0m \u001B[0minference_config\u001B[0m\u001B[0;34m,\u001B[0m \u001B[0mdeployment_config\u001B[0m\u001B[0;34m,\u001B[0m \u001B[0maks_target\u001B[0m\u001B[0;34m)\u001B[0m\u001B[0;34m\u001B[0m\u001B[0m\n\u001B[0;32m--> 196\u001B[0;31m     \u001B[0mservice\u001B[0m\u001B[0;34m.\u001B[0m\u001B[0mwait_for_deployment\u001B[0m\u001B[0;34m(\u001B[0m\u001B[0mshow_output\u001B[0m\u001B[0;34m=\u001B[0m\u001B[0;32mTrue\u001B[0m\u001B[0;34m)\u001B[0m\u001B[0;34m\u001B[0m\u001B[0m\n\u001B[0m\u001B[1;32m    197\u001B[0m     \u001B[0mprint\u001B[0m\u001B[0;34m(\u001B[0m\u001B[0mservice\u001B[0m\u001B[0;34m.\u001B[0m\u001B[0mstate\u001B[0m\u001B[0;34m)\u001B[0m\u001B[0;34m\u001B[0m\u001B[0m\n\u001B[1;32m    198\u001B[0m     \u001B[0;32mreturn\u001B[0m \u001B[0mservice\u001B[0m\u001B[0;34m\u001B[0m\u001B[0m\n",
      "\u001B[0;32m/anaconda/envs/tmp2/lib/python3.6/site-packages/azureml/core/webservice/webservice.py\u001B[0m in \u001B[0;36mwait_for_deployment\u001B[0;34m(self, show_output)\u001B[0m\n\u001B[1;32m    681\u001B[0m                                           'Current state is {}'.format(self.state), logger=module_logger)\n\u001B[1;32m    682\u001B[0m             \u001B[0;32melse\u001B[0m\u001B[0;34m:\u001B[0m\u001B[0;34m\u001B[0m\u001B[0m\n\u001B[0;32m--> 683\u001B[0;31m                 \u001B[0;32mraise\u001B[0m \u001B[0mWebserviceException\u001B[0m\u001B[0;34m(\u001B[0m\u001B[0me\u001B[0m\u001B[0;34m.\u001B[0m\u001B[0mmessage\u001B[0m\u001B[0;34m,\u001B[0m \u001B[0mlogger\u001B[0m\u001B[0;34m=\u001B[0m\u001B[0mmodule_logger\u001B[0m\u001B[0;34m)\u001B[0m\u001B[0;34m\u001B[0m\u001B[0m\n\u001B[0m\u001B[1;32m    684\u001B[0m \u001B[0;34m\u001B[0m\u001B[0m\n\u001B[1;32m    685\u001B[0m     \u001B[0;32mdef\u001B[0m \u001B[0m_wait_for_operation_to_complete\u001B[0m\u001B[0;34m(\u001B[0m\u001B[0mself\u001B[0m\u001B[0;34m,\u001B[0m \u001B[0mshow_output\u001B[0m\u001B[0;34m)\u001B[0m\u001B[0;34m:\u001B[0m\u001B[0;34m\u001B[0m\u001B[0m\n",
      "\u001B[0;31mWebserviceException\u001B[0m: WebserviceException:\n\tMessage: Service deployment polling reached non-successful terminal state, current service state: Failed\nOperation ID: 79909e99-c1db-4574-95bc-edb3d83ce7d8\nMore information can be found using '.get_logs()'\nError:\n{\n  \"code\": \"KubernetesError\",\n  \"statusCode\": 400,\n  \"message\": \"Kubernetes Deployment Error\",\n  \"details\": [\n    {\n      \"code\": \"Unschedulable\",\n      \"message\": \"0/3 nodes are available: 3 Insufficient cpu.\"\n    },\n    {\n      \"code\": \"DeploymentFailed\",\n      \"message\": \"Couldn't schedule because the kubernetes cluster didn't have available resources after trying for 00:05:00.\\nYou can address this error by either adding more nodes, changing the SKU of your nodes or changing the resource requirements of your service.\\nPlease refer to https://aka.ms/debugimage#container-cannot-be-scheduled for more information.\"\n    }\n  ]\n}\n\tInnerException None\n\tErrorResponse \n{\n    \"error\": {\n        \"message\": \"Service deployment polling reached non-successful terminal state, current service state: Failed\\nOperation ID: 79909e99-c1db-4574-95bc-edb3d83ce7d8\\nMore information can be found using '.get_logs()'\\nError:\\n{\\n  \\\"code\\\": \\\"KubernetesError\\\",\\n  \\\"statusCode\\\": 400,\\n  \\\"message\\\": \\\"Kubernetes Deployment Error\\\",\\n  \\\"details\\\": [\\n    {\\n      \\\"code\\\": \\\"Unschedulable\\\",\\n      \\\"message\\\": \\\"0/3 nodes are available: 3 Insufficient cpu.\\\"\\n    },\\n    {\\n      \\\"code\\\": \\\"DeploymentFailed\\\",\\n      \\\"message\\\": \\\"Couldn't schedule because the kubernetes cluster didn't have available resources after trying for 00:05:00.\\\\nYou can address this error by either adding more nodes, changing the SKU of your nodes or changing the resource requirements of your service.\\\\nPlease refer to https://aka.ms/debugimage#container-cannot-be-scheduled for more information.\\\"\\n    }\\n  ]\\n}\"\n    }\n}"
     ]
    }
   ],
   "source": [
    "# deploy to AKS (Azure Kubernetes Service)\n",
    "attachment_name='myaks1'\n",
    "# every time we deploy to ACI, we need to change the service_name or we delete the existing service beforehand\n",
    "service_name='aks-deploy-test7'\n",
    "models=[model]\n",
    "cpu_cores=1\n",
    "memory_gb=1\n",
    "token_auth_enabled=True\n",
    "services = workspace.webservices\n",
    "if service_name in services and overwrite:\n",
    "    print('found existing service named {}, delete it right now...'.format(service_name))\n",
    "    services[service_name].delete()\n",
    "# Only one type of Auth may be enabled\n",
    "if token_auth_enabled:\n",
    "    # key auth\n",
    "    auth_enabled = False\n",
    "else:\n",
    "    auth_enabled = True\n",
    "print('auth type: {}'.format('token' if token_auth_enabled else 'key'))\n",
    "aks_target = AksCompute(aks_workspace, attachment_name)\n",
    "# If deploying to a cluster configured for dev/test, ensure that it was created with enough\n",
    "# cores and memory to handle this deployment configuration. Note that memory is also used by\n",
    "# things such as dependencies and AML components.\n",
    "deployment_config = AksWebservice.deploy_configuration(cpu_cores=cpu_cores, memory_gb=memory_gb,\n",
    "                                                       token_auth_enabled=token_auth_enabled,\n",
    "                                                       auth_enabled=auth_enabled)\n",
    "service = Model.deploy(workspace, service_name, models, inference_config, deployment_config, aks_target)\n",
    "service.wait_for_deployment(show_output=True)\n",
    "print(service.state)"
   ]
  }
 ],
 "metadata": {
  "kernelspec": {
   "display_name": "tmp2",
   "language": "python",
   "name": "tmp2"
  },
  "language_info": {
   "codemirror_mode": {
    "name": "ipython",
    "version": 3
   },
   "file_extension": ".py",
   "mimetype": "text/x-python",
   "name": "python",
   "nbconvert_exporter": "python",
   "pygments_lexer": "ipython3",
   "version": "3.6.6"
  },
  "widgets": {
   "application/vnd.jupyter.widget-state+json": {
    "state": {},
    "version_major": 2,
    "version_minor": 0
   }
  }
 },
 "nbformat": 4,
 "nbformat_minor": 4
}