{
 "cells": [
  {
   "cell_type": "code",
   "execution_count": 1,
   "metadata": {},
   "outputs": [],
   "source": [
    "import inspect\n",
    "from azureml.core import Workspace, Dataset\n",
    "from azureml.core.compute import AmlCompute, ComputeTarget\n",
    "from azureml.pipeline.core.graph import DataType\n",
    "from azureml.pipeline.wrapper import Module, dsl, Pipeline\n",
    "from azureml.core.authentication import InteractiveLoginAuthentication"
   ]
  },
  {
   "cell_type": "code",
   "execution_count": 2,
   "metadata": {
    "tags": []
   },
   "outputs": [
    {
     "name": "stdout",
     "output_type": "stream",
     "text": [
      "fundamental3\n",
      "fundamental\n",
      "eastasia\n",
      "4f455bd0-f95a-4b7d-8d08-078611508e0b\n",
      "dict_keys(['myaks1', 'aml-compute', 'my-compute'])\n"
     ]
    }
   ],
   "source": [
    "subscription_id = '4f455bd0-f95a-4b7d-8d08-078611508e0b'\n",
    "resource_group = 'fundamental'\n",
    "workspace_name = 'fundamental3'\n",
    "namespace=workspace_name # for loading module\n",
    "# set this if you have multiple tenant\n",
    "tenant_id=\"72f988bf-86f1-41af-91ab-2d7cd011db47\"\n",
    "interactive_auth = InteractiveLoginAuthentication(tenant_id=tenant_id)\n",
    "\n",
    "workspace = Workspace(subscription_id, resource_group, workspace_name)\n",
    "print(workspace.name, workspace.resource_group, workspace.location, workspace.subscription_id, workspace.compute_targets.keys(),sep = '\\n')"
   ]
  },
  {
   "cell_type": "code",
   "execution_count": 3,
   "metadata": {
    "scrolled": true,
    "tags": []
   },
   "outputs": [
    {
     "name": "stdout",
     "output_type": "stream",
     "text": [
      "{'myaks1': AksCompute(workspace=Workspace.create(name='fundamental3', subscription_id='4f455bd0-f95a-4b7d-8d08-078611508e0b', resource_group='fundamental'), name=myaks1, id=/subscriptions/4f455bd0-f95a-4b7d-8d08-078611508e0b/resourceGroups/fundamental/providers/Microsoft.MachineLearningServices/workspaces/fundamental3/computes/myaks1, type=AKS, provisioning_state=Failed, location=eastasia, tags=None), 'aml-compute': AmlCompute(workspace=Workspace.create(name='fundamental3', subscription_id='4f455bd0-f95a-4b7d-8d08-078611508e0b', resource_group='fundamental'), name=aml-compute, id=/subscriptions/4f455bd0-f95a-4b7d-8d08-078611508e0b/resourceGroups/fundamental/providers/Microsoft.MachineLearningServices/workspaces/fundamental3/computes/aml-compute, type=AmlCompute, provisioning_state=Succeeded, location=eastasia, tags=None), 'my-compute': {\n",
      "  \"id\": \"/subscriptions/4f455bd0-f95a-4b7d-8d08-078611508e0b/resourceGroups/fundamental/providers/Microsoft.MachineLearningServices/workspaces/fundamental3/computes/my-compute\",\n",
      "  \"name\": \"my-compute\",\n",
      "  \"location\": \"eastasia\",\n",
      "  \"tags\": null,\n",
      "  \"properties\": {\n",
      "    \"description\": null,\n",
      "    \"computeType\": \"ComputeInstance\",\n",
      "    \"computeLocation\": \"eastasia\",\n",
      "    \"provisioningErrors\": null,\n",
      "    \"provisioningState\": \"Succeeded\",\n",
      "    \"properties\": {\n",
      "      \"vmSize\": \"STANDARD_DS3_V2\",\n",
      "      \"applications\": [\n",
      "        {\n",
      "          \"displayName\": \"Jupyter\",\n",
      "          \"endpointUri\": \"https://my-compute.eastasia.instances.azureml.net\"\n",
      "        },\n",
      "        {\n",
      "          \"displayName\": \"Jupyter Lab\",\n",
      "          \"endpointUri\": \"https://my-compute.eastasia.instances.azureml.net/lab\"\n",
      "        },\n",
      "        {\n",
      "          \"displayName\": \"RStudio\",\n",
      "          \"endpointUri\": \"https://my-compute-8787.eastasia.instances.azureml.net\"\n",
      "        }\n",
      "      ],\n",
      "      \"connectivityEndpoints\": {\n",
      "        \"publicIpAddress\": \"52.139.178.155\",\n",
      "        \"privateIpAddress\": \"10.0.0.5\"\n",
      "      },\n",
      "      \"sshSettings\": {\n",
      "        \"sshPublicAccess\": \"Disabled\",\n",
      "        \"adminUserName\": \"azureuser\",\n",
      "        \"adminPublicKey\": null,\n",
      "        \"sshPort\": 4001\n",
      "      },\n",
      "      \"subnet\": {\n",
      "        \"id\": null\n",
      "      },\n",
      "      \"errors\": []\n",
      "    },\n",
      "    \"status\": {\n",
      "      \"errors\": [],\n",
      "      \"creationTime\": \"2020-07-11T08:11:25.881330+00:00\",\n",
      "      \"createdBy\": {\n",
      "        \"userObjectId\": \"64858e32-ff73-4ae0-aa11-f38128a4b583\",\n",
      "        \"userTenantId\": \"72f988bf-86f1-41af-91ab-2d7cd011db47\",\n",
      "        \"userName\": \"Xiaoyu Yang\"\n",
      "      },\n",
      "      \"modifiedTime\": \"2020-07-11T08:14:28.780380+00:00\",\n",
      "      \"state\": \"Running\",\n",
      "      \"vmSize\": \"STANDARD_DS3_V2\"\n",
      "    }\n",
      "  }\n",
      "}}\n",
      "Found existing compute target: aml-compute\n"
     ]
    }
   ],
   "source": [
    "# choose compute target\n",
    "print(workspace.compute_targets)\n",
    "aml_compute_name = 'aml-compute'\n",
    "try:\n",
    "    aml_compute = AmlCompute(workspace, aml_compute_name)\n",
    "    print(\"Found existing compute target: {}\".format(aml_compute_name))\n",
    "except:\n",
    "    print(\"Creating new compute target: {}\".format(aml_compute_name))\n",
    "\n",
    "    provisioning_config = AmlCompute.provisioning_configuration(vm_size=\"STANDARD_D2_V2\",\n",
    "                                                                min_nodes=1,\n",
    "                                                                max_nodes=4)\n",
    "    aml_compute = ComputeTarget.create(workspace, aml_compute_name, provisioning_config)\n",
    "    aml_compute.wait_for_completion(show_output=True, min_node_count=None, timeout_in_minutes=20)\n",
    "# print(aml_compute)"
   ]
  },
  {
   "cell_type": "code",
   "execution_count": 4,
   "metadata": {
    "tags": []
   },
   "outputs": [
    {
     "data": {
      "text/plain": [
       "<azureml.pipeline.core.graph.DataType at 0x7fa9c651c518>"
      ]
     },
     "execution_count": 4,
     "metadata": {},
     "output_type": "execute_result"
    }
   ],
   "source": [
    "# register my own datatype\n",
    "DataType.create_data_type(workspace, 'MyDirectory', description='', is_directory=True) # won't register repeatedly\n",
    "DataType.create_data_type(workspace, 'MyFile', description='', is_directory=False)"
   ]
  },
  {
   "cell_type": "code",
   "execution_count": 5,
   "metadata": {
    "scrolled": true,
    "tags": []
   },
   "outputs": [
    {
     "name": "stdout",
     "output_type": "stream",
     "text": [
      "FileDataset\n",
      "{\n",
      "  \"source\": [\n",
      "    \"https://datastore4fasttext.blob.core.windows.net/mytest3/THUCNews.txt\"\n",
      "  ],\n",
      "  \"definition\": [\n",
      "    \"GetFiles\"\n",
      "  ],\n",
      "  \"registration\": {\n",
      "    \"id\": \"9e16ea04-3074-4f84-8a8c-83adb226c4ae\",\n",
      "    \"name\": \"THUCNews_TXT\",\n",
      "    \"version\": 1,\n",
      "    \"description\": \"THUCNews dataset is generated by filtering and filtering historical data of Sina News RSS subscription channel from 2005 to 2011\",\n",
      "    \"workspace\": \"Workspace.create(name='fundamental3', subscription_id='4f455bd0-f95a-4b7d-8d08-078611508e0b', resource_group='fundamental')\"\n",
      "  }\n",
      "}\n",
      "FileDataset\n",
      "{\n",
      "  \"source\": [\n",
      "    \"https://datastore4fasttext.blob.core.windows.net/mytest3/character2index.json\"\n",
      "  ],\n",
      "  \"definition\": [\n",
      "    \"GetFiles\"\n",
      "  ],\n",
      "  \"registration\": {\n",
      "    \"id\": \"9de9b550-46a4-41ce-b1b4-54b6c665fcf3\",\n",
      "    \"name\": \"Char2Index_JSON\",\n",
      "    \"version\": 1,\n",
      "    \"description\": \"The mapping relationship between character and index \",\n",
      "    \"workspace\": \"Workspace.create(name='fundamental3', subscription_id='4f455bd0-f95a-4b7d-8d08-078611508e0b', resource_group='fundamental')\"\n",
      "  }\n",
      "}\n"
     ]
    }
   ],
   "source": [
    "# load data\n",
    "dataset_name = 'THUCNews_TXT'\n",
    "char2index_name = 'Char2Index_JSON'\n",
    "\n",
    "if dataset_name not in workspace.datasets:\n",
    "    print('Registering a THUCNews dataset for fasttext pipeline ...')\n",
    "    path = ['https://datastore4fasttext.file.core.windows.net/data4fasttext/THUCNews.txt']\n",
    "    data = Dataset.File.from_files(path=path)\n",
    "    data.register(workspace=workspace, name=dataset_name, description='THUCNews dataset is generated by filtering and filtering historical data of Sina News RSS subscription channel from 2005 to 2011')\n",
    "    print('Registerd')\n",
    "data = workspace.datasets[dataset_name]\n",
    "\n",
    "if char2index_name not in workspace.datasets:\n",
    "    print('Registering a Char2Index_JSON for fasttext pipeline ...')\n",
    "    path = ['https://datastore4fasttext.file.core.windows.net/data4fasttext/character2index.json']\n",
    "    data = Dataset.File.from_files(path=path)\n",
    "    data.register(workspace=workspace, name=char2index_name, description='The mapping relationship between character and index ')\n",
    "    print('Registerd')\n",
    "char2index = workspace.datasets[char2index_name]\n",
    "\n",
    "print(data)\n",
    "print(char2index)"
   ]
  },
  {
   "cell_type": "code",
   "execution_count": 6,
   "metadata": {
    "tags": []
   },
   "outputs": [
    {
     "name": "stdout",
     "output_type": "stream",
     "text": [
      "found split_data_txt_module\n",
      "found split_data_txt_parallel_module\n",
      "found fasttext_train_module\n",
      "found fasttext_evaluation_module\n",
      "found fasttext_score_module\n",
      "found fasttext_score_parallel_module\n",
      "found compare_two_models_module\n"
     ]
    }
   ],
   "source": [
    "# load module\n",
    "try:\n",
    "    split_data_txt_module_func = Module.load(workspace=workspace, namespace=namespace, name='Split Data Txt')\n",
    "    print('found split_data_txt_module')\n",
    "except:\n",
    "    print('not found split_data_txt_module, register it now...')\n",
    "    yaml_file='split_data_txt/split_data_txt.spec.yaml'\n",
    "    split_data_txt_module_func = Module.register(workspace=workspace, yaml_file=yaml_file)\n",
    "\n",
    "try:\n",
    "    split_data_txt_parallel_module_func = Module.load(workspace=workspace, namespace=namespace, name='Split Data Txt Parallel')\n",
    "    print('found split_data_txt_parallel_module')\n",
    "except:\n",
    "    print('not found split_data_txt_parallel_module, register it now...')\n",
    "    yaml_file='split_data_txt_parallel/split_data_txt_parallel.spec.yaml'\n",
    "    split_data_txt_parallel_module_func = Module.register(workspace=workspace, yaml_file=yaml_file)\n",
    "\n",
    "try:\n",
    "    fasttext_train_module_func = Module.load(workspace=workspace, namespace=namespace, name='FastText Train')\n",
    "    print('found fasttext_train_module')\n",
    "except:\n",
    "    print('not found fasttext_train_module, register it now...')\n",
    "    yaml_file='fasttext_train/fasttext_train.spec.yaml'\n",
    "    fasttext_train_module_func = Module.register(workspace=workspace, yaml_file=yaml_file)\n",
    "\n",
    "try:\n",
    "    fasttext_evaluation_module_func = Module.load(workspace=workspace, namespace=namespace, name='FastText Evaluation')\n",
    "    print('found fasttext_evaluation_module')\n",
    "except:\n",
    "    print('not found fasttext_evaluation_module, register it now...')\n",
    "    yaml_file='fasttext_evaluation/fasttext_evaluation.spec.yaml'\n",
    "    fasttext_evaluation_module_func = Module.register(workspace=workspace, yaml_file=yaml_file)\n",
    "\n",
    "try:\n",
    "    fasttext_score_module_func = Module.load(workspace=workspace, namespace=namespace, name='FastText Score')\n",
    "    print('found fasttext_score_module')\n",
    "except:\n",
    "    print('not found fasttext_score_module, register it now...')\n",
    "    yaml_file='fasttext_score/fasttext_score.spec.yaml'\n",
    "    fasttext_score_module_func = Module.register(workspace=workspace, yaml_file=yaml_file)\n",
    "\n",
    "try:\n",
    "    fasttext_score_parallel_module_func = Module.load(workspace=workspace, namespace=namespace, name='FastText Score Parallel')\n",
    "    print('found fasttext_score_parallel_module')\n",
    "except:\n",
    "    print('not found fasttext_score_parallel_module, register it now...')\n",
    "    yaml_file='fasttext_score_parallel/fasttext_score_parallel.spec.yaml'\n",
    "    fasttext_score_parallel_module_func = Module.register(workspace=workspace, yaml_file=yaml_file)\n",
    "\n",
    "try:\n",
    "    compare_two_models_module_func = Module.load(workspace=workspace, namespace=namespace, name='Compare Two Models')\n",
    "    print('found compare_two_models_module')\n",
    "except:\n",
    "    print('not found compare_two_models_module, register it now...')\n",
    "    yaml_file='compare_two_models/compare_two_models.spec.yaml'\n",
    "    compare_two_models_module_func = Module.register(workspace=workspace, yaml_file=yaml_file)\n",
    "\n",
    "\n",
    "\n",
    "# inspect signature\n",
    "# print(inspect.signature(split_data_txt_module_func))\n",
    "# print(inspect.signature(split_data_txt_parallel_module_func))\n",
    "# print(inspect.signature(fasttext_train_module_func))\n",
    "# print(inspect.signature(fasttext_evaluation_module_func))\n",
    "# print(inspect.signature(fasttext_score_module_func))\n",
    "# print(inspect.signature(fasttext_score_parallel_module_func))\n",
    "# print(inspect.signature(compare2model_module_func))"
   ]
  },
  {
   "cell_type": "code",
   "execution_count": 7,
   "metadata": {
    "pycharm": {
     "name": "#%%\n"
    },
    "tags": []
   },
   "outputs": [],
   "source": [
    "# connect module\n",
    "@dsl.pipeline(name='test deploy', description='Test parallel', default_compute_target=aml_compute_name)\n",
    "def training_pipeline(epochs):\n",
    "    split_data_txt_parallel = split_data_txt_parallel_module_func(\n",
    "    input_dir = data,\n",
    "    training_data_ratio = 0.7,\n",
    "    validation_data_ratio = 0.1,\n",
    "    random_split = True,\n",
    "    seed = 7131928\n",
    "    )\n",
    "\n",
    "    fasttext_train = fasttext_train_module_func(\n",
    "    training_data_dir = split_data_txt_parallel.outputs.training_data_output,\n",
    "    validation_data_dir = split_data_txt_parallel.outputs.validation_data_output,\n",
    "    char2index_dir = char2index,\n",
    "    epochs = epochs,\n",
    "    batch_size = 64,\n",
    "    learning_rate = 0.0005,\n",
    "    embedding_dim = 128\n",
    "    )\n",
    "    \n",
    "    fasttext_score_parallel = fasttext_score_parallel_module_func(\n",
    "    texts_to_score = split_data_txt_parallel.outputs.test_data_output,\n",
    "    fasttext_model = fasttext_train.outputs.trained_model_dir,\n",
    "    char2index_dir = char2index\n",
    "    )\n",
    "    fasttext_score_parallel.runsettings.configure(node_count=4, process_count_per_node=4, mini_batch_size=128)\n",
    "\n",
    "    return {**fasttext_score_parallel.outputs, **fasttext_train.outputs}\n"
   ]
  },
  {
   "cell_type": "code",
   "execution_count": 8,
   "metadata": {},
   "outputs": [
    {
     "data": {
      "text/plain": [
       "azureml.pipeline.wrapper._module.Module"
      ]
     },
     "execution_count": 8,
     "metadata": {},
     "output_type": "execute_result"
    }
   ],
   "source": [
    "split_data_txt_parallel = split_data_txt_parallel_module_func(\n",
    "    input_dir = data,\n",
    "    training_data_ratio = 0.7,\n",
    "    validation_data_ratio = 0.1,\n",
    "    random_split = True,\n",
    "    seed = 16\n",
    "    )\n",
    "\n",
    "fasttext_train = fasttext_train_module_func(\n",
    "    training_data_dir = split_data_txt_parallel.outputs.training_data_output,\n",
    "    validation_data_dir = split_data_txt_parallel.outputs.validation_data_output,\n",
    "    char2index_dir = char2index,\n",
    "    epochs = 1,\n",
    "    batch_size = 64,\n",
    "    learning_rate = 0.0005,\n",
    "    embedding_dim = 128\n",
    "    )\n",
    "type(fasttext_train)"
   ]
  },
  {
   "cell_type": "code",
   "execution_count": null,
   "metadata": {},
   "outputs": [],
   "source": []
  },
  {
   "cell_type": "code",
   "execution_count": 9,
   "metadata": {
    "scrolled": true,
    "tags": []
   },
   "outputs": [],
   "source": [
    "# pipeline\n",
    "pipeline = training_pipeline(epochs=1)"
   ]
  },
  {
   "cell_type": "code",
   "execution_count": 10,
   "metadata": {
    "scrolled": true
   },
   "outputs": [
    {
     "data": {
      "application/javascript": [
       "try {\n",
       "    require.undef(\"validate_widget\")\n",
       "\n",
       "    define('validate_widget', [\"@jupyter-widgets/base\"], function(widgets) {\n",
       "        var ValidateView = widgets.DOMWidgetView.extend({\n",
       "            render () {\n",
       "                window.widget_self = this\n",
       "                var visualize_id = this.model.get('visualize_id')\n",
       "\n",
       "                if (!window._renderLock) {\n",
       "                    window._renderLock = {}\n",
       "                }\n",
       "                if (window._renderLock[visualize_id]) {\n",
       "                    return\n",
       "                }\n",
       "                window._renderLock[visualize_id] = \"widget\"\n",
       "                console.log(\"load as widget\", Date.now())\n",
       "\n",
       "                var lib_url = this.model.get('lib_url')\n",
       "                var graph_json = JSON.parse(this.model.get('graph_json'))\n",
       "                var env_json = JSON.parse(this.model.get('env_json'))\n",
       "                var container_id = this.model.get('container_id')\n",
       "\n",
       "                window.render_container_id = container_id\n",
       "                window.graph_json = graph_json\n",
       "                window.env_json = env_json\n",
       "                window.before_script = performance.now()\n",
       "\n",
       "                var container = document.createElement('div')\n",
       "                container.id = container_id\n",
       "                this.el.appendChild(container)\n",
       "\n",
       "                var style = document.createElement('style')\n",
       "                style.innerHTML = [\n",
       "                    \"#\", container_id, \" svg.react-dag-editor-svg-container { height: 800px; }\",\n",
       "                    \".cell-output-ipywidget-background { background: transparent !important }\"\n",
       "                ].join('')\n",
       "                this.el.appendChild(style)\n",
       "\n",
       "                this.model.on('msg:custom', dispatchMessage, this);\n",
       "\n",
       "                if (!window.__event_hub) {\n",
       "                    window.__event_hub = {}\n",
       "                }\n",
       "                if (!window.__event_hub[container_id]) {\n",
       "                    window.__event_hub[container_id] = {}\n",
       "                }\n",
       "\n",
       "                if (!window.__send_event) {\n",
       "                    window.__send_event = {}\n",
       "                }\n",
       "                window.__send_event[container_id] = sendMessage.bind(this)\n",
       "\n",
       "                function sendMessage(message, uid, content) {\n",
       "                    return new Promise((resolve) => {\n",
       "                        this.model.send({\n",
       "                            message: `${message}:request`,\n",
       "                            body: {\n",
       "                                uid,\n",
       "                                content\n",
       "                            }\n",
       "                        })\n",
       "    \n",
       "                        var respMessageKey = `${message}:response`\n",
       "                        if (!window.__event_hub[container_id][respMessageKey]) {\n",
       "                            window.__event_hub[container_id][respMessageKey] = []\n",
       "                        }\n",
       "                        window.__event_hub[container_id][respMessageKey].push(callback)\n",
       "    \n",
       "                        function callback (response) {\n",
       "                            if (response.uid !== uid) {\n",
       "                                return\n",
       "                            }\n",
       "\n",
       "                            var idx = window.__event_hub[container_id][respMessageKey].indexOf(callback) \n",
       "                            window.__event_hub[container_id][respMessageKey].splice(idx, 1)\n",
       "                            \n",
       "                            resolve(response)\n",
       "                        }\n",
       "                    })\n",
       "                }\n",
       "\n",
       "                function dispatchMessage (rawMessage) {\n",
       "                    var message = rawMessage.message\n",
       "                    var body = rawMessage.body\n",
       "\n",
       "                    if (!window.__event_hub[container_id][message]) {\n",
       "                        window.__event_hub[container_id][message] = []\n",
       "                    }\n",
       "                    var listeners = window.__event_hub[container_id][message]\n",
       "\n",
       "                    listeners.forEach(cb => {\n",
       "                        try {\n",
       "                            cb(body)\n",
       "                        } catch (e) {\n",
       "                            console.error(\"Unexpected error in listener\", e)\n",
       "                        }\n",
       "                    })\n",
       "\n",
       "                    console.log(body)\n",
       "                }\n",
       "\n",
       "                var script = document.createElement('script')\n",
       "                script.src = lib_url\n",
       "                this.el.appendChild(script)\n",
       "            }\n",
       "        });\n",
       "\n",
       "        return {\n",
       "            ValidateView\n",
       "        }\n",
       "    })\n",
       "} catch (e) {\n",
       "    console.log(\"create validation widget failed\", e)\n",
       "}"
      ],
      "text/plain": [
       "<IPython.core.display.Javascript object>"
      ]
     },
     "metadata": {},
     "output_type": "display_data"
    },
    {
     "data": {
      "application/vnd.jupyter.widget-view+json": {
       "model_id": "63e0eba94d0d45f0960e644e558e85c9",
       "version_major": 2,
       "version_minor": 0
      },
      "text/plain": [
       "ValidateView(container_id='container_id_0f96f898-0002-4dd1-ad90-a7904ce8d04d_widget', env_json='{\"subscription…"
      ]
     },
     "metadata": {},
     "output_type": "display_data"
    },
    {
     "data": {
      "text/html": [
       "\n",
       "        <style>\n",
       "        #container_id_0f96f898-0002-4dd1-ad90-a7904ce8d04d_script svg.react-dag-editor-svg-container {\n",
       "            height: 800px;\n",
       "        }\n",
       "        </style>\n",
       "        <div id=\"container_id_0f96f898-0002-4dd1-ad90-a7904ce8d04d_script\"></div>\n",
       "        <script>\n",
       "            (function () {\n",
       "                if (!window._renderLock) {\n",
       "                    window._renderLock = {}\n",
       "                }\n",
       "                if (window._renderLock[\"0f96f898-0002-4dd1-ad90-a7904ce8d04d\"]) {\n",
       "                    return\n",
       "                }\n",
       "                window._renderLock[\"0f96f898-0002-4dd1-ad90-a7904ce8d04d\"] = \"script\"\n",
       "                console.log(\"load as script\", Date.now())\n",
       "\n",
       "                window.render_container_id=\"container_id_0f96f898-0002-4dd1-ad90-a7904ce8d04d_script\";\n",
       "                window.graph_json={\"pipeline\": {\"name\": \"test deploy\", \"data_references\": {\"THUCNews_TXT\": {\"dataset_id\": \"b2319b6a-338d-4788-adfe-d55ca1db06b7\"}, \"Char2Index_JSON\": {\"dataset_id\": \"01760799-3cea-4885-9d68-04bbd10e3bd9\"}}, \"steps\": {\"9af32d0b\": {\"inputs\": {\"Input_dir\": {\"source\": \"THUCNews_TXT\"}}, \"outputs\": {\"Training_data_output\": {\"destination\": \"8b6400bc-726d-400d-a918-7e72887ef554_Training_data_output\"}, \"Validation_data_output\": {\"destination\": \"8b6400bc-726d-400d-a918-7e72887ef554_Validation_data_output\"}, \"Test_data_output\": {\"destination\": \"8b6400bc-726d-400d-a918-7e72887ef554_Test_data_output\"}}, \"module\": {\"id\": \"eecfa9fe-cff3-4ff0-9211-f7c891006fb9\", \"version\": \"0.0.10\"}, \"validate\": {\"error\": [], \"module_id\": \"eecfa9fe-cff3-4ff0-9211-f7c891006fb9\", \"namespace\": \"fundamental3\", \"module_name\": \"Split Data Txt Parallel\", \"module_version\": \"0.0.10\"}}, \"b98288f4\": {\"inputs\": {\"Training_data_dir\": {\"source\": \"8b6400bc-726d-400d-a918-7e72887ef554_Training_data_output\"}, \"Validation_data_dir\": {\"source\": \"8b6400bc-726d-400d-a918-7e72887ef554_Validation_data_output\"}, \"Char2index_dir\": {\"source\": \"Char2Index_JSON\"}}, \"outputs\": {\"Trained_model_dir\": {\"destination\": \"582e0718-bc4e-4ad5-a48d-f013543d6cc9_Trained_model_dir\"}}, \"module\": {\"id\": \"063c9b75-df48-4ad2-879e-74692d164e57\", \"version\": \"0.0.33\"}, \"validate\": {\"error\": [], \"module_id\": \"063c9b75-df48-4ad2-879e-74692d164e57\", \"namespace\": \"fundamental3\", \"module_name\": \"FastText Train\", \"module_version\": \"0.0.33\"}}, \"2067f578\": {\"inputs\": {\"Texts_to_score\": {\"source\": \"8b6400bc-726d-400d-a918-7e72887ef554_Test_data_output\"}, \"Fasttext_model\": {\"source\": \"582e0718-bc4e-4ad5-a48d-f013543d6cc9_Trained_model_dir\"}, \"Char2index_dir\": {\"source\": \"Char2Index_JSON\"}}, \"outputs\": {\"Scored_dataset\": {\"destination\": \"fab2d16a-d3f5-4819-b01e-13f433faee06_Scored_dataset\"}}, \"module\": {\"id\": \"7f2731a9-c061-4acc-8784-a2ea1d80f4f8\", \"version\": \"0.0.9\"}, \"validate\": {\"error\": [], \"module_id\": \"7f2731a9-c061-4acc-8784-a2ea1d80f4f8\", \"namespace\": \"fundamental3\", \"module_name\": \"FastText Score Parallel\", \"module_version\": \"0.0.9\"}}}}, \"subGraphInfo\": [{\"name\": \"test deploy\", \"description\": \"Test parallel\", \"defaultCompute\": \"aml-compute\", \"id\": \"386a50ae-7f1a-4db2-9e67-893032acc0d2\", \"parentGraphId\": null, \"inputs\": [{\"name\": \"THUCNews_TXT_8b6400bc-726d-400d-a918-7e72887ef554\", \"external\": [], \"internal\": [{\"portName\": \"Input_dir\", \"nodeId\": \"9af32d0b\"}]}, {\"name\": \"Char2Index_JSON_582e0718-bc4e-4ad5-a48d-f013543d6cc9\", \"external\": [], \"internal\": [{\"portName\": \"Char2index_dir\", \"nodeId\": \"b98288f4\"}]}, {\"name\": \"Char2Index_JSON_fab2d16a-d3f5-4819-b01e-13f433faee06\", \"external\": [], \"internal\": [{\"portName\": \"Char2index_dir\", \"nodeId\": \"2067f578\"}]}], \"outputs\": [{\"name\": \"scored_dataset\", \"external\": [], \"internal\": [{\"portName\": \"Scored_dataset\", \"nodeId\": \"2067f578\"}]}, {\"name\": \"trained_model_dir\", \"external\": [], \"internal\": [{\"portName\": \"Trained_model_dir\", \"nodeId\": \"b98288f4\"}]}]}], \"nodeIdToSubGraphIdMapping\": {\"9af32d0b\": \"386a50ae-7f1a-4db2-9e67-893032acc0d2\", \"b98288f4\": \"386a50ae-7f1a-4db2-9e67-893032acc0d2\", \"2067f578\": \"386a50ae-7f1a-4db2-9e67-893032acc0d2\"}, \"modules\": [{\"module_id\": \"eecfa9fe-cff3-4ff0-9211-f7c891006fb9\", \"version\": \"0.0.10\", \"name\": \"Split Data Txt Parallel\", \"namespace\": \"fundamental3\", \"structured_interface\": {\"inputs\": [{\"name\": \"Input_dir\", \"label\": \"Input dir\", \"description\": null}], \"outputs\": [{\"name\": \"Training_data_output\", \"label\": \"Training data output\", \"description\": null}, {\"name\": \"Validation_data_output\", \"label\": \"Validation data output\", \"description\": null}, {\"name\": \"Test_data_output\", \"label\": \"Test data output\", \"description\": null}]}}, {\"module_id\": \"063c9b75-df48-4ad2-879e-74692d164e57\", \"version\": \"0.0.33\", \"name\": \"FastText Train\", \"namespace\": \"fundamental3\", \"structured_interface\": {\"inputs\": [{\"name\": \"Training_data_dir\", \"label\": \"Training data dir\", \"description\": null}, {\"name\": \"Validation_data_dir\", \"label\": \"Validation data dir\", \"description\": null}, {\"name\": \"Char2index_dir\", \"label\": \"Char2index dir\", \"description\": null}], \"outputs\": [{\"name\": \"Trained_model_dir\", \"label\": \"Trained model dir\", \"description\": null}]}}, {\"module_id\": \"7f2731a9-c061-4acc-8784-a2ea1d80f4f8\", \"version\": \"0.0.9\", \"name\": \"FastText Score Parallel\", \"namespace\": \"fundamental3\", \"structured_interface\": {\"inputs\": [{\"name\": \"Texts_to_score\", \"label\": \"Texts to score\", \"description\": null}, {\"name\": \"Fasttext_model\", \"label\": \"Fasttext model\", \"description\": null}, {\"name\": \"Char2index_dir\", \"label\": \"Char2index dir\", \"description\": null}], \"outputs\": [{\"name\": \"Scored_dataset\", \"label\": \"Scored dataset\", \"description\": null}]}}], \"datasources\": [{\"name\": \"THUCNews_TXT\", \"description\": \"THUCNews dataset is generated by filtering and filtering historical data of Sina News RSS subscription channel from 2005 to 2011\", \"version\": 1, \"tags\": {}, \"registered_id\": \"b2319b6a-338d-4788-adfe-d55ca1db06b7\", \"saved_id\": \"9e16ea04-3074-4f84-8a8c-83adb226c4ae\", \"nodeId\": \"1692ae10-3aec-3f26-b7f3-593e52e0fee5\"}, {\"name\": \"Char2Index_JSON\", \"description\": \"The mapping relationship between character and index \", \"version\": 1, \"tags\": {}, \"registered_id\": \"01760799-3cea-4885-9d68-04bbd10e3bd9\", \"saved_id\": \"9de9b550-46a4-41ce-b1b4-54b6c665fcf3\", \"nodeId\": \"dfcdcbb3-34ad-3e81-b126-5240de24d7a5\"}]};\n",
       "                window.env_json={\"subscription_id\": \"4f455bd0-f95a-4b7d-8d08-078611508e0b\"};\n",
       "                window.before_script = performance.now();\n",
       "\n",
       "                var script = document.createElement('script')\n",
       "                script.src = \"https://yucongj.azureedge.net/libs/prod/0.0.5/index.js\"\n",
       "                document.getElementById(\"container_id_0f96f898-0002-4dd1-ad90-a7904ce8d04d_script\").appendChild(script)\n",
       "            })()\n",
       "        </script>\n",
       "        "
      ],
      "text/plain": [
       "<IPython.core.display.HTML object>"
      ]
     },
     "metadata": {},
     "output_type": "display_data"
    },
    {
     "data": {
      "text/plain": [
       "{'result': 'validation passed', 'errors': []}"
      ]
     },
     "execution_count": 10,
     "metadata": {},
     "output_type": "execute_result"
    }
   ],
   "source": [
    "# visualization\n",
    "pipeline.validate()"
   ]
  },
  {
   "cell_type": "code",
   "execution_count": 11,
   "metadata": {},
   "outputs": [],
   "source": [
    "# pipeline_draft = pipeline.save(\n",
    "#     experiment_name='my test',\n",
    "# )\n",
    "# pipeline_draft"
   ]
  },
  {
   "cell_type": "code",
   "execution_count": 12,
   "metadata": {
    "scrolled": false,
    "tags": []
   },
   "outputs": [
    {
     "name": "stdout",
     "output_type": "stream",
     "text": [
      "Submitted PipelineRun cec9b659-a387-4bf7-bda4-abaf0840cf8d\n",
      "Link to Azure Machine Learning Portal: https://ml.azure.com/experiments/parallel/runs/cec9b659-a387-4bf7-bda4-abaf0840cf8d?wsid=/subscriptions/4f455bd0-f95a-4b7d-8d08-078611508e0b/resourcegroups/fundamental/workspaces/fundamental3\n",
      "PipelineRunId: cec9b659-a387-4bf7-bda4-abaf0840cf8d\n",
      "Link to Azure Machine Learning Portal: https://ml.azure.com/experiments/parallel/runs/cec9b659-a387-4bf7-bda4-abaf0840cf8d?wsid=/subscriptions/4f455bd0-f95a-4b7d-8d08-078611508e0b/resourcegroups/fundamental/workspaces/fundamental3\n"
     ]
    },
    {
     "data": {
      "application/javascript": [
       "try {\n",
       "    require.undef(\"validate_widget\")\n",
       "\n",
       "    define('validate_widget', [\"@jupyter-widgets/base\"], function(widgets) {\n",
       "        var ValidateView = widgets.DOMWidgetView.extend({\n",
       "            render () {\n",
       "                window.widget_self = this\n",
       "                var visualize_id = this.model.get('visualize_id')\n",
       "\n",
       "                if (!window._renderLock) {\n",
       "                    window._renderLock = {}\n",
       "                }\n",
       "                if (window._renderLock[visualize_id]) {\n",
       "                    return\n",
       "                }\n",
       "                window._renderLock[visualize_id] = \"widget\"\n",
       "                console.log(\"load as widget\", Date.now())\n",
       "\n",
       "                var lib_url = this.model.get('lib_url')\n",
       "                var graph_json = JSON.parse(this.model.get('graph_json'))\n",
       "                var env_json = JSON.parse(this.model.get('env_json'))\n",
       "                var container_id = this.model.get('container_id')\n",
       "\n",
       "                window.render_container_id = container_id\n",
       "                window.graph_json = graph_json\n",
       "                window.env_json = env_json\n",
       "                window.before_script = performance.now()\n",
       "\n",
       "                var container = document.createElement('div')\n",
       "                container.id = container_id\n",
       "                this.el.appendChild(container)\n",
       "\n",
       "                var style = document.createElement('style')\n",
       "                style.innerHTML = [\n",
       "                    \"#\", container_id, \" svg.react-dag-editor-svg-container { height: 800px; }\",\n",
       "                    \".cell-output-ipywidget-background { background: transparent !important }\"\n",
       "                ].join('')\n",
       "                this.el.appendChild(style)\n",
       "\n",
       "                this.model.on('msg:custom', dispatchMessage, this);\n",
       "\n",
       "                if (!window.__event_hub) {\n",
       "                    window.__event_hub = {}\n",
       "                }\n",
       "                if (!window.__event_hub[container_id]) {\n",
       "                    window.__event_hub[container_id] = {}\n",
       "                }\n",
       "\n",
       "                if (!window.__send_event) {\n",
       "                    window.__send_event = {}\n",
       "                }\n",
       "                window.__send_event[container_id] = sendMessage.bind(this)\n",
       "\n",
       "                function sendMessage(message, uid, content) {\n",
       "                    return new Promise((resolve) => {\n",
       "                        this.model.send({\n",
       "                            message: `${message}:request`,\n",
       "                            body: {\n",
       "                                uid,\n",
       "                                content\n",
       "                            }\n",
       "                        })\n",
       "    \n",
       "                        var respMessageKey = `${message}:response`\n",
       "                        if (!window.__event_hub[container_id][respMessageKey]) {\n",
       "                            window.__event_hub[container_id][respMessageKey] = []\n",
       "                        }\n",
       "                        window.__event_hub[container_id][respMessageKey].push(callback)\n",
       "    \n",
       "                        function callback (response) {\n",
       "                            if (response.uid !== uid) {\n",
       "                                return\n",
       "                            }\n",
       "\n",
       "                            var idx = window.__event_hub[container_id][respMessageKey].indexOf(callback) \n",
       "                            window.__event_hub[container_id][respMessageKey].splice(idx, 1)\n",
       "                            \n",
       "                            resolve(response)\n",
       "                        }\n",
       "                    })\n",
       "                }\n",
       "\n",
       "                function dispatchMessage (rawMessage) {\n",
       "                    var message = rawMessage.message\n",
       "                    var body = rawMessage.body\n",
       "\n",
       "                    if (!window.__event_hub[container_id][message]) {\n",
       "                        window.__event_hub[container_id][message] = []\n",
       "                    }\n",
       "                    var listeners = window.__event_hub[container_id][message]\n",
       "\n",
       "                    listeners.forEach(cb => {\n",
       "                        try {\n",
       "                            cb(body)\n",
       "                        } catch (e) {\n",
       "                            console.error(\"Unexpected error in listener\", e)\n",
       "                        }\n",
       "                    })\n",
       "\n",
       "                    console.log(body)\n",
       "                }\n",
       "\n",
       "                var script = document.createElement('script')\n",
       "                script.src = lib_url\n",
       "                this.el.appendChild(script)\n",
       "            }\n",
       "        });\n",
       "\n",
       "        return {\n",
       "            ValidateView\n",
       "        }\n",
       "    })\n",
       "} catch (e) {\n",
       "    console.log(\"create validation widget failed\", e)\n",
       "}"
      ],
      "text/plain": [
       "<IPython.core.display.Javascript object>"
      ]
     },
     "metadata": {},
     "output_type": "display_data"
    },
    {
     "data": {
      "application/vnd.jupyter.widget-view+json": {
       "model_id": "a2e03d1670b94de098c7ac4e56c99b38",
       "version_major": 2,
       "version_minor": 0
      },
      "text/plain": [
       "ValidateView(container_id='container_id_0bb311d9-1c2a-4541-8bb4-38e754b24cc7_widget', env_json='{}', graph_jso…"
      ]
     },
     "metadata": {},
     "output_type": "display_data"
    },
    {
     "data": {
      "text/html": [
       "\n",
       "        <style>\n",
       "        #container_id_0bb311d9-1c2a-4541-8bb4-38e754b24cc7_script svg.react-dag-editor-svg-container {\n",
       "            height: 800px;\n",
       "        }\n",
       "        </style>\n",
       "        <div id=\"container_id_0bb311d9-1c2a-4541-8bb4-38e754b24cc7_script\"></div>\n",
       "        <script>\n",
       "            (function () {\n",
       "                if (!window._renderLock) {\n",
       "                    window._renderLock = {}\n",
       "                }\n",
       "                if (window._renderLock[\"0bb311d9-1c2a-4541-8bb4-38e754b24cc7\"]) {\n",
       "                    return\n",
       "                }\n",
       "                window._renderLock[\"0bb311d9-1c2a-4541-8bb4-38e754b24cc7\"] = \"script\"\n",
       "                console.log(\"load as script\", Date.now())\n",
       "\n",
       "                window.render_container_id=\"container_id_0bb311d9-1c2a-4541-8bb4-38e754b24cc7_script\";\n",
       "                window.graph_json={\"pipeline\": {\"name\": \"test deploy\", \"data_references\": {\"THUCNews_TXT\": {\"dataset_id\": \"b2319b6a-338d-4788-adfe-d55ca1db06b7\"}, \"Char2Index_JSON\": {\"dataset_id\": \"01760799-3cea-4885-9d68-04bbd10e3bd9\"}}, \"steps\": {\"9b1b75d6\": {\"inputs\": {\"Input_dir\": {\"source\": \"THUCNews_TXT\"}}, \"outputs\": {\"Training_data_output\": {\"destination\": \"8b6400bc-726d-400d-a918-7e72887ef554_Training_data_output\"}, \"Validation_data_output\": {\"destination\": \"8b6400bc-726d-400d-a918-7e72887ef554_Validation_data_output\"}, \"Test_data_output\": {\"destination\": \"8b6400bc-726d-400d-a918-7e72887ef554_Test_data_output\"}}, \"module\": {\"id\": \"eecfa9fe-cff3-4ff0-9211-f7c891006fb9\", \"version\": \"0.0.10\"}, \"validate\": {\"error\": [], \"module_id\": \"eecfa9fe-cff3-4ff0-9211-f7c891006fb9\", \"namespace\": \"fundamental3\", \"module_name\": \"Split Data Txt Parallel\", \"module_version\": \"0.0.10\"}}, \"1e24fb8b\": {\"inputs\": {\"Training_data_dir\": {\"source\": \"8b6400bc-726d-400d-a918-7e72887ef554_Training_data_output\"}, \"Validation_data_dir\": {\"source\": \"8b6400bc-726d-400d-a918-7e72887ef554_Validation_data_output\"}, \"Char2index_dir\": {\"source\": \"Char2Index_JSON\"}}, \"outputs\": {\"Trained_model_dir\": {\"destination\": \"582e0718-bc4e-4ad5-a48d-f013543d6cc9_Trained_model_dir\"}}, \"module\": {\"id\": \"063c9b75-df48-4ad2-879e-74692d164e57\", \"version\": \"0.0.33\"}, \"validate\": {\"error\": [], \"module_id\": \"063c9b75-df48-4ad2-879e-74692d164e57\", \"namespace\": \"fundamental3\", \"module_name\": \"FastText Train\", \"module_version\": \"0.0.33\"}}, \"af121590\": {\"inputs\": {\"Texts_to_score\": {\"source\": \"8b6400bc-726d-400d-a918-7e72887ef554_Test_data_output\"}, \"Fasttext_model\": {\"source\": \"582e0718-bc4e-4ad5-a48d-f013543d6cc9_Trained_model_dir\"}, \"Char2index_dir\": {\"source\": \"Char2Index_JSON\"}}, \"outputs\": {\"Scored_dataset\": {\"destination\": \"fab2d16a-d3f5-4819-b01e-13f433faee06_Scored_dataset\"}}, \"module\": {\"id\": \"7f2731a9-c061-4acc-8784-a2ea1d80f4f8\", \"version\": \"0.0.9\"}, \"validate\": {\"error\": [], \"module_id\": \"7f2731a9-c061-4acc-8784-a2ea1d80f4f8\", \"namespace\": \"fundamental3\", \"module_name\": \"FastText Score Parallel\", \"module_version\": \"0.0.9\"}}}}, \"subGraphInfo\": [{\"name\": \"test deploy\", \"description\": \"Test parallel\", \"defaultCompute\": \"aml-compute\", \"id\": \"386a50ae-7f1a-4db2-9e67-893032acc0d2\", \"parentGraphId\": null, \"inputs\": [{\"name\": \"THUCNews_TXT_8b6400bc-726d-400d-a918-7e72887ef554\", \"external\": [], \"internal\": [{\"portName\": \"Input_dir\", \"nodeId\": \"9b1b75d6\"}]}, {\"name\": \"Char2Index_JSON_582e0718-bc4e-4ad5-a48d-f013543d6cc9\", \"external\": [], \"internal\": [{\"portName\": \"Char2index_dir\", \"nodeId\": \"1e24fb8b\"}]}, {\"name\": \"Char2Index_JSON_fab2d16a-d3f5-4819-b01e-13f433faee06\", \"external\": [], \"internal\": [{\"portName\": \"Char2index_dir\", \"nodeId\": \"af121590\"}]}], \"outputs\": [{\"name\": \"scored_dataset\", \"external\": [], \"internal\": [{\"portName\": \"Scored_dataset\", \"nodeId\": \"af121590\"}]}, {\"name\": \"trained_model_dir\", \"external\": [], \"internal\": [{\"portName\": \"Trained_model_dir\", \"nodeId\": \"1e24fb8b\"}]}]}], \"nodeIdToSubGraphIdMapping\": {\"9b1b75d6\": \"386a50ae-7f1a-4db2-9e67-893032acc0d2\", \"1e24fb8b\": \"386a50ae-7f1a-4db2-9e67-893032acc0d2\", \"af121590\": \"386a50ae-7f1a-4db2-9e67-893032acc0d2\"}, \"modules\": [{\"module_id\": \"eecfa9fe-cff3-4ff0-9211-f7c891006fb9\", \"version\": \"0.0.10\", \"name\": \"Split Data Txt Parallel\", \"namespace\": \"fundamental3\", \"structured_interface\": {\"inputs\": [{\"name\": \"Input_dir\", \"label\": \"Input dir\", \"description\": null}], \"outputs\": [{\"name\": \"Training_data_output\", \"label\": \"Training data output\", \"description\": null}, {\"name\": \"Validation_data_output\", \"label\": \"Validation data output\", \"description\": null}, {\"name\": \"Test_data_output\", \"label\": \"Test data output\", \"description\": null}]}}, {\"module_id\": \"063c9b75-df48-4ad2-879e-74692d164e57\", \"version\": \"0.0.33\", \"name\": \"FastText Train\", \"namespace\": \"fundamental3\", \"structured_interface\": {\"inputs\": [{\"name\": \"Training_data_dir\", \"label\": \"Training data dir\", \"description\": null}, {\"name\": \"Validation_data_dir\", \"label\": \"Validation data dir\", \"description\": null}, {\"name\": \"Char2index_dir\", \"label\": \"Char2index dir\", \"description\": null}], \"outputs\": [{\"name\": \"Trained_model_dir\", \"label\": \"Trained model dir\", \"description\": null}]}}, {\"module_id\": \"7f2731a9-c061-4acc-8784-a2ea1d80f4f8\", \"version\": \"0.0.9\", \"name\": \"FastText Score Parallel\", \"namespace\": \"fundamental3\", \"structured_interface\": {\"inputs\": [{\"name\": \"Texts_to_score\", \"label\": \"Texts to score\", \"description\": null}, {\"name\": \"Fasttext_model\", \"label\": \"Fasttext model\", \"description\": null}, {\"name\": \"Char2index_dir\", \"label\": \"Char2index dir\", \"description\": null}], \"outputs\": [{\"name\": \"Scored_dataset\", \"label\": \"Scored dataset\", \"description\": null}]}}], \"datasources\": [{\"name\": \"THUCNews_TXT\", \"description\": \"THUCNews dataset is generated by filtering and filtering historical data of Sina News RSS subscription channel from 2005 to 2011\", \"version\": 1, \"tags\": {}, \"registered_id\": \"b2319b6a-338d-4788-adfe-d55ca1db06b7\", \"saved_id\": \"9e16ea04-3074-4f84-8a8c-83adb226c4ae\", \"nodeId\": \"1692ae10-3aec-3f26-b7f3-593e52e0fee5\"}, {\"name\": \"Char2Index_JSON\", \"description\": \"The mapping relationship between character and index \", \"version\": 1, \"tags\": {}, \"registered_id\": \"01760799-3cea-4885-9d68-04bbd10e3bd9\", \"saved_id\": \"9de9b550-46a4-41ce-b1b4-54b6c665fcf3\", \"nodeId\": \"dfcdcbb3-34ad-3e81-b126-5240de24d7a5\"}]};\n",
       "                window.env_json={};\n",
       "                window.before_script = performance.now();\n",
       "\n",
       "                var script = document.createElement('script')\n",
       "                script.src = \"https://yucongj.azureedge.net/libs/prod/0.0.5/index.js\"\n",
       "                document.getElementById(\"container_id_0bb311d9-1c2a-4541-8bb4-38e754b24cc7_script\").appendChild(script)\n",
       "            })()\n",
       "        </script>\n",
       "        "
      ],
      "text/plain": [
       "<IPython.core.display.HTML object>"
      ]
     },
     "metadata": {},
     "output_type": "display_data"
    },
    {
     "data": {
      "text/html": [
       "<table style=\"width:100%\"><tr><th>Experiment</th><th>Id</th><th>Type</th><th>Status</th><th>Details Page</th><th>Docs Page</th></tr><tr><td>parallel</td><td>cec9b659-a387-4bf7-bda4-abaf0840cf8d</td><td>azureml.PipelineRun</td><td>Completed</td><td><a href=\"https://ml.azure.com/experiments/parallel/runs/cec9b659-a387-4bf7-bda4-abaf0840cf8d?wsid=/subscriptions/4f455bd0-f95a-4b7d-8d08-078611508e0b/resourcegroups/fundamental/workspaces/fundamental3\" target=\"_blank\" rel=\"noopener\">Link to Azure Machine Learning studio</a></td><td><a href=\"https://docs.microsoft.com/en-us/python/api/overview/azure/ml/intro?view=azure-ml-py\" target=\"_blank\" rel=\"noopener\">Link to Documentation</a></td></tr></table>"
      ],
      "text/plain": [
       "Run(Experiment: parallel,\n",
       "Id: cec9b659-a387-4bf7-bda4-abaf0840cf8d,\n",
       "Type: azureml.PipelineRun,\n",
       "Status: Completed)"
      ]
     },
     "execution_count": 12,
     "metadata": {},
     "output_type": "execute_result"
    }
   ],
   "source": [
    "# run\n",
    "run = pipeline.submit(experiment_name='parallel', pipeline_parameters={'epochs':1})\n",
    "run.wait_for_completion()\n",
    "run\n",
    "#%\n"
   ]
  },
  {
   "cell_type": "code",
   "execution_count": null,
   "metadata": {},
   "outputs": [],
   "source": []
  },
  {
   "cell_type": "code",
   "execution_count": 13,
   "metadata": {
    "scrolled": true
   },
   "outputs": [
    {
     "name": "stdout",
     "output_type": "stream",
     "text": [
      "Run(Experiment: parallel,\n",
      "Id: d92bd768-6668-4822-9ea2-bd9f43477881,\n",
      "Type: azureml.StepRun,\n",
      "Status: Completed) \n",
      "\n",
      "Run(Experiment: parallel,\n",
      "Id: 58535d23-efcb-43d5-911d-787858a87299,\n",
      "Type: azureml.StepRun,\n",
      "Status: Completed) \n",
      "\n",
      "Run(Experiment: parallel,\n",
      "Id: 88008a1a-ba20-435c-8476-9a66b440920b,\n",
      "Type: azureml.StepRun,\n",
      "Status: Completed) \n",
      "\n"
     ]
    },
    {
     "data": {
      "text/plain": [
       "Model(workspace=Workspace.create(name='fundamental3', subscription_id='4f455bd0-f95a-4b7d-8d08-078611508e0b', resource_group='fundamental'), name=BestModel, id=BestModel:5, version=5, tags={'my_tags': 'fasttext'}, properties={})"
      ]
     },
     "execution_count": 13,
     "metadata": {},
     "output_type": "execute_result"
    }
   ],
   "source": [
    "all_child_run=[]\n",
    "for child_run in run.get_children():\n",
    "    all_child_run.append(child_run)\n",
    "    print(child_run,'\\n')\n",
    "all_child_run[-2].get_file_names()    \n",
    "model = all_child_run[-2].register_model(model_name='BestModel', model_path='Trained_model_dir', tags={'my_tags': 'fasttext'})\n",
    "model"
   ]
  },
  {
   "cell_type": "code",
   "execution_count": 14,
   "metadata": {
    "scrolled": true
   },
   "outputs": [
    {
     "data": {
      "text/plain": [
       "{\n",
       "    \"databricks\": {\n",
       "        \"eggLibraries\": [],\n",
       "        \"jarLibraries\": [],\n",
       "        \"mavenLibraries\": [],\n",
       "        \"pypiLibraries\": [],\n",
       "        \"rcranLibraries\": []\n",
       "    },\n",
       "    \"docker\": {\n",
       "        \"arguments\": [],\n",
       "        \"baseDockerfile\": null,\n",
       "        \"baseImage\": \"mcr.microsoft.com/azureml/intelmpi2018.3-ubuntu16.04:20200423.v1\",\n",
       "        \"baseImageRegistry\": {\n",
       "            \"address\": null,\n",
       "            \"password\": null,\n",
       "            \"registryIdentity\": null,\n",
       "            \"username\": null\n",
       "        },\n",
       "        \"enabled\": false,\n",
       "        \"platform\": {\n",
       "            \"architecture\": \"amd64\",\n",
       "            \"os\": \"Linux\"\n",
       "        },\n",
       "        \"sharedVolumes\": true,\n",
       "        \"shmSize\": null\n",
       "    },\n",
       "    \"environmentVariables\": {\n",
       "        \"EXAMPLE_ENV_VAR\": \"EXAMPLE_VALUE\"\n",
       "    },\n",
       "    \"inferencingStackVersion\": null,\n",
       "    \"name\": \"env_for_deployment\",\n",
       "    \"python\": {\n",
       "        \"baseCondaEnvironment\": null,\n",
       "        \"condaDependencies\": {\n",
       "            \"channels\": [\n",
       "                \"defaults\"\n",
       "            ],\n",
       "            \"dependencies\": [\n",
       "                \"python=3.6.6\",\n",
       "                {\n",
       "                    \"pip\": [\n",
       "                        \"--extra-index-url=https://azuremlsdktestpypi.azureedge.net/CLI-SDK-Runners-Validation/17288354\",\n",
       "                        \"azureml-defaults==0.1.0.17288354\",\n",
       "                        \"azureml-pipeline-wrapper==0.1.0.17288354\",\n",
       "                        \"torch==1.4.0\",\n",
       "                        \"scikit-learn\",\n",
       "                        \"tqdm\",\n",
       "                        \"pyarrow\",\n",
       "                        \"inference-schema[numpy-support]\"\n",
       "                    ]\n",
       "                }\n",
       "            ],\n",
       "            \"name\": \"azureml_a5322dee92f8252a51213eb553ff6f2b\"\n",
       "        },\n",
       "        \"condaDependenciesFile\": null,\n",
       "        \"interpreterPath\": \"python\",\n",
       "        \"userManagedDependencies\": false\n",
       "    },\n",
       "    \"r\": null,\n",
       "    \"spark\": {\n",
       "        \"packages\": [],\n",
       "        \"precachePackages\": true,\n",
       "        \"repositories\": []\n",
       "    },\n",
       "    \"version\": \"1\"\n",
       "}"
      ]
     },
     "execution_count": 14,
     "metadata": {},
     "output_type": "execute_result"
    }
   ],
   "source": [
    "# register env\n",
    "from azureml.core.environment import Environment\n",
    "myenv = Environment.from_conda_specification(name = 'env_for_deployment',\n",
    "                                             file_path = 'deployment/env_for_deployment.yaml')\n",
    "myenv.register(workspace=workspace)"
   ]
  },
  {
   "cell_type": "code",
   "execution_count": 15,
   "metadata": {},
   "outputs": [
    {
     "data": {
      "text/plain": [
       "InferenceConfig(entry_script=scoring_for_deployment.py, runtime=None, conda_file=None, extra_docker_file_steps=None, source_directory=/mnt/batch/tasks/shared/LS_root/mounts/clusters/my-compute/code/Users/t-yangx/azureml-designer-demo/deployment, enable_gpu=None, base_image=None, base_image_registry=<azureml.core.container_registry.ContainerRegistry object at 0x7fa9945c8b70>)"
      ]
     },
     "execution_count": 15,
     "metadata": {},
     "output_type": "execute_result"
    }
   ],
   "source": [
    "# 3. Define inference configuration\n",
    "from azureml.core.environment import Environment\n",
    "from azureml.core.model import InferenceConfig\n",
    "\n",
    "myenv = Environment.get(workspace=workspace, name='env_for_deployment', version='1')\n",
    "inference_config = InferenceConfig(entry_script='scoring_for_deployment.py',\n",
    "                                   source_directory='deployment',\n",
    "                                   environment=myenv)\n",
    "inference_config "
   ]
  },
  {
   "cell_type": "code",
   "execution_count": 16,
   "metadata": {},
   "outputs": [
    {
     "data": {
      "text/plain": [
       "Model(workspace=Workspace.create(name='fundamental3', subscription_id='4f455bd0-f95a-4b7d-8d08-078611508e0b', resource_group='fundamental'), name=BestModel_tmp, id=BestModel_tmp:1, version=1, tags={}, properties={})"
      ]
     },
     "execution_count": 16,
     "metadata": {},
     "output_type": "execute_result"
    }
   ],
   "source": [
    "from azureml.core.model import Model\n",
    "# my_model = Model(workspace=workspace, name='BestModel', version='1')\n",
    "my_model = Model(workspace=workspace, name='BestModel_tmp', version='1')\n",
    "my_model"
   ]
  },
  {
   "cell_type": "code",
   "execution_count": null,
   "metadata": {},
   "outputs": [],
   "source": []
  },
  {
   "cell_type": "code",
   "execution_count": 17,
   "metadata": {},
   "outputs": [
    {
     "data": {
      "text/plain": [
       "'azureml-models/BestModel_tmp/1/BestModel'"
      ]
     },
     "execution_count": 17,
     "metadata": {},
     "output_type": "execute_result"
    }
   ],
   "source": [
    "Model.get_model_path(model_name='BestModel_tmp', version=1, _workspace=workspace)"
   ]
  },
  {
   "cell_type": "code",
   "execution_count": 54,
   "metadata": {
    "scrolled": false
   },
   "outputs": [
    {
     "name": "stdout",
     "output_type": "stream",
     "text": [
      "Downloading model BestModel_tmp:1 to /tmp/azureml_romex5ko/BestModel_tmp/1\n",
      "Generating Docker build context.\n",
      "Package creation Succeeded\n",
      "Logging into Docker registry fundamental33c005c1f.azurecr.io\n",
      "Logging into Docker registry fundamental33c005c1f.azurecr.io\n",
      "Building Docker image from Dockerfile...\n",
      "Step 1/5 : FROM fundamental33c005c1f.azurecr.io/azureml/azureml_55f6443a7f1f616df548a00877130395\n",
      " ---> ecd09a31e78d\n",
      "Step 2/5 : COPY azureml-app /var/azureml-app\n",
      " ---> 08826c108e36\n",
      "Step 3/5 : RUN mkdir -p '/var/azureml-app' && echo eyJhY2NvdW50Q29udGV4dCI6eyJzdWJzY3JpcHRpb25JZCI6IjRmNDU1YmQwLWY5NWEtNGI3ZC04ZDA4LTA3ODYxMTUwOGUwYiIsInJlc291cmNlR3JvdXBOYW1lIjoiZnVuZGFtZW50YWwiLCJhY2NvdW50TmFtZSI6ImZ1bmRhbWVudGFsMyIsIndvcmtzcGFjZUlkIjoiYTdjMmFjYWEtYzhmMS00NDhiLWI4OTQtYzJlN2E3MWIzYTMyIn0sIm1vZGVscyI6e30sIm1vZGVsc0luZm8iOnt9fQ== | base64 --decode > /var/azureml-app/model_config_map.json\n",
      " ---> Running in 48efe8b4a47b\n",
      " ---> 453ab34a0924\n",
      "Step 4/5 : RUN mv '/var/azureml-app/tmpjvchxgye.py' /var/azureml-app/main.py\n",
      " ---> Running in 67cdfe5c57e0\n",
      " ---> 4a17ffec8ed1\n",
      "Step 5/5 : CMD [\"runsvdir\",\"/var/runit\"]\n",
      " ---> Running in c3f5155ea1de\n",
      " ---> 397f8c8bba5b\n",
      "Successfully built 397f8c8bba5b\n",
      "Successfully tagged my-deployment1:latest\n",
      "Container has been successfully cleaned up.\n",
      "Image sha256:9cbb5ab19c5107d10c7dd99b441bac891c7691d8acf9ff51bef1e15848bba05d successfully removed.\n",
      "Starting Docker container...\n",
      "Docker container running.\n",
      "Checking container health...\n",
      "Local webservice is running at http://localhost:8890\n",
      "running\n"
     ]
    }
   ],
   "source": [
    "from azureml.core.webservice import AciWebservice, Webservice, LocalWebservice\n",
    "from azureml.core.model import Model\n",
    "\n",
    "# deployment_config = AciWebservice.deploy_configuration(cpu_cores = 1, memory_gb = 1)\n",
    "deployment_config = LocalWebservice.deploy_configuration(port=8890)\n",
    "service = Model.deploy(workspace=workspace, name=\"my-deployment1\", models=[my_model], inference_config=inference_config, deployment_config=deployment_config)\n",
    "service.wait_for_deployment(show_output = True)\n",
    "print(service.state)"
   ]
  },
  {
   "cell_type": "code",
   "execution_count": 55,
   "metadata": {
    "scrolled": true
   },
   "outputs": [
    {
     "name": "stdout",
     "output_type": "stream",
     "text": [
      "200\n",
      "0:00:00.009620\n"
     ]
    }
   ],
   "source": [
    "import requests\n",
    "import json\n",
    "from azureml.core.authentication import InteractiveLoginAuthentication\n",
    "\n",
    "# Get a token to authenticate to the compute instance from remote\n",
    "interactive_auth = InteractiveLoginAuthentication()\n",
    "auth_header = interactive_auth.get_authentication_header()\n",
    "\n",
    "# Create and submit a request using the auth header\n",
    "headers = auth_header\n",
    "# Add content type header\n",
    "headers.update({'Content-Type':'application/json'})\n",
    "# print(headers)\n",
    "\n",
    "\n",
    "standard_sample_input = {'param':{'input_sentence': 'haha   haha i want to travel around the world'}}\n",
    "standard_sample_input = json.dumps(standard_sample_input)\n",
    "# print(type(standard_sample_input))\n",
    "# standard_sample_output = {'category': 'dream'}\n",
    "\n",
    "\n",
    "response = requests.post(service.scoring_uri, data=standard_sample_input, headers=headers)\n",
    "print(response.status_code)\n",
    "print(response.elapsed)\n",
    "# print(response.json())"
   ]
  },
  {
   "cell_type": "code",
   "execution_count": 56,
   "metadata": {
    "scrolled": false
   },
   "outputs": [
    {
     "name": "stdout",
     "output_type": "stream",
     "text": [
      "('2020-07-13T13:25:47,308078738+00:00 - iot-server/run \\n'\n",
      " '2020-07-13T13:25:47,307548735+00:00 - rsyslog/run \\n'\n",
      " '2020-07-13T13:25:47,318965911+00:00 - gunicorn/run \\n'\n",
      " '2020-07-13T13:25:47,319718416+00:00 - nginx/run \\n'\n",
      " '/usr/sbin/nginx: '\n",
      " '/azureml-envs/azureml_a5322dee92f8252a51213eb553ff6f2b/lib/libcrypto.so.1.0.0: '\n",
      " 'no version information available (required by /usr/sbin/nginx)\\n'\n",
      " '/usr/sbin/nginx: '\n",
      " '/azureml-envs/azureml_a5322dee92f8252a51213eb553ff6f2b/lib/libcrypto.so.1.0.0: '\n",
      " 'no version information available (required by /usr/sbin/nginx)\\n'\n",
      " '/usr/sbin/nginx: '\n",
      " '/azureml-envs/azureml_a5322dee92f8252a51213eb553ff6f2b/lib/libssl.so.1.0.0: '\n",
      " 'no version information available (required by /usr/sbin/nginx)\\n'\n",
      " '/usr/sbin/nginx: '\n",
      " '/azureml-envs/azureml_a5322dee92f8252a51213eb553ff6f2b/lib/libssl.so.1.0.0: '\n",
      " 'no version information available (required by /usr/sbin/nginx)\\n'\n",
      " '/usr/sbin/nginx: '\n",
      " '/azureml-envs/azureml_a5322dee92f8252a51213eb553ff6f2b/lib/libssl.so.1.0.0: '\n",
      " 'no version information available (required by /usr/sbin/nginx)\\n'\n",
      " 'EdgeHubConnectionString and IOTEDGE_IOTHUBHOSTNAME are not set. Exiting...\\n'\n",
      " '2020-07-13T13:25:47,385433853+00:00 - iot-server/finish 1 0\\n'\n",
      " '2020-07-13T13:25:47,386590661+00:00 - Exit code 1 is normal. Not restarting '\n",
      " 'iot-server.\\n'\n",
      " 'Starting gunicorn 19.9.0\\n'\n",
      " 'Listening at: http://127.0.0.1:31311 (12)\\n'\n",
      " 'Using worker: sync\\n'\n",
      " 'worker timeout is set to 300\\n'\n",
      " 'Booting worker with pid: 41\\n'\n",
      " 'Initialized PySpark session.\\n'\n",
      " 'Initializing logger\\n'\n",
      " 'Starting up app insights client\\n'\n",
      " 'Starting up request id generator\\n'\n",
      " 'Starting up app insight hooks\\n'\n",
      " \"Invoking user's init function\\n\"\n",
      " '/azureml-envs/azureml_a5322dee92f8252a51213eb553ff6f2b/lib/python3.6/site-packages/torch/serialization.py:593: '\n",
      " \"SourceChangeWarning: source code of class 'FastText.FastText' has changed. \"\n",
      " \"you can retrieve the original source code by accessing the object's source \"\n",
      " 'attribute or set `torch.nn.Module.dump_patches = True` and use the patch '\n",
      " 'tool to revert the changes.\\n'\n",
      " '  warnings.warn(msg, SourceChangeWarning)\\n'\n",
      " '/azureml-envs/azureml_a5322dee92f8252a51213eb553ff6f2b/lib/python3.6/site-packages/torch/serialization.py:593: '\n",
      " \"SourceChangeWarning: source code of class 'torch.nn.modules.linear.Linear' \"\n",
      " 'has changed. you can retrieve the original source code by accessing the '\n",
      " \"object's source attribute or set `torch.nn.Module.dump_patches = True` and \"\n",
      " 'use the patch tool to revert the changes.\\n'\n",
      " '  warnings.warn(msg, SourceChangeWarning)\\n'\n",
      " '=====================================================\\n'\n",
      " 'fasttext_model: /var/azureml-app\\n'\n",
      " 'char2index_dir: /var/azureml-app\\n'\n",
      " \"cur: ['deployment', 'azureml-models', '__pycache__', 'main.py', \"\n",
      " \"'model_config_map.json']\\n\"\n",
      " \"cur: ['character2index.json', 'FastText.py', 'try_register.ipynb', \"\n",
      " \"'.ipynb_checkpoints', 'consume_service.ipynb', 'utils.py', 'azureml', \"\n",
      " \"'env_for_deployment.yaml', 'scoring_for_deployment.py', '__pycache__']\\n\"\n",
      " \"cur: ['BestModel_tmp']\\n\"\n",
      " '======\\n'\n",
      " 'True\\n'\n",
      " 'isdir\\n'\n",
      " 'False\\n'\n",
      " 'isfile\\n'\n",
      " 'True\\n'\n",
      " 'isabs\\n'\n",
      " 'False\\n'\n",
      " 'islink\\n'\n",
      " 'False\\n'\n",
      " 'ismount\\n'\n",
      " 'False\\n'\n",
      " '======\\n'\n",
      " \"Users's init has completed successfully\\n\"\n",
      " \"Skipping middleware: dbg_model_info as it's not enabled.\\n\"\n",
      " 'Scoring timeout setting is not found. Use default timeout: 3600000 ms\\n'\n",
      " 'Validation Request Content-Type\\n'\n",
      " \"Received input: {'param': {'input_sentence': 'haha   haha i want to travel \"\n",
      " \"around the world'}}\\n\"\n",
      " 'Headers passed in (total 11):\\n'\n",
      " '\\tHost: localhost:8890\\n'\n",
      " '\\tX-Real-Ip: 172.17.0.1\\n'\n",
      " '\\tX-Forwarded-For: 172.17.0.1\\n'\n",
      " '\\tX-Forwarded-Proto: http\\n'\n",
      " '\\tConnection: close\\n'\n",
      " '\\tContent-Length: 78\\n'\n",
      " '\\tUser-Agent: python-requests/2.24.0\\n'\n",
      " '\\tAccept-Encoding: gzip, deflate\\n'\n",
      " '\\tAccept: */*\\n'\n",
      " '\\tAuthorization: Bearer '\n",
      " 'eyJ0eXAiOiJKV1QiLCJhbGciOiJSUzI1NiIsIng1dCI6Imh1Tjk1SXZQZmVocTM0R3pCRFoxR1hHaXJuTSIsImtpZCI6Imh1Tjk1SXZQZmVocTM0R3pCRFoxR1hHaXJuTSJ9.eyJhdWQiOiJodHRwczovL21hbmFnZW1lbnQuY29yZS53aW5kb3dzLm5ldC8iLCJpc3MiOiJodHRwczovL3N0cy53aW5kb3dzLm5ldC83MmY5ODhiZi04NmYxLTQxYWYtOTFhYi0yZDdjZDAxMWRiNDcvIiwiaWF0IjoxNTk0NjQ2NDIxLCJuYmYiOjE1OTQ2NDY0MjEsImV4cCI6MTU5NDY1MDMyMSwiX2NsYWltX25hbWVzIjp7Imdyb3VwcyI6InNyYzEifSwiX2NsYWltX3NvdXJjZXMiOnsic3JjMSI6eyJlbmRwb2ludCI6Imh0dHBzOi8vZ3JhcGgud2luZG93cy5uZXQvNzJmOTg4YmYtODZmMS00MWFmLTkxYWItMmQ3Y2QwMTFkYjQ3L3VzZXJzLzY0ODU4ZTMyLWZmNzMtNGFlMC1hYTExLWYzODEyOGE0YjU4My9nZXRNZW1iZXJPYmplY3RzIn19LCJhY3IiOiIxIiwiYWlvIjoiQVZRQXEvOFFBQUFBOHVmVytRbjlMK2FyeE0yVGpNK1BjR3Nzc0s0VlA3ME12Zkx3c1BQMG0wL3llZTJOaHZsS2VpcmowczlmS2d5VERpYzQwTUdhOFdSSjBEM2o5cEJ2cmxZa29YVndOczgxdTBaeVRDamVNV0k9IiwiYW1yIjpbIndpYSIsIm1mYSJdLCJhcHBpZCI6IjA0YjA3Nzk1LThkZGItNDYxYS1iYmVlLTAyZjllMWJmN2I0NiIsImFwcGlkYWNyIjoiMCIsImZhbWlseV9uYW1lIjoiWWFuZyIsImdpdmVuX25hbWUiOiJYaWFveXUiLCJpcGFkZHIiOiI1Mi4xMzkuMTc4LjE1NSIsIm5hbWUiOiJYaWFveXUgWWFuZyIsIm9pZCI6IjY0ODU4ZTMyLWZmNzMtNGFlMC1hYTExLWYzODEyOGE0YjU4MyIsIm9ucHJlbV9zaWQiOiJTLTEtNS0yMS0yMTQ2NzczMDg1LTkwMzM2MzI4NS03MTkzNDQ3MDctMjYyODIyNCIsInB1aWQiOiIxMDAzMjAwMEMyMjdCNjRBIiwicmgiOiIwLkFSb0F2NGo1Y3ZHR3IwR1JxeTE4MEJIYlI1VjNzQVRialJwR3UtNEMtZUdfZTBZYUFLWS4iLCJzY3AiOiJ1c2VyX2ltcGVyc29uYXRpb24iLCJzdWIiOiJ0czROZzRzWlhOb2VyZmk5LWJoWE40d0R4X3d4S20tSmVMMUtGTFk3ZlBvIiwidGlkIjoiNzJmOTg4YmYtODZmMS00MWFmLTkxYWItMmQ3Y2QwMTFkYjQ3IiwidW5pcXVlX25hbWUiOiJ0LXlhbmd4QG1pY3Jvc29mdC5jb20iLCJ1cG4iOiJ0LXlhbmd4QG1pY3Jvc29mdC5jb20iLCJ1dGkiOiJjcEF2VTdUVHpFMnU2X1FpRTJZdkFBIiwidmVyIjoiMS4wIn0.DoerMsymJGA-afang7Pnkmq8pbs14hW5OvMqOOCM_oldj2548qFaTRJhNBW7Bw5L9DgZnmvIrhgWQh4-ForkNW8viV2kU6tKoQtNjIZxNv9tiseQ4Lu4m5OdiYufaWW14zBtL5cAjDZtpuxekxdm8NbzDzyM9lkdE0-yoXQZTW18g674kd7IbB8NEdhyRRNukv6IldeSPIOPsPlrTY0hKwxOoSVChRTT9DI1p0DkTUa6N_gp3IuGXEhXOhHouIR5VOcIvTo1jUeWz8Xy2eO4pw7wWCrDHP4NlmUHjJ9Ei06IoVgffi0mJOWqr3xM-D6MEwiGIe2J6kwC6VqTIIKfBQ\\n'\n",
      " '\\tContent-Type: application/json\\n'\n",
      " 'Scoring Timer is set to 3600.0 seconds\\n'\n",
      " '===========================\\n'\n",
      " \"<class 'dict'>\\n\"\n",
      " '===========================\\n'\n",
      " '===========================\\n'\n",
      " 'input_sentence: haha   haha i want to travel around the world\\n'\n",
      " '===========================\\n'\n",
      " 'load data succeeded\\n'\n",
      " '===========================\\n'\n",
      " 'Could not load the run context. Logging offline\\n'\n",
      " 'Attempted to log scalar metric Prediction Result:\\n'\n",
      " 'sports\\n'\n",
      " '===========================\\n'\n",
      " '===========================\\n'\n",
      " '/var/azureml-app/deployment/utils.py:201: VisibleDeprecationWarning: '\n",
      " 'Creating an ndarray from ragged nested sequences (which is a list-or-tuple '\n",
      " 'of lists-or-tuples-or ndarrays with different lengths or shapes) is '\n",
      " \"deprecated. If you meant to do this, you must specify 'dtype=object' when \"\n",
      " 'creating the ndarray\\n'\n",
      " '  samples = np.array(samples)\\n'\n",
      " '200\\n'\n",
      " '127.0.0.1 - - [13/Jul/2020:13:25:49 +0000] \"POST /score HTTP/1.0\" 200 8 \"-\" '\n",
      " '\"python-requests/2.24.0\"\\n')\n"
     ]
    }
   ],
   "source": [
    "from pprint import pprint\n",
    "pprint(service.get_logs())"
   ]
  },
  {
   "cell_type": "code",
   "execution_count": 57,
   "metadata": {},
   "outputs": [
    {
     "name": "stdout",
     "output_type": "stream",
     "text": [
      "sports\n"
     ]
    }
   ],
   "source": [
    "print(response.json())"
   ]
  },
  {
   "cell_type": "code",
   "execution_count": 55,
   "metadata": {},
   "outputs": [
    {
     "data": {
      "text/plain": [
       "'http://localhost:8890/score'"
      ]
     },
     "execution_count": 55,
     "metadata": {},
     "output_type": "execute_result"
    }
   ],
   "source": [
    "service.scoring_uri"
   ]
  },
  {
   "cell_type": "code",
   "execution_count": 72,
   "metadata": {},
   "outputs": [
    {
     "name": "stdout",
     "output_type": "stream",
     "text": [
      "{'input_sentence': 'i want to travel around the world'}\n",
      "<class 'dict'>\n"
     ]
    }
   ],
   "source": [
    "aaa= json.loads(standard_sample_input)\n",
    "print(aaa)\n",
    "print(type(aaa))"
   ]
  },
  {
   "cell_type": "code",
   "execution_count": 101,
   "metadata": {},
   "outputs": [
    {
     "data": {
      "text/plain": [
       "{'azureml.reusedrunid': '9be43325-d271-42e8-a484-d0972718391c',\n",
       " 'azureml.reusednodeid': '7363a1e9',\n",
       " 'azureml.reusedpipeline': 'ea73f63e-1c97-49fb-9e1a-a30f50475af4',\n",
       " 'azureml.reusedpipelinerunid': 'ea73f63e-1c97-49fb-9e1a-a30f50475af4',\n",
       " 'azureml.runsource': 'azureml.StepRun',\n",
       " 'azureml.nodeid': '747f4d2d',\n",
       " 'ContentSnapshotId': '475a76b4-103b-469e-b204-8e8e704d1e02',\n",
       " 'StepType': 'PythonScriptStep',\n",
       " 'azureml.moduleid': '063c9b75-df48-4ad2-879e-74692d164e57',\n",
       " 'azureml.pipelinerunid': '61f676e8-9ab2-4f9a-bc89-248ddf977479',\n",
       " '_azureml.ComputeTargetType': 'amlcompute',\n",
       " 'ProcessInfoFile': 'azureml-logs/process_info.json',\n",
       " 'ProcessStatusFile': 'azureml-logs/process_status.json'}"
      ]
     },
     "execution_count": 101,
     "metadata": {},
     "output_type": "execute_result"
    }
   ],
   "source": [
    "#reuse为Yes时的properties\n",
    "aaa= all_child_run[-2].properties\n",
    "aaa"
   ]
  },
  {
   "cell_type": "code",
   "execution_count": 18,
   "metadata": {},
   "outputs": [
    {
     "data": {
      "text/plain": [
       "{'azureml.runsource': 'azureml.StepRun',\n",
       " 'ContentSnapshotId': '475a76b4-103b-469e-b204-8e8e704d1e02',\n",
       " 'StepType': 'PythonScriptStep',\n",
       " 'azureml.moduleid': '063c9b75-df48-4ad2-879e-74692d164e57',\n",
       " 'azureml.pipelinerunid': 'cec9b659-a387-4bf7-bda4-abaf0840cf8d',\n",
       " '_azureml.ComputeTargetType': 'amlcompute',\n",
       " 'ProcessInfoFile': 'azureml-logs/process_info.json',\n",
       " 'ProcessStatusFile': 'azureml-logs/process_status.json'}"
      ]
     },
     "execution_count": 18,
     "metadata": {},
     "output_type": "execute_result"
    }
   ],
   "source": [
    "#reuse为No时的properties\n",
    "aaa= all_child_run[-2].properties\n",
    "aaa"
   ]
  },
  {
   "cell_type": "code",
   "execution_count": 19,
   "metadata": {},
   "outputs": [
    {
     "data": {
      "text/plain": [
       "'58535d23-efcb-43d5-911d-787858a87299'"
      ]
     },
     "execution_count": 19,
     "metadata": {},
     "output_type": "execute_result"
    }
   ],
   "source": [
    "#获取run id\n",
    "all_child_run[-2].id"
   ]
  },
  {
   "cell_type": "code",
   "execution_count": 102,
   "metadata": {},
   "outputs": [
    {
     "data": {
      "text/plain": [
       "dict"
      ]
     },
     "execution_count": 102,
     "metadata": {},
     "output_type": "execute_result"
    }
   ],
   "source": [
    "type(aaa)"
   ]
  },
  {
   "cell_type": "code",
   "execution_count": null,
   "metadata": {},
   "outputs": [],
   "source": []
  }
 ],
 "metadata": {
  "kernelspec": {
   "display_name": "tmp2",
   "language": "python",
   "name": "tmp2"
  },
  "language_info": {
   "codemirror_mode": {
    "name": "ipython",
    "version": 3
   },
   "file_extension": ".py",
   "mimetype": "text/x-python",
   "name": "python",
   "nbconvert_exporter": "python",
   "pygments_lexer": "ipython3",
   "version": "3.6.6"
  },
  "widgets": {
   "application/vnd.jupyter.widget-state+json": {
    "state": {},
    "version_major": 2,
    "version_minor": 0
   }
  }
 },
 "nbformat": 4,
 "nbformat_minor": 4
}
