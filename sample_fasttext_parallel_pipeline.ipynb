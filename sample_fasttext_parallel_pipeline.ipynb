{
 "cells": [
  {
   "cell_type": "code",
   "execution_count": 1,
   "metadata": {},
   "outputs": [],
   "source": [
    "import inspect\n",
    "from azureml.core import Workspace, Dataset\n",
    "from azureml.core.compute import AmlCompute, ComputeTarget\n",
    "from azureml.pipeline.core.graph import DataType\n",
    "from azureml.pipeline.wrapper import Module, dsl, Pipeline\n",
    "from azureml.core.authentication import InteractiveLoginAuthentication"
   ]
  },
  {
   "cell_type": "code",
   "execution_count": 2,
   "metadata": {
    "tags": []
   },
   "outputs": [
    {
     "output_type": "stream",
     "name": "stderr",
     "text": "Warning: Falling back to use azure cli login credentials.\nIf you run your code in unattended mode, i.e., where you can't give a user input, then we recommend to use ServicePrincipalAuthentication or MsiAuthentication.\nPlease refer to aka.ms/aml-notebook-auth for different authentication mechanisms in azureml-sdk.\nfundamental4\nfundamental\neastus2euap\n4f455bd0-f95a-4b7d-8d08-078611508e0b\ndict_keys(['myaks', 'myaks2', 'myaks3', 'myaks4', 'myaks5', 'myaks6', 'myaks7', 'myaks8', 'aml-compute'])\n"
    }
   ],
   "source": [
    "subscription_id = '4f455bd0-f95a-4b7d-8d08-078611508e0b'\n",
    "resource_group = 'fundamental'\n",
    "workspace_name = 'fundamental4'\n",
    "namespace=workspace_name # for loading module\n",
    "# set this if you have multiple tenant\n",
    "tenant_id=\"72f988bf-86f1-41af-91ab-2d7cd011db47\"\n",
    "interactive_auth = InteractiveLoginAuthentication(tenant_id=tenant_id)\n",
    "\n",
    "workspace = Workspace(subscription_id, resource_group, workspace_name)\n",
    "print(workspace.name, workspace.resource_group, workspace.location, workspace.subscription_id, workspace.compute_targets.keys(),sep = '\\n')"
   ]
  },
  {
   "cell_type": "code",
   "execution_count": 3,
   "metadata": {
    "tags": []
   },
   "outputs": [
    {
     "output_type": "stream",
     "name": "stdout",
     "text": "{'myaks': AksCompute(workspace=Workspace.create(name='fundamental4', subscription_id='4f455bd0-f95a-4b7d-8d08-078611508e0b', resource_group='fundamental'), name=myaks, id=/subscriptions/4f455bd0-f95a-4b7d-8d08-078611508e0b/resourceGroups/fundamental/providers/Microsoft.MachineLearningServices/workspaces/fundamental4/computes/myaks, type=AKS, provisioning_state=Failed, location=eastus2euap, tags=None), 'myaks2': AksCompute(workspace=Workspace.create(name='fundamental4', subscription_id='4f455bd0-f95a-4b7d-8d08-078611508e0b', resource_group='fundamental'), name=myaks2, id=/subscriptions/4f455bd0-f95a-4b7d-8d08-078611508e0b/resourceGroups/fundamental/providers/Microsoft.MachineLearningServices/workspaces/fundamental4/computes/myaks2, type=AKS, provisioning_state=Failed, location=eastus2euap, tags=None), 'myaks3': AksCompute(workspace=Workspace.create(name='fundamental4', subscription_id='4f455bd0-f95a-4b7d-8d08-078611508e0b', resource_group='fundamental'), name=myaks3, id=/subscriptions/4f455bd0-f95a-4b7d-8d08-078611508e0b/resourceGroups/fundamental/providers/Microsoft.MachineLearningServices/workspaces/fundamental4/computes/myaks3, type=AKS, provisioning_state=Failed, location=eastus2euap, tags=None), 'myaks4': AksCompute(workspace=Workspace.create(name='fundamental4', subscription_id='4f455bd0-f95a-4b7d-8d08-078611508e0b', resource_group='fundamental'), name=myaks4, id=/subscriptions/4f455bd0-f95a-4b7d-8d08-078611508e0b/resourceGroups/fundamental/providers/Microsoft.MachineLearningServices/workspaces/fundamental4/computes/myaks4, type=AKS, provisioning_state=Failed, location=eastus2euap, tags=None), 'myaks5': AksCompute(workspace=Workspace.create(name='fundamental4', subscription_id='4f455bd0-f95a-4b7d-8d08-078611508e0b', resource_group='fundamental'), name=myaks5, id=/subscriptions/4f455bd0-f95a-4b7d-8d08-078611508e0b/resourceGroups/fundamental/providers/Microsoft.MachineLearningServices/workspaces/fundamental4/computes/myaks5, type=AKS, provisioning_state=Failed, location=eastus2euap, tags=None), 'myaks6': AksCompute(workspace=Workspace.create(name='fundamental4', subscription_id='4f455bd0-f95a-4b7d-8d08-078611508e0b', resource_group='fundamental'), name=myaks6, id=/subscriptions/4f455bd0-f95a-4b7d-8d08-078611508e0b/resourceGroups/fundamental/providers/Microsoft.MachineLearningServices/workspaces/fundamental4/computes/myaks6, type=AKS, provisioning_state=Failed, location=eastus2euap, tags=None), 'myaks7': AksCompute(workspace=Workspace.create(name='fundamental4', subscription_id='4f455bd0-f95a-4b7d-8d08-078611508e0b', resource_group='fundamental'), name=myaks7, id=/subscriptions/4f455bd0-f95a-4b7d-8d08-078611508e0b/resourceGroups/fundamental/providers/Microsoft.MachineLearningServices/workspaces/fundamental4/computes/myaks7, type=AKS, provisioning_state=Failed, location=eastus2euap, tags=None), 'myaks8': AksCompute(workspace=Workspace.create(name='fundamental4', subscription_id='4f455bd0-f95a-4b7d-8d08-078611508e0b', resource_group='fundamental'), name=myaks8, id=/subscriptions/4f455bd0-f95a-4b7d-8d08-078611508e0b/resourceGroups/fundamental/providers/Microsoft.MachineLearningServices/workspaces/fundamental4/computes/myaks8, type=AKS, provisioning_state=Failed, location=eastus2euap, tags=None), 'aml-compute': AmlCompute(workspace=Workspace.create(name='fundamental4', subscription_id='4f455bd0-f95a-4b7d-8d08-078611508e0b', resource_group='fundamental'), name=aml-compute, id=/subscriptions/4f455bd0-f95a-4b7d-8d08-078611508e0b/resourceGroups/fundamental/providers/Microsoft.MachineLearningServices/workspaces/fundamental4/computes/aml-compute, type=AmlCompute, provisioning_state=Succeeded, location=eastus2euap, tags=None)}\nFound existing compute target: aml-compute\n"
    }
   ],
   "source": [
    "# choose compute target\n",
    "print(workspace.compute_targets)\n",
    "aml_compute_name = 'aml-compute'\n",
    "try:\n",
    "    aml_compute = AmlCompute(workspace, aml_compute_name)\n",
    "    print(\"Found existing compute target: {}\".format(aml_compute_name))\n",
    "except:\n",
    "    print(\"Creating new compute target: {}\".format(aml_compute_name))\n",
    "\n",
    "    provisioning_config = AmlCompute.provisioning_configuration(vm_size=\"STANDARD_D2_V2\",\n",
    "                                                                min_nodes=1,\n",
    "                                                                max_nodes=4)\n",
    "    aml_compute = ComputeTarget.create(workspace, aml_compute_name, provisioning_config)\n",
    "    aml_compute.wait_for_completion(show_output=True, min_node_count=None, timeout_in_minutes=20)\n",
    "# print(aml_compute)"
   ]
  },
  {
   "cell_type": "code",
   "execution_count": 4,
   "metadata": {
    "tags": []
   },
   "outputs": [
    {
     "output_type": "execute_result",
     "data": {
      "text/plain": "<azureml.pipeline.core.graph.DataType at 0x1d2dc82e710>"
     },
     "metadata": {},
     "execution_count": 4
    }
   ],
   "source": [
    "# register my own datatype\n",
    "DataType.create_data_type(workspace, 'MyDirectory', description='', is_directory=True) # won't register repeatedly\n",
    "DataType.create_data_type(workspace, 'MyFile', description='', is_directory=False)"
   ]
  },
  {
   "cell_type": "code",
   "execution_count": 5,
   "metadata": {
    "scrolled": true,
    "tags": []
   },
   "outputs": [
    {
     "output_type": "stream",
     "name": "stdout",
     "text": "FileDataset\n{\n  \"source\": [\n    \"('workspaceblobstore', 'UI/07-08-2020_062513_UTC/THUCNews.txt')\"\n  ],\n  \"definition\": [\n    \"GetDatastoreFiles\"\n  ],\n  \"registration\": {\n    \"id\": \"88a58e42-425a-4f75-84ba-5a33f40ae804\",\n    \"name\": \"THUCNews_TXT\",\n    \"version\": 1,\n    \"workspace\": \"Workspace.create(name='fundamental4', subscription_id='4f455bd0-f95a-4b7d-8d08-078611508e0b', resource_group='fundamental')\"\n  }\n}\nFileDataset\n{\n  \"source\": [\n    \"('workspaceblobstore', 'UI/07-08-2020_064227_UTC/character2index.json')\"\n  ],\n  \"definition\": [\n    \"GetDatastoreFiles\"\n  ],\n  \"registration\": {\n    \"id\": \"4881be3f-eae9-4d54-870b-fc65b8941049\",\n    \"name\": \"Char2Index_JSON\",\n    \"version\": 1,\n    \"workspace\": \"Workspace.create(name='fundamental4', subscription_id='4f455bd0-f95a-4b7d-8d08-078611508e0b', resource_group='fundamental')\"\n  }\n}\n"
    }
   ],
   "source": [
    "# load data\n",
    "dataset_name = 'THUCNews_TXT'\n",
    "char2index_name = 'Char2Index_JSON'\n",
    "\n",
    "if dataset_name not in workspace.datasets:\n",
    "    print('Registering a THUCNews dataset for fasttext pipeline ...')\n",
    "    path = ['https://datastore4fasttext.file.core.windows.net/data4fasttext/THUCNews.txt']\n",
    "    data = Dataset.File.from_files(path=path)\n",
    "    data.register(workspace=workspace, name=dataset_name, description='THUCNews dataset is generated by filtering and filtering historical data of Sina News RSS subscription channel from 2005 to 2011')\n",
    "    print('Registerd')\n",
    "data = workspace.datasets[dataset_name]\n",
    "\n",
    "if char2index_name not in workspace.datasets:\n",
    "    print('Registering a Char2Index_JSON for fasttext pipeline ...')\n",
    "    path = ['https://datastore4fasttext.file.core.windows.net/data4fasttext/character2index.json']\n",
    "    data = Dataset.File.from_files(path=path)\n",
    "    data.register(workspace=workspace, name=char2index_name, description='The mapping relationship between character and index ')\n",
    "    print('Registerd')\n",
    "char2index = workspace.datasets[char2index_name]\n",
    "\n",
    "print(data)\n",
    "print(char2index)"
   ]
  },
  {
   "cell_type": "code",
   "execution_count": 6,
   "metadata": {
    "tags": []
   },
   "outputs": [
    {
     "output_type": "stream",
     "name": "stdout",
     "text": "found split_data_txt_module\nfound split_data_txt_parallel_module\nfound fasttext_train_module\nfound fasttext_evaluation_module\nfound fasttext_score_module\nfound fasttext_score_parallel_module\nfound compare_two_models_module\n"
    }
   ],
   "source": [
    "# load module\n",
    "try:\n",
    "    split_data_txt_module_func = Module.load(workspace=workspace, namespace=namespace, name='Split Data Txt')\n",
    "    print('found split_data_txt_module')\n",
    "except:\n",
    "    print('not found split_data_txt_module, register it now...')\n",
    "    yaml_file='split_data_txt/split_data_txt.spec.yaml'\n",
    "    split_data_txt_module_func = Module.register(workspace=workspace, yaml_file=yaml_file)\n",
    "\n",
    "try:\n",
    "    split_data_txt_parallel_module_func = Module.load(workspace=workspace, namespace=namespace, name='Split Data Txt Parallel')\n",
    "    print('found split_data_txt_parallel_module')\n",
    "except:\n",
    "    print('not found split_data_txt_parallel_module, register it now...')\n",
    "    yaml_file='split_data_txt_parallel/split_data_txt_parallel.spec.yaml'\n",
    "    split_data_txt_parallel_module_func = Module.register(workspace=workspace, yaml_file=yaml_file)\n",
    "\n",
    "try:\n",
    "    fasttext_train_module_func = Module.load(workspace=workspace, namespace=namespace, name='FastText Train')\n",
    "    print('found fasttext_train_module')\n",
    "except:\n",
    "    print('not found fasttext_train_module, register it now...')\n",
    "    yaml_file='fasttext_train/fasttext_train.spec.yaml'\n",
    "    fasttext_train_module_func = Module.register(workspace=workspace, yaml_file=yaml_file)\n",
    "\n",
    "try:\n",
    "    fasttext_evaluation_module_func = Module.load(workspace=workspace, namespace=namespace, name='FastText Evaluation')\n",
    "    print('found fasttext_evaluation_module')\n",
    "except:\n",
    "    print('not found fasttext_evaluation_module, register it now...')\n",
    "    yaml_file='fasttext_evaluation/fasttext_evaluation.spec.yaml'\n",
    "    fasttext_evaluation_module_func = Module.register(workspace=workspace, yaml_file=yaml_file)\n",
    "\n",
    "try:\n",
    "    fasttext_score_module_func = Module.load(workspace=workspace, namespace=namespace, name='FastText Score')\n",
    "    print('found fasttext_score_module')\n",
    "except:\n",
    "    print('not found fasttext_score_module, register it now...')\n",
    "    yaml_file='fasttext_score/fasttext_score.spec.yaml'\n",
    "    fasttext_score_module_func = Module.register(workspace=workspace, yaml_file=yaml_file)\n",
    "\n",
    "try:\n",
    "    fasttext_score_parallel_module_func = Module.load(workspace=workspace, namespace=namespace, name='FastText Score Parallel')\n",
    "    print('found fasttext_score_parallel_module')\n",
    "except:\n",
    "    print('not found fasttext_score_parallel_module, register it now...')\n",
    "    yaml_file='fasttext_score_parallel/fasttext_score_parallel.spec.yaml'\n",
    "    fasttext_score_parallel_module_func = Module.register(workspace=workspace, yaml_file=yaml_file)\n",
    "\n",
    "try:\n",
    "    compare_two_models_module_func = Module.load(workspace=workspace, namespace=namespace, name='Compare Two Models')\n",
    "    print('found compare_two_models_module')\n",
    "except:\n",
    "    print('not found compare_two_models_module, register it now...')\n",
    "    yaml_file='compare_two_models/compare_two_models.spec.yaml'\n",
    "    compare_two_models_module_func = Module.register(workspace=workspace, yaml_file=yaml_file)\n",
    "\n",
    "\n",
    "\n",
    "# inspect signature\n",
    "# print(inspect.signature(split_data_txt_module_func))\n",
    "# print(inspect.signature(split_data_txt_parallel_module_func))\n",
    "# print(inspect.signature(fasttext_train_module_func))\n",
    "# print(inspect.signature(fasttext_evaluation_module_func))\n",
    "# print(inspect.signature(fasttext_score_module_func))\n",
    "# print(inspect.signature(fasttext_score_parallel_module_func))\n",
    "# print(inspect.signature(compare2model_module_func))"
   ]
  },
  {
   "cell_type": "code",
   "execution_count": 7,
   "metadata": {
    "pycharm": {
     "name": "#%%\n"
    },
    "tags": []
   },
   "outputs": [],
   "source": [
    "# connect module\n",
    "@dsl.pipeline(name='test deploy', description='Test parallel', default_compute_target=aml_compute_name)\n",
    "def training_pipeline(epochs):\n",
    "    split_data_txt_parallel = split_data_txt_parallel_module_func(\n",
    "    input_dir = data,\n",
    "    training_data_ratio = 0.7,\n",
    "    validation_data_ratio = 0.1,\n",
    "    random_split = True,\n",
    "    seed = 9\n",
    "    )\n",
    "\n",
    "    fasttext_train = fasttext_train_module_func(\n",
    "    training_data_dir = split_data_txt_parallel.outputs.training_data_output,\n",
    "    validation_data_dir = split_data_txt_parallel.outputs.validation_data_output,\n",
    "    char2index_dir = char2index,\n",
    "    epochs = epochs,\n",
    "    batch_size = 64,\n",
    "    learning_rate = 0.0005,\n",
    "    embedding_dim = 128\n",
    "    )\n",
    "    \n",
    "    fasttext_score_parallel = fasttext_score_parallel_module_func(\n",
    "    texts_to_score = split_data_txt_parallel.outputs.test_data_output,\n",
    "    fasttext_model = fasttext_train.outputs.trained_model_dir,\n",
    "    char2index_dir = char2index\n",
    "    )\n",
    "    fasttext_score_parallel.runsettings.configure(node_count=4, process_count_per_node=8, mini_batch_size=128)\n",
    "\n",
    "    return {**fasttext_score_parallel.outputs, **fasttext_train.outputs}\n"
   ]
  },
  {
   "cell_type": "code",
   "execution_count": 8,
   "metadata": {},
   "outputs": [
    {
     "output_type": "execute_result",
     "data": {
      "text/plain": "azureml.pipeline.wrapper._module.Module"
     },
     "metadata": {},
     "execution_count": 8
    }
   ],
   "source": [
    "split_data_txt_parallel = split_data_txt_parallel_module_func(\n",
    "    input_dir = data,\n",
    "    training_data_ratio = 0.7,\n",
    "    validation_data_ratio = 0.1,\n",
    "    random_split = True,\n",
    "    seed = 8\n",
    "    )\n",
    "\n",
    "fasttext_train = fasttext_train_module_func(\n",
    "    training_data_dir = split_data_txt_parallel.outputs.training_data_output,\n",
    "    validation_data_dir = split_data_txt_parallel.outputs.validation_data_output,\n",
    "    char2index_dir = char2index,\n",
    "    epochs = 1,\n",
    "    batch_size = 64,\n",
    "    learning_rate = 0.0005,\n",
    "    embedding_dim = 128\n",
    "    )\n",
    "type(fasttext_train)"
   ]
  },
  {
   "cell_type": "code",
   "execution_count": 153,
   "metadata": {},
   "outputs": [],
   "source": []
  },
  {
   "cell_type": "code",
   "execution_count": 9,
   "metadata": {
    "scrolled": true,
    "tags": []
   },
   "outputs": [],
   "source": [
    "# pipeline\n",
    "pipeline = training_pipeline(epochs=1)"
   ]
  },
  {
   "cell_type": "code",
   "execution_count": 10,
   "metadata": {},
   "outputs": [
    {
     "output_type": "display_data",
     "data": {
      "text/plain": "<IPython.core.display.Javascript object>",
      "application/javascript": "try {\n    require.undef(\"validate_widget\")\n\n    define('validate_widget', [\"@jupyter-widgets/base\"], function(widgets) {\n        var ValidateView = widgets.DOMWidgetView.extend({\n            render () {\n                window.widget_self = this\n                var visualize_id = this.model.get('visualize_id')\n\n                if (!window._renderLock) {\n                    window._renderLock = {}\n                }\n                if (window._renderLock[visualize_id]) {\n                    return\n                }\n                window._renderLock[visualize_id] = \"widget\"\n                console.log(\"load as widget\", Date.now())\n\n                var lib_url = this.model.get('lib_url')\n                var graph_json = JSON.parse(this.model.get('graph_json'))\n                var env_json = JSON.parse(this.model.get('env_json'))\n                var container_id = this.model.get('container_id')\n\n                window.render_container_id = container_id\n                window.graph_json = graph_json\n                window.env_json = env_json\n                window.before_script = performance.now()\n\n                var container = document.createElement('div')\n                container.id = container_id\n                this.el.appendChild(container)\n\n                var style = document.createElement('style')\n                style.innerHTML = [\n                    \"#\", container_id, \" svg.react-dag-editor-svg-container { height: 800px; }\",\n                    \".cell-output-ipywidget-background { background: transparent !important }\"\n                ].join('')\n                this.el.appendChild(style)\n\n                this.model.on('msg:custom', dispatchMessage, this);\n\n                if (!window.__event_hub) {\n                    window.__event_hub = {}\n                }\n                if (!window.__event_hub[container_id]) {\n                    window.__event_hub[container_id] = {}\n                }\n\n                if (!window.__send_event) {\n                    window.__send_event = {}\n                }\n                window.__send_event[container_id] = sendMessage.bind(this)\n\n                function sendMessage(message, uid, content) {\n                    return new Promise((resolve) => {\n                        this.model.send({\n                            message: `${message}:request`,\n                            body: {\n                                uid,\n                                content\n                            }\n                        })\n    \n                        var respMessageKey = `${message}:response`\n                        if (!window.__event_hub[container_id][respMessageKey]) {\n                            window.__event_hub[container_id][respMessageKey] = []\n                        }\n                        window.__event_hub[container_id][respMessageKey].push(callback)\n    \n                        function callback (response) {\n                            if (response.uid !== uid) {\n                                return\n                            }\n\n                            var idx = window.__event_hub[container_id][respMessageKey].indexOf(callback) \n                            window.__event_hub[container_id][respMessageKey].splice(idx, 1)\n                            \n                            resolve(response)\n                        }\n                    })\n                }\n\n                function dispatchMessage (rawMessage) {\n                    var message = rawMessage.message\n                    var body = rawMessage.body\n\n                    if (!window.__event_hub[container_id][message]) {\n                        window.__event_hub[container_id][message] = []\n                    }\n                    var listeners = window.__event_hub[container_id][message]\n\n                    listeners.forEach(cb => {\n                        try {\n                            cb(body)\n                        } catch (e) {\n                            console.error(\"Unexpected error in listener\", e)\n                        }\n                    })\n\n                    console.log(body)\n                }\n\n                var script = document.createElement('script')\n                script.src = lib_url\n                this.el.appendChild(script)\n            }\n        });\n\n        return {\n            ValidateView\n        }\n    })\n} catch (e) {\n    console.log(\"create validation widget failed\", e)\n}"
     },
     "metadata": {}
    },
    {
     "output_type": "display_data",
     "data": {
      "text/plain": "ValidateView(container_id='container_id_8a2321f0-cf17-48a4-90c4-fb6f17c7e1d9_widget', env_json='{\"subscription…",
      "application/vnd.jupyter.widget-view+json": {
       "version_major": 2,
       "version_minor": 0,
       "model_id": "a95db701131f418bbc2b940d3676ae21"
      }
     },
     "metadata": {}
    },
    {
     "output_type": "display_data",
     "data": {
      "text/plain": "<IPython.core.display.HTML object>",
      "text/html": "\n        <style>\n        #container_id_8a2321f0-cf17-48a4-90c4-fb6f17c7e1d9_script svg.react-dag-editor-svg-container {\n            height: 800px;\n        }\n        </style>\n        <div id=\"container_id_8a2321f0-cf17-48a4-90c4-fb6f17c7e1d9_script\"></div>\n        <script>\n            (function () {\n                if (!window._renderLock) {\n                    window._renderLock = {}\n                }\n                if (window._renderLock[\"8a2321f0-cf17-48a4-90c4-fb6f17c7e1d9\"]) {\n                    return\n                }\n                window._renderLock[\"8a2321f0-cf17-48a4-90c4-fb6f17c7e1d9\"] = \"script\"\n                console.log(\"load as script\", Date.now())\n\n                window.render_container_id=\"container_id_8a2321f0-cf17-48a4-90c4-fb6f17c7e1d9_script\";\n                window.graph_json={\"pipeline\": {\"name\": \"test deploy\", \"data_references\": {\"THUCNews_TXT\": {\"dataset_id\": \"dbbcd749-8232-4988-8d5b-d5a32d1c3c4f\"}, \"Char2Index_JSON\": {\"dataset_id\": \"bae30d4b-b534-4458-9288-c8299c748423\"}}, \"steps\": {\"b78a8ef3\": {\"inputs\": {\"Input_dir\": {\"source\": \"THUCNews_TXT\"}}, \"outputs\": {\"Training_data_output\": {\"destination\": \"82e30a6c-186f-4452-af68-e05c49d5ed6d_Training_data_output\"}, \"Validation_data_output\": {\"destination\": \"82e30a6c-186f-4452-af68-e05c49d5ed6d_Validation_data_output\"}, \"Test_data_output\": {\"destination\": \"82e30a6c-186f-4452-af68-e05c49d5ed6d_Test_data_output\"}}, \"module\": {\"id\": \"eb104048-d1e2-4a7d-84d5-fce506db128b\", \"version\": \"0.0.12\"}, \"validate\": {\"error\": [], \"module_id\": \"eb104048-d1e2-4a7d-84d5-fce506db128b\", \"namespace\": \"fundamental4\", \"module_name\": \"Split Data Txt Parallel\", \"module_version\": \"0.0.12\"}}, \"5017a1ab\": {\"inputs\": {\"Training_data_dir\": {\"source\": \"82e30a6c-186f-4452-af68-e05c49d5ed6d_Training_data_output\"}, \"Validation_data_dir\": {\"source\": \"82e30a6c-186f-4452-af68-e05c49d5ed6d_Validation_data_output\"}, \"Char2index_dir\": {\"source\": \"Char2Index_JSON\"}}, \"outputs\": {\"Trained_model_dir\": {\"destination\": \"052101c8-f325-48ba-9a56-ed294830bee9_Trained_model_dir\"}}, \"module\": {\"id\": \"0faaa9a0-bdac-48f1-b26d-5e0dbd062604\", \"version\": \"0.0.34\"}, \"validate\": {\"error\": [], \"module_id\": \"0faaa9a0-bdac-48f1-b26d-5e0dbd062604\", \"namespace\": \"fundamental4\", \"module_name\": \"FastText Train\", \"module_version\": \"0.0.34\"}}, \"9ea473e0\": {\"inputs\": {\"Texts_to_score\": {\"source\": \"82e30a6c-186f-4452-af68-e05c49d5ed6d_Test_data_output\"}, \"Fasttext_model\": {\"source\": \"052101c8-f325-48ba-9a56-ed294830bee9_Trained_model_dir\"}, \"Char2index_dir\": {\"source\": \"Char2Index_JSON\"}}, \"outputs\": {\"Scored_dataset\": {\"destination\": \"2b6df46d-9daf-4854-a418-a6c57413c55a_Scored_dataset\"}}, \"module\": {\"id\": \"be8d849b-c254-4649-acb1-1d4a7f380d82\", \"version\": \"0.0.10\"}, \"validate\": {\"error\": [], \"module_id\": \"be8d849b-c254-4649-acb1-1d4a7f380d82\", \"namespace\": \"fundamental4\", \"module_name\": \"FastText Score Parallel\", \"module_version\": \"0.0.10\"}}}}, \"subGraphInfo\": [{\"name\": \"test deploy\", \"description\": \"Test parallel\", \"defaultCompute\": \"aml-compute\", \"id\": \"f9df5de4-bb66-4d4b-9f0f-2121172ea924\", \"parentGraphId\": null, \"inputs\": [{\"name\": \"THUCNews_TXT_82e30a6c-186f-4452-af68-e05c49d5ed6d\", \"external\": [], \"internal\": [{\"portName\": \"Input_dir\", \"nodeId\": \"b78a8ef3\"}]}, {\"name\": \"Char2Index_JSON_052101c8-f325-48ba-9a56-ed294830bee9\", \"external\": [], \"internal\": [{\"portName\": \"Char2index_dir\", \"nodeId\": \"5017a1ab\"}]}, {\"name\": \"Char2Index_JSON_2b6df46d-9daf-4854-a418-a6c57413c55a\", \"external\": [], \"internal\": [{\"portName\": \"Char2index_dir\", \"nodeId\": \"9ea473e0\"}]}], \"outputs\": [{\"name\": \"scored_dataset\", \"external\": [], \"internal\": [{\"portName\": \"Scored_dataset\", \"nodeId\": \"9ea473e0\"}]}, {\"name\": \"trained_model_dir\", \"external\": [], \"internal\": [{\"portName\": \"Trained_model_dir\", \"nodeId\": \"5017a1ab\"}]}]}], \"nodeIdToSubGraphIdMapping\": {\"b78a8ef3\": \"f9df5de4-bb66-4d4b-9f0f-2121172ea924\", \"5017a1ab\": \"f9df5de4-bb66-4d4b-9f0f-2121172ea924\", \"9ea473e0\": \"f9df5de4-bb66-4d4b-9f0f-2121172ea924\"}, \"modules\": [{\"module_id\": \"eb104048-d1e2-4a7d-84d5-fce506db128b\", \"version\": \"0.0.12\", \"name\": \"Split Data Txt Parallel\", \"namespace\": \"fundamental4\", \"structured_interface\": {\"inputs\": [{\"name\": \"Input_dir\", \"label\": \"Input dir\", \"description\": null}], \"outputs\": [{\"name\": \"Training_data_output\", \"label\": \"Training data output\", \"description\": null}, {\"name\": \"Validation_data_output\", \"label\": \"Validation data output\", \"description\": null}, {\"name\": \"Test_data_output\", \"label\": \"Test data output\", \"description\": null}]}}, {\"module_id\": \"0faaa9a0-bdac-48f1-b26d-5e0dbd062604\", \"version\": \"0.0.34\", \"name\": \"FastText Train\", \"namespace\": \"fundamental4\", \"structured_interface\": {\"inputs\": [{\"name\": \"Training_data_dir\", \"label\": \"Training data dir\", \"description\": null}, {\"name\": \"Validation_data_dir\", \"label\": \"Validation data dir\", \"description\": null}, {\"name\": \"Char2index_dir\", \"label\": \"Char2index dir\", \"description\": null}], \"outputs\": [{\"name\": \"Trained_model_dir\", \"label\": \"Trained model dir\", \"description\": null}]}}, {\"module_id\": \"be8d849b-c254-4649-acb1-1d4a7f380d82\", \"version\": \"0.0.10\", \"name\": \"FastText Score Parallel\", \"namespace\": \"fundamental4\", \"structured_interface\": {\"inputs\": [{\"name\": \"Texts_to_score\", \"label\": \"Texts to score\", \"description\": null}, {\"name\": \"Fasttext_model\", \"label\": \"Fasttext model\", \"description\": null}, {\"name\": \"Char2index_dir\", \"label\": \"Char2index dir\", \"description\": null}], \"outputs\": [{\"name\": \"Scored_dataset\", \"label\": \"Scored dataset\", \"description\": null}]}}], \"datasources\": [{\"name\": \"THUCNews_TXT\", \"description\": null, \"version\": 1, \"tags\": {}, \"registered_id\": \"dbbcd749-8232-4988-8d5b-d5a32d1c3c4f\", \"saved_id\": \"88a58e42-425a-4f75-84ba-5a33f40ae804\", \"nodeId\": \"259c2e09-5c1b-3ca4-85ab-ce5fb9532c99\"}, {\"name\": \"Char2Index_JSON\", \"description\": null, \"version\": 1, \"tags\": {}, \"registered_id\": \"bae30d4b-b534-4458-9288-c8299c748423\", \"saved_id\": \"4881be3f-eae9-4d54-870b-fc65b8941049\", \"nodeId\": \"908bc5fb-231a-33c4-ad03-fa7526bc31f9\"}]};\n                window.env_json={\"subscription_id\": \"4f455bd0-f95a-4b7d-8d08-078611508e0b\"};\n                window.before_script = performance.now();\n\n                var script = document.createElement('script')\n                script.src = \"https://yucongj-test.azureedge.net/libs/test/index.js?t=1594343161\"\n                document.getElementById(\"container_id_8a2321f0-cf17-48a4-90c4-fb6f17c7e1d9_script\").appendChild(script)\n            })()\n        </script>\n        "
     },
     "metadata": {}
    },
    {
     "output_type": "execute_result",
     "data": {
      "text/plain": "{'result': 'validation passed', 'errors': []}"
     },
     "metadata": {},
     "execution_count": 10
    }
   ],
   "source": [
    "# visualization\n",
    "pipeline.validate()"
   ]
  },
  {
   "cell_type": "code",
   "execution_count": 11,
   "metadata": {},
   "outputs": [],
   "source": [
    "# pipeline_draft = pipeline.save(\n",
    "#     experiment_name='my test',\n",
    "# )\n",
    "# pipeline_draft"
   ]
  },
  {
   "cell_type": "code",
   "execution_count": 12,
   "metadata": {
    "tags": []
   },
   "outputs": [
    {
     "output_type": "stream",
     "name": "stdout",
     "text": "Submitted PipelineRun fc22254c-9793-4643-8bbb-7465087a9075\nLink to Azure Machine Learning Portal: https://ml.azure.com/experiments/parallel/runs/fc22254c-9793-4643-8bbb-7465087a9075?wsid=/subscriptions/4f455bd0-f95a-4b7d-8d08-078611508e0b/resourcegroups/fundamental/workspaces/fundamental4\nPipelineRunId: fc22254c-9793-4643-8bbb-7465087a9075\nLink to Azure Machine Learning Portal: https://ml.azure.com/experiments/parallel/runs/fc22254c-9793-4643-8bbb-7465087a9075?wsid=/subscriptions/4f455bd0-f95a-4b7d-8d08-078611508e0b/resourcegroups/fundamental/workspaces/fundamental4\n"
    },
    {
     "output_type": "display_data",
     "data": {
      "text/plain": "<IPython.core.display.Javascript object>",
      "application/javascript": "try {\n    require.undef(\"validate_widget\")\n\n    define('validate_widget', [\"@jupyter-widgets/base\"], function(widgets) {\n        var ValidateView = widgets.DOMWidgetView.extend({\n            render () {\n                window.widget_self = this\n                var visualize_id = this.model.get('visualize_id')\n\n                if (!window._renderLock) {\n                    window._renderLock = {}\n                }\n                if (window._renderLock[visualize_id]) {\n                    return\n                }\n                window._renderLock[visualize_id] = \"widget\"\n                console.log(\"load as widget\", Date.now())\n\n                var lib_url = this.model.get('lib_url')\n                var graph_json = JSON.parse(this.model.get('graph_json'))\n                var env_json = JSON.parse(this.model.get('env_json'))\n                var container_id = this.model.get('container_id')\n\n                window.render_container_id = container_id\n                window.graph_json = graph_json\n                window.env_json = env_json\n                window.before_script = performance.now()\n\n                var container = document.createElement('div')\n                container.id = container_id\n                this.el.appendChild(container)\n\n                var style = document.createElement('style')\n                style.innerHTML = [\n                    \"#\", container_id, \" svg.react-dag-editor-svg-container { height: 800px; }\",\n                    \".cell-output-ipywidget-background { background: transparent !important }\"\n                ].join('')\n                this.el.appendChild(style)\n\n                this.model.on('msg:custom', dispatchMessage, this);\n\n                if (!window.__event_hub) {\n                    window.__event_hub = {}\n                }\n                if (!window.__event_hub[container_id]) {\n                    window.__event_hub[container_id] = {}\n                }\n\n                if (!window.__send_event) {\n                    window.__send_event = {}\n                }\n                window.__send_event[container_id] = sendMessage.bind(this)\n\n                function sendMessage(message, uid, content) {\n                    return new Promise((resolve) => {\n                        this.model.send({\n                            message: `${message}:request`,\n                            body: {\n                                uid,\n                                content\n                            }\n                        })\n    \n                        var respMessageKey = `${message}:response`\n                        if (!window.__event_hub[container_id][respMessageKey]) {\n                            window.__event_hub[container_id][respMessageKey] = []\n                        }\n                        window.__event_hub[container_id][respMessageKey].push(callback)\n    \n                        function callback (response) {\n                            if (response.uid !== uid) {\n                                return\n                            }\n\n                            var idx = window.__event_hub[container_id][respMessageKey].indexOf(callback) \n                            window.__event_hub[container_id][respMessageKey].splice(idx, 1)\n                            \n                            resolve(response)\n                        }\n                    })\n                }\n\n                function dispatchMessage (rawMessage) {\n                    var message = rawMessage.message\n                    var body = rawMessage.body\n\n                    if (!window.__event_hub[container_id][message]) {\n                        window.__event_hub[container_id][message] = []\n                    }\n                    var listeners = window.__event_hub[container_id][message]\n\n                    listeners.forEach(cb => {\n                        try {\n                            cb(body)\n                        } catch (e) {\n                            console.error(\"Unexpected error in listener\", e)\n                        }\n                    })\n\n                    console.log(body)\n                }\n\n                var script = document.createElement('script')\n                script.src = lib_url\n                this.el.appendChild(script)\n            }\n        });\n\n        return {\n            ValidateView\n        }\n    })\n} catch (e) {\n    console.log(\"create validation widget failed\", e)\n}"
     },
     "metadata": {}
    },
    {
     "output_type": "display_data",
     "data": {
      "text/plain": "ValidateView(container_id='container_id_fb1b8a08-24be-4727-87d4-7f091fc15a56_widget', env_json='{}', graph_jso…",
      "application/vnd.jupyter.widget-view+json": {
       "version_major": 2,
       "version_minor": 0,
       "model_id": "c385fdf72bf84f77a25fc369da9f16b5"
      }
     },
     "metadata": {}
    },
    {
     "output_type": "display_data",
     "data": {
      "text/plain": "<IPython.core.display.HTML object>",
      "text/html": "\n        <style>\n        #container_id_fb1b8a08-24be-4727-87d4-7f091fc15a56_script svg.react-dag-editor-svg-container {\n            height: 800px;\n        }\n        </style>\n        <div id=\"container_id_fb1b8a08-24be-4727-87d4-7f091fc15a56_script\"></div>\n        <script>\n            (function () {\n                if (!window._renderLock) {\n                    window._renderLock = {}\n                }\n                if (window._renderLock[\"fb1b8a08-24be-4727-87d4-7f091fc15a56\"]) {\n                    return\n                }\n                window._renderLock[\"fb1b8a08-24be-4727-87d4-7f091fc15a56\"] = \"script\"\n                console.log(\"load as script\", Date.now())\n\n                window.render_container_id=\"container_id_fb1b8a08-24be-4727-87d4-7f091fc15a56_script\";\n                window.graph_json={\"pipeline\": {\"name\": \"test deploy\", \"data_references\": {\"THUCNews_TXT\": {\"dataset_id\": \"dbbcd749-8232-4988-8d5b-d5a32d1c3c4f\"}, \"Char2Index_JSON\": {\"dataset_id\": \"bae30d4b-b534-4458-9288-c8299c748423\"}}, \"steps\": {\"4c4edb1a\": {\"inputs\": {\"Input_dir\": {\"source\": \"THUCNews_TXT\"}}, \"outputs\": {\"Training_data_output\": {\"destination\": \"82e30a6c-186f-4452-af68-e05c49d5ed6d_Training_data_output\"}, \"Validation_data_output\": {\"destination\": \"82e30a6c-186f-4452-af68-e05c49d5ed6d_Validation_data_output\"}, \"Test_data_output\": {\"destination\": \"82e30a6c-186f-4452-af68-e05c49d5ed6d_Test_data_output\"}}, \"module\": {\"id\": \"eb104048-d1e2-4a7d-84d5-fce506db128b\", \"version\": \"0.0.12\"}, \"validate\": {\"error\": [], \"module_id\": \"eb104048-d1e2-4a7d-84d5-fce506db128b\", \"namespace\": \"fundamental4\", \"module_name\": \"Split Data Txt Parallel\", \"module_version\": \"0.0.12\"}}, \"ae61aa2f\": {\"inputs\": {\"Training_data_dir\": {\"source\": \"82e30a6c-186f-4452-af68-e05c49d5ed6d_Training_data_output\"}, \"Validation_data_dir\": {\"source\": \"82e30a6c-186f-4452-af68-e05c49d5ed6d_Validation_data_output\"}, \"Char2index_dir\": {\"source\": \"Char2Index_JSON\"}}, \"outputs\": {\"Trained_model_dir\": {\"destination\": \"052101c8-f325-48ba-9a56-ed294830bee9_Trained_model_dir\"}}, \"module\": {\"id\": \"0faaa9a0-bdac-48f1-b26d-5e0dbd062604\", \"version\": \"0.0.34\"}, \"validate\": {\"error\": [], \"module_id\": \"0faaa9a0-bdac-48f1-b26d-5e0dbd062604\", \"namespace\": \"fundamental4\", \"module_name\": \"FastText Train\", \"module_version\": \"0.0.34\"}}, \"e2ae9ed2\": {\"inputs\": {\"Texts_to_score\": {\"source\": \"82e30a6c-186f-4452-af68-e05c49d5ed6d_Test_data_output\"}, \"Fasttext_model\": {\"source\": \"052101c8-f325-48ba-9a56-ed294830bee9_Trained_model_dir\"}, \"Char2index_dir\": {\"source\": \"Char2Index_JSON\"}}, \"outputs\": {\"Scored_dataset\": {\"destination\": \"2b6df46d-9daf-4854-a418-a6c57413c55a_Scored_dataset\"}}, \"module\": {\"id\": \"be8d849b-c254-4649-acb1-1d4a7f380d82\", \"version\": \"0.0.10\"}, \"validate\": {\"error\": [], \"module_id\": \"be8d849b-c254-4649-acb1-1d4a7f380d82\", \"namespace\": \"fundamental4\", \"module_name\": \"FastText Score Parallel\", \"module_version\": \"0.0.10\"}}}}, \"subGraphInfo\": [{\"name\": \"test deploy\", \"description\": \"Test parallel\", \"defaultCompute\": \"aml-compute\", \"id\": \"f9df5de4-bb66-4d4b-9f0f-2121172ea924\", \"parentGraphId\": null, \"inputs\": [{\"name\": \"THUCNews_TXT_82e30a6c-186f-4452-af68-e05c49d5ed6d\", \"external\": [], \"internal\": [{\"portName\": \"Input_dir\", \"nodeId\": \"4c4edb1a\"}]}, {\"name\": \"Char2Index_JSON_052101c8-f325-48ba-9a56-ed294830bee9\", \"external\": [], \"internal\": [{\"portName\": \"Char2index_dir\", \"nodeId\": \"ae61aa2f\"}]}, {\"name\": \"Char2Index_JSON_2b6df46d-9daf-4854-a418-a6c57413c55a\", \"external\": [], \"internal\": [{\"portName\": \"Char2index_dir\", \"nodeId\": \"e2ae9ed2\"}]}], \"outputs\": [{\"name\": \"scored_dataset\", \"external\": [], \"internal\": [{\"portName\": \"Scored_dataset\", \"nodeId\": \"e2ae9ed2\"}]}, {\"name\": \"trained_model_dir\", \"external\": [], \"internal\": [{\"portName\": \"Trained_model_dir\", \"nodeId\": \"ae61aa2f\"}]}]}], \"nodeIdToSubGraphIdMapping\": {\"4c4edb1a\": \"f9df5de4-bb66-4d4b-9f0f-2121172ea924\", \"ae61aa2f\": \"f9df5de4-bb66-4d4b-9f0f-2121172ea924\", \"e2ae9ed2\": \"f9df5de4-bb66-4d4b-9f0f-2121172ea924\"}, \"modules\": [{\"module_id\": \"eb104048-d1e2-4a7d-84d5-fce506db128b\", \"version\": \"0.0.12\", \"name\": \"Split Data Txt Parallel\", \"namespace\": \"fundamental4\", \"structured_interface\": {\"inputs\": [{\"name\": \"Input_dir\", \"label\": \"Input dir\", \"description\": null}], \"outputs\": [{\"name\": \"Training_data_output\", \"label\": \"Training data output\", \"description\": null}, {\"name\": \"Validation_data_output\", \"label\": \"Validation data output\", \"description\": null}, {\"name\": \"Test_data_output\", \"label\": \"Test data output\", \"description\": null}]}}, {\"module_id\": \"0faaa9a0-bdac-48f1-b26d-5e0dbd062604\", \"version\": \"0.0.34\", \"name\": \"FastText Train\", \"namespace\": \"fundamental4\", \"structured_interface\": {\"inputs\": [{\"name\": \"Training_data_dir\", \"label\": \"Training data dir\", \"description\": null}, {\"name\": \"Validation_data_dir\", \"label\": \"Validation data dir\", \"description\": null}, {\"name\": \"Char2index_dir\", \"label\": \"Char2index dir\", \"description\": null}], \"outputs\": [{\"name\": \"Trained_model_dir\", \"label\": \"Trained model dir\", \"description\": null}]}}, {\"module_id\": \"be8d849b-c254-4649-acb1-1d4a7f380d82\", \"version\": \"0.0.10\", \"name\": \"FastText Score Parallel\", \"namespace\": \"fundamental4\", \"structured_interface\": {\"inputs\": [{\"name\": \"Texts_to_score\", \"label\": \"Texts to score\", \"description\": null}, {\"name\": \"Fasttext_model\", \"label\": \"Fasttext model\", \"description\": null}, {\"name\": \"Char2index_dir\", \"label\": \"Char2index dir\", \"description\": null}], \"outputs\": [{\"name\": \"Scored_dataset\", \"label\": \"Scored dataset\", \"description\": null}]}}], \"datasources\": [{\"name\": \"THUCNews_TXT\", \"description\": null, \"version\": 1, \"tags\": {}, \"registered_id\": \"dbbcd749-8232-4988-8d5b-d5a32d1c3c4f\", \"saved_id\": \"88a58e42-425a-4f75-84ba-5a33f40ae804\", \"nodeId\": \"259c2e09-5c1b-3ca4-85ab-ce5fb9532c99\"}, {\"name\": \"Char2Index_JSON\", \"description\": null, \"version\": 1, \"tags\": {}, \"registered_id\": \"bae30d4b-b534-4458-9288-c8299c748423\", \"saved_id\": \"4881be3f-eae9-4d54-870b-fc65b8941049\", \"nodeId\": \"908bc5fb-231a-33c4-ad03-fa7526bc31f9\"}]};\n                window.env_json={};\n                window.before_script = performance.now();\n\n                var script = document.createElement('script')\n                script.src = \"https://yucongj-test.azureedge.net/libs/test/index.js?t=1594343173\"\n                document.getElementById(\"container_id_fb1b8a08-24be-4727-87d4-7f091fc15a56_script\").appendChild(script)\n            })()\n        </script>\n        "
     },
     "metadata": {}
    },
    {
     "output_type": "execute_result",
     "data": {
      "text/plain": "Run(Experiment: parallel,\nId: fc22254c-9793-4643-8bbb-7465087a9075,\nType: azureml.PipelineRun,\nStatus: Completed)",
      "text/html": "<table style=\"width:100%\"><tr><th>Experiment</th><th>Id</th><th>Type</th><th>Status</th><th>Details Page</th><th>Docs Page</th></tr><tr><td>parallel</td><td>fc22254c-9793-4643-8bbb-7465087a9075</td><td>azureml.PipelineRun</td><td>Completed</td><td><a href=\"https://ml.azure.com/experiments/parallel/runs/fc22254c-9793-4643-8bbb-7465087a9075?wsid=/subscriptions/4f455bd0-f95a-4b7d-8d08-078611508e0b/resourcegroups/fundamental/workspaces/fundamental4\" target=\"_blank\" rel=\"noopener\">Link to Azure Machine Learning studio</a></td><td><a href=\"https://docs.microsoft.com/en-us/python/api/overview/azure/ml/intro?view=azure-ml-py\" target=\"_blank\" rel=\"noopener\">Link to Documentation</a></td></tr></table>"
     },
     "metadata": {},
     "execution_count": 12
    }
   ],
   "source": [
    "# run\n",
    "run = pipeline.submit(experiment_name='parallel', pipeline_parameters={'epochs':1})\n",
    "run.wait_for_completion()\n",
    "run\n",
    "#%\n"
   ]
  },
  {
   "cell_type": "code",
   "execution_count": 13,
   "metadata": {},
   "outputs": [
    {
     "output_type": "execute_result",
     "data": {
      "text/plain": "azureml.pipeline.wrapper._pipeline_run.PipelineRun"
     },
     "metadata": {},
     "execution_count": 13
    }
   ],
   "source": [
    "type(run)"
   ]
  },
  {
   "cell_type": "code",
   "execution_count": 14,
   "metadata": {
    "tags": []
   },
   "outputs": [
    {
     "output_type": "execute_result",
     "data": {
      "text/plain": "azureml.pipeline.wrapper._pipeline_run.PipelineRun"
     },
     "metadata": {},
     "execution_count": 14
    }
   ],
   "source": [
    "# model = run.register_model(model_name='fasttext_model',\n",
    "#                            model_path='Trained_model_dir') #Trained_model_dir/BestModel\n",
    "# print(model.name, model.id, model.version, sep='\\t')\n",
    "\n",
    "pipeline.outputs.trained_model_dir.AVAILABLE_MODE\n",
    "\n",
    "\n",
    "\n",
    "type(run)\n",
    "\n",
    "\n"
   ]
  },
  {
   "cell_type": "code",
   "execution_count": 15,
   "metadata": {
    "tags": []
   },
   "outputs": [],
   "source": [
    "# model = run.register_model(model_name='fasttext_model',\n",
    "#                            model_path='Trained_model_dir') #Trained_model_dir/BestModel"
   ]
  },
  {
   "cell_type": "code",
   "execution_count": 16,
   "metadata": {},
   "outputs": [],
   "source": [
    "# run.pipeline.outputs.trained_model_dir.configure()"
   ]
  },
  {
   "cell_type": "code",
   "execution_count": 17,
   "metadata": {
    "tags": []
   },
   "outputs": [
    {
     "output_type": "stream",
     "name": "stdout",
     "text": "Run(Experiment: parallel,\nId: 7c2424d9-5ac4-45ff-b1fe-35397b540046,\nType: azureml.StepRun,\nStatus: Completed) \n\nRun(Experiment: parallel,\nId: 1236e2be-ef37-460b-9989-1587cf6146d4,\nType: azureml.StepRun,\nStatus: Completed) \n\nRun(Experiment: parallel,\nId: 989218ee-3cbd-4b32-851e-9ecd0a724c4f,\nType: azureml.StepRun,\nStatus: Completed) \n\n"
    }
   ],
   "source": [
    "aaa=[]\n",
    "for cr in run.get_children():\n",
    "    aaa.append(cr)\n",
    "    print(cr,'\\n')"
   ]
  },
  {
   "cell_type": "code",
   "execution_count": 18,
   "metadata": {},
   "outputs": [
    {
     "output_type": "execute_result",
     "data": {
      "text/plain": "['logs/azureml/executionlogs.txt',\n 'logs/azureml/stderrlogs.txt',\n 'logs/azureml/stdoutlogs.txt']"
     },
     "metadata": {},
     "execution_count": 18
    }
   ],
   "source": [
    "# run.child_run(name='FastText Train').register_model(model_name='BestModel', model_path='Trained_model_dir') #Trained_model_dir/BestModel\n",
    "run.get_file_names()"
   ]
  },
  {
   "cell_type": "code",
   "execution_count": 19,
   "metadata": {},
   "outputs": [
    {
     "output_type": "execute_result",
     "data": {
      "text/plain": "['Trained_model_dir',\n 'azureml-logs/55_azureml-execution-tvmps_fb8f9aa0452e048f8b7501b72370916a334146e00208516abd44e37cb542dd04_d.txt',\n 'azureml-logs/65_job_prep-tvmps_fb8f9aa0452e048f8b7501b72370916a334146e00208516abd44e37cb542dd04_d.txt',\n 'azureml-logs/70_driver_log.txt',\n 'azureml-logs/75_job_post-tvmps_fb8f9aa0452e048f8b7501b72370916a334146e00208516abd44e37cb542dd04_d.txt',\n 'azureml-logs/process_info.json',\n 'azureml-logs/process_status.json',\n 'logs/azureml/executionlogs.txt',\n 'logs/azureml/stderrlogs.txt',\n 'logs/azureml/stdoutlogs.txt']"
     },
     "metadata": {},
     "execution_count": 19
    }
   ],
   "source": [
    "aaa[-2].get_file_names()"
   ]
  },
  {
   "cell_type": "code",
   "execution_count": 20,
   "metadata": {},
   "outputs": [
    {
     "output_type": "execute_result",
     "data": {
      "text/plain": "azureml.pipeline.core.run.StepRun"
     },
     "metadata": {},
     "execution_count": 20
    }
   ],
   "source": [
    "type(aaa[-2])"
   ]
  },
  {
   "cell_type": "code",
   "execution_count": 21,
   "metadata": {},
   "outputs": [],
   "source": [
    "# aaa[-2].register_model(model_name='BestModel', model_path='Trained_model_dir', tags={'my_tags': 'fasttext'})"
   ]
  },
  {
   "cell_type": "code",
   "execution_count": 22,
   "metadata": {},
   "outputs": [
    {
     "output_type": "execute_result",
     "data": {
      "text/plain": "<generator object Run._rehydrate_runs at 0x000001D2DDF5A888>"
     },
     "metadata": {},
     "execution_count": 22
    }
   ],
   "source": [
    "run.get_children()"
   ]
  },
  {
   "cell_type": "code",
   "execution_count": 23,
   "metadata": {},
   "outputs": [],
   "source": [
    "# register env for deployment to workspace\n",
    "# from azureml.core.environment import Environment\n",
    "# myenv = Environment.from_conda_specification(name = 'env_for_deployment',\n",
    "#                                              file_path = 'deployment/env_for_deployment.yaml')\n",
    "# myenv.register(workspace=workspace)"
   ]
  },
  {
   "cell_type": "code",
   "execution_count": 24,
   "metadata": {},
   "outputs": [],
   "source": [
    "# from azureml.core.model import Model\n",
    "# model = Model.get_model_path(model_name='fasttext', version=2)\n",
    "# Model.deploy(workspace=workspace, name='my_deployment', models=[model], inference_config=None, deployment_config=None, deployment_target=None, overwrite=False)"
   ]
  },
  {
   "cell_type": "code",
   "execution_count": 25,
   "metadata": {},
   "outputs": [],
   "source": [
    "# 3. Define inference configuration\n",
    "# from azureml.core.environment import Environment\n",
    "# from azureml.core.model import InferenceConfig\n",
    "\n",
    "\n",
    "# myenv = Environment.get(workspace=workspace, name='env_for_deployment', version='2')\n",
    "# inference_config = InferenceConfig(entry_script='deployment/scoring_for_deployment.py',\n",
    "#                                    environment=myenv)\n",
    "# inference_config                                   "
   ]
  },
  {
   "cell_type": "code",
   "execution_count": 26,
   "metadata": {
    "tags": []
   },
   "outputs": [],
   "source": [
    "# 创建k8s资源\n",
    "# from azureml.core.compute import AksCompute, ComputeTarget\n",
    "\n",
    "# # Use the default configuration (you can also provide parameters to customize this).\n",
    "# # For example, to create a dev/test cluster, use:\n",
    "# # prov_config = AksCompute.provisioning_configuration(cluster_purpose = AksCompute.ClusterPurpose.DEV_TEST)\n",
    "# prov_config = AksCompute.provisioning_configuration()\n",
    "# aks_name = 'myaks'\n",
    "# # Create the cluster\n",
    "# aks_target = ComputeTarget.create(workspace = workspace,\n",
    "#                                     name = aks_name,\n",
    "#                                     provisioning_configuration = prov_config)\n",
    "\n",
    "# # Wait for the create process to complete\n",
    "# aks_target.wait_for_completion(show_output = True)\n"
   ]
  },
  {
   "cell_type": "code",
   "execution_count": 27,
   "metadata": {},
   "outputs": [],
   "source": [
    "# # Attach an existing AKS cluster\n",
    "# from azureml.core.compute import AksCompute, ComputeTarget\n",
    "# # Set the resource group that contains the AKS cluster and the cluster name\n",
    "# resource_group = 'myresourcegroup'\n",
    "# cluster_name = 'myexistingcluster'\n",
    "\n",
    "# # Attach the cluster to your workgroup. If the cluster has less than 12 virtual CPUs, use the following instead:\n",
    "# # attach_config = AksCompute.attach_configuration(resource_group = resource_group,\n",
    "# #                                         cluster_name = cluster_name,\n",
    "# #                                         cluster_purpose = AksCompute.ClusterPurpose.DEV_TEST)\n",
    "# attach_config = AksCompute.attach_configuration(resource_group = resource_group,\n",
    "#                                          cluster_name = cluster_name)\n",
    "# aks_target = ComputeTarget.attach(ws, 'myaks', attach_config)"
   ]
  },
  {
   "cell_type": "code",
   "execution_count": 30,
   "metadata": {},
   "outputs": [
    {
     "output_type": "execute_result",
     "data": {
      "text/plain": "{\n    \"databricks\": {\n        \"eggLibraries\": [],\n        \"jarLibraries\": [],\n        \"mavenLibraries\": [],\n        \"pypiLibraries\": [],\n        \"rcranLibraries\": []\n    },\n    \"docker\": {\n        \"arguments\": [],\n        \"baseDockerfile\": null,\n        \"baseImage\": \"mcr.microsoft.com/azureml/intelmpi2018.3-ubuntu16.04:20200423.v1\",\n        \"baseImageRegistry\": {\n            \"address\": null,\n            \"password\": null,\n            \"registryIdentity\": null,\n            \"username\": null\n        },\n        \"enabled\": false,\n        \"platform\": {\n            \"architecture\": \"amd64\",\n            \"os\": \"Linux\"\n        },\n        \"sharedVolumes\": true,\n        \"shmSize\": null\n    },\n    \"environmentVariables\": {\n        \"EXAMPLE_ENV_VAR\": \"EXAMPLE_VALUE\"\n    },\n    \"inferencingStackVersion\": null,\n    \"name\": \"env_for_deployment\",\n    \"python\": {\n        \"baseCondaEnvironment\": null,\n        \"condaDependencies\": {\n            \"channels\": [\n                \"defaults\"\n            ],\n            \"dependencies\": [\n                \"python=3.6.6\",\n                {\n                    \"pip\": [\n                        \"--extra-index-url=https://azuremlsdktestpypi.azureedge.net/CLI-SDK-Runners-Validation/17288354\",\n                        \"azureml-defaults==0.1.0.17288354\",\n                        \"azureml-pipeline-wrapper==0.1.0.17288354\",\n                        \"torch==1.4.0\",\n                        \"scikit-learn\",\n                        \"tqdm\",\n                        \"pyarrow\",\n                        \"inference-schema[numpy-support]\"\n                    ]\n                }\n            ],\n            \"name\": \"azureml_a5322dee92f8252a51213eb553ff6f2b\"\n        },\n        \"condaDependenciesFile\": null,\n        \"interpreterPath\": \"python\",\n        \"userManagedDependencies\": false\n    },\n    \"r\": null,\n    \"spark\": {\n        \"packages\": [],\n        \"precachePackages\": true,\n        \"repositories\": []\n    },\n    \"version\": \"2\"\n}"
     },
     "metadata": {},
     "execution_count": 30
    }
   ],
   "source": [
    "#####################################################\n",
    "# register env for deployment to workspace\n",
    "from azureml.core.environment import Environment\n",
    "myenv = Environment.from_conda_specification(name = 'env_for_deployment',\n",
    "                                             file_path = 'deployment/env_for_deployment.yaml')\n",
    "myenv.register(workspace=workspace)\n",
    "\n"
   ]
  },
  {
   "cell_type": "code",
   "execution_count": 34,
   "metadata": {
    "tags": []
   },
   "outputs": [
    {
     "output_type": "execute_result",
     "data": {
      "text/plain": "[Model(workspace=Workspace.create(name='fundamental4', subscription_id='4f455bd0-f95a-4b7d-8d08-078611508e0b', resource_group='fundamental'), name=sklearn_regression_model, id=sklearn_regression_model:1, version=1, tags={'area': 'diabetes', 'type': 'regression'}, properties={}),\n Model(workspace=Workspace.create(name='fundamental4', subscription_id='4f455bd0-f95a-4b7d-8d08-078611508e0b', resource_group='fundamental'), name=BestModel, id=BestModel:2, version=2, tags={'my_tags': 'fasttext'}, properties={}),\n Model(workspace=Workspace.create(name='fundamental4', subscription_id='4f455bd0-f95a-4b7d-8d08-078611508e0b', resource_group='fundamental'), name=BestModel, id=BestModel:1, version=1, tags={}, properties={}),\n Model(workspace=Workspace.create(name='fundamental4', subscription_id='4f455bd0-f95a-4b7d-8d08-078611508e0b', resource_group='fundamental'), name=fasttext_model, id=fasttext_model:1, version=1, tags={}, properties={}),\n Model(workspace=Workspace.create(name='fundamental4', subscription_id='4f455bd0-f95a-4b7d-8d08-078611508e0b', resource_group='fundamental'), name=fastTextModel, id=fastTextModel:1, version=1, tags={'CreatedByAMLStudio': 'true'}, properties={})]"
     },
     "metadata": {},
     "execution_count": 34
    }
   ],
   "source": [
    "\n",
    "from azureml.core.model import Model\n",
    "# model = Model.get_model_path(model_name='BestModel', version=2)\n",
    "Model.list(workspace)\n",
    "# Model.deploy(workspace=workspace, name='my_deployment', models=[model], inference_config=None, deployment_config=None, deployment_target=None, overwrite=False)\n",
    "    "
   ]
  },
  {
   "cell_type": "code",
   "execution_count": 41,
   "metadata": {
    "tags": []
   },
   "outputs": [
    {
     "output_type": "execute_result",
     "data": {
      "text/plain": "'azureml-models\\\\BestModel\\\\2\\\\Trained_model_dir'"
     },
     "metadata": {},
     "execution_count": 41
    }
   ],
   "source": [
    "# model = Model.get_model_path(model_name='BestModel', version=2, _workspace=workspace)  # 会把模型下载到本地的azureml-models目录下\n",
    "# model"
   ]
  },
  {
   "cell_type": "code",
   "execution_count": null,
   "metadata": {},
   "outputs": [],
   "source": []
  },
  {
   "cell_type": "code",
   "execution_count": 42,
   "metadata": {},
   "outputs": [
    {
     "output_type": "execute_result",
     "data": {
      "text/plain": "InferenceConfig(entry_script=deployment/scoring_for_deployment.py, runtime=None, conda_file=None, extra_docker_file_steps=None, source_directory=None, enable_gpu=None, base_image=None, base_image_registry=<azureml.core.container_registry.ContainerRegistry object at 0x000001D2DFB19B70>)"
     },
     "metadata": {},
     "execution_count": 42
    }
   ],
   "source": [
    "# 3. Define inference configuration\n",
    "from azureml.core.environment import Environment\n",
    "from azureml.core.model import InferenceConfig\n",
    "\n",
    "\n",
    "myenv = Environment.get(workspace=workspace, name='env_for_deployment', version='2')\n",
    "inference_config = InferenceConfig(entry_script='deployment/scoring_for_deployment.py',\n",
    "                                   environment=myenv)\n",
    "inference_config      "
   ]
  },
  {
   "cell_type": "code",
   "execution_count": 45,
   "metadata": {},
   "outputs": [
    {
     "output_type": "execute_result",
     "data": {
      "text/plain": "Model(workspace=Workspace.create(name='fundamental4', subscription_id='4f455bd0-f95a-4b7d-8d08-078611508e0b', resource_group='fundamental'), name=BestModel, id=BestModel:3, version=3, tags={'my_tags': 'fasttext'}, properties={})"
     },
     "metadata": {},
     "execution_count": 45
    }
   ],
   "source": [
    "model = aaa[-2].register_model(model_name='BestModel', model_path='Trained_model_dir', tags={'my_tags': 'fasttext'})\n",
    "model"
   ]
  },
  {
   "cell_type": "code",
   "execution_count": 46,
   "metadata": {
    "tags": []
   },
   "outputs": [
    {
     "output_type": "stream",
     "name": "stdout",
     "text": "Running......................................................................................................................................................................................................................................................................................................................................................................................................................\nTimedOut\nERROR - Service deployment polling reached non-successful terminal state, current service state: Unhealthy\nOperation ID: 7c31321a-4935-4709-abfe-65609391f7b0\nMore information can be found using '.get_logs()'\nError:\n{\n  \"code\": \"DeploymentTimedOut\",\n  \"statusCode\": 504,\n  \"message\": \"The deployment operation polling has TimedOut. The service creation is taking longer than our normal time. We are still trying to achieve the desired state for the web service. Please check the webservice state for the current webservice health. You can run print(service.state) from the python SDK to retrieve the current state of the webservice.\"\n}\n\nERROR - Service deployment polling reached non-successful terminal state, current service state: Unhealthy\nOperation ID: 7c31321a-4935-4709-abfe-65609391f7b0\nMore information can be found using '.get_logs()'\nError:\n{\n  \"code\": \"DeploymentTimedOut\",\n  \"statusCode\": 504,\n  \"message\": \"The deployment operation polling has TimedOut. The service creation is taking longer than our normal time. We are still trying to achieve the desired state for the web service. Please check the webservice state for the current webservice health. You can run print(service.state) from the python SDK to retrieve the current state of the webservice.\"\n}\n\n"
    },
    {
     "output_type": "error",
     "ename": "WebserviceException",
     "evalue": "WebserviceException:\n\tMessage: Service deployment polling reached non-successful terminal state, current service state: Unhealthy\nOperation ID: 7c31321a-4935-4709-abfe-65609391f7b0\nMore information can be found using '.get_logs()'\nError:\n{\n  \"code\": \"DeploymentTimedOut\",\n  \"statusCode\": 504,\n  \"message\": \"The deployment operation polling has TimedOut. The service creation is taking longer than our normal time. We are still trying to achieve the desired state for the web service. Please check the webservice state for the current webservice health. You can run print(service.state) from the python SDK to retrieve the current state of the webservice.\"\n}\n\tInnerException None\n\tErrorResponse \n{\n    \"error\": {\n        \"message\": \"Service deployment polling reached non-successful terminal state, current service state: Unhealthy\\nOperation ID: 7c31321a-4935-4709-abfe-65609391f7b0\\nMore information can be found using '.get_logs()'\\nError:\\n{\\n  \\\"code\\\": \\\"DeploymentTimedOut\\\",\\n  \\\"statusCode\\\": 504,\\n  \\\"message\\\": \\\"The deployment operation polling has TimedOut. The service creation is taking longer than our normal time. We are still trying to achieve the desired state for the web service. Please check the webservice state for the current webservice health. You can run print(service.state) from the python SDK to retrieve the current state of the webservice.\\\"\\n}\"\n    }\n}",
     "traceback": [
      "\u001b[1;31m---------------------------------------------------------------------------\u001b[0m",
      "\u001b[1;31mWebserviceException\u001b[0m                       Traceback (most recent call last)",
      "\u001b[1;32m~\\miniconda3\\envs\\tmp2\\lib\\site-packages\\azureml\\core\\webservice\\webservice.py\u001b[0m in \u001b[0;36mwait_for_deployment\u001b[1;34m(self, show_output)\u001b[0m\n\u001b[0;32m    673\u001b[0m                                           '{}'.format(self.state, self._operation_endpoint.split('/')[-1],\n\u001b[1;32m--> 674\u001b[1;33m                                                       logs_response, error_response), logger=module_logger)\n\u001b[0m\u001b[0;32m    675\u001b[0m             print('{} service creation operation finished, operation \"{}\"'.format(self._webservice_type,\n",
      "\u001b[1;31mWebserviceException\u001b[0m: WebserviceException:\n\tMessage: Service deployment polling reached non-successful terminal state, current service state: Unhealthy\nOperation ID: 7c31321a-4935-4709-abfe-65609391f7b0\nMore information can be found using '.get_logs()'\nError:\n{\n  \"code\": \"DeploymentTimedOut\",\n  \"statusCode\": 504,\n  \"message\": \"The deployment operation polling has TimedOut. The service creation is taking longer than our normal time. We are still trying to achieve the desired state for the web service. Please check the webservice state for the current webservice health. You can run print(service.state) from the python SDK to retrieve the current state of the webservice.\"\n}\n\tInnerException None\n\tErrorResponse \n{\n    \"error\": {\n        \"message\": \"Service deployment polling reached non-successful terminal state, current service state: Unhealthy\\nOperation ID: 7c31321a-4935-4709-abfe-65609391f7b0\\nMore information can be found using '.get_logs()'\\nError:\\n{\\n  \\\"code\\\": \\\"DeploymentTimedOut\\\",\\n  \\\"statusCode\\\": 504,\\n  \\\"message\\\": \\\"The deployment operation polling has TimedOut. The service creation is taking longer than our normal time. We are still trying to achieve the desired state for the web service. Please check the webservice state for the current webservice health. You can run print(service.state) from the python SDK to retrieve the current state of the webservice.\\\"\\n}\"\n    }\n}",
      "\nDuring handling of the above exception, another exception occurred:\n",
      "\u001b[1;31mWebserviceException\u001b[0m                       Traceback (most recent call last)",
      "\u001b[1;32m<ipython-input-46-608f44a1d83a>\u001b[0m in \u001b[0;36m<module>\u001b[1;34m\u001b[0m\n\u001b[0;32m      4\u001b[0m \u001b[0mdeployment_config\u001b[0m \u001b[1;33m=\u001b[0m \u001b[0mAciWebservice\u001b[0m\u001b[1;33m.\u001b[0m\u001b[0mdeploy_configuration\u001b[0m\u001b[1;33m(\u001b[0m\u001b[0mcpu_cores\u001b[0m \u001b[1;33m=\u001b[0m \u001b[1;36m1\u001b[0m\u001b[1;33m,\u001b[0m \u001b[0mmemory_gb\u001b[0m \u001b[1;33m=\u001b[0m \u001b[1;36m1\u001b[0m\u001b[1;33m)\u001b[0m\u001b[1;33m\u001b[0m\u001b[1;33m\u001b[0m\u001b[0m\n\u001b[0;32m      5\u001b[0m \u001b[0mservice\u001b[0m \u001b[1;33m=\u001b[0m \u001b[0mModel\u001b[0m\u001b[1;33m.\u001b[0m\u001b[0mdeploy\u001b[0m\u001b[1;33m(\u001b[0m\u001b[0mworkspace\u001b[0m\u001b[1;33m=\u001b[0m\u001b[0mworkspace\u001b[0m\u001b[1;33m,\u001b[0m \u001b[0mname\u001b[0m\u001b[1;33m=\u001b[0m\u001b[1;34m\"my-deployment\"\u001b[0m\u001b[1;33m,\u001b[0m \u001b[0mmodels\u001b[0m\u001b[1;33m=\u001b[0m\u001b[1;33m[\u001b[0m\u001b[0mmodel\u001b[0m\u001b[1;33m]\u001b[0m\u001b[1;33m,\u001b[0m \u001b[0minference_config\u001b[0m\u001b[1;33m=\u001b[0m\u001b[0minference_config\u001b[0m\u001b[1;33m,\u001b[0m \u001b[0mdeployment_config\u001b[0m\u001b[1;33m=\u001b[0m\u001b[0mdeployment_config\u001b[0m\u001b[1;33m)\u001b[0m\u001b[1;33m\u001b[0m\u001b[1;33m\u001b[0m\u001b[0m\n\u001b[1;32m----> 6\u001b[1;33m \u001b[0mservice\u001b[0m\u001b[1;33m.\u001b[0m\u001b[0mwait_for_deployment\u001b[0m\u001b[1;33m(\u001b[0m\u001b[0mshow_output\u001b[0m \u001b[1;33m=\u001b[0m \u001b[1;32mTrue\u001b[0m\u001b[1;33m)\u001b[0m\u001b[1;33m\u001b[0m\u001b[1;33m\u001b[0m\u001b[0m\n\u001b[0m\u001b[0;32m      7\u001b[0m \u001b[0mprint\u001b[0m\u001b[1;33m(\u001b[0m\u001b[0mservice\u001b[0m\u001b[1;33m.\u001b[0m\u001b[0mstate\u001b[0m\u001b[1;33m)\u001b[0m\u001b[1;33m\u001b[0m\u001b[1;33m\u001b[0m\u001b[0m\n",
      "\u001b[1;32m~\\miniconda3\\envs\\tmp2\\lib\\site-packages\\azureml\\core\\webservice\\webservice.py\u001b[0m in \u001b[0;36mwait_for_deployment\u001b[1;34m(self, show_output)\u001b[0m\n\u001b[0;32m    681\u001b[0m                                           'Current state is {}'.format(self.state), logger=module_logger)\n\u001b[0;32m    682\u001b[0m             \u001b[1;32melse\u001b[0m\u001b[1;33m:\u001b[0m\u001b[1;33m\u001b[0m\u001b[1;33m\u001b[0m\u001b[0m\n\u001b[1;32m--> 683\u001b[1;33m                 \u001b[1;32mraise\u001b[0m \u001b[0mWebserviceException\u001b[0m\u001b[1;33m(\u001b[0m\u001b[0me\u001b[0m\u001b[1;33m.\u001b[0m\u001b[0mmessage\u001b[0m\u001b[1;33m,\u001b[0m \u001b[0mlogger\u001b[0m\u001b[1;33m=\u001b[0m\u001b[0mmodule_logger\u001b[0m\u001b[1;33m)\u001b[0m\u001b[1;33m\u001b[0m\u001b[1;33m\u001b[0m\u001b[0m\n\u001b[0m\u001b[0;32m    684\u001b[0m \u001b[1;33m\u001b[0m\u001b[0m\n\u001b[0;32m    685\u001b[0m     \u001b[1;32mdef\u001b[0m \u001b[0m_wait_for_operation_to_complete\u001b[0m\u001b[1;33m(\u001b[0m\u001b[0mself\u001b[0m\u001b[1;33m,\u001b[0m \u001b[0mshow_output\u001b[0m\u001b[1;33m)\u001b[0m\u001b[1;33m:\u001b[0m\u001b[1;33m\u001b[0m\u001b[1;33m\u001b[0m\u001b[0m\n",
      "\u001b[1;31mWebserviceException\u001b[0m: WebserviceException:\n\tMessage: Service deployment polling reached non-successful terminal state, current service state: Unhealthy\nOperation ID: 7c31321a-4935-4709-abfe-65609391f7b0\nMore information can be found using '.get_logs()'\nError:\n{\n  \"code\": \"DeploymentTimedOut\",\n  \"statusCode\": 504,\n  \"message\": \"The deployment operation polling has TimedOut. The service creation is taking longer than our normal time. We are still trying to achieve the desired state for the web service. Please check the webservice state for the current webservice health. You can run print(service.state) from the python SDK to retrieve the current state of the webservice.\"\n}\n\tInnerException None\n\tErrorResponse \n{\n    \"error\": {\n        \"message\": \"Service deployment polling reached non-successful terminal state, current service state: Unhealthy\\nOperation ID: 7c31321a-4935-4709-abfe-65609391f7b0\\nMore information can be found using '.get_logs()'\\nError:\\n{\\n  \\\"code\\\": \\\"DeploymentTimedOut\\\",\\n  \\\"statusCode\\\": 504,\\n  \\\"message\\\": \\\"The deployment operation polling has TimedOut. The service creation is taking longer than our normal time. We are still trying to achieve the desired state for the web service. Please check the webservice state for the current webservice health. You can run print(service.state) from the python SDK to retrieve the current state of the webservice.\\\"\\n}\"\n    }\n}"
     ]
    }
   ],
   "source": [
    "from azureml.core.webservice import AciWebservice, Webservice\n",
    "from azureml.core.model import Model\n",
    "\n",
    "deployment_config = AciWebservice.deploy_configuration(cpu_cores = 1, memory_gb = 1)\n",
    "service = Model.deploy(workspace=workspace, name=\"my-deployment\", models=[model], inference_config=inference_config, deployment_config=deployment_config)\n",
    "service.wait_for_deployment(show_output = True)\n",
    "print(service.state)"
   ]
  },
  {
   "cell_type": "code",
   "execution_count": 47,
   "metadata": {
    "tags": []
   },
   "outputs": [
    {
     "output_type": "stream",
     "name": "stderr",
     "text": "ERROR - Error, there is already a service with name my-deployment found in workspace fundamental4\n\n"
    },
    {
     "output_type": "error",
     "ename": "WebserviceException",
     "evalue": "WebserviceException:\n\tMessage: Error, there is already a service with name my-deployment found in workspace fundamental4\n\tInnerException None\n\tErrorResponse \n{\n    \"error\": {\n        \"message\": \"Error, there is already a service with name my-deployment found in workspace fundamental4\"\n    }\n}",
     "traceback": [
      "\u001b[1;31m---------------------------------------------------------------------------\u001b[0m",
      "\u001b[1;31mWebserviceException\u001b[0m                       Traceback (most recent call last)",
      "\u001b[1;32m~\\miniconda3\\envs\\tmp2\\lib\\site-packages\\azureml\\core\\webservice\\webservice.py\u001b[0m in \u001b[0;36m_check_for_existing_webservice\u001b[1;34m(workspace, name, overwrite)\u001b[0m\n\u001b[0;32m    519\u001b[0m                 raise WebserviceException('Error, there is already a service with name {} found in '\n\u001b[1;32m--> 520\u001b[1;33m                                           'workspace {}'.format(name, workspace._workspace_name))\n\u001b[0m\u001b[0;32m    521\u001b[0m             \u001b[1;32mexcept\u001b[0m \u001b[0mWebserviceException\u001b[0m \u001b[1;32mas\u001b[0m \u001b[0me\u001b[0m\u001b[1;33m:\u001b[0m\u001b[1;33m\u001b[0m\u001b[1;33m\u001b[0m\u001b[0m\n",
      "\u001b[1;31mWebserviceException\u001b[0m: WebserviceException:\n\tMessage: Error, there is already a service with name my-deployment found in workspace fundamental4\n\tInnerException None\n\tErrorResponse \n{\n    \"error\": {\n        \"message\": \"Error, there is already a service with name my-deployment found in workspace fundamental4\"\n    }\n}",
      "\nDuring handling of the above exception, another exception occurred:\n",
      "\u001b[1;31mWebserviceException\u001b[0m                       Traceback (most recent call last)",
      "\u001b[1;32m<ipython-input-47-608f44a1d83a>\u001b[0m in \u001b[0;36m<module>\u001b[1;34m\u001b[0m\n\u001b[0;32m      3\u001b[0m \u001b[1;33m\u001b[0m\u001b[0m\n\u001b[0;32m      4\u001b[0m \u001b[0mdeployment_config\u001b[0m \u001b[1;33m=\u001b[0m \u001b[0mAciWebservice\u001b[0m\u001b[1;33m.\u001b[0m\u001b[0mdeploy_configuration\u001b[0m\u001b[1;33m(\u001b[0m\u001b[0mcpu_cores\u001b[0m \u001b[1;33m=\u001b[0m \u001b[1;36m1\u001b[0m\u001b[1;33m,\u001b[0m \u001b[0mmemory_gb\u001b[0m \u001b[1;33m=\u001b[0m \u001b[1;36m1\u001b[0m\u001b[1;33m)\u001b[0m\u001b[1;33m\u001b[0m\u001b[1;33m\u001b[0m\u001b[0m\n\u001b[1;32m----> 5\u001b[1;33m \u001b[0mservice\u001b[0m \u001b[1;33m=\u001b[0m \u001b[0mModel\u001b[0m\u001b[1;33m.\u001b[0m\u001b[0mdeploy\u001b[0m\u001b[1;33m(\u001b[0m\u001b[0mworkspace\u001b[0m\u001b[1;33m=\u001b[0m\u001b[0mworkspace\u001b[0m\u001b[1;33m,\u001b[0m \u001b[0mname\u001b[0m\u001b[1;33m=\u001b[0m\u001b[1;34m\"my-deployment\"\u001b[0m\u001b[1;33m,\u001b[0m \u001b[0mmodels\u001b[0m\u001b[1;33m=\u001b[0m\u001b[1;33m[\u001b[0m\u001b[0mmodel\u001b[0m\u001b[1;33m]\u001b[0m\u001b[1;33m,\u001b[0m \u001b[0minference_config\u001b[0m\u001b[1;33m=\u001b[0m\u001b[0minference_config\u001b[0m\u001b[1;33m,\u001b[0m \u001b[0mdeployment_config\u001b[0m\u001b[1;33m=\u001b[0m\u001b[0mdeployment_config\u001b[0m\u001b[1;33m)\u001b[0m\u001b[1;33m\u001b[0m\u001b[1;33m\u001b[0m\u001b[0m\n\u001b[0m\u001b[0;32m      6\u001b[0m \u001b[0mservice\u001b[0m\u001b[1;33m.\u001b[0m\u001b[0mwait_for_deployment\u001b[0m\u001b[1;33m(\u001b[0m\u001b[0mshow_output\u001b[0m \u001b[1;33m=\u001b[0m \u001b[1;32mTrue\u001b[0m\u001b[1;33m)\u001b[0m\u001b[1;33m\u001b[0m\u001b[1;33m\u001b[0m\u001b[0m\n\u001b[0;32m      7\u001b[0m \u001b[0mprint\u001b[0m\u001b[1;33m(\u001b[0m\u001b[0mservice\u001b[0m\u001b[1;33m.\u001b[0m\u001b[0mstate\u001b[0m\u001b[1;33m)\u001b[0m\u001b[1;33m\u001b[0m\u001b[1;33m\u001b[0m\u001b[0m\n",
      "\u001b[1;32m~\\miniconda3\\envs\\tmp2\\lib\\site-packages\\azureml\\core\\model.py\u001b[0m in \u001b[0;36mdeploy\u001b[1;34m(workspace, name, models, inference_config, deployment_config, deployment_target, overwrite)\u001b[0m\n\u001b[0;32m   1578\u001b[0m \u001b[1;33m\u001b[0m\u001b[0m\n\u001b[0;32m   1579\u001b[0m         \u001b[0mwebservice_name_validation\u001b[0m\u001b[1;33m(\u001b[0m\u001b[0mname\u001b[0m\u001b[1;33m)\u001b[0m\u001b[1;33m\u001b[0m\u001b[1;33m\u001b[0m\u001b[0m\n\u001b[1;32m-> 1580\u001b[1;33m         \u001b[0mWebservice\u001b[0m\u001b[1;33m.\u001b[0m\u001b[0m_check_for_existing_webservice\u001b[0m\u001b[1;33m(\u001b[0m\u001b[0mworkspace\u001b[0m\u001b[1;33m,\u001b[0m \u001b[0mname\u001b[0m\u001b[1;33m,\u001b[0m \u001b[0moverwrite\u001b[0m\u001b[1;33m)\u001b[0m\u001b[1;33m\u001b[0m\u001b[1;33m\u001b[0m\u001b[0m\n\u001b[0m\u001b[0;32m   1581\u001b[0m \u001b[1;33m\u001b[0m\u001b[0m\n\u001b[0;32m   1582\u001b[0m         \u001b[1;31m# Local webservice.\u001b[0m\u001b[1;33m\u001b[0m\u001b[1;33m\u001b[0m\u001b[1;33m\u001b[0m\u001b[0m\n",
      "\u001b[1;32m~\\miniconda3\\envs\\tmp2\\lib\\site-packages\\azureml\\core\\webservice\\webservice.py\u001b[0m in \u001b[0;36m_check_for_existing_webservice\u001b[1;34m(workspace, name, overwrite)\u001b[0m\n\u001b[0;32m    521\u001b[0m             \u001b[1;32mexcept\u001b[0m \u001b[0mWebserviceException\u001b[0m \u001b[1;32mas\u001b[0m \u001b[0me\u001b[0m\u001b[1;33m:\u001b[0m\u001b[1;33m\u001b[0m\u001b[1;33m\u001b[0m\u001b[0m\n\u001b[0;32m    522\u001b[0m                 \u001b[1;32mif\u001b[0m \u001b[1;34m'WebserviceNotFound'\u001b[0m \u001b[1;32mnot\u001b[0m \u001b[1;32min\u001b[0m \u001b[0me\u001b[0m\u001b[1;33m.\u001b[0m\u001b[0mmessage\u001b[0m\u001b[1;33m:\u001b[0m\u001b[1;33m\u001b[0m\u001b[1;33m\u001b[0m\u001b[0m\n\u001b[1;32m--> 523\u001b[1;33m                     \u001b[1;32mraise\u001b[0m \u001b[0mWebserviceException\u001b[0m\u001b[1;33m(\u001b[0m\u001b[0me\u001b[0m\u001b[1;33m.\u001b[0m\u001b[0mmessage\u001b[0m\u001b[1;33m,\u001b[0m \u001b[0mlogger\u001b[0m\u001b[1;33m=\u001b[0m\u001b[0mmodule_logger\u001b[0m\u001b[1;33m)\u001b[0m\u001b[1;33m\u001b[0m\u001b[1;33m\u001b[0m\u001b[0m\n\u001b[0m\u001b[0;32m    524\u001b[0m \u001b[1;33m\u001b[0m\u001b[0m\n\u001b[0;32m    525\u001b[0m     \u001b[1;33m@\u001b[0m\u001b[0mstaticmethod\u001b[0m\u001b[1;33m\u001b[0m\u001b[1;33m\u001b[0m\u001b[0m\n",
      "\u001b[1;31mWebserviceException\u001b[0m: WebserviceException:\n\tMessage: Error, there is already a service with name my-deployment found in workspace fundamental4\n\tInnerException None\n\tErrorResponse \n{\n    \"error\": {\n        \"message\": \"Error, there is already a service with name my-deployment found in workspace fundamental4\"\n    }\n}"
     ]
    }
   ],
   "source": [
    "from azureml.core.webservice import AciWebservice, Webservice\n",
    "from azureml.core.model import Model\n",
    "\n",
    "deployment_config = AciWebservice.deploy_configuration(cpu_cores = 1, memory_gb = 1)\n",
    "service = Model.deploy(workspace=workspace, name=\"my-deployment\", models=[model], inference_config=inference_config, deployment_config=deployment_config)\n",
    "service.wait_for_deployment(show_output = True)\n",
    "print(service.state)"
   ]
  },
  {
   "cell_type": "code",
   "execution_count": null,
   "metadata": {},
   "outputs": [],
   "source": [
    "from azureml.core.webservice import AciWebservice, Webservice\n",
    "from azureml.core.model import Model\n",
    "\n",
    "deployment_config = AciWebservice.deploy_configuration(cpu_cores = 2, memory_gb = 2)\n",
    "service = Model.deploy(workspace=workspace, name=\"my-deployment2\", models=[model], inference_config=inference_config, deployment_config=deployment_config)\n",
    "service.wait_for_deployment(show_output = True)\n",
    "print(service.state)"
   ]
  },
  {
   "cell_type": "code",
   "execution_count": null,
   "metadata": {},
   "outputs": [],
   "source": []
  }
 ],
 "metadata": {
  "kernelspec": {
   "name": "python_defaultSpec_1594342843165",
   "language": "python",
   "display_name": "Python 3.6.8 64-bit ('tmp2': conda)"
  },
  "language_info": {
   "codemirror_mode": {
    "name": "ipython",
    "version": 3
   },
   "file_extension": ".py",
   "mimetype": "text/x-python",
   "name": "python",
   "nbconvert_exporter": "python",
   "pygments_lexer": "ipython3",
   "version": "3.7.3-final"
  },
  "widgets": {
   "application/vnd.jupyter.widget-state+json": {
    "state": {},
    "version_major": 2,
    "version_minor": 0
   }
  }
 },
 "nbformat": 4,
 "nbformat_minor": 4
}